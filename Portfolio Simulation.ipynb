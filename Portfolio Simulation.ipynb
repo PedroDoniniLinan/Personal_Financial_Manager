{
 "cells": [
  {
   "cell_type": "markdown",
   "metadata": {},
   "source": [
    "# Portfolio Simulator"
   ]
  },
  {
   "cell_type": "code",
   "execution_count": 1,
   "metadata": {},
   "outputs": [],
   "source": [
    "import numpy as np\n",
    "import pandas as pd\n",
    "import datetime as dt\n",
    "import seaborn as sns\n",
    "from plotly import tools\n",
    "import plotly.graph_objs as go\n",
    "from lib import plot as p\n",
    "from lib import data as d\n",
    "from lib import finance as f"
   ]
  },
  {
   "cell_type": "code",
   "execution_count": 2,
   "metadata": {},
   "outputs": [],
   "source": [
    "pd.set_option('display.float_format', lambda x: '%.3f' % x)\n",
    "\n",
    "lpalette = {'g':'#13E881', 'r':'#FF5949', 'o':'#FFB84C', 'b':'#A7BEFA', 'w':'#FFFFFF', 'pk':'#FFA1FD', 'bg':'#FFEDBA', 'c':'#90EBF0',\n",
    "            'pp':'#BBA0F0', 'g2':'#CCFFED', 'b2':'#E3EEFF', 'y':'#FFFC57'}\n",
    "dpalette = {'g':'#268040', 'r':'#800B00', 'o':'#A13808', 'b':'#464CC2', 'w':'#B8BFBA', 'pk':'#A04EA6', 'bg':'#807155', 'c':'#1D4544',\n",
    "            'pp':'#291147', 'g2':'#394742', 'b2':'#414449', 'y':'#666523'}"
   ]
  },
  {
   "cell_type": "code",
   "execution_count": 3,
   "metadata": {},
   "outputs": [
    {
     "name": "stdout",
     "output_type": "stream",
     "text": [
      "This is the format of your plot grid:\n",
      "[ (1,1) x1,y1 ]  [ (1,2) x2,y2 ]\n",
      "\n",
      "This is the format of your plot grid:\n",
      "[ (1,1) x1,y1 ]  [ (1,2) x2,y2 ]\n",
      "\n"
     ]
    }
   ],
   "source": [
    "fig_asset = p.make_fig(cols=2, specs=[[{},{}]])\n",
    "fig_asset_1 = p.make_fig(cols=2, specs=[[{},{}]])"
   ]
  },
  {
   "cell_type": "markdown",
   "metadata": {},
   "source": [
    "#### Reading data"
   ]
  },
  {
   "cell_type": "code",
   "execution_count": 4,
   "metadata": {},
   "outputs": [],
   "source": [
    "dquote = pd.read_csv('data/br_quotes.csv')\n",
    "dstocks = pd.read_csv('data/br_stocks.csv')\n",
    "dnu, dport, dport_inv, dprices = f.read_invest()\n",
    "\n",
    "dflow = dnu.groupby('ID').apply(f.calc_flows)\n",
    "dflow = dflow.reset_index(level=[0, 1])\n",
    "dflow.pop('level_1')\n",
    "dflow = dflow.sort_values(by=['Rendimento anual'], ascending=False).reset_index(drop=True)"
   ]
  },
  {
   "cell_type": "markdown",
   "metadata": {},
   "source": [
    "#### Calculating stocks return"
   ]
  },
  {
   "cell_type": "code",
   "execution_count": 5,
   "metadata": {},
   "outputs": [],
   "source": [
    "dreturn = pd.DataFrame()\n",
    "current_year = dt.date.today().year\n",
    "dreturn['Ticker'] = dquote['Ticker']\n",
    "dreturn['Predicted'] = [0 for j in dquote['Ticker']]\n",
    "weights = [0.05, 0.1, 0.15, 0.3, 0.4]\n",
    "for i in range(5):\n",
    "    year_i = current_year-4+i\n",
    "    dreturn[str(year_i)] = (dquote[str(year_i)] - dquote[str(year_i-1)]) / dquote[str(year_i-1)] \n",
    "    dreturn[str(year_i)] = dreturn[str(year_i)].apply(lambda x : 0 if pd.isnull(x) or x == np.inf else x)\n",
    "    dreturn['Predicted'] += dreturn[str(year_i)] * weights[i]"
   ]
  },
  {
   "cell_type": "markdown",
   "metadata": {},
   "source": [
    "# Screener"
   ]
  },
  {
   "cell_type": "code",
   "execution_count": 6,
   "metadata": {},
   "outputs": [
    {
     "data": {
      "text/html": [
       "<style  type=\"text/css\" >\n",
       "    #T_dc879724_7124_11ea_8ca6_3cf862c21013 th {\n",
       "          font-size: 20px;\n",
       "    }    #T_dc879724_7124_11ea_8ca6_3cf862c21013 td {\n",
       "          font-size: 22px;\n",
       "          text-align: center;\n",
       "    }</style><table id=\"T_dc879724_7124_11ea_8ca6_3cf862c21013\" ><thead>    <tr>        <th class=\"col_heading level0 col0\" >Ticker</th>        <th class=\"col_heading level0 col1\" >Score</th>        <th class=\"col_heading level0 col2\" >Price</th>        <th class=\"col_heading level0 col3\" >Return</th>        <th class=\"col_heading level0 col4\" >Risk</th>        <th class=\"col_heading level0 col5\" >Tax</th>        <th class=\"col_heading level0 col6\" >YTD</th>        <th class=\"col_heading level0 col7\" >Cat</th>        <th class=\"col_heading level0 col8\" >Geo</th>        <th class=\"col_heading level0 col9\" >Domain</th>        <th class=\"col_heading level0 col10\" >Asset</th>    </tr></thead><tbody>\n",
       "                <tr>\n",
       "                                <td id=\"T_dc879724_7124_11ea_8ca6_3cf862c21013row0_col0\" class=\"data row0 col0\" >IVVB11</td>\n",
       "                        <td id=\"T_dc879724_7124_11ea_8ca6_3cf862c21013row0_col1\" class=\"data row0 col1\" >6.40991</td>\n",
       "                        <td id=\"T_dc879724_7124_11ea_8ca6_3cf862c21013row0_col2\" class=\"data row0 col2\" >139.4</td>\n",
       "                        <td id=\"T_dc879724_7124_11ea_8ca6_3cf862c21013row0_col3\" class=\"data row0 col3\" >15.12%</td>\n",
       "                        <td id=\"T_dc879724_7124_11ea_8ca6_3cf862c21013row0_col4\" class=\"data row0 col4\" >12.18%</td>\n",
       "                        <td id=\"T_dc879724_7124_11ea_8ca6_3cf862c21013row0_col5\" class=\"data row0 col5\" >0.24%</td>\n",
       "                        <td id=\"T_dc879724_7124_11ea_8ca6_3cf862c21013row0_col6\" class=\"data row0 col6\" >0.5%</td>\n",
       "                        <td id=\"T_dc879724_7124_11ea_8ca6_3cf862c21013row0_col7\" class=\"data row0 col7\" >2</td>\n",
       "                        <td id=\"T_dc879724_7124_11ea_8ca6_3cf862c21013row0_col8\" class=\"data row0 col8\" >USA</td>\n",
       "                        <td id=\"T_dc879724_7124_11ea_8ca6_3cf862c21013row0_col9\" class=\"data row0 col9\" >Tech</td>\n",
       "                        <td id=\"T_dc879724_7124_11ea_8ca6_3cf862c21013row0_col10\" class=\"data row0 col10\" >Equity</td>\n",
       "            </tr>\n",
       "            <tr>\n",
       "                                <td id=\"T_dc879724_7124_11ea_8ca6_3cf862c21013row1_col0\" class=\"data row1 col0\" >Cash</td>\n",
       "                        <td id=\"T_dc879724_7124_11ea_8ca6_3cf862c21013row1_col1\" class=\"data row1 col1\" >6.10837</td>\n",
       "                        <td id=\"T_dc879724_7124_11ea_8ca6_3cf862c21013row1_col2\" class=\"data row1 col2\" >6.7</td>\n",
       "                        <td id=\"T_dc879724_7124_11ea_8ca6_3cf862c21013row1_col3\" class=\"data row1 col3\" >0.0%</td>\n",
       "                        <td id=\"T_dc879724_7124_11ea_8ca6_3cf862c21013row1_col4\" class=\"data row1 col4\" >0.0%</td>\n",
       "                        <td id=\"T_dc879724_7124_11ea_8ca6_3cf862c21013row1_col5\" class=\"data row1 col5\" >0.0%</td>\n",
       "                        <td id=\"T_dc879724_7124_11ea_8ca6_3cf862c21013row1_col6\" class=\"data row1 col6\" >0.0%</td>\n",
       "                        <td id=\"T_dc879724_7124_11ea_8ca6_3cf862c21013row1_col7\" class=\"data row1 col7\" >0</td>\n",
       "                        <td id=\"T_dc879724_7124_11ea_8ca6_3cf862c21013row1_col8\" class=\"data row1 col8\" >Cash</td>\n",
       "                        <td id=\"T_dc879724_7124_11ea_8ca6_3cf862c21013row1_col9\" class=\"data row1 col9\" >Basic Mat</td>\n",
       "                        <td id=\"T_dc879724_7124_11ea_8ca6_3cf862c21013row1_col10\" class=\"data row1 col10\" >Cash</td>\n",
       "            </tr>\n",
       "            <tr>\n",
       "                                <td id=\"T_dc879724_7124_11ea_8ca6_3cf862c21013row2_col0\" class=\"data row2 col0\" >DIVO11</td>\n",
       "                        <td id=\"T_dc879724_7124_11ea_8ca6_3cf862c21013row2_col1\" class=\"data row2 col1\" >4.28036</td>\n",
       "                        <td id=\"T_dc879724_7124_11ea_8ca6_3cf862c21013row2_col2\" class=\"data row2 col2\" >48.5</td>\n",
       "                        <td id=\"T_dc879724_7124_11ea_8ca6_3cf862c21013row2_col3\" class=\"data row2 col3\" >8.57%</td>\n",
       "                        <td id=\"T_dc879724_7124_11ea_8ca6_3cf862c21013row2_col4\" class=\"data row2 col4\" >19.25%</td>\n",
       "                        <td id=\"T_dc879724_7124_11ea_8ca6_3cf862c21013row2_col5\" class=\"data row2 col5\" >0.5%</td>\n",
       "                        <td id=\"T_dc879724_7124_11ea_8ca6_3cf862c21013row2_col6\" class=\"data row2 col6\" >-30.22%</td>\n",
       "                        <td id=\"T_dc879724_7124_11ea_8ca6_3cf862c21013row2_col7\" class=\"data row2 col7\" >3</td>\n",
       "                        <td id=\"T_dc879724_7124_11ea_8ca6_3cf862c21013row2_col8\" class=\"data row2 col8\" >USA</td>\n",
       "                        <td id=\"T_dc879724_7124_11ea_8ca6_3cf862c21013row2_col9\" class=\"data row2 col9\" >Util</td>\n",
       "                        <td id=\"T_dc879724_7124_11ea_8ca6_3cf862c21013row2_col10\" class=\"data row2 col10\" >Equity</td>\n",
       "            </tr>\n",
       "            <tr>\n",
       "                                <td id=\"T_dc879724_7124_11ea_8ca6_3cf862c21013row3_col0\" class=\"data row3 col0\" >BBSD11</td>\n",
       "                        <td id=\"T_dc879724_7124_11ea_8ca6_3cf862c21013row3_col1\" class=\"data row3 col1\" >4.26023</td>\n",
       "                        <td id=\"T_dc879724_7124_11ea_8ca6_3cf862c21013row3_col2\" class=\"data row3 col2\" >64.38</td>\n",
       "                        <td id=\"T_dc879724_7124_11ea_8ca6_3cf862c21013row3_col3\" class=\"data row3 col3\" >7.24%</td>\n",
       "                        <td id=\"T_dc879724_7124_11ea_8ca6_3cf862c21013row3_col4\" class=\"data row3 col4\" >17.73%</td>\n",
       "                        <td id=\"T_dc879724_7124_11ea_8ca6_3cf862c21013row3_col5\" class=\"data row3 col5\" >0.5%</td>\n",
       "                        <td id=\"T_dc879724_7124_11ea_8ca6_3cf862c21013row3_col6\" class=\"data row3 col6\" >-32.75%</td>\n",
       "                        <td id=\"T_dc879724_7124_11ea_8ca6_3cf862c21013row3_col7\" class=\"data row3 col7\" >3</td>\n",
       "                        <td id=\"T_dc879724_7124_11ea_8ca6_3cf862c21013row3_col8\" class=\"data row3 col8\" >USA</td>\n",
       "                        <td id=\"T_dc879724_7124_11ea_8ca6_3cf862c21013row3_col9\" class=\"data row3 col9\" >Indust</td>\n",
       "                        <td id=\"T_dc879724_7124_11ea_8ca6_3cf862c21013row3_col10\" class=\"data row3 col10\" >Equity</td>\n",
       "            </tr>\n",
       "            <tr>\n",
       "                                <td id=\"T_dc879724_7124_11ea_8ca6_3cf862c21013row4_col0\" class=\"data row4 col0\" >BRAX11</td>\n",
       "                        <td id=\"T_dc879724_7124_11ea_8ca6_3cf862c21013row4_col1\" class=\"data row4 col1\" >3.61888</td>\n",
       "                        <td id=\"T_dc879724_7124_11ea_8ca6_3cf862c21013row4_col2\" class=\"data row4 col2\" >61.85</td>\n",
       "                        <td id=\"T_dc879724_7124_11ea_8ca6_3cf862c21013row4_col3\" class=\"data row4 col3\" >2.14%</td>\n",
       "                        <td id=\"T_dc879724_7124_11ea_8ca6_3cf862c21013row4_col4\" class=\"data row4 col4\" >17.38%</td>\n",
       "                        <td id=\"T_dc879724_7124_11ea_8ca6_3cf862c21013row4_col5\" class=\"data row4 col5\" >0.2%</td>\n",
       "                        <td id=\"T_dc879724_7124_11ea_8ca6_3cf862c21013row4_col6\" class=\"data row4 col6\" >-35.47%</td>\n",
       "                        <td id=\"T_dc879724_7124_11ea_8ca6_3cf862c21013row4_col7\" class=\"data row4 col7\" >1</td>\n",
       "                        <td id=\"T_dc879724_7124_11ea_8ca6_3cf862c21013row4_col8\" class=\"data row4 col8\" >BR</td>\n",
       "                        <td id=\"T_dc879724_7124_11ea_8ca6_3cf862c21013row4_col9\" class=\"data row4 col9\" >Finance</td>\n",
       "                        <td id=\"T_dc879724_7124_11ea_8ca6_3cf862c21013row4_col10\" class=\"data row4 col10\" >Equity</td>\n",
       "            </tr>\n",
       "            <tr>\n",
       "                                <td id=\"T_dc879724_7124_11ea_8ca6_3cf862c21013row5_col0\" class=\"data row5 col0\" >BOVB11</td>\n",
       "                        <td id=\"T_dc879724_7124_11ea_8ca6_3cf862c21013row5_col1\" class=\"data row5 col1\" >3.35227</td>\n",
       "                        <td id=\"T_dc879724_7124_11ea_8ca6_3cf862c21013row5_col2\" class=\"data row5 col2\" >73.48</td>\n",
       "                        <td id=\"T_dc879724_7124_11ea_8ca6_3cf862c21013row5_col3\" class=\"data row5 col3\" >0.99%</td>\n",
       "                        <td id=\"T_dc879724_7124_11ea_8ca6_3cf862c21013row5_col4\" class=\"data row5 col4\" >17.73%</td>\n",
       "                        <td id=\"T_dc879724_7124_11ea_8ca6_3cf862c21013row5_col5\" class=\"data row5 col5\" >0.2%</td>\n",
       "                        <td id=\"T_dc879724_7124_11ea_8ca6_3cf862c21013row5_col6\" class=\"data row5 col6\" >-36.49%</td>\n",
       "                        <td id=\"T_dc879724_7124_11ea_8ca6_3cf862c21013row5_col7\" class=\"data row5 col7\" >1</td>\n",
       "                        <td id=\"T_dc879724_7124_11ea_8ca6_3cf862c21013row5_col8\" class=\"data row5 col8\" >BR</td>\n",
       "                        <td id=\"T_dc879724_7124_11ea_8ca6_3cf862c21013row5_col9\" class=\"data row5 col9\" >Finance</td>\n",
       "                        <td id=\"T_dc879724_7124_11ea_8ca6_3cf862c21013row5_col10\" class=\"data row5 col10\" >Equity</td>\n",
       "            </tr>\n",
       "            <tr>\n",
       "                                <td id=\"T_dc879724_7124_11ea_8ca6_3cf862c21013row6_col0\" class=\"data row6 col0\" >BOVV11</td>\n",
       "                        <td id=\"T_dc879724_7124_11ea_8ca6_3cf862c21013row6_col1\" class=\"data row6 col1\" >3.3247</td>\n",
       "                        <td id=\"T_dc879724_7124_11ea_8ca6_3cf862c21013row6_col2\" class=\"data row6 col2\" >73.7</td>\n",
       "                        <td id=\"T_dc879724_7124_11ea_8ca6_3cf862c21013row6_col3\" class=\"data row6 col3\" >1.13%</td>\n",
       "                        <td id=\"T_dc879724_7124_11ea_8ca6_3cf862c21013row6_col4\" class=\"data row6 col4\" >17.73%</td>\n",
       "                        <td id=\"T_dc879724_7124_11ea_8ca6_3cf862c21013row6_col5\" class=\"data row6 col5\" >0.3%</td>\n",
       "                        <td id=\"T_dc879724_7124_11ea_8ca6_3cf862c21013row6_col6\" class=\"data row6 col6\" >-36.6%</td>\n",
       "                        <td id=\"T_dc879724_7124_11ea_8ca6_3cf862c21013row6_col7\" class=\"data row6 col7\" >1</td>\n",
       "                        <td id=\"T_dc879724_7124_11ea_8ca6_3cf862c21013row6_col8\" class=\"data row6 col8\" >BR</td>\n",
       "                        <td id=\"T_dc879724_7124_11ea_8ca6_3cf862c21013row6_col9\" class=\"data row6 col9\" >Finance</td>\n",
       "                        <td id=\"T_dc879724_7124_11ea_8ca6_3cf862c21013row6_col10\" class=\"data row6 col10\" >Equity</td>\n",
       "            </tr>\n",
       "            <tr>\n",
       "                                <td id=\"T_dc879724_7124_11ea_8ca6_3cf862c21013row7_col0\" class=\"data row7 col0\" >PIBB11</td>\n",
       "                        <td id=\"T_dc879724_7124_11ea_8ca6_3cf862c21013row7_col1\" class=\"data row7 col1\" >3.18598</td>\n",
       "                        <td id=\"T_dc879724_7124_11ea_8ca6_3cf862c21013row7_col2\" class=\"data row7 col2\" >122.8</td>\n",
       "                        <td id=\"T_dc879724_7124_11ea_8ca6_3cf862c21013row7_col3\" class=\"data row7 col3\" >0.08%</td>\n",
       "                        <td id=\"T_dc879724_7124_11ea_8ca6_3cf862c21013row7_col4\" class=\"data row7 col4\" >17.68%</td>\n",
       "                        <td id=\"T_dc879724_7124_11ea_8ca6_3cf862c21013row7_col5\" class=\"data row7 col5\" >0.06%</td>\n",
       "                        <td id=\"T_dc879724_7124_11ea_8ca6_3cf862c21013row7_col6\" class=\"data row7 col6\" >-37.07%</td>\n",
       "                        <td id=\"T_dc879724_7124_11ea_8ca6_3cf862c21013row7_col7\" class=\"data row7 col7\" >1.1</td>\n",
       "                        <td id=\"T_dc879724_7124_11ea_8ca6_3cf862c21013row7_col8\" class=\"data row7 col8\" >BR</td>\n",
       "                        <td id=\"T_dc879724_7124_11ea_8ca6_3cf862c21013row7_col9\" class=\"data row7 col9\" >Finance</td>\n",
       "                        <td id=\"T_dc879724_7124_11ea_8ca6_3cf862c21013row7_col10\" class=\"data row7 col10\" >Equity</td>\n",
       "            </tr>\n",
       "            <tr>\n",
       "                                <td id=\"T_dc879724_7124_11ea_8ca6_3cf862c21013row8_col0\" class=\"data row8 col0\" >GOVE11</td>\n",
       "                        <td id=\"T_dc879724_7124_11ea_8ca6_3cf862c21013row8_col1\" class=\"data row8 col1\" >2.93034</td>\n",
       "                        <td id=\"T_dc879724_7124_11ea_8ca6_3cf862c21013row8_col2\" class=\"data row8 col2\" >32.66</td>\n",
       "                        <td id=\"T_dc879724_7124_11ea_8ca6_3cf862c21013row8_col3\" class=\"data row8 col3\" >3.31%</td>\n",
       "                        <td id=\"T_dc879724_7124_11ea_8ca6_3cf862c21013row8_col4\" class=\"data row8 col4\" >22.55%</td>\n",
       "                        <td id=\"T_dc879724_7124_11ea_8ca6_3cf862c21013row8_col5\" class=\"data row8 col5\" >0.5%</td>\n",
       "                        <td id=\"T_dc879724_7124_11ea_8ca6_3cf862c21013row8_col6\" class=\"data row8 col6\" >-35.2%</td>\n",
       "                        <td id=\"T_dc879724_7124_11ea_8ca6_3cf862c21013row8_col7\" class=\"data row8 col7\" >1</td>\n",
       "                        <td id=\"T_dc879724_7124_11ea_8ca6_3cf862c21013row8_col8\" class=\"data row8 col8\" >BR</td>\n",
       "                        <td id=\"T_dc879724_7124_11ea_8ca6_3cf862c21013row8_col9\" class=\"data row8 col9\" >Finance</td>\n",
       "                        <td id=\"T_dc879724_7124_11ea_8ca6_3cf862c21013row8_col10\" class=\"data row8 col10\" >Equity</td>\n",
       "            </tr>\n",
       "            <tr>\n",
       "                                <td id=\"T_dc879724_7124_11ea_8ca6_3cf862c21013row9_col0\" class=\"data row9 col0\" >MATB11</td>\n",
       "                        <td id=\"T_dc879724_7124_11ea_8ca6_3cf862c21013row9_col1\" class=\"data row9 col1\" >2.33879</td>\n",
       "                        <td id=\"T_dc879724_7124_11ea_8ca6_3cf862c21013row9_col2\" class=\"data row9 col2\" >24.53</td>\n",
       "                        <td id=\"T_dc879724_7124_11ea_8ca6_3cf862c21013row9_col3\" class=\"data row9 col3\" >-0.33%</td>\n",
       "                        <td id=\"T_dc879724_7124_11ea_8ca6_3cf862c21013row9_col4\" class=\"data row9 col4\" >22.55%</td>\n",
       "                        <td id=\"T_dc879724_7124_11ea_8ca6_3cf862c21013row9_col5\" class=\"data row9 col5\" >0.5%</td>\n",
       "                        <td id=\"T_dc879724_7124_11ea_8ca6_3cf862c21013row9_col6\" class=\"data row9 col6\" >-32.16%</td>\n",
       "                        <td id=\"T_dc879724_7124_11ea_8ca6_3cf862c21013row9_col7\" class=\"data row9 col7\" >4</td>\n",
       "                        <td id=\"T_dc879724_7124_11ea_8ca6_3cf862c21013row9_col8\" class=\"data row9 col8\" >BR</td>\n",
       "                        <td id=\"T_dc879724_7124_11ea_8ca6_3cf862c21013row9_col9\" class=\"data row9 col9\" >Basic Mat</td>\n",
       "                        <td id=\"T_dc879724_7124_11ea_8ca6_3cf862c21013row9_col10\" class=\"data row9 col10\" >Equity</td>\n",
       "            </tr>\n",
       "    </tbody></table>"
      ],
      "text/plain": [
       "<pandas.io.formats.style.Styler at 0x1ab8f455b00>"
      ]
     },
     "execution_count": 6,
     "metadata": {},
     "output_type": "execute_result"
    }
   ],
   "source": [
    "assets = ['USA', 'EU', 'BR', 'EM', 'Bonds', 'Cash', 'Commod']\n",
    "industry = ['Basic Mat', 'Cons Cycl', 'Finance', 'Real Estate', 'Telecom', 'Energy', 'Indust', 'Tech', 'Cons Non-Cycl', 'Health', 'Util']\n",
    "\n",
    "dfull = f.calc_stocks_feat(dreturn, dstocks, dquote, assets, industry)\n",
    "\n",
    "screen = ['Ticker', 'Score', 'Price', 'Return', 'Risk', 'Tax', 'YTD', 'Cat', 'Geo', 'Domain', 'Asset']\n",
    "p.change_df_prop(dfull[screen].sort_values('Score', ascending=False).reset_index(drop=True))"
   ]
  },
  {
   "cell_type": "markdown",
   "metadata": {},
   "source": [
    "# Current portfolio"
   ]
  },
  {
   "cell_type": "code",
   "execution_count": 7,
   "metadata": {},
   "outputs": [],
   "source": [
    "dport_bonds = f.simulatePortfolio(dport, dflow, dfull, assets, industry)"
   ]
  },
  {
   "cell_type": "code",
   "execution_count": 8,
   "metadata": {},
   "outputs": [
    {
     "data": {
      "text/html": [
       "<div>\n",
       "<style scoped>\n",
       "    .dataframe tbody tr th:only-of-type {\n",
       "        vertical-align: middle;\n",
       "    }\n",
       "\n",
       "    .dataframe tbody tr th {\n",
       "        vertical-align: top;\n",
       "    }\n",
       "\n",
       "    .dataframe thead th {\n",
       "        text-align: right;\n",
       "    }\n",
       "</style>\n",
       "<table border=\"1\" class=\"dataframe\">\n",
       "  <thead>\n",
       "    <tr style=\"text-align: right;\">\n",
       "      <th></th>\n",
       "      <th>Ticker</th>\n",
       "      <th>Buy</th>\n",
       "      <th>Shares</th>\n",
       "      <th>Date</th>\n",
       "    </tr>\n",
       "  </thead>\n",
       "  <tbody>\n",
       "    <tr>\n",
       "      <th>0</th>\n",
       "      <td>IVVB11</td>\n",
       "      <td>130.800</td>\n",
       "      <td>10</td>\n",
       "      <td>2019-10-30</td>\n",
       "    </tr>\n",
       "    <tr>\n",
       "      <th>1</th>\n",
       "      <td>BRAX11</td>\n",
       "      <td>87.500</td>\n",
       "      <td>10</td>\n",
       "      <td>2019-11-14</td>\n",
       "    </tr>\n",
       "    <tr>\n",
       "      <th>2</th>\n",
       "      <td>IVVB11</td>\n",
       "      <td>139.030</td>\n",
       "      <td>10</td>\n",
       "      <td>2019-12-12</td>\n",
       "    </tr>\n",
       "    <tr>\n",
       "      <th>3</th>\n",
       "      <td>BBSD11</td>\n",
       "      <td>95.720</td>\n",
       "      <td>10</td>\n",
       "      <td>2020-01-09</td>\n",
       "    </tr>\n",
       "    <tr>\n",
       "      <th>4</th>\n",
       "      <td>BRAX11</td>\n",
       "      <td>97.030</td>\n",
       "      <td>10</td>\n",
       "      <td>2020-01-16</td>\n",
       "    </tr>\n",
       "    <tr>\n",
       "      <th>5</th>\n",
       "      <td>IVVB11</td>\n",
       "      <td>147.800</td>\n",
       "      <td>10</td>\n",
       "      <td>2020-01-31</td>\n",
       "    </tr>\n",
       "    <tr>\n",
       "      <th>6</th>\n",
       "      <td>BBSD11</td>\n",
       "      <td>96.670</td>\n",
       "      <td>10</td>\n",
       "      <td>2020-02-07</td>\n",
       "    </tr>\n",
       "    <tr>\n",
       "      <th>7</th>\n",
       "      <td>BRAX11</td>\n",
       "      <td>96.400</td>\n",
       "      <td>10</td>\n",
       "      <td>2020-02-21</td>\n",
       "    </tr>\n",
       "    <tr>\n",
       "      <th>8</th>\n",
       "      <td>BBSD11</td>\n",
       "      <td>89.420</td>\n",
       "      <td>10</td>\n",
       "      <td>2020-03-04</td>\n",
       "    </tr>\n",
       "    <tr>\n",
       "      <th>9</th>\n",
       "      <td>Cash</td>\n",
       "      <td>6.700</td>\n",
       "      <td>1</td>\n",
       "      <td>2020-02-01</td>\n",
       "    </tr>\n",
       "    <tr>\n",
       "      <th>0</th>\n",
       "      <td>NU</td>\n",
       "      <td>24344.270</td>\n",
       "      <td>1</td>\n",
       "      <td>NaN</td>\n",
       "    </tr>\n",
       "  </tbody>\n",
       "</table>\n",
       "</div>"
      ],
      "text/plain": [
       "   Ticker       Buy  Shares        Date\n",
       "0  IVVB11   130.800      10  2019-10-30\n",
       "1  BRAX11    87.500      10  2019-11-14\n",
       "2  IVVB11   139.030      10  2019-12-12\n",
       "3  BBSD11    95.720      10  2020-01-09\n",
       "4  BRAX11    97.030      10  2020-01-16\n",
       "5  IVVB11   147.800      10  2020-01-31\n",
       "6  BBSD11    96.670      10  2020-02-07\n",
       "7  BRAX11    96.400      10  2020-02-21\n",
       "8  BBSD11    89.420      10  2020-03-04\n",
       "9    Cash     6.700       1  2020-02-01\n",
       "0      NU 24344.270       1         NaN"
      ]
     },
     "execution_count": 8,
     "metadata": {},
     "output_type": "execute_result"
    }
   ],
   "source": [
    "dport_bonds[['Ticker', 'Buy', 'Shares', 'Date']]"
   ]
  },
  {
   "cell_type": "markdown",
   "metadata": {},
   "source": [
    "### Portfolio performance (w/ bonds)"
   ]
  },
  {
   "cell_type": "code",
   "execution_count": 9,
   "metadata": {},
   "outputs": [
    {
     "data": {
      "text/html": [
       "<style  type=\"text/css\" >\n",
       "    #T_dc99f4ae_7124_11ea_804b_3cf862c21013 th {\n",
       "          font-size: 26px;\n",
       "    }    #T_dc99f4ae_7124_11ea_804b_3cf862c21013 td {\n",
       "          font-size: 28px;\n",
       "          text-align: center;\n",
       "    }</style><table id=\"T_dc99f4ae_7124_11ea_804b_3cf862c21013\" ><thead>    <tr>        <th class=\"col_heading level0 col0\" >Value</th>        <th class=\"col_heading level0 col1\" >Profit</th>        <th class=\"col_heading level0 col2\" >Yield</th>        <th class=\"col_heading level0 col3\" >Return</th>        <th class=\"col_heading level0 col4\" >Risk</th>    </tr></thead><tbody>\n",
       "                <tr>\n",
       "                                <td id=\"T_dc99f4ae_7124_11ea_804b_3cf862c21013row0_col0\" class=\"data row0 col0\" >32319.9</td>\n",
       "                        <td id=\"T_dc99f4ae_7124_11ea_804b_3cf862c21013row0_col1\" class=\"data row0 col1\" >-1561.14</td>\n",
       "                        <td id=\"T_dc99f4ae_7124_11ea_804b_3cf862c21013row0_col2\" class=\"data row0 col2\" >-4.83%</td>\n",
       "                        <td id=\"T_dc99f4ae_7124_11ea_804b_3cf862c21013row0_col3\" class=\"data row0 col3\" >4.77%</td>\n",
       "                        <td id=\"T_dc99f4ae_7124_11ea_804b_3cf862c21013row0_col4\" class=\"data row0 col4\" >3.63%</td>\n",
       "            </tr>\n",
       "    </tbody></table>"
      ],
      "text/plain": [
       "<pandas.io.formats.style.Styler at 0x1ab8eebe5c0>"
      ]
     },
     "execution_count": 9,
     "metadata": {},
     "output_type": "execute_result"
    }
   ],
   "source": [
    "dcurrent_bonds = f.calc_port_perfo(dport_bonds)\n",
    "p.change_df_prop(dcurrent_bonds[['Value', 'Profit', 'Yield', 'Return', 'Risk']], 28)"
   ]
  },
  {
   "cell_type": "markdown",
   "metadata": {},
   "source": [
    "### Portfolio performance"
   ]
  },
  {
   "cell_type": "code",
   "execution_count": 10,
   "metadata": {},
   "outputs": [
    {
     "data": {
      "text/html": [
       "<style  type=\"text/css\" >\n",
       "    #T_dcab5006_7124_11ea_a0b7_3cf862c21013 th {\n",
       "          font-size: 26px;\n",
       "    }    #T_dcab5006_7124_11ea_a0b7_3cf862c21013 td {\n",
       "          font-size: 28px;\n",
       "          text-align: center;\n",
       "    }</style><table id=\"T_dcab5006_7124_11ea_a0b7_3cf862c21013\" ><thead>    <tr>        <th class=\"col_heading level0 col0\" >Value</th>        <th class=\"col_heading level0 col1\" >Profit</th>        <th class=\"col_heading level0 col2\" >Yield</th>        <th class=\"col_heading level0 col3\" >Return</th>        <th class=\"col_heading level0 col4\" >Risk</th>    </tr></thead><tbody>\n",
       "                <tr>\n",
       "                                <td id=\"T_dcab5006_7124_11ea_a0b7_3cf862c21013row0_col0\" class=\"data row0 col0\" >7968.9</td>\n",
       "                        <td id=\"T_dcab5006_7124_11ea_a0b7_3cf862c21013row0_col1\" class=\"data row0 col1\" >-1834.8</td>\n",
       "                        <td id=\"T_dcab5006_7124_11ea_a0b7_3cf862c21013row0_col2\" class=\"data row0 col2\" >-23.02%</td>\n",
       "                        <td id=\"T_dcab5006_7124_11ea_a0b7_3cf862c21013row0_col3\" class=\"data row0 col3\" >10.19%</td>\n",
       "                        <td id=\"T_dcab5006_7124_11ea_a0b7_3cf862c21013row0_col4\" class=\"data row0 col4\" >14.74%</td>\n",
       "            </tr>\n",
       "    </tbody></table>"
      ],
      "text/plain": [
       "<pandas.io.formats.style.Styler at 0x1abe8e9a518>"
      ]
     },
     "execution_count": 10,
     "metadata": {},
     "output_type": "execute_result"
    }
   ],
   "source": [
    "dport_var = dport_bonds[dport_bonds['Ticker'] != 'NU']\n",
    "dport_var = dport_var[dport_var['Ticker'] != 'Cash']\n",
    "dcurrent_var = f.calc_port_perfo(dport_var)\n",
    "p.change_df_prop(dcurrent_var[['Value', 'Profit', 'Yield', 'Return', 'Risk']], 28)"
   ]
  },
  {
   "cell_type": "markdown",
   "metadata": {},
   "source": [
    "### Asset allocation"
   ]
  },
  {
   "cell_type": "code",
   "execution_count": 11,
   "metadata": {},
   "outputs": [
    {
     "data": {
      "application/vnd.jupyter.widget-view+json": {
       "model_id": "0923542a98a44ac4bc9846661e99ee71",
       "version_major": 2,
       "version_minor": 0
      },
      "text/plain": [
       "FigureWidget({\n",
       "    'data': [{'domain': {'x': [0, 0.33]},\n",
       "              'hole': 0.4,\n",
       "              'labels': ar…"
      ]
     },
     "metadata": {},
     "output_type": "display_data"
    }
   ],
   "source": [
    "palette = {'BR': lpalette['g'], 'Cash': lpalette['c'], 'Bonds': dpalette['b'], 'EU': lpalette['pp'], 'USA': lpalette['r'], 'EM':lpalette['pk'],\n",
    "           'Finance': lpalette['g'], 'Indust': lpalette['c'], 'Tech': dpalette['b'], 'Cons Non-Cycl': lpalette['pp'], 'Cons Cycl': lpalette['r'], 'Health':lpalette['pk'],\n",
    "           'Energy': dpalette['g'], 'Util': dpalette['c'], 'Basic Mat': dpalette['o'], 'Real Estate': dpalette['pp'], 'Telecom': dpalette['r'], 'Commod':lpalette['pk'],\n",
    "           'BRAX11': lpalette['g'], 'Cash': lpalette['c'], 'NU': dpalette['b'], 'BBSD11': lpalette['pp'], 'IVVB11': lpalette['r'], 'Portfolio': lpalette['b2']\n",
    "          }\n",
    "dport_bonds['Group'] = 1\n",
    "dgroup = d.pivot_agg(dport_bonds, val='Value', idx=['Group'], col=['Ticker'], agg={'Value':np.sum}, date=None)\n",
    "dgroup.pop('Group')\n",
    "dgroup = dgroup.sum()\n",
    "# dgroup.pop('Ticker')\n",
    "p.plot_pie(dgroup, fig_asset, palette, dict(x=[0, 0.33]))\n",
    "dgroup = dport_bonds.sum()\n",
    "p.plot_pie(dgroup[assets], fig_asset, palette, dict(x=[0.33, 0.66]))\n",
    "p.plot_pie(dgroup[industry], fig_asset, palette, dict(x=[0.66, 1]))"
   ]
  },
  {
   "cell_type": "markdown",
   "metadata": {},
   "source": [
    "# Portfolio 1"
   ]
  },
  {
   "cell_type": "code",
   "execution_count": 12,
   "metadata": {},
   "outputs": [],
   "source": [
    "dport_1 = f.addStocks(dport, [\n",
    "        ['IVVB11', 80, 0.6],\n",
    "        ['BRAX11', 70, 0.4],\n",
    "        ['BBSD11', 70, 0.3],  \n",
    "], dfull)"
   ]
  },
  {
   "cell_type": "code",
   "execution_count": 13,
   "metadata": {},
   "outputs": [],
   "source": [
    "dport_bonds = f.simulatePortfolio(dport_1, dflow, dfull, assets, industry, bonds=11000).reset_index(drop=True)"
   ]
  },
  {
   "cell_type": "code",
   "execution_count": 14,
   "metadata": {},
   "outputs": [
    {
     "data": {
      "text/html": [
       "<div>\n",
       "<style scoped>\n",
       "    .dataframe tbody tr th:only-of-type {\n",
       "        vertical-align: middle;\n",
       "    }\n",
       "\n",
       "    .dataframe tbody tr th {\n",
       "        vertical-align: top;\n",
       "    }\n",
       "\n",
       "    .dataframe thead th {\n",
       "        text-align: right;\n",
       "    }\n",
       "</style>\n",
       "<table border=\"1\" class=\"dataframe\">\n",
       "  <thead>\n",
       "    <tr style=\"text-align: right;\">\n",
       "      <th></th>\n",
       "      <th>Ticker</th>\n",
       "      <th>Buy</th>\n",
       "      <th>Shares</th>\n",
       "    </tr>\n",
       "  </thead>\n",
       "  <tbody>\n",
       "    <tr>\n",
       "      <th>0</th>\n",
       "      <td>IVVB11</td>\n",
       "      <td>130.800</td>\n",
       "      <td>10</td>\n",
       "    </tr>\n",
       "    <tr>\n",
       "      <th>1</th>\n",
       "      <td>BRAX11</td>\n",
       "      <td>87.500</td>\n",
       "      <td>10</td>\n",
       "    </tr>\n",
       "    <tr>\n",
       "      <th>2</th>\n",
       "      <td>IVVB11</td>\n",
       "      <td>139.030</td>\n",
       "      <td>10</td>\n",
       "    </tr>\n",
       "    <tr>\n",
       "      <th>3</th>\n",
       "      <td>BBSD11</td>\n",
       "      <td>95.720</td>\n",
       "      <td>10</td>\n",
       "    </tr>\n",
       "    <tr>\n",
       "      <th>4</th>\n",
       "      <td>BRAX11</td>\n",
       "      <td>97.030</td>\n",
       "      <td>10</td>\n",
       "    </tr>\n",
       "    <tr>\n",
       "      <th>5</th>\n",
       "      <td>IVVB11</td>\n",
       "      <td>147.800</td>\n",
       "      <td>10</td>\n",
       "    </tr>\n",
       "    <tr>\n",
       "      <th>6</th>\n",
       "      <td>BBSD11</td>\n",
       "      <td>96.670</td>\n",
       "      <td>10</td>\n",
       "    </tr>\n",
       "    <tr>\n",
       "      <th>7</th>\n",
       "      <td>BRAX11</td>\n",
       "      <td>96.400</td>\n",
       "      <td>10</td>\n",
       "    </tr>\n",
       "    <tr>\n",
       "      <th>8</th>\n",
       "      <td>BBSD11</td>\n",
       "      <td>89.420</td>\n",
       "      <td>10</td>\n",
       "    </tr>\n",
       "    <tr>\n",
       "      <th>9</th>\n",
       "      <td>Cash</td>\n",
       "      <td>6.700</td>\n",
       "      <td>1</td>\n",
       "    </tr>\n",
       "    <tr>\n",
       "      <th>10</th>\n",
       "      <td>IVVB11</td>\n",
       "      <td>139.400</td>\n",
       "      <td>80</td>\n",
       "    </tr>\n",
       "    <tr>\n",
       "      <th>11</th>\n",
       "      <td>BRAX11</td>\n",
       "      <td>61.850</td>\n",
       "      <td>70</td>\n",
       "    </tr>\n",
       "    <tr>\n",
       "      <th>12</th>\n",
       "      <td>BBSD11</td>\n",
       "      <td>64.380</td>\n",
       "      <td>70</td>\n",
       "    </tr>\n",
       "    <tr>\n",
       "      <th>13</th>\n",
       "      <td>NU</td>\n",
       "      <td>11000.000</td>\n",
       "      <td>1</td>\n",
       "    </tr>\n",
       "  </tbody>\n",
       "</table>\n",
       "</div>"
      ],
      "text/plain": [
       "    Ticker       Buy  Shares\n",
       "0   IVVB11   130.800      10\n",
       "1   BRAX11    87.500      10\n",
       "2   IVVB11   139.030      10\n",
       "3   BBSD11    95.720      10\n",
       "4   BRAX11    97.030      10\n",
       "5   IVVB11   147.800      10\n",
       "6   BBSD11    96.670      10\n",
       "7   BRAX11    96.400      10\n",
       "8   BBSD11    89.420      10\n",
       "9     Cash     6.700       1\n",
       "10  IVVB11   139.400      80\n",
       "11  BRAX11    61.850      70\n",
       "12  BBSD11    64.380      70\n",
       "13      NU 11000.000       1"
      ]
     },
     "execution_count": 14,
     "metadata": {},
     "output_type": "execute_result"
    }
   ],
   "source": [
    "dport_bonds[['Ticker', 'Buy', 'Shares']]"
   ]
  },
  {
   "cell_type": "markdown",
   "metadata": {},
   "source": [
    "### Portfolio performance (w/ bonds)"
   ]
  },
  {
   "cell_type": "code",
   "execution_count": 15,
   "metadata": {},
   "outputs": [
    {
     "data": {
      "text/html": [
       "<style  type=\"text/css\" >\n",
       "    #T_dcd6b498_7124_11ea_856a_3cf862c21013 th {\n",
       "          font-size: 26px;\n",
       "    }    #T_dcd6b498_7124_11ea_856a_3cf862c21013 td {\n",
       "          font-size: 28px;\n",
       "          text-align: center;\n",
       "    }</style><table id=\"T_dcd6b498_7124_11ea_856a_3cf862c21013\" ><thead>    <tr>        <th class=\"col_heading level0 col0\" >Value</th>        <th class=\"col_heading level0 col1\" >Profit</th>        <th class=\"col_heading level0 col2\" >Yield</th>        <th class=\"col_heading level0 col3\" >Return</th>        <th class=\"col_heading level0 col4\" >Risk</th>    </tr></thead><tbody>\n",
       "                <tr>\n",
       "                                <td id=\"T_dcd6b498_7124_11ea_856a_3cf862c21013row0_col0\" class=\"data row0 col0\" >38963.7</td>\n",
       "                        <td id=\"T_dcd6b498_7124_11ea_856a_3cf862c21013row0_col1\" class=\"data row0 col1\" >-1561.14</td>\n",
       "                        <td id=\"T_dcd6b498_7124_11ea_856a_3cf862c21013row0_col2\" class=\"data row0 col2\" >-4.01%</td>\n",
       "                        <td id=\"T_dcd6b498_7124_11ea_856a_3cf862c21013row0_col3\" class=\"data row0 col3\" >8.34%</td>\n",
       "                        <td id=\"T_dcd6b498_7124_11ea_856a_3cf862c21013row0_col4\" class=\"data row0 col4\" >10.48%</td>\n",
       "            </tr>\n",
       "    </tbody></table>"
      ],
      "text/plain": [
       "<pandas.io.formats.style.Styler at 0x1ab8eea76d8>"
      ]
     },
     "execution_count": 15,
     "metadata": {},
     "output_type": "execute_result"
    }
   ],
   "source": [
    "dcurrent_bonds_1 = f.calc_port_perfo(dport_bonds)\n",
    "p.change_df_prop(dcurrent_bonds_1[['Value', 'Profit', 'Yield', 'Return', 'Risk']], 28)"
   ]
  },
  {
   "cell_type": "markdown",
   "metadata": {},
   "source": [
    "### Portfolio performance"
   ]
  },
  {
   "cell_type": "code",
   "execution_count": 16,
   "metadata": {},
   "outputs": [
    {
     "data": {
      "text/html": [
       "<style  type=\"text/css\" >\n",
       "    #T_dce91e82_7124_11ea_9793_3cf862c21013 th {\n",
       "          font-size: 26px;\n",
       "    }    #T_dce91e82_7124_11ea_9793_3cf862c21013 td {\n",
       "          font-size: 28px;\n",
       "          text-align: center;\n",
       "    }</style><table id=\"T_dce91e82_7124_11ea_9793_3cf862c21013\" ><thead>    <tr>        <th class=\"col_heading level0 col0\" >Value</th>        <th class=\"col_heading level0 col1\" >Profit</th>        <th class=\"col_heading level0 col2\" >Yield</th>        <th class=\"col_heading level0 col3\" >Return</th>        <th class=\"col_heading level0 col4\" >Risk</th>    </tr></thead><tbody>\n",
       "                <tr>\n",
       "                                <td id=\"T_dce91e82_7124_11ea_9793_3cf862c21013row0_col0\" class=\"data row0 col0\" >27957</td>\n",
       "                        <td id=\"T_dce91e82_7124_11ea_9793_3cf862c21013row0_col1\" class=\"data row0 col1\" >-1834.8</td>\n",
       "                        <td id=\"T_dce91e82_7124_11ea_9793_3cf862c21013row0_col2\" class=\"data row0 col2\" >-6.56%</td>\n",
       "                        <td id=\"T_dce91e82_7124_11ea_9793_3cf862c21013row0_col3\" class=\"data row0 col3\" >10.44%</td>\n",
       "                        <td id=\"T_dce91e82_7124_11ea_9793_3cf862c21013row0_col4\" class=\"data row0 col4\" >14.61%</td>\n",
       "            </tr>\n",
       "    </tbody></table>"
      ],
      "text/plain": [
       "<pandas.io.formats.style.Styler at 0x1ab8f518e10>"
      ]
     },
     "execution_count": 16,
     "metadata": {},
     "output_type": "execute_result"
    }
   ],
   "source": [
    "dport_var = dport_bonds[dport_bonds['Ticker'] != 'NU']\n",
    "dport_var = dport_var[dport_var['Ticker'] != 'Cash']\n",
    "dcurrent_var_1 = f.calc_port_perfo(dport_var)\n",
    "p.change_df_prop(dcurrent_var_1[['Value', 'Profit', 'Yield', 'Return', 'Risk']], 28)"
   ]
  },
  {
   "cell_type": "markdown",
   "metadata": {},
   "source": [
    "### Asset allocation"
   ]
  },
  {
   "cell_type": "code",
   "execution_count": 17,
   "metadata": {},
   "outputs": [
    {
     "data": {
      "application/vnd.jupyter.widget-view+json": {
       "model_id": "727c0e71cc234973a99441c653640a8f",
       "version_major": 2,
       "version_minor": 0
      },
      "text/plain": [
       "FigureWidget({\n",
       "    'data': [{'domain': {'x': [0, 0.33]},\n",
       "              'hole': 0.4,\n",
       "              'labels': ar…"
      ]
     },
     "metadata": {},
     "output_type": "display_data"
    }
   ],
   "source": [
    "palette = {'BR': lpalette['g'], 'Cash': lpalette['c'], 'Bonds': dpalette['b'], 'EU': lpalette['pp'], 'USA': lpalette['r'], 'EM':lpalette['pk'],\n",
    "           'Finance': lpalette['g'], 'Indust': lpalette['c'], 'Tech': dpalette['b'], 'Cons Non-Cycl': lpalette['pp'], 'Cons Cycl': lpalette['r'], 'Health':lpalette['pk'],\n",
    "           'Energy': dpalette['g'], 'Util': dpalette['c'], 'Basic Mat': dpalette['o'], 'Real Estate': dpalette['pp'], 'Telecom': dpalette['r'], 'Commod':lpalette['pk'],\n",
    "           'BRAX11': lpalette['g'], 'Cash': lpalette['c'], 'NU': dpalette['b'], 'BBSD11': lpalette['pp'], 'IVVB11': lpalette['r'], 'Portfolio': lpalette['b2']\n",
    "          }\n",
    "dport_bonds['Group'] = 1\n",
    "dgroup = d.pivot_agg(dport_bonds, val='Value', idx=['Group'], col=['Ticker'], agg={'Value':np.sum}, date=None)\n",
    "dgroup.pop('Group')\n",
    "dgroup = dgroup.sum()\n",
    "# dgroup.pop('Ticker')\n",
    "p.plot_pie(dgroup, fig_asset_1, palette, dict(x=[0, 0.33]))\n",
    "dgroup = dport_bonds.sum()\n",
    "p.plot_pie(dgroup[assets], fig_asset_1, palette, dict(x=[0.33, 0.66]))\n",
    "p.plot_pie(dgroup[industry], fig_asset_1, palette, dict(x=[0.66, 1]))"
   ]
  },
  {
   "cell_type": "markdown",
   "metadata": {},
   "source": [
    "# Portfolio comparison"
   ]
  },
  {
   "cell_type": "code",
   "execution_count": 18,
   "metadata": {},
   "outputs": [
    {
     "data": {
      "text/html": [
       "<style  type=\"text/css\" >\n",
       "    #T_dcfbd662_7124_11ea_b639_3cf862c21013 th {\n",
       "          font-size: 26px;\n",
       "    }    #T_dcfbd662_7124_11ea_b639_3cf862c21013 td {\n",
       "          font-size: 28px;\n",
       "          text-align: center;\n",
       "    }</style><table id=\"T_dcfbd662_7124_11ea_b639_3cf862c21013\" ><thead>    <tr>        <th class=\"col_heading level0 col0\" >Value</th>        <th class=\"col_heading level0 col1\" >Profit</th>        <th class=\"col_heading level0 col2\" >Yield</th>        <th class=\"col_heading level0 col3\" >Return</th>        <th class=\"col_heading level0 col4\" >Risk</th>    </tr></thead><tbody>\n",
       "                <tr>\n",
       "                                <td id=\"T_dcfbd662_7124_11ea_b639_3cf862c21013row0_col0\" class=\"data row0 col0\" >32319.9</td>\n",
       "                        <td id=\"T_dcfbd662_7124_11ea_b639_3cf862c21013row0_col1\" class=\"data row0 col1\" >-1561.14</td>\n",
       "                        <td id=\"T_dcfbd662_7124_11ea_b639_3cf862c21013row0_col2\" class=\"data row0 col2\" >-4.83%</td>\n",
       "                        <td id=\"T_dcfbd662_7124_11ea_b639_3cf862c21013row0_col3\" class=\"data row0 col3\" >4.77%</td>\n",
       "                        <td id=\"T_dcfbd662_7124_11ea_b639_3cf862c21013row0_col4\" class=\"data row0 col4\" >3.63%</td>\n",
       "            </tr>\n",
       "            <tr>\n",
       "                                <td id=\"T_dcfbd662_7124_11ea_b639_3cf862c21013row1_col0\" class=\"data row1 col0\" >38963.7</td>\n",
       "                        <td id=\"T_dcfbd662_7124_11ea_b639_3cf862c21013row1_col1\" class=\"data row1 col1\" >-1561.14</td>\n",
       "                        <td id=\"T_dcfbd662_7124_11ea_b639_3cf862c21013row1_col2\" class=\"data row1 col2\" >-4.01%</td>\n",
       "                        <td id=\"T_dcfbd662_7124_11ea_b639_3cf862c21013row1_col3\" class=\"data row1 col3\" >8.34%</td>\n",
       "                        <td id=\"T_dcfbd662_7124_11ea_b639_3cf862c21013row1_col4\" class=\"data row1 col4\" >10.48%</td>\n",
       "            </tr>\n",
       "    </tbody></table>"
      ],
      "text/plain": [
       "<pandas.io.formats.style.Styler at 0x1ab8eea7a20>"
      ]
     },
     "execution_count": 18,
     "metadata": {},
     "output_type": "execute_result"
    }
   ],
   "source": [
    "dcompare = dcurrent_bonds.append(dcurrent_bonds_1).reset_index(drop=True)\n",
    "p.change_df_prop(dcompare[['Value', 'Profit', 'Yield', 'Return', 'Risk']], 28)"
   ]
  }
 ],
 "metadata": {
  "kernelspec": {
   "display_name": "Python 3",
   "language": "python",
   "name": "python3"
  },
  "language_info": {
   "codemirror_mode": {
    "name": "ipython",
    "version": 3
   },
   "file_extension": ".py",
   "mimetype": "text/x-python",
   "name": "python",
   "nbconvert_exporter": "python",
   "pygments_lexer": "ipython3",
   "version": "3.7.3"
  }
 },
 "nbformat": 4,
 "nbformat_minor": 2
}
