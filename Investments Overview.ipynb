{
 "cells": [
  {
   "cell_type": "markdown",
   "metadata": {},
   "source": [
    "# Gerenciador de investimentos"
   ]
  },
  {
   "cell_type": "code",
   "execution_count": 1,
   "metadata": {},
   "outputs": [],
   "source": [
    "import numpy as np\n",
    "import pandas as pd\n",
    "import datetime as dt\n",
    "import seaborn as sns\n",
    "from plotly import tools\n",
    "import plotly.graph_objs as go\n",
    "# from lib import lib as l\n",
    "from lib import plot as p\n",
    "from lib import data as d\n",
    "from lib import finance as f"
   ]
  },
  {
   "cell_type": "code",
   "execution_count": 2,
   "metadata": {},
   "outputs": [],
   "source": [
    "pd.set_option('display.float_format', lambda x: '%.3f' % x)\n",
    "lcolors = np.array(['#13E881', '#FF5949', '#FFB84C', '#A7BEFA', '#27FEFA'])\n",
    "dcolors = np.array(['#268040', '#800B00', '#A13808', '#464CC2', '#162CF2'])"
   ]
  },
  {
   "cell_type": "markdown",
   "metadata": {},
   "source": [
    "## Leitura dos dados"
   ]
  },
  {
   "cell_type": "code",
   "execution_count": 3,
   "metadata": {},
   "outputs": [],
   "source": [
    "dinv, dport, dport_inv, dprices = f.read_invest()\n",
    "dinvest = pd.concat([dinv, dport_inv]).reset_index(drop=True)"
   ]
  },
  {
   "cell_type": "markdown",
   "metadata": {},
   "source": [
    "## Fluxos de investimentos"
   ]
  },
  {
   "cell_type": "markdown",
   "metadata": {},
   "source": [
    "### Histórico de fluxos"
   ]
  },
  {
   "cell_type": "code",
   "execution_count": 4,
   "metadata": {},
   "outputs": [],
   "source": [
    "dflow = dinvest.groupby('ID').apply(f.calc_flows)\n",
    "dflow = dflow.reset_index(level=[0, 1])\n",
    "dflow.pop('level_1')\n",
    "dflow['Rend'] = dflow['Rendimento anual'].apply(d.pct2int)\n",
    "dflow = dflow.sort_values(by=['Rend'], ascending=False).reset_index(drop=True)\n",
    "a = dflow.pop('Rend')"
   ]
  },
  {
   "cell_type": "markdown",
   "metadata": {},
   "source": [
    "### Fluxos ativos"
   ]
  },
  {
   "cell_type": "code",
   "execution_count": 5,
   "metadata": {},
   "outputs": [
    {
     "data": {
      "text/html": [
       "<div>\n",
       "<style scoped>\n",
       "    .dataframe tbody tr th:only-of-type {\n",
       "        vertical-align: middle;\n",
       "    }\n",
       "\n",
       "    .dataframe tbody tr th {\n",
       "        vertical-align: top;\n",
       "    }\n",
       "\n",
       "    .dataframe thead th {\n",
       "        text-align: right;\n",
       "    }\n",
       "</style>\n",
       "<table border=\"1\" class=\"dataframe\">\n",
       "  <thead>\n",
       "    <tr style=\"text-align: right;\">\n",
       "      <th></th>\n",
       "      <th>ID</th>\n",
       "      <th>Valor inicial</th>\n",
       "      <th>Ganho</th>\n",
       "      <th>Meses</th>\n",
       "      <th>Rendimento</th>\n",
       "      <th>Rendimento mensal</th>\n",
       "      <th>Rendimento anual</th>\n",
       "      <th>Ganho em 1 ano</th>\n",
       "      <th>Ativo</th>\n",
       "      <th>Tipo</th>\n",
       "    </tr>\n",
       "  </thead>\n",
       "  <tbody>\n",
       "    <tr>\n",
       "      <th>0</th>\n",
       "      <td>100.000</td>\n",
       "      <td>1308.000</td>\n",
       "      <td>219.200</td>\n",
       "      <td>5.377</td>\n",
       "      <td>16.76%</td>\n",
       "      <td>2.92%</td>\n",
       "      <td>41.17%</td>\n",
       "      <td>628.822</td>\n",
       "      <td>True</td>\n",
       "      <td>IVVB11</td>\n",
       "    </tr>\n",
       "    <tr>\n",
       "      <th>1</th>\n",
       "      <td>102.000</td>\n",
       "      <td>1390.300</td>\n",
       "      <td>136.900</td>\n",
       "      <td>3.967</td>\n",
       "      <td>9.85%</td>\n",
       "      <td>2.4%</td>\n",
       "      <td>32.75%</td>\n",
       "      <td>500.166</td>\n",
       "      <td>True</td>\n",
       "      <td>IVVB11</td>\n",
       "    </tr>\n",
       "    <tr>\n",
       "      <th>2</th>\n",
       "      <td>105.000</td>\n",
       "      <td>1478.000</td>\n",
       "      <td>49.200</td>\n",
       "      <td>2.328</td>\n",
       "      <td>3.33%</td>\n",
       "      <td>1.42%</td>\n",
       "      <td>18.33%</td>\n",
       "      <td>280.001</td>\n",
       "      <td>True</td>\n",
       "      <td>IVVB11</td>\n",
       "    </tr>\n",
       "    <tr>\n",
       "      <th>10</th>\n",
       "      <td>14.300</td>\n",
       "      <td>930.000</td>\n",
       "      <td>3.030</td>\n",
       "      <td>1.082</td>\n",
       "      <td>0.33%</td>\n",
       "      <td>0.3%</td>\n",
       "      <td>3.66%</td>\n",
       "      <td>34.179</td>\n",
       "      <td>True</td>\n",
       "      <td>Nu</td>\n",
       "    </tr>\n",
       "    <tr>\n",
       "      <th>16</th>\n",
       "      <td>1.400</td>\n",
       "      <td>8952.240</td>\n",
       "      <td>3.070</td>\n",
       "      <td>0.131</td>\n",
       "      <td>0.03%</td>\n",
       "      <td>0.26%</td>\n",
       "      <td>3.18%</td>\n",
       "      <td>284.615</td>\n",
       "      <td>True</td>\n",
       "      <td>Nu</td>\n",
       "    </tr>\n",
       "    <tr>\n",
       "      <th>18</th>\n",
       "      <td>13.000</td>\n",
       "      <td>10000.000</td>\n",
       "      <td>42.770</td>\n",
       "      <td>1.738</td>\n",
       "      <td>0.43%</td>\n",
       "      <td>0.25%</td>\n",
       "      <td>2.98%</td>\n",
       "      <td>299.558</td>\n",
       "      <td>True</td>\n",
       "      <td>Nu</td>\n",
       "    </tr>\n",
       "    <tr>\n",
       "      <th>19</th>\n",
       "      <td>15.000</td>\n",
       "      <td>3000.000</td>\n",
       "      <td>6.610</td>\n",
       "      <td>0.951</td>\n",
       "      <td>0.22%</td>\n",
       "      <td>0.23%</td>\n",
       "      <td>2.81%</td>\n",
       "      <td>84.451</td>\n",
       "      <td>True</td>\n",
       "      <td>Nu</td>\n",
       "    </tr>\n",
       "    <tr>\n",
       "      <th>27</th>\n",
       "      <td>16.000</td>\n",
       "      <td>3189.460</td>\n",
       "      <td>1.270</td>\n",
       "      <td>0.393</td>\n",
       "      <td>0.04%</td>\n",
       "      <td>0.1%</td>\n",
       "      <td>1.22%</td>\n",
       "      <td>38.872</td>\n",
       "      <td>True</td>\n",
       "      <td>Nu</td>\n",
       "    </tr>\n",
       "    <tr>\n",
       "      <th>35</th>\n",
       "      <td>109.000</td>\n",
       "      <td>1306.700</td>\n",
       "      <td>0.000</td>\n",
       "      <td>2.295</td>\n",
       "      <td>0.0%</td>\n",
       "      <td>0.0%</td>\n",
       "      <td>0.0%</td>\n",
       "      <td>0.000</td>\n",
       "      <td>True</td>\n",
       "      <td>Cash</td>\n",
       "    </tr>\n",
       "    <tr>\n",
       "      <th>36</th>\n",
       "      <td>101.000</td>\n",
       "      <td>875.000</td>\n",
       "      <td>-221.500</td>\n",
       "      <td>4.885</td>\n",
       "      <td>-25.31%</td>\n",
       "      <td>-5.8%</td>\n",
       "      <td>-51.08%</td>\n",
       "      <td>-333.817</td>\n",
       "      <td>True</td>\n",
       "      <td>BRAX11</td>\n",
       "    </tr>\n",
       "    <tr>\n",
       "      <th>37</th>\n",
       "      <td>103.000</td>\n",
       "      <td>957.200</td>\n",
       "      <td>-300.100</td>\n",
       "      <td>3.049</td>\n",
       "      <td>-31.35%</td>\n",
       "      <td>-11.61%</td>\n",
       "      <td>-77.15%</td>\n",
       "      <td>-506.978</td>\n",
       "      <td>True</td>\n",
       "      <td>BBSD11</td>\n",
       "    </tr>\n",
       "    <tr>\n",
       "      <th>38</th>\n",
       "      <td>104.000</td>\n",
       "      <td>970.300</td>\n",
       "      <td>-316.800</td>\n",
       "      <td>2.820</td>\n",
       "      <td>-32.65%</td>\n",
       "      <td>-13.08%</td>\n",
       "      <td>-81.32%</td>\n",
       "      <td>-531.408</td>\n",
       "      <td>True</td>\n",
       "      <td>BRAX11</td>\n",
       "    </tr>\n",
       "    <tr>\n",
       "      <th>39</th>\n",
       "      <td>106.000</td>\n",
       "      <td>966.700</td>\n",
       "      <td>-309.600</td>\n",
       "      <td>2.098</td>\n",
       "      <td>-32.03%</td>\n",
       "      <td>-16.8%</td>\n",
       "      <td>-88.94%</td>\n",
       "      <td>-584.415</td>\n",
       "      <td>True</td>\n",
       "      <td>BBSD11</td>\n",
       "    </tr>\n",
       "    <tr>\n",
       "      <th>40</th>\n",
       "      <td>107.000</td>\n",
       "      <td>964.000</td>\n",
       "      <td>-310.500</td>\n",
       "      <td>1.639</td>\n",
       "      <td>-32.21%</td>\n",
       "      <td>-21.11%</td>\n",
       "      <td>-94.14%</td>\n",
       "      <td>-615.237</td>\n",
       "      <td>True</td>\n",
       "      <td>BRAX11</td>\n",
       "    </tr>\n",
       "    <tr>\n",
       "      <th>41</th>\n",
       "      <td>108.000</td>\n",
       "      <td>894.200</td>\n",
       "      <td>-237.100</td>\n",
       "      <td>1.246</td>\n",
       "      <td>-26.52%</td>\n",
       "      <td>-21.91%</td>\n",
       "      <td>-94.81%</td>\n",
       "      <td>-623.027</td>\n",
       "      <td>True</td>\n",
       "      <td>BBSD11</td>\n",
       "    </tr>\n",
       "  </tbody>\n",
       "</table>\n",
       "</div>"
      ],
      "text/plain": [
       "        ID  Valor inicial    Ganho  Meses Rendimento Rendimento mensal  \\\n",
       "0  100.000       1308.000  219.200  5.377     16.76%             2.92%   \n",
       "1  102.000       1390.300  136.900  3.967      9.85%              2.4%   \n",
       "2  105.000       1478.000   49.200  2.328      3.33%             1.42%   \n",
       "10  14.300        930.000    3.030  1.082      0.33%              0.3%   \n",
       "16   1.400       8952.240    3.070  0.131      0.03%             0.26%   \n",
       "18  13.000      10000.000   42.770  1.738      0.43%             0.25%   \n",
       "19  15.000       3000.000    6.610  0.951      0.22%             0.23%   \n",
       "27  16.000       3189.460    1.270  0.393      0.04%              0.1%   \n",
       "35 109.000       1306.700    0.000  2.295       0.0%              0.0%   \n",
       "36 101.000        875.000 -221.500  4.885    -25.31%             -5.8%   \n",
       "37 103.000        957.200 -300.100  3.049    -31.35%           -11.61%   \n",
       "38 104.000        970.300 -316.800  2.820    -32.65%           -13.08%   \n",
       "39 106.000        966.700 -309.600  2.098    -32.03%            -16.8%   \n",
       "40 107.000        964.000 -310.500  1.639    -32.21%           -21.11%   \n",
       "41 108.000        894.200 -237.100  1.246    -26.52%           -21.91%   \n",
       "\n",
       "   Rendimento anual  Ganho em 1 ano  Ativo    Tipo  \n",
       "0            41.17%         628.822   True  IVVB11  \n",
       "1            32.75%         500.166   True  IVVB11  \n",
       "2            18.33%         280.001   True  IVVB11  \n",
       "10            3.66%          34.179   True      Nu  \n",
       "16            3.18%         284.615   True      Nu  \n",
       "18            2.98%         299.558   True      Nu  \n",
       "19            2.81%          84.451   True      Nu  \n",
       "27            1.22%          38.872   True      Nu  \n",
       "35             0.0%           0.000   True    Cash  \n",
       "36          -51.08%        -333.817   True  BRAX11  \n",
       "37          -77.15%        -506.978   True  BBSD11  \n",
       "38          -81.32%        -531.408   True  BRAX11  \n",
       "39          -88.94%        -584.415   True  BBSD11  \n",
       "40          -94.14%        -615.237   True  BRAX11  \n",
       "41          -94.81%        -623.027   True  BBSD11  "
      ]
     },
     "execution_count": 5,
     "metadata": {},
     "output_type": "execute_result"
    }
   ],
   "source": [
    "dflow[dflow['Ativo']]"
   ]
  },
  {
   "cell_type": "markdown",
   "metadata": {},
   "source": [
    "## Performance"
   ]
  },
  {
   "cell_type": "code",
   "execution_count": 6,
   "metadata": {},
   "outputs": [],
   "source": [
    "dnu = dflow[dflow['Meses'] > 0]\n",
    "dnu = dnu[dnu['Tipo'] == 'Nu']\n",
    "\n",
    "detf = dflow[dflow['Meses'] > 0]\n",
    "detf = detf[detf['Tipo'] != 'Nu']"
   ]
  },
  {
   "cell_type": "markdown",
   "metadata": {},
   "source": [
    "### Renda fixa"
   ]
  },
  {
   "cell_type": "code",
   "execution_count": 7,
   "metadata": {},
   "outputs": [
    {
     "data": {
      "text/html": [
       "<style  type=\"text/css\" >\n",
       "    #T_f60ac91e_7c31_11ea_b209_3cf862c21013 th {\n",
       "          font-size: 26px;\n",
       "    }    #T_f60ac91e_7c31_11ea_b209_3cf862c21013 td {\n",
       "          font-size: 28px;\n",
       "          text-align: center;\n",
       "    }</style><table id=\"T_f60ac91e_7c31_11ea_b209_3cf862c21013\" ><thead>    <tr>        <th class=\"col_heading level0 col0\" >Valor base</th>        <th class=\"col_heading level0 col1\" >Ganho atual</th>        <th class=\"col_heading level0 col2\" >Rendimento atual</th>        <th class=\"col_heading level0 col3\" >Ganho em 1 ano</th>        <th class=\"col_heading level0 col4\" >Rendimento anual</th>    </tr></thead><tbody>\n",
       "                <tr>\n",
       "                                <td id=\"T_f60ac91e_7c31_11ea_b209_3cf862c21013row0_col0\" class=\"data row0 col0\" >26128.4</td>\n",
       "                        <td id=\"T_f60ac91e_7c31_11ea_b209_3cf862c21013row0_col1\" class=\"data row0 col1\" >300.69</td>\n",
       "                        <td id=\"T_f60ac91e_7c31_11ea_b209_3cf862c21013row0_col2\" class=\"data row0 col2\" >0.25%</td>\n",
       "                        <td id=\"T_f60ac91e_7c31_11ea_b209_3cf862c21013row0_col3\" class=\"data row0 col3\" >741.674</td>\n",
       "                        <td id=\"T_f60ac91e_7c31_11ea_b209_3cf862c21013row0_col4\" class=\"data row0 col4\" >2.84%</td>\n",
       "            </tr>\n",
       "    </tbody></table>"
      ],
      "text/plain": [
       "<pandas.io.formats.style.Styler at 0x2bcddfc6240>"
      ]
     },
     "execution_count": 7,
     "metadata": {},
     "output_type": "execute_result"
    }
   ],
   "source": [
    "p.change_df_prop(f.calc_flows_overview(dnu), 28)"
   ]
  },
  {
   "cell_type": "markdown",
   "metadata": {},
   "source": [
    "### Renda Variável"
   ]
  },
  {
   "cell_type": "code",
   "execution_count": 8,
   "metadata": {},
   "outputs": [
    {
     "data": {
      "text/html": [
       "<style  type=\"text/css\" >\n",
       "    #T_f60d1324_7c31_11ea_b9df_3cf862c21013 th {\n",
       "          font-size: 26px;\n",
       "    }    #T_f60d1324_7c31_11ea_b9df_3cf862c21013 td {\n",
       "          font-size: 28px;\n",
       "          text-align: center;\n",
       "    }</style><table id=\"T_f60d1324_7c31_11ea_b9df_3cf862c21013\" ><thead>    <tr>        <th class=\"col_heading level0 col0\" >Valor base</th>        <th class=\"col_heading level0 col1\" >Ganho atual</th>        <th class=\"col_heading level0 col2\" >Rendimento atual</th>        <th class=\"col_heading level0 col3\" >Ganho em 1 ano</th>        <th class=\"col_heading level0 col4\" >Rendimento anual</th>    </tr></thead><tbody>\n",
       "                <tr>\n",
       "                                <td id=\"T_f60d1324_7c31_11ea_b9df_3cf862c21013row0_col0\" class=\"data row0 col0\" >9820.1</td>\n",
       "                        <td id=\"T_f60d1324_7c31_11ea_b9df_3cf862c21013row0_col1\" class=\"data row0 col1\" >-1290.3</td>\n",
       "                        <td id=\"T_f60d1324_7c31_11ea_b9df_3cf862c21013row0_col2\" class=\"data row0 col2\" >-11.61%</td>\n",
       "                        <td id=\"T_f60d1324_7c31_11ea_b9df_3cf862c21013row0_col3\" class=\"data row0 col3\" >-1785.89</td>\n",
       "                        <td id=\"T_f60d1324_7c31_11ea_b9df_3cf862c21013row0_col4\" class=\"data row0 col4\" >-18.19%</td>\n",
       "            </tr>\n",
       "    </tbody></table>"
      ],
      "text/plain": [
       "<pandas.io.formats.style.Styler at 0x2bcde314940>"
      ]
     },
     "execution_count": 8,
     "metadata": {},
     "output_type": "execute_result"
    }
   ],
   "source": [
    "p.change_df_prop(f.calc_flows_overview(detf), 28)"
   ]
  },
  {
   "cell_type": "markdown",
   "metadata": {},
   "source": [
    "### Mensal"
   ]
  },
  {
   "cell_type": "code",
   "execution_count": 9,
   "metadata": {
    "collapsed": true
   },
   "outputs": [
    {
     "name": "stdout",
     "output_type": "stream",
     "text": [
      "This is the format of your plot grid:\n",
      "[ (1,1) x1,y1 ]\n",
      "\n",
      "This is the format of your plot grid:\n",
      "[ (1,1) x1,y1 ]\n",
      "\n"
     ]
    }
   ],
   "source": [
    "fig_prof = p.make_fig()\n",
    "fig_prof_total = p.make_fig()"
   ]
  },
  {
   "cell_type": "code",
   "execution_count": 10,
   "metadata": {},
   "outputs": [],
   "source": [
    "dret = d.pivot_agg(f.calc_flow_gains(dinvest[dinvest['Tipo'] != 'Cash']), val='ValorDelta', idx='Data', col='Tipo', agg={'ValorDelta':np.sum})\n",
    "dret['Portfolio'] = dret.sum(axis=1)\n",
    "cols = dret.columns[1:]\n",
    "for c in cols:\n",
    "    dret = d.window(dret, val=c)"
   ]
  },
  {
   "cell_type": "code",
   "execution_count": 11,
   "metadata": {},
   "outputs": [
    {
     "data": {
      "application/vnd.jupyter.widget-view+json": {
       "model_id": "63e45b7d9882498fa92fb409455a2e5b",
       "version_major": 2,
       "version_minor": 0
      },
      "text/plain": [
       "FigureWidget({\n",
       "    'data': [{'hoverinfo': 'name+y',\n",
       "              'marker': {'color': '#13E881'},\n",
       "            …"
      ]
     },
     "metadata": {},
     "output_type": "display_data"
    }
   ],
   "source": [
    "palette1 = {'Portfolio': lcolors[0], 'BRAX11': lcolors[2], 'IVVB11': lcolors[0], 'BBSD11': lcolors[1], 'Cash': lcolors[4]}\n",
    "palette2 = {'PortfolioAvg': dcolors[0], 'BRAX11Avg': dcolors[2], 'IVVB11Avg': dcolors[0], 'BBSD11Avg': dcolors[1], 'Cash': dcolors[4]}\n",
    "p.plot(dret, x='Data', fig=fig_prof_total, palette=palette1, y=dret.columns[5:6], plot_type='bar')\n",
    "p.plot(dret, x='Data', fig=fig_prof_total, palette=palette2, y=dret.columns[10:11], name=['Portfolio médio'])"
   ]
  }
 ],
 "metadata": {
  "kernelspec": {
   "display_name": "Python 3",
   "language": "python",
   "name": "python3"
  },
  "language_info": {
   "codemirror_mode": {
    "name": "ipython",
    "version": 3
   },
   "file_extension": ".py",
   "mimetype": "text/x-python",
   "name": "python",
   "nbconvert_exporter": "python",
   "pygments_lexer": "ipython3",
   "version": "3.7.3"
  }
 },
 "nbformat": 4,
 "nbformat_minor": 2
}
