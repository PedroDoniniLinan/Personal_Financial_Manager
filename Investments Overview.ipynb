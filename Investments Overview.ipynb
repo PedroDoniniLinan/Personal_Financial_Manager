{
 "cells": [
  {
   "cell_type": "markdown",
   "metadata": {},
   "source": [
    "# Gerenciador de investimentos"
   ]
  },
  {
   "cell_type": "markdown",
   "metadata": {},
   "source": [
    "Bibliotecas e opções"
   ]
  },
  {
   "cell_type": "code",
   "execution_count": 1,
   "metadata": {},
   "outputs": [],
   "source": [
    "import numpy as np\n",
    "import pandas as pd\n",
    "import datetime as dt\n",
    "import seaborn as sns\n",
    "from plotly import tools\n",
    "import plotly.graph_objs as go\n",
    "from lib import lib as l"
   ]
  },
  {
   "cell_type": "code",
   "execution_count": 2,
   "metadata": {},
   "outputs": [],
   "source": [
    "pd.set_option('display.float_format', lambda x: '%.3f' % x)\n",
    "lcolors = np.array(['#13E881', '#FF5949', '#FFB84C', '#A7BEFA'])\n",
    "dcolors = np.array(['#268040', '#800B00', '#A13808', '#464CC2'])"
   ]
  },
  {
   "cell_type": "markdown",
   "metadata": {},
   "source": [
    "## Leitura dos dados"
   ]
  },
  {
   "cell_type": "code",
   "execution_count": 3,
   "metadata": {},
   "outputs": [],
   "source": [
    "df = pd.read_csv('br_invest.csv')\n",
    "df['Data'] = df['Data'].apply(lambda x : dt.datetime.strptime(str(x),'%d/%m/%y').date())"
   ]
  },
  {
   "cell_type": "code",
   "execution_count": 18,
   "metadata": {},
   "outputs": [],
   "source": [
    "dport = pd.read_csv('br_portfolio.csv')\n",
    "dport['Date'] = dport['Date'].apply(lambda x : dt.datetime.strptime(str(x),'%d/%m/%y').date())\n",
    "dprices = pd.read_csv('br_prices.csv')\n",
    "di = l.generate_invest_table(dport, dprices)\n",
    "dinvest = pd.concat([df, di]).reset_index(drop=True)"
   ]
  },
  {
   "cell_type": "markdown",
   "metadata": {},
   "source": [
    "## Fluxos de investimentos"
   ]
  },
  {
   "cell_type": "markdown",
   "metadata": {},
   "source": [
    "### Histórico de fluxos"
   ]
  },
  {
   "cell_type": "code",
   "execution_count": 19,
   "metadata": {},
   "outputs": [
    {
     "data": {
      "text/html": [
       "<div>\n",
       "<style scoped>\n",
       "    .dataframe tbody tr th:only-of-type {\n",
       "        vertical-align: middle;\n",
       "    }\n",
       "\n",
       "    .dataframe tbody tr th {\n",
       "        vertical-align: top;\n",
       "    }\n",
       "\n",
       "    .dataframe thead th {\n",
       "        text-align: right;\n",
       "    }\n",
       "</style>\n",
       "<table border=\"1\" class=\"dataframe\">\n",
       "  <thead>\n",
       "    <tr style=\"text-align: right;\">\n",
       "      <th></th>\n",
       "      <th>ID</th>\n",
       "      <th>Valor inicial</th>\n",
       "      <th>Ganho</th>\n",
       "      <th>Meses</th>\n",
       "      <th>Rendimento</th>\n",
       "      <th>Rendimento mensal</th>\n",
       "      <th>Rendimento anual</th>\n",
       "      <th>Ganho em 1 ano</th>\n",
       "      <th>Ativo</th>\n",
       "      <th>Tipo</th>\n",
       "    </tr>\n",
       "  </thead>\n",
       "  <tbody>\n",
       "    <tr>\n",
       "      <th>0</th>\n",
       "      <td>100.000</td>\n",
       "      <td>1308.000</td>\n",
       "      <td>94.100</td>\n",
       "      <td>2.000</td>\n",
       "      <td>7.19%</td>\n",
       "      <td>3.53%</td>\n",
       "      <td>51.54%</td>\n",
       "      <td>722.670</td>\n",
       "      <td>True</td>\n",
       "      <td>IVVB11</td>\n",
       "    </tr>\n",
       "    <tr>\n",
       "      <th>1</th>\n",
       "      <td>5.100</td>\n",
       "      <td>1059.610</td>\n",
       "      <td>2.300</td>\n",
       "      <td>0.492</td>\n",
       "      <td>0.22%</td>\n",
       "      <td>0.44%</td>\n",
       "      <td>5.42%</td>\n",
       "      <td>57.532</td>\n",
       "      <td>True</td>\n",
       "      <td>Nu</td>\n",
       "    </tr>\n",
       "    <tr>\n",
       "      <th>2</th>\n",
       "      <td>1.000</td>\n",
       "      <td>12491.070</td>\n",
       "      <td>48.940</td>\n",
       "      <td>1.115</td>\n",
       "      <td>0.39%</td>\n",
       "      <td>0.35%</td>\n",
       "      <td>4.29%</td>\n",
       "      <td>537.618</td>\n",
       "      <td>False</td>\n",
       "      <td>Nu</td>\n",
       "    </tr>\n",
       "    <tr>\n",
       "      <th>3</th>\n",
       "      <td>3.100</td>\n",
       "      <td>1989.970</td>\n",
       "      <td>9.020</td>\n",
       "      <td>1.311</td>\n",
       "      <td>0.45%</td>\n",
       "      <td>0.35%</td>\n",
       "      <td>4.21%</td>\n",
       "      <td>84.220</td>\n",
       "      <td>True</td>\n",
       "      <td>Nu</td>\n",
       "    </tr>\n",
       "    <tr>\n",
       "      <th>4</th>\n",
       "      <td>2.000</td>\n",
       "      <td>715.200</td>\n",
       "      <td>2.270</td>\n",
       "      <td>0.951</td>\n",
       "      <td>0.32%</td>\n",
       "      <td>0.33%</td>\n",
       "      <td>4.07%</td>\n",
       "      <td>29.194</td>\n",
       "      <td>False</td>\n",
       "      <td>Nu</td>\n",
       "    </tr>\n",
       "    <tr>\n",
       "      <th>5</th>\n",
       "      <td>4.100</td>\n",
       "      <td>10.100</td>\n",
       "      <td>0.020</td>\n",
       "      <td>0.623</td>\n",
       "      <td>0.2%</td>\n",
       "      <td>0.32%</td>\n",
       "      <td>3.87%</td>\n",
       "      <td>0.392</td>\n",
       "      <td>False</td>\n",
       "      <td>Nu</td>\n",
       "    </tr>\n",
       "    <tr>\n",
       "      <th>6</th>\n",
       "      <td>1.100</td>\n",
       "      <td>10940.620</td>\n",
       "      <td>57.890</td>\n",
       "      <td>1.770</td>\n",
       "      <td>0.53%</td>\n",
       "      <td>0.3%</td>\n",
       "      <td>3.63%</td>\n",
       "      <td>399.408</td>\n",
       "      <td>True</td>\n",
       "      <td>Nu</td>\n",
       "    </tr>\n",
       "    <tr>\n",
       "      <th>7</th>\n",
       "      <td>3.000</td>\n",
       "      <td>2002.290</td>\n",
       "      <td>1.620</td>\n",
       "      <td>0.459</td>\n",
       "      <td>0.08%</td>\n",
       "      <td>0.18%</td>\n",
       "      <td>2.13%</td>\n",
       "      <td>42.701</td>\n",
       "      <td>False</td>\n",
       "      <td>Nu</td>\n",
       "    </tr>\n",
       "    <tr>\n",
       "      <th>8</th>\n",
       "      <td>102.000</td>\n",
       "      <td>1390.300</td>\n",
       "      <td>11.800</td>\n",
       "      <td>0.590</td>\n",
       "      <td>0.85%</td>\n",
       "      <td>1.44%</td>\n",
       "      <td>18.69%</td>\n",
       "      <td>262.109</td>\n",
       "      <td>True</td>\n",
       "      <td>IVVB11</td>\n",
       "    </tr>\n",
       "    <tr>\n",
       "      <th>9</th>\n",
       "      <td>101.000</td>\n",
       "      <td>875.000</td>\n",
       "      <td>85.500</td>\n",
       "      <td>1.508</td>\n",
       "      <td>9.77%</td>\n",
       "      <td>6.38%</td>\n",
       "      <td>109.54%</td>\n",
       "      <td>1052.164</td>\n",
       "      <td>True</td>\n",
       "      <td>BRAX11</td>\n",
       "    </tr>\n",
       "    <tr>\n",
       "      <th>10</th>\n",
       "      <td>4.000</td>\n",
       "      <td>880.000</td>\n",
       "      <td>0.370</td>\n",
       "      <td>0.393</td>\n",
       "      <td>0.04%</td>\n",
       "      <td>0.11%</td>\n",
       "      <td>1.29%</td>\n",
       "      <td>11.329</td>\n",
       "      <td>False</td>\n",
       "      <td>Nu</td>\n",
       "    </tr>\n",
       "    <tr>\n",
       "      <th>11</th>\n",
       "      <td>6.000</td>\n",
       "      <td>846.360</td>\n",
       "      <td>0.290</td>\n",
       "      <td>0.361</td>\n",
       "      <td>0.03%</td>\n",
       "      <td>0.1%</td>\n",
       "      <td>1.14%</td>\n",
       "      <td>9.679</td>\n",
       "      <td>True</td>\n",
       "      <td>Nu</td>\n",
       "    </tr>\n",
       "  </tbody>\n",
       "</table>\n",
       "</div>"
      ],
      "text/plain": [
       "        ID  Valor inicial  Ganho  Meses Rendimento Rendimento mensal  \\\n",
       "0  100.000       1308.000 94.100  2.000      7.19%             3.53%   \n",
       "1    5.100       1059.610  2.300  0.492      0.22%             0.44%   \n",
       "2    1.000      12491.070 48.940  1.115      0.39%             0.35%   \n",
       "3    3.100       1989.970  9.020  1.311      0.45%             0.35%   \n",
       "4    2.000        715.200  2.270  0.951      0.32%             0.33%   \n",
       "5    4.100         10.100  0.020  0.623       0.2%             0.32%   \n",
       "6    1.100      10940.620 57.890  1.770      0.53%              0.3%   \n",
       "7    3.000       2002.290  1.620  0.459      0.08%             0.18%   \n",
       "8  102.000       1390.300 11.800  0.590      0.85%             1.44%   \n",
       "9  101.000        875.000 85.500  1.508      9.77%             6.38%   \n",
       "10   4.000        880.000  0.370  0.393      0.04%             0.11%   \n",
       "11   6.000        846.360  0.290  0.361      0.03%              0.1%   \n",
       "\n",
       "   Rendimento anual  Ganho em 1 ano  Ativo    Tipo  \n",
       "0            51.54%         722.670   True  IVVB11  \n",
       "1             5.42%          57.532   True      Nu  \n",
       "2             4.29%         537.618  False      Nu  \n",
       "3             4.21%          84.220   True      Nu  \n",
       "4             4.07%          29.194  False      Nu  \n",
       "5             3.87%           0.392  False      Nu  \n",
       "6             3.63%         399.408   True      Nu  \n",
       "7             2.13%          42.701  False      Nu  \n",
       "8            18.69%         262.109   True  IVVB11  \n",
       "9           109.54%        1052.164   True  BRAX11  \n",
       "10            1.29%          11.329  False      Nu  \n",
       "11            1.14%           9.679   True      Nu  "
      ]
     },
     "execution_count": 19,
     "metadata": {},
     "output_type": "execute_result"
    }
   ],
   "source": [
    "dflow = dinvest.groupby('ID').apply(l.calc_flows)\n",
    "dflow = dflow.reset_index(level=[0, 1])\n",
    "dflow.pop('level_1')\n",
    "dflow = dflow.sort_values(by=['Rendimento anual'], ascending=False).reset_index(drop=True)\n",
    "dflow"
   ]
  },
  {
   "cell_type": "markdown",
   "metadata": {},
   "source": [
    "### Fluxos ativos"
   ]
  },
  {
   "cell_type": "code",
   "execution_count": 20,
   "metadata": {},
   "outputs": [
    {
     "data": {
      "text/html": [
       "<div>\n",
       "<style scoped>\n",
       "    .dataframe tbody tr th:only-of-type {\n",
       "        vertical-align: middle;\n",
       "    }\n",
       "\n",
       "    .dataframe tbody tr th {\n",
       "        vertical-align: top;\n",
       "    }\n",
       "\n",
       "    .dataframe thead th {\n",
       "        text-align: right;\n",
       "    }\n",
       "</style>\n",
       "<table border=\"1\" class=\"dataframe\">\n",
       "  <thead>\n",
       "    <tr style=\"text-align: right;\">\n",
       "      <th></th>\n",
       "      <th>ID</th>\n",
       "      <th>Valor inicial</th>\n",
       "      <th>Ganho</th>\n",
       "      <th>Meses</th>\n",
       "      <th>Rendimento</th>\n",
       "      <th>Rendimento mensal</th>\n",
       "      <th>Rendimento anual</th>\n",
       "      <th>Ganho em 1 ano</th>\n",
       "      <th>Ativo</th>\n",
       "      <th>Tipo</th>\n",
       "    </tr>\n",
       "  </thead>\n",
       "  <tbody>\n",
       "    <tr>\n",
       "      <th>0</th>\n",
       "      <td>100.000</td>\n",
       "      <td>1308.000</td>\n",
       "      <td>94.100</td>\n",
       "      <td>2.000</td>\n",
       "      <td>7.19%</td>\n",
       "      <td>3.53%</td>\n",
       "      <td>51.54%</td>\n",
       "      <td>722.670</td>\n",
       "      <td>True</td>\n",
       "      <td>IVVB11</td>\n",
       "    </tr>\n",
       "    <tr>\n",
       "      <th>1</th>\n",
       "      <td>5.100</td>\n",
       "      <td>1059.610</td>\n",
       "      <td>2.300</td>\n",
       "      <td>0.492</td>\n",
       "      <td>0.22%</td>\n",
       "      <td>0.44%</td>\n",
       "      <td>5.42%</td>\n",
       "      <td>57.532</td>\n",
       "      <td>True</td>\n",
       "      <td>Nu</td>\n",
       "    </tr>\n",
       "    <tr>\n",
       "      <th>3</th>\n",
       "      <td>3.100</td>\n",
       "      <td>1989.970</td>\n",
       "      <td>9.020</td>\n",
       "      <td>1.311</td>\n",
       "      <td>0.45%</td>\n",
       "      <td>0.35%</td>\n",
       "      <td>4.21%</td>\n",
       "      <td>84.220</td>\n",
       "      <td>True</td>\n",
       "      <td>Nu</td>\n",
       "    </tr>\n",
       "    <tr>\n",
       "      <th>6</th>\n",
       "      <td>1.100</td>\n",
       "      <td>10940.620</td>\n",
       "      <td>57.890</td>\n",
       "      <td>1.770</td>\n",
       "      <td>0.53%</td>\n",
       "      <td>0.3%</td>\n",
       "      <td>3.63%</td>\n",
       "      <td>399.408</td>\n",
       "      <td>True</td>\n",
       "      <td>Nu</td>\n",
       "    </tr>\n",
       "    <tr>\n",
       "      <th>8</th>\n",
       "      <td>102.000</td>\n",
       "      <td>1390.300</td>\n",
       "      <td>11.800</td>\n",
       "      <td>0.590</td>\n",
       "      <td>0.85%</td>\n",
       "      <td>1.44%</td>\n",
       "      <td>18.69%</td>\n",
       "      <td>262.109</td>\n",
       "      <td>True</td>\n",
       "      <td>IVVB11</td>\n",
       "    </tr>\n",
       "    <tr>\n",
       "      <th>9</th>\n",
       "      <td>101.000</td>\n",
       "      <td>875.000</td>\n",
       "      <td>85.500</td>\n",
       "      <td>1.508</td>\n",
       "      <td>9.77%</td>\n",
       "      <td>6.38%</td>\n",
       "      <td>109.54%</td>\n",
       "      <td>1052.164</td>\n",
       "      <td>True</td>\n",
       "      <td>BRAX11</td>\n",
       "    </tr>\n",
       "    <tr>\n",
       "      <th>11</th>\n",
       "      <td>6.000</td>\n",
       "      <td>846.360</td>\n",
       "      <td>0.290</td>\n",
       "      <td>0.361</td>\n",
       "      <td>0.03%</td>\n",
       "      <td>0.1%</td>\n",
       "      <td>1.14%</td>\n",
       "      <td>9.679</td>\n",
       "      <td>True</td>\n",
       "      <td>Nu</td>\n",
       "    </tr>\n",
       "  </tbody>\n",
       "</table>\n",
       "</div>"
      ],
      "text/plain": [
       "        ID  Valor inicial  Ganho  Meses Rendimento Rendimento mensal  \\\n",
       "0  100.000       1308.000 94.100  2.000      7.19%             3.53%   \n",
       "1    5.100       1059.610  2.300  0.492      0.22%             0.44%   \n",
       "3    3.100       1989.970  9.020  1.311      0.45%             0.35%   \n",
       "6    1.100      10940.620 57.890  1.770      0.53%              0.3%   \n",
       "8  102.000       1390.300 11.800  0.590      0.85%             1.44%   \n",
       "9  101.000        875.000 85.500  1.508      9.77%             6.38%   \n",
       "11   6.000        846.360  0.290  0.361      0.03%              0.1%   \n",
       "\n",
       "   Rendimento anual  Ganho em 1 ano  Ativo    Tipo  \n",
       "0            51.54%         722.670   True  IVVB11  \n",
       "1             5.42%          57.532   True      Nu  \n",
       "3             4.21%          84.220   True      Nu  \n",
       "6             3.63%         399.408   True      Nu  \n",
       "8            18.69%         262.109   True  IVVB11  \n",
       "9           109.54%        1052.164   True  BRAX11  \n",
       "11            1.14%           9.679   True      Nu  "
      ]
     },
     "execution_count": 20,
     "metadata": {},
     "output_type": "execute_result"
    }
   ],
   "source": [
    "dflow[dflow['Ativo']]"
   ]
  },
  {
   "cell_type": "markdown",
   "metadata": {},
   "source": [
    "## Performance"
   ]
  },
  {
   "cell_type": "code",
   "execution_count": 21,
   "metadata": {},
   "outputs": [],
   "source": [
    "dnu = dflow[dflow['Meses'] > 0]\n",
    "dnu = dnu[dnu['Tipo'] == 'Nu']\n",
    "\n",
    "detf = dflow[dflow['Meses'] > 0]\n",
    "detf = detf[detf['Tipo'] != 'Nu']"
   ]
  },
  {
   "cell_type": "markdown",
   "metadata": {},
   "source": [
    "### Renda fixa"
   ]
  },
  {
   "cell_type": "code",
   "execution_count": 23,
   "metadata": {},
   "outputs": [
    {
     "data": {
      "text/html": [
       "<style  type=\"text/css\" >\n",
       "    #T_a5666e9c_2b1c_11ea_9203_3cf862c21013 th {\n",
       "          font-size: 26px;\n",
       "    }    #T_a5666e9c_2b1c_11ea_9203_3cf862c21013 td {\n",
       "          font-size: 28px;\n",
       "          text-align: center;\n",
       "    }</style><table id=\"T_a5666e9c_2b1c_11ea_9203_3cf862c21013\" ><thead>    <tr>        <th class=\"col_heading level0 col0\" >Valor atual</th>        <th class=\"col_heading level0 col1\" >Ganho atual</th>        <th class=\"col_heading level0 col2\" >Rendimento atual</th>        <th class=\"col_heading level0 col3\" >Ganho em 1 ano</th>        <th class=\"col_heading level0 col4\" >Rendimento anual</th>    </tr></thead><tbody>\n",
       "                <tr>\n",
       "                                <td id=\"T_a5666e9c_2b1c_11ea_9203_3cf862c21013row0_col0\" class=\"data row0 col0\" >14906.1</td>\n",
       "                        <td id=\"T_a5666e9c_2b1c_11ea_9203_3cf862c21013row0_col1\" class=\"data row0 col1\" >122.72</td>\n",
       "                        <td id=\"T_a5666e9c_2b1c_11ea_9203_3cf862c21013row0_col2\" class=\"data row0 col2\" >0.4%</td>\n",
       "                        <td id=\"T_a5666e9c_2b1c_11ea_9203_3cf862c21013row0_col3\" class=\"data row0 col3\" >550.839</td>\n",
       "                        <td id=\"T_a5666e9c_2b1c_11ea_9203_3cf862c21013row0_col4\" class=\"data row0 col4\" >3.7%</td>\n",
       "            </tr>\n",
       "    </tbody></table>"
      ],
      "text/plain": [
       "<pandas.io.formats.style.Styler at 0x23232d4a208>"
      ]
     },
     "execution_count": 23,
     "metadata": {},
     "output_type": "execute_result"
    }
   ],
   "source": [
    "gain = dnu['Ganho'].sum()\n",
    "value = dnu[dnu['Ativo']]['Valor inicial'].sum() + dnu[dnu['Ativo']]['Ganho'].sum()\n",
    "total_yield = gain / dnu['Valor inicial'].sum()\n",
    "year_profit = dnu[dnu['Ativo']]['Ganho em 1 ano'].sum()\n",
    "annual_yield = year_profit / value\n",
    "dav = pd.DataFrame([[value, gain, l.int2pct(total_yield), year_profit, l.int2pct(annual_yield)]], \n",
    "                   columns=['Valor atual', 'Ganho atual', 'Rendimento atual', 'Ganho em 1 ano', 'Rendimento anual'])\n",
    "dav = l.change_df_prop(dav, 28)\n",
    "dav"
   ]
  },
  {
   "cell_type": "markdown",
   "metadata": {},
   "source": [
    "### Renda Variável"
   ]
  },
  {
   "cell_type": "code",
   "execution_count": 14,
   "metadata": {},
   "outputs": [
    {
     "data": {
      "text/html": [
       "<style  type=\"text/css\" >\n",
       "    #T_09853758_2b1a_11ea_aacb_3cf862c21013 th {\n",
       "          font-size: 26px;\n",
       "    }    #T_09853758_2b1a_11ea_aacb_3cf862c21013 td {\n",
       "          font-size: 28px;\n",
       "          text-align: center;\n",
       "    }</style><table id=\"T_09853758_2b1a_11ea_aacb_3cf862c21013\" ><thead>    <tr>        <th class=\"col_heading level0 col0\" >Valor atual</th>        <th class=\"col_heading level0 col1\" >Ganho atual</th>        <th class=\"col_heading level0 col2\" >Rendimento atual</th>        <th class=\"col_heading level0 col3\" >Ganho em 1 ano</th>        <th class=\"col_heading level0 col4\" >Rendimento anual</th>    </tr></thead><tbody>\n",
       "                <tr>\n",
       "                                <td id=\"T_09853758_2b1a_11ea_aacb_3cf862c21013row0_col0\" class=\"data row0 col0\" >3764.7</td>\n",
       "                        <td id=\"T_09853758_2b1a_11ea_aacb_3cf862c21013row0_col1\" class=\"data row0 col1\" >191.4</td>\n",
       "                        <td id=\"T_09853758_2b1a_11ea_aacb_3cf862c21013row0_col2\" class=\"data row0 col2\" >5.36%</td>\n",
       "                        <td id=\"T_09853758_2b1a_11ea_aacb_3cf862c21013row0_col3\" class=\"data row0 col3\" >2036.94</td>\n",
       "                        <td id=\"T_09853758_2b1a_11ea_aacb_3cf862c21013row0_col4\" class=\"data row0 col4\" >54.11%</td>\n",
       "            </tr>\n",
       "    </tbody></table>"
      ],
      "text/plain": [
       "<pandas.io.formats.style.Styler at 0x232300942e8>"
      ]
     },
     "execution_count": 14,
     "metadata": {},
     "output_type": "execute_result"
    }
   ],
   "source": [
    "gain = detf['Ganho'].sum()\n",
    "value = detf[detf['Ativo']]['Valor inicial'].sum() + gain\n",
    "total_yield = gain / detf['Valor inicial'].sum()\n",
    "year_profit = detf[detf['Ativo']]['Ganho em 1 ano'].sum()\n",
    "annual_yield = year_profit / value\n",
    "dav = pd.DataFrame([[value, gain, l.int2pct(total_yield), year_profit, l.int2pct(annual_yield)]], \n",
    "                   columns=['Valor atual', 'Ganho atual', 'Rendimento atual', 'Ganho em 1 ano', 'Rendimento anual'])\n",
    "dav = l.change_df_prop(dav, 28)\n",
    "dav"
   ]
  },
  {
   "cell_type": "markdown",
   "metadata": {},
   "source": [
    "### Mensal"
   ]
  },
  {
   "cell_type": "code",
   "execution_count": 15,
   "metadata": {},
   "outputs": [],
   "source": [
    "dret = l.group_sum(l.calc_flow_gains(dinvest), group=['Tipo'], date='month').fillna(0)\n",
    "dret['Total'] = dret.sum(axis=1)\n",
    "cols = dret.columns\n",
    "for c in cols:\n",
    "    dret = l.window_mean(dret, c)"
   ]
  },
  {
   "cell_type": "code",
   "execution_count": 16,
   "metadata": {},
   "outputs": [
    {
     "data": {
      "application/vnd.jupyter.widget-view+json": {
       "model_id": "ff53bea6c5ad42ab893058429fc85f3d",
       "version_major": 2,
       "version_minor": 0
      },
      "text/plain": [
       "FigureWidget({\n",
       "    'data': [{'marker': {'color': '#FFB84C'},\n",
       "              'name': 'Retorno (BRAX11)',\n",
       "       …"
      ]
     },
     "metadata": {},
     "output_type": "display_data"
    }
   ],
   "source": [
    "fig = go.FigureWidget()\n",
    "palette1 = {'Nu': lcolors[3], 'BRAX11': lcolors[2], 'IVVB11': lcolors[0]}\n",
    "palette2 = {'Nu': dcolors[3], 'BRAX11': dcolors[2], 'IVVB11': dcolors[0]}\n",
    "for c in cols:\n",
    "    if c == 'Total':\n",
    "        continue\n",
    "    fig = l.plot_bar(dret, fig=fig,  y=c, color=palette1[c], name='Retorno (' + c + ')')\n",
    "    fig = l.plot_line(dret, fig=fig, y=(c+'Avg'), color=palette2[c], name='Retorno médio (' + c + ')')\n",
    "fig"
   ]
  },
  {
   "cell_type": "code",
   "execution_count": 17,
   "metadata": {},
   "outputs": [
    {
     "data": {
      "application/vnd.jupyter.widget-view+json": {
       "model_id": "11a9f6e23aac4b64bb80b3673e15dfd9",
       "version_major": 2,
       "version_minor": 0
      },
      "text/plain": [
       "FigureWidget({\n",
       "    'data': [{'marker': {'color': '#13E881'},\n",
       "              'name': 'Retorno',\n",
       "              't…"
      ]
     },
     "metadata": {},
     "output_type": "display_data"
    }
   ],
   "source": [
    "fig = l.plot_bar(dret, y='Total', color=lcolors[0], name='Retorno')\n",
    "l.plot_line(dret, fig=fig, y='TotalAvg', color=dcolors[0], name='Retorno médio')"
   ]
  }
 ],
 "metadata": {
  "kernelspec": {
   "display_name": "Python 3",
   "language": "python",
   "name": "python3"
  },
  "language_info": {
   "codemirror_mode": {
    "name": "ipython",
    "version": 3
   },
   "file_extension": ".py",
   "mimetype": "text/x-python",
   "name": "python",
   "nbconvert_exporter": "python",
   "pygments_lexer": "ipython3",
   "version": "3.7.3"
  }
 },
 "nbformat": 4,
 "nbformat_minor": 2
}
