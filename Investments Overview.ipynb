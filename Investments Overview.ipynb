{
 "cells": [
  {
   "cell_type": "markdown",
   "metadata": {},
   "source": [
    "# Gerenciador de investimentos"
   ]
  },
  {
   "cell_type": "code",
   "execution_count": 1,
   "metadata": {},
   "outputs": [],
   "source": [
    "import numpy as np\n",
    "import pandas as pd\n",
    "import datetime as dt\n",
    "import seaborn as sns\n",
    "from plotly import tools\n",
    "import plotly.graph_objs as go\n",
    "# from lib import lib as l\n",
    "from lib import plot as p\n",
    "from lib import data as d\n",
    "from lib import finance as f"
   ]
  },
  {
   "cell_type": "code",
   "execution_count": 2,
   "metadata": {},
   "outputs": [],
   "source": [
    "pd.set_option('display.float_format', lambda x: '%.3f' % x)\n",
    "lcolors = np.array(['#13E881', '#FF5949', '#FFB84C', '#A7BEFA', '#27FEFA'])\n",
    "dcolors = np.array(['#268040', '#800B00', '#A13808', '#464CC2', '#162CF2'])"
   ]
  },
  {
   "cell_type": "markdown",
   "metadata": {},
   "source": [
    "## Leitura dos dados"
   ]
  },
  {
   "cell_type": "code",
   "execution_count": 3,
   "metadata": {},
   "outputs": [],
   "source": [
    "dinv, dport, dport_inv, dprices = f.read_invest()\n",
    "dinvest = pd.concat([dinv, dport_inv]).reset_index(drop=True)"
   ]
  },
  {
   "cell_type": "markdown",
   "metadata": {},
   "source": [
    "## Fluxos de investimentos"
   ]
  },
  {
   "cell_type": "markdown",
   "metadata": {},
   "source": [
    "### Histórico de fluxos"
   ]
  },
  {
   "cell_type": "code",
   "execution_count": 4,
   "metadata": {},
   "outputs": [],
   "source": [
    "dflow = dinvest.groupby('ID').apply(f.calc_flows)\n",
    "dflow = dflow.reset_index(level=[0, 1])\n",
    "dflow.pop('level_1')\n",
    "dflow['Rend'] = dflow['Rendimento anual'].apply(d.pct2int)\n",
    "dflow = dflow.sort_values(by=['Rend'], ascending=False).reset_index(drop=True)\n",
    "a = dflow.pop('Rend')"
   ]
  },
  {
   "cell_type": "markdown",
   "metadata": {},
   "source": [
    "### Fluxos ativos"
   ]
  },
  {
   "cell_type": "code",
   "execution_count": 5,
   "metadata": {},
   "outputs": [
    {
     "data": {
      "text/html": [
       "<div>\n",
       "<style scoped>\n",
       "    .dataframe tbody tr th:only-of-type {\n",
       "        vertical-align: middle;\n",
       "    }\n",
       "\n",
       "    .dataframe tbody tr th {\n",
       "        vertical-align: top;\n",
       "    }\n",
       "\n",
       "    .dataframe thead th {\n",
       "        text-align: right;\n",
       "    }\n",
       "</style>\n",
       "<table border=\"1\" class=\"dataframe\">\n",
       "  <thead>\n",
       "    <tr style=\"text-align: right;\">\n",
       "      <th></th>\n",
       "      <th>ID</th>\n",
       "      <th>Valor inicial</th>\n",
       "      <th>Ganho</th>\n",
       "      <th>Meses</th>\n",
       "      <th>Rendimento</th>\n",
       "      <th>Rendimento mensal</th>\n",
       "      <th>Rendimento anual</th>\n",
       "      <th>Ganho em 1 ano</th>\n",
       "      <th>Ativo</th>\n",
       "      <th>Tipo</th>\n",
       "    </tr>\n",
       "  </thead>\n",
       "  <tbody>\n",
       "    <tr>\n",
       "      <th>0</th>\n",
       "      <td>100.000</td>\n",
       "      <td>1308.000</td>\n",
       "      <td>86.000</td>\n",
       "      <td>4.918</td>\n",
       "      <td>6.57%</td>\n",
       "      <td>1.3%</td>\n",
       "      <td>16.76%</td>\n",
       "      <td>233.634</td>\n",
       "      <td>True</td>\n",
       "      <td>IVVB11</td>\n",
       "    </tr>\n",
       "    <tr>\n",
       "      <th>4</th>\n",
       "      <td>14.300</td>\n",
       "      <td>930.000</td>\n",
       "      <td>2.030</td>\n",
       "      <td>0.623</td>\n",
       "      <td>0.22%</td>\n",
       "      <td>0.35%</td>\n",
       "      <td>4.28%</td>\n",
       "      <td>39.869</td>\n",
       "      <td>True</td>\n",
       "      <td>Nu</td>\n",
       "    </tr>\n",
       "    <tr>\n",
       "      <th>9</th>\n",
       "      <td>1.200</td>\n",
       "      <td>10337.670</td>\n",
       "      <td>39.850</td>\n",
       "      <td>1.279</td>\n",
       "      <td>0.39%</td>\n",
       "      <td>0.3%</td>\n",
       "      <td>3.67%</td>\n",
       "      <td>380.482</td>\n",
       "      <td>True</td>\n",
       "      <td>Nu</td>\n",
       "    </tr>\n",
       "    <tr>\n",
       "      <th>13</th>\n",
       "      <td>13.000</td>\n",
       "      <td>10000.000</td>\n",
       "      <td>32.800</td>\n",
       "      <td>1.279</td>\n",
       "      <td>0.33%</td>\n",
       "      <td>0.26%</td>\n",
       "      <td>3.11%</td>\n",
       "      <td>312.237</td>\n",
       "      <td>True</td>\n",
       "      <td>Nu</td>\n",
       "    </tr>\n",
       "    <tr>\n",
       "      <th>19</th>\n",
       "      <td>15.000</td>\n",
       "      <td>3000.000</td>\n",
       "      <td>1.920</td>\n",
       "      <td>0.492</td>\n",
       "      <td>0.06%</td>\n",
       "      <td>0.13%</td>\n",
       "      <td>1.57%</td>\n",
       "      <td>47.101</td>\n",
       "      <td>True</td>\n",
       "      <td>Nu</td>\n",
       "    </tr>\n",
       "    <tr>\n",
       "      <th>23</th>\n",
       "      <td>102.000</td>\n",
       "      <td>1390.300</td>\n",
       "      <td>3.700</td>\n",
       "      <td>3.508</td>\n",
       "      <td>0.27%</td>\n",
       "      <td>0.08%</td>\n",
       "      <td>0.91%</td>\n",
       "      <td>12.696</td>\n",
       "      <td>True</td>\n",
       "      <td>IVVB11</td>\n",
       "    </tr>\n",
       "    <tr>\n",
       "      <th>31</th>\n",
       "      <td>109.000</td>\n",
       "      <td>6.700</td>\n",
       "      <td>0.000</td>\n",
       "      <td>1.836</td>\n",
       "      <td>0.0%</td>\n",
       "      <td>0.0%</td>\n",
       "      <td>0.0%</td>\n",
       "      <td>0.000</td>\n",
       "      <td>True</td>\n",
       "      <td>Cash</td>\n",
       "    </tr>\n",
       "    <tr>\n",
       "      <th>32</th>\n",
       "      <td>105.000</td>\n",
       "      <td>1478.000</td>\n",
       "      <td>-84.000</td>\n",
       "      <td>1.869</td>\n",
       "      <td>-5.68%</td>\n",
       "      <td>-3.08%</td>\n",
       "      <td>-31.25%</td>\n",
       "      <td>-435.617</td>\n",
       "      <td>True</td>\n",
       "      <td>IVVB11</td>\n",
       "    </tr>\n",
       "    <tr>\n",
       "      <th>33</th>\n",
       "      <td>101.000</td>\n",
       "      <td>875.000</td>\n",
       "      <td>-256.500</td>\n",
       "      <td>4.426</td>\n",
       "      <td>-29.31%</td>\n",
       "      <td>-7.54%</td>\n",
       "      <td>-60.86%</td>\n",
       "      <td>-376.410</td>\n",
       "      <td>True</td>\n",
       "      <td>BRAX11</td>\n",
       "    </tr>\n",
       "    <tr>\n",
       "      <th>34</th>\n",
       "      <td>103.000</td>\n",
       "      <td>957.200</td>\n",
       "      <td>-313.400</td>\n",
       "      <td>2.590</td>\n",
       "      <td>-32.74%</td>\n",
       "      <td>-14.2%</td>\n",
       "      <td>-84.0%</td>\n",
       "      <td>-540.784</td>\n",
       "      <td>True</td>\n",
       "      <td>BBSD11</td>\n",
       "    </tr>\n",
       "    <tr>\n",
       "      <th>35</th>\n",
       "      <td>104.000</td>\n",
       "      <td>970.300</td>\n",
       "      <td>-351.800</td>\n",
       "      <td>2.361</td>\n",
       "      <td>-36.26%</td>\n",
       "      <td>-17.37%</td>\n",
       "      <td>-89.8%</td>\n",
       "      <td>-555.415</td>\n",
       "      <td>True</td>\n",
       "      <td>BRAX11</td>\n",
       "    </tr>\n",
       "    <tr>\n",
       "      <th>36</th>\n",
       "      <td>106.000</td>\n",
       "      <td>966.700</td>\n",
       "      <td>-322.900</td>\n",
       "      <td>1.639</td>\n",
       "      <td>-33.4%</td>\n",
       "      <td>-21.96%</td>\n",
       "      <td>-94.86%</td>\n",
       "      <td>-610.687</td>\n",
       "      <td>True</td>\n",
       "      <td>BBSD11</td>\n",
       "    </tr>\n",
       "    <tr>\n",
       "      <th>37</th>\n",
       "      <td>107.000</td>\n",
       "      <td>964.000</td>\n",
       "      <td>-345.500</td>\n",
       "      <td>1.180</td>\n",
       "      <td>-35.84%</td>\n",
       "      <td>-31.34%</td>\n",
       "      <td>-98.89%</td>\n",
       "      <td>-611.626</td>\n",
       "      <td>True</td>\n",
       "      <td>BRAX11</td>\n",
       "    </tr>\n",
       "    <tr>\n",
       "      <th>38</th>\n",
       "      <td>108.000</td>\n",
       "      <td>894.200</td>\n",
       "      <td>-250.400</td>\n",
       "      <td>0.787</td>\n",
       "      <td>-28.0%</td>\n",
       "      <td>-34.13%</td>\n",
       "      <td>-99.32%</td>\n",
       "      <td>-639.447</td>\n",
       "      <td>True</td>\n",
       "      <td>BBSD11</td>\n",
       "    </tr>\n",
       "  </tbody>\n",
       "</table>\n",
       "</div>"
      ],
      "text/plain": [
       "        ID  Valor inicial    Ganho  Meses Rendimento Rendimento mensal  \\\n",
       "0  100.000       1308.000   86.000  4.918      6.57%              1.3%   \n",
       "4   14.300        930.000    2.030  0.623      0.22%             0.35%   \n",
       "9    1.200      10337.670   39.850  1.279      0.39%              0.3%   \n",
       "13  13.000      10000.000   32.800  1.279      0.33%             0.26%   \n",
       "19  15.000       3000.000    1.920  0.492      0.06%             0.13%   \n",
       "23 102.000       1390.300    3.700  3.508      0.27%             0.08%   \n",
       "31 109.000          6.700    0.000  1.836       0.0%              0.0%   \n",
       "32 105.000       1478.000  -84.000  1.869     -5.68%            -3.08%   \n",
       "33 101.000        875.000 -256.500  4.426    -29.31%            -7.54%   \n",
       "34 103.000        957.200 -313.400  2.590    -32.74%            -14.2%   \n",
       "35 104.000        970.300 -351.800  2.361    -36.26%           -17.37%   \n",
       "36 106.000        966.700 -322.900  1.639     -33.4%           -21.96%   \n",
       "37 107.000        964.000 -345.500  1.180    -35.84%           -31.34%   \n",
       "38 108.000        894.200 -250.400  0.787     -28.0%           -34.13%   \n",
       "\n",
       "   Rendimento anual  Ganho em 1 ano  Ativo    Tipo  \n",
       "0            16.76%         233.634   True  IVVB11  \n",
       "4             4.28%          39.869   True      Nu  \n",
       "9             3.67%         380.482   True      Nu  \n",
       "13            3.11%         312.237   True      Nu  \n",
       "19            1.57%          47.101   True      Nu  \n",
       "23            0.91%          12.696   True  IVVB11  \n",
       "31             0.0%           0.000   True    Cash  \n",
       "32          -31.25%        -435.617   True  IVVB11  \n",
       "33          -60.86%        -376.410   True  BRAX11  \n",
       "34           -84.0%        -540.784   True  BBSD11  \n",
       "35           -89.8%        -555.415   True  BRAX11  \n",
       "36          -94.86%        -610.687   True  BBSD11  \n",
       "37          -98.89%        -611.626   True  BRAX11  \n",
       "38          -99.32%        -639.447   True  BBSD11  "
      ]
     },
     "execution_count": 5,
     "metadata": {},
     "output_type": "execute_result"
    }
   ],
   "source": [
    "dflow[dflow['Ativo']]"
   ]
  },
  {
   "cell_type": "markdown",
   "metadata": {},
   "source": [
    "## Performance"
   ]
  },
  {
   "cell_type": "code",
   "execution_count": 6,
   "metadata": {},
   "outputs": [],
   "source": [
    "dnu = dflow[dflow['Meses'] > 0]\n",
    "dnu = dnu[dnu['Tipo'] == 'Nu']\n",
    "\n",
    "detf = dflow[dflow['Meses'] > 0]\n",
    "detf = detf[detf['Tipo'] != 'Nu']"
   ]
  },
  {
   "cell_type": "markdown",
   "metadata": {},
   "source": [
    "### Renda fixa"
   ]
  },
  {
   "cell_type": "code",
   "execution_count": 7,
   "metadata": {},
   "outputs": [
    {
     "data": {
      "text/html": [
       "<style  type=\"text/css\" >\n",
       "    #T_15f67ab6_7124_11ea_9879_3cf862c21013 th {\n",
       "          font-size: 26px;\n",
       "    }    #T_15f67ab6_7124_11ea_9879_3cf862c21013 td {\n",
       "          font-size: 28px;\n",
       "          text-align: center;\n",
       "    }</style><table id=\"T_15f67ab6_7124_11ea_9879_3cf862c21013\" ><thead>    <tr>        <th class=\"col_heading level0 col0\" >Valor base</th>        <th class=\"col_heading level0 col1\" >Ganho atual</th>        <th class=\"col_heading level0 col2\" >Rendimento atual</th>        <th class=\"col_heading level0 col3\" >Ganho em 1 ano</th>        <th class=\"col_heading level0 col4\" >Rendimento anual</th>    </tr></thead><tbody>\n",
       "                <tr>\n",
       "                                <td id=\"T_15f67ab6_7124_11ea_9879_3cf862c21013row0_col0\" class=\"data row0 col0\" >24344.3</td>\n",
       "                        <td id=\"T_15f67ab6_7124_11ea_9879_3cf862c21013row0_col1\" class=\"data row0 col1\" >273.66</td>\n",
       "                        <td id=\"T_15f67ab6_7124_11ea_9879_3cf862c21013row0_col2\" class=\"data row0 col2\" >0.28%</td>\n",
       "                        <td id=\"T_15f67ab6_7124_11ea_9879_3cf862c21013row0_col3\" class=\"data row0 col3\" >779.689</td>\n",
       "                        <td id=\"T_15f67ab6_7124_11ea_9879_3cf862c21013row0_col4\" class=\"data row0 col4\" >3.2%</td>\n",
       "            </tr>\n",
       "    </tbody></table>"
      ],
      "text/plain": [
       "<pandas.io.formats.style.Styler at 0x173aabb24e0>"
      ]
     },
     "execution_count": 7,
     "metadata": {},
     "output_type": "execute_result"
    }
   ],
   "source": [
    "p.change_df_prop(f.calc_flows_overview(dnu), 28)"
   ]
  },
  {
   "cell_type": "markdown",
   "metadata": {},
   "source": [
    "### Renda Variável"
   ]
  },
  {
   "cell_type": "code",
   "execution_count": 8,
   "metadata": {},
   "outputs": [
    {
     "data": {
      "text/html": [
       "<style  type=\"text/css\" >\n",
       "    #T_15f967f6_7124_11ea_9c79_3cf862c21013 th {\n",
       "          font-size: 26px;\n",
       "    }    #T_15f967f6_7124_11ea_9c79_3cf862c21013 td {\n",
       "          font-size: 28px;\n",
       "          text-align: center;\n",
       "    }</style><table id=\"T_15f967f6_7124_11ea_9c79_3cf862c21013\" ><thead>    <tr>        <th class=\"col_heading level0 col0\" >Valor base</th>        <th class=\"col_heading level0 col1\" >Ganho atual</th>        <th class=\"col_heading level0 col2\" >Rendimento atual</th>        <th class=\"col_heading level0 col3\" >Ganho em 1 ano</th>        <th class=\"col_heading level0 col4\" >Rendimento anual</th>    </tr></thead><tbody>\n",
       "                <tr>\n",
       "                                <td id=\"T_15f967f6_7124_11ea_9c79_3cf862c21013row0_col0\" class=\"data row0 col0\" >7975.6</td>\n",
       "                        <td id=\"T_15f967f6_7124_11ea_9c79_3cf862c21013row0_col1\" class=\"data row0 col1\" >-1834.8</td>\n",
       "                        <td id=\"T_15f967f6_7124_11ea_9c79_3cf862c21013row0_col2\" class=\"data row0 col2\" >-18.7%</td>\n",
       "                        <td id=\"T_15f967f6_7124_11ea_9c79_3cf862c21013row0_col3\" class=\"data row0 col3\" >-3523.66</td>\n",
       "                        <td id=\"T_15f967f6_7124_11ea_9c79_3cf862c21013row0_col4\" class=\"data row0 col4\" >-44.18%</td>\n",
       "            </tr>\n",
       "    </tbody></table>"
      ],
      "text/plain": [
       "<pandas.io.formats.style.Styler at 0x173aaf027f0>"
      ]
     },
     "execution_count": 8,
     "metadata": {},
     "output_type": "execute_result"
    }
   ],
   "source": [
    "p.change_df_prop(f.calc_flows_overview(detf), 28)"
   ]
  },
  {
   "cell_type": "markdown",
   "metadata": {},
   "source": [
    "### Mensal"
   ]
  },
  {
   "cell_type": "code",
   "execution_count": 9,
   "metadata": {
    "collapsed": true
   },
   "outputs": [
    {
     "name": "stdout",
     "output_type": "stream",
     "text": [
      "This is the format of your plot grid:\n",
      "[ (1,1) x1,y1 ]\n",
      "\n",
      "This is the format of your plot grid:\n",
      "[ (1,1) x1,y1 ]\n",
      "\n"
     ]
    }
   ],
   "source": [
    "fig_prof = p.make_fig()\n",
    "fig_prof_total = p.make_fig()"
   ]
  },
  {
   "cell_type": "code",
   "execution_count": 10,
   "metadata": {},
   "outputs": [],
   "source": [
    "dret = d.pivot_agg(f.calc_flow_gains(dinvest[dinvest['Tipo'] != 'Cash']), val='ValorDelta', idx='Data', col='Tipo', agg={'ValorDelta':np.sum})\n",
    "dret['Portfolio'] = dret.sum(axis=1)\n",
    "cols = dret.columns[1:]\n",
    "for c in cols:\n",
    "    dret = d.window(dret, val=c)"
   ]
  },
  {
   "cell_type": "code",
   "execution_count": 11,
   "metadata": {},
   "outputs": [
    {
     "data": {
      "application/vnd.jupyter.widget-view+json": {
       "model_id": "f8f6da422ad2449db3f3ca360b383c13",
       "version_major": 2,
       "version_minor": 0
      },
      "text/plain": [
       "FigureWidget({\n",
       "    'data': [{'hoverinfo': 'name+y',\n",
       "              'marker': {'color': '#13E881'},\n",
       "            …"
      ]
     },
     "metadata": {},
     "output_type": "display_data"
    }
   ],
   "source": [
    "palette1 = {'Portfolio': lcolors[0], 'BRAX11': lcolors[2], 'IVVB11': lcolors[0], 'BBSD11': lcolors[1], 'Cash': lcolors[4]}\n",
    "palette2 = {'PortfolioAvg': dcolors[0], 'BRAX11Avg': dcolors[2], 'IVVB11Avg': dcolors[0], 'BBSD11Avg': dcolors[1], 'Cash': dcolors[4]}\n",
    "p.plot(dret, x='Data', fig=fig_prof_total, palette=palette1, y=dret.columns[5:6], plot_type='bar')\n",
    "p.plot(dret, x='Data', fig=fig_prof_total, palette=palette2, y=dret.columns[10:11], name=['Portfolio médio'])"
   ]
  }
 ],
 "metadata": {
  "kernelspec": {
   "display_name": "Python 3",
   "language": "python",
   "name": "python3"
  },
  "language_info": {
   "codemirror_mode": {
    "name": "ipython",
    "version": 3
   },
   "file_extension": ".py",
   "mimetype": "text/x-python",
   "name": "python",
   "nbconvert_exporter": "python",
   "pygments_lexer": "ipython3",
   "version": "3.7.3"
  }
 },
 "nbformat": 4,
 "nbformat_minor": 2
}
