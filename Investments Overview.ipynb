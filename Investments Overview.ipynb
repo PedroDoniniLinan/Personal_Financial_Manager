{
 "cells": [
  {
   "cell_type": "markdown",
   "metadata": {},
   "source": [
    "# Gerenciador de investimentos"
   ]
  },
  {
   "cell_type": "markdown",
   "metadata": {},
   "source": [
    "Bibliotecas e opções"
   ]
  },
  {
   "cell_type": "code",
   "execution_count": 1,
   "metadata": {},
   "outputs": [],
   "source": [
    "import numpy as np\n",
    "import pandas as pd\n",
    "import datetime as dt\n",
    "import seaborn as sns\n",
    "from plotly import tools\n",
    "import plotly.graph_objs as go\n",
    "from lib import lib as l"
   ]
  },
  {
   "cell_type": "code",
   "execution_count": 2,
   "metadata": {},
   "outputs": [],
   "source": [
    "pd.set_option('display.float_format', lambda x: '%.3f' % x)\n",
    "lcolors = np.array(['#13E881', '#FF5949', '#FFB84C', '#A7BEFA'])\n",
    "dcolors = np.array(['#268040', '#800B00', '#A13808', '#464CC2'])"
   ]
  },
  {
   "cell_type": "markdown",
   "metadata": {},
   "source": [
    "## Leitura dos dados"
   ]
  },
  {
   "cell_type": "code",
   "execution_count": 3,
   "metadata": {},
   "outputs": [
    {
     "data": {
      "text/html": [
       "<div>\n",
       "<style scoped>\n",
       "    .dataframe tbody tr th:only-of-type {\n",
       "        vertical-align: middle;\n",
       "    }\n",
       "\n",
       "    .dataframe tbody tr th {\n",
       "        vertical-align: top;\n",
       "    }\n",
       "\n",
       "    .dataframe thead th {\n",
       "        text-align: right;\n",
       "    }\n",
       "</style>\n",
       "<table border=\"1\" class=\"dataframe\">\n",
       "  <thead>\n",
       "    <tr style=\"text-align: right;\">\n",
       "      <th></th>\n",
       "      <th>ID</th>\n",
       "      <th>Valor</th>\n",
       "      <th>Data</th>\n",
       "      <th>Status</th>\n",
       "      <th>Tipo</th>\n",
       "    </tr>\n",
       "  </thead>\n",
       "  <tbody>\n",
       "    <tr>\n",
       "      <th>25</th>\n",
       "      <td>5.100</td>\n",
       "      <td>1061.910</td>\n",
       "      <td>2019-12-24</td>\n",
       "      <td>Mes</td>\n",
       "      <td>Nu</td>\n",
       "    </tr>\n",
       "    <tr>\n",
       "      <th>26</th>\n",
       "      <td>6.000</td>\n",
       "      <td>846.650</td>\n",
       "      <td>2019-12-24</td>\n",
       "      <td>Mes</td>\n",
       "      <td>Nu</td>\n",
       "    </tr>\n",
       "    <tr>\n",
       "      <th>27</th>\n",
       "      <td>100.000</td>\n",
       "      <td>1415.500</td>\n",
       "      <td>2019-12-24</td>\n",
       "      <td>Mes</td>\n",
       "      <td>IVVB</td>\n",
       "    </tr>\n",
       "    <tr>\n",
       "      <th>28</th>\n",
       "      <td>101.000</td>\n",
       "      <td>957.000</td>\n",
       "      <td>2019-12-24</td>\n",
       "      <td>Mes</td>\n",
       "      <td>BRAX</td>\n",
       "    </tr>\n",
       "    <tr>\n",
       "      <th>29</th>\n",
       "      <td>102.000</td>\n",
       "      <td>1415.500</td>\n",
       "      <td>2019-12-24</td>\n",
       "      <td>Mes</td>\n",
       "      <td>IVVB</td>\n",
       "    </tr>\n",
       "  </tbody>\n",
       "</table>\n",
       "</div>"
      ],
      "text/plain": [
       "        ID    Valor        Data Status  Tipo\n",
       "25   5.100 1061.910  2019-12-24    Mes    Nu\n",
       "26   6.000  846.650  2019-12-24    Mes    Nu\n",
       "27 100.000 1415.500  2019-12-24    Mes  IVVB\n",
       "28 101.000  957.000  2019-12-24    Mes  BRAX\n",
       "29 102.000 1415.500  2019-12-24    Mes  IVVB"
      ]
     },
     "execution_count": 3,
     "metadata": {},
     "output_type": "execute_result"
    }
   ],
   "source": [
    "df = pd.read_csv('br_invest.csv')\n",
    "df['Data'] = df['Data'].apply(lambda x : dt.datetime.strptime(str(x),'%d/%m/%y').date())\n",
    "df.tail()\n"
   ]
  },
  {
   "cell_type": "markdown",
   "metadata": {},
   "source": [
    "## Fluxos de investimentos"
   ]
  },
  {
   "cell_type": "markdown",
   "metadata": {},
   "source": [
    "### Histórico de fluxos"
   ]
  },
  {
   "cell_type": "code",
   "execution_count": 4,
   "metadata": {},
   "outputs": [
    {
     "data": {
      "text/html": [
       "<div>\n",
       "<style scoped>\n",
       "    .dataframe tbody tr th:only-of-type {\n",
       "        vertical-align: middle;\n",
       "    }\n",
       "\n",
       "    .dataframe tbody tr th {\n",
       "        vertical-align: top;\n",
       "    }\n",
       "\n",
       "    .dataframe thead th {\n",
       "        text-align: right;\n",
       "    }\n",
       "</style>\n",
       "<table border=\"1\" class=\"dataframe\">\n",
       "  <thead>\n",
       "    <tr style=\"text-align: right;\">\n",
       "      <th></th>\n",
       "      <th>ID</th>\n",
       "      <th>Valor inicial</th>\n",
       "      <th>Ganho</th>\n",
       "      <th>Meses</th>\n",
       "      <th>Rendimento</th>\n",
       "      <th>Rendimento mensal</th>\n",
       "      <th>Rendimento anual</th>\n",
       "      <th>Ativo</th>\n",
       "      <th>Tipo</th>\n",
       "    </tr>\n",
       "  </thead>\n",
       "  <tbody>\n",
       "    <tr>\n",
       "      <th>0</th>\n",
       "      <td>101.000</td>\n",
       "      <td>875.270</td>\n",
       "      <td>81.730</td>\n",
       "      <td>1.311</td>\n",
       "      <td>9.338</td>\n",
       "      <td>7.044</td>\n",
       "      <td>126.331</td>\n",
       "      <td>True</td>\n",
       "      <td>BRAX</td>\n",
       "    </tr>\n",
       "    <tr>\n",
       "      <th>1</th>\n",
       "      <td>102.000</td>\n",
       "      <td>1390.930</td>\n",
       "      <td>24.570</td>\n",
       "      <td>0.393</td>\n",
       "      <td>1.766</td>\n",
       "      <td>4.551</td>\n",
       "      <td>70.585</td>\n",
       "      <td>True</td>\n",
       "      <td>IVVB</td>\n",
       "    </tr>\n",
       "    <tr>\n",
       "      <th>2</th>\n",
       "      <td>100.000</td>\n",
       "      <td>1308.400</td>\n",
       "      <td>107.100</td>\n",
       "      <td>1.803</td>\n",
       "      <td>8.186</td>\n",
       "      <td>4.460</td>\n",
       "      <td>68.803</td>\n",
       "      <td>True</td>\n",
       "      <td>IVVB</td>\n",
       "    </tr>\n",
       "    <tr>\n",
       "      <th>3</th>\n",
       "      <td>5.100</td>\n",
       "      <td>1059.610</td>\n",
       "      <td>2.300</td>\n",
       "      <td>0.492</td>\n",
       "      <td>0.217</td>\n",
       "      <td>0.442</td>\n",
       "      <td>5.433</td>\n",
       "      <td>True</td>\n",
       "      <td>Nu</td>\n",
       "    </tr>\n",
       "    <tr>\n",
       "      <th>4</th>\n",
       "      <td>1.000</td>\n",
       "      <td>12491.070</td>\n",
       "      <td>48.940</td>\n",
       "      <td>1.115</td>\n",
       "      <td>0.392</td>\n",
       "      <td>0.351</td>\n",
       "      <td>4.299</td>\n",
       "      <td>False</td>\n",
       "      <td>Nu</td>\n",
       "    </tr>\n",
       "    <tr>\n",
       "      <th>5</th>\n",
       "      <td>3.100</td>\n",
       "      <td>1989.970</td>\n",
       "      <td>9.020</td>\n",
       "      <td>1.311</td>\n",
       "      <td>0.453</td>\n",
       "      <td>0.345</td>\n",
       "      <td>4.225</td>\n",
       "      <td>True</td>\n",
       "      <td>Nu</td>\n",
       "    </tr>\n",
       "    <tr>\n",
       "      <th>6</th>\n",
       "      <td>2.000</td>\n",
       "      <td>715.200</td>\n",
       "      <td>2.270</td>\n",
       "      <td>0.951</td>\n",
       "      <td>0.317</td>\n",
       "      <td>0.334</td>\n",
       "      <td>4.080</td>\n",
       "      <td>False</td>\n",
       "      <td>Nu</td>\n",
       "    </tr>\n",
       "    <tr>\n",
       "      <th>7</th>\n",
       "      <td>4.100</td>\n",
       "      <td>10.100</td>\n",
       "      <td>0.020</td>\n",
       "      <td>0.623</td>\n",
       "      <td>0.198</td>\n",
       "      <td>0.318</td>\n",
       "      <td>3.884</td>\n",
       "      <td>False</td>\n",
       "      <td>Nu</td>\n",
       "    </tr>\n",
       "    <tr>\n",
       "      <th>8</th>\n",
       "      <td>1.100</td>\n",
       "      <td>10940.620</td>\n",
       "      <td>57.890</td>\n",
       "      <td>1.770</td>\n",
       "      <td>0.529</td>\n",
       "      <td>0.299</td>\n",
       "      <td>3.642</td>\n",
       "      <td>True</td>\n",
       "      <td>Nu</td>\n",
       "    </tr>\n",
       "    <tr>\n",
       "      <th>9</th>\n",
       "      <td>3.000</td>\n",
       "      <td>2002.290</td>\n",
       "      <td>1.620</td>\n",
       "      <td>0.459</td>\n",
       "      <td>0.081</td>\n",
       "      <td>0.176</td>\n",
       "      <td>2.137</td>\n",
       "      <td>False</td>\n",
       "      <td>Nu</td>\n",
       "    </tr>\n",
       "    <tr>\n",
       "      <th>10</th>\n",
       "      <td>4.000</td>\n",
       "      <td>880.000</td>\n",
       "      <td>0.370</td>\n",
       "      <td>0.393</td>\n",
       "      <td>0.042</td>\n",
       "      <td>0.107</td>\n",
       "      <td>1.290</td>\n",
       "      <td>False</td>\n",
       "      <td>Nu</td>\n",
       "    </tr>\n",
       "    <tr>\n",
       "      <th>11</th>\n",
       "      <td>6.000</td>\n",
       "      <td>846.360</td>\n",
       "      <td>0.290</td>\n",
       "      <td>0.361</td>\n",
       "      <td>0.034</td>\n",
       "      <td>0.095</td>\n",
       "      <td>1.146</td>\n",
       "      <td>True</td>\n",
       "      <td>Nu</td>\n",
       "    </tr>\n",
       "  </tbody>\n",
       "</table>\n",
       "</div>"
      ],
      "text/plain": [
       "        ID  Valor inicial   Ganho  Meses  Rendimento  Rendimento mensal  \\\n",
       "0  101.000        875.270  81.730  1.311       9.338              7.044   \n",
       "1  102.000       1390.930  24.570  0.393       1.766              4.551   \n",
       "2  100.000       1308.400 107.100  1.803       8.186              4.460   \n",
       "3    5.100       1059.610   2.300  0.492       0.217              0.442   \n",
       "4    1.000      12491.070  48.940  1.115       0.392              0.351   \n",
       "5    3.100       1989.970   9.020  1.311       0.453              0.345   \n",
       "6    2.000        715.200   2.270  0.951       0.317              0.334   \n",
       "7    4.100         10.100   0.020  0.623       0.198              0.318   \n",
       "8    1.100      10940.620  57.890  1.770       0.529              0.299   \n",
       "9    3.000       2002.290   1.620  0.459       0.081              0.176   \n",
       "10   4.000        880.000   0.370  0.393       0.042              0.107   \n",
       "11   6.000        846.360   0.290  0.361       0.034              0.095   \n",
       "\n",
       "    Rendimento anual  Ativo  Tipo  \n",
       "0            126.331   True  BRAX  \n",
       "1             70.585   True  IVVB  \n",
       "2             68.803   True  IVVB  \n",
       "3              5.433   True    Nu  \n",
       "4              4.299  False    Nu  \n",
       "5              4.225   True    Nu  \n",
       "6              4.080  False    Nu  \n",
       "7              3.884  False    Nu  \n",
       "8              3.642   True    Nu  \n",
       "9              2.137  False    Nu  \n",
       "10             1.290  False    Nu  \n",
       "11             1.146   True    Nu  "
      ]
     },
     "execution_count": 4,
     "metadata": {},
     "output_type": "execute_result"
    }
   ],
   "source": [
    "di = df.groupby('ID').apply(l.calc_flows)\n",
    "di = di.reset_index(level=[0, 1])\n",
    "di.pop('level_1')\n",
    "di = di.sort_values(by=['Rendimento anual'], ascending=False).reset_index(drop=True)\n",
    "di"
   ]
  },
  {
   "cell_type": "markdown",
   "metadata": {},
   "source": [
    "### Fluxos ativos"
   ]
  },
  {
   "cell_type": "code",
   "execution_count": 5,
   "metadata": {},
   "outputs": [
    {
     "data": {
      "text/html": [
       "<div>\n",
       "<style scoped>\n",
       "    .dataframe tbody tr th:only-of-type {\n",
       "        vertical-align: middle;\n",
       "    }\n",
       "\n",
       "    .dataframe tbody tr th {\n",
       "        vertical-align: top;\n",
       "    }\n",
       "\n",
       "    .dataframe thead th {\n",
       "        text-align: right;\n",
       "    }\n",
       "</style>\n",
       "<table border=\"1\" class=\"dataframe\">\n",
       "  <thead>\n",
       "    <tr style=\"text-align: right;\">\n",
       "      <th></th>\n",
       "      <th>ID</th>\n",
       "      <th>Valor inicial</th>\n",
       "      <th>Ganho</th>\n",
       "      <th>Meses</th>\n",
       "      <th>Rendimento</th>\n",
       "      <th>Rendimento mensal</th>\n",
       "      <th>Rendimento anual</th>\n",
       "      <th>Ativo</th>\n",
       "      <th>Tipo</th>\n",
       "    </tr>\n",
       "  </thead>\n",
       "  <tbody>\n",
       "    <tr>\n",
       "      <th>0</th>\n",
       "      <td>101.000</td>\n",
       "      <td>875.270</td>\n",
       "      <td>81.730</td>\n",
       "      <td>1.311</td>\n",
       "      <td>9.338</td>\n",
       "      <td>7.044</td>\n",
       "      <td>126.331</td>\n",
       "      <td>True</td>\n",
       "      <td>BRAX</td>\n",
       "    </tr>\n",
       "    <tr>\n",
       "      <th>1</th>\n",
       "      <td>102.000</td>\n",
       "      <td>1390.930</td>\n",
       "      <td>24.570</td>\n",
       "      <td>0.393</td>\n",
       "      <td>1.766</td>\n",
       "      <td>4.551</td>\n",
       "      <td>70.585</td>\n",
       "      <td>True</td>\n",
       "      <td>IVVB</td>\n",
       "    </tr>\n",
       "    <tr>\n",
       "      <th>2</th>\n",
       "      <td>100.000</td>\n",
       "      <td>1308.400</td>\n",
       "      <td>107.100</td>\n",
       "      <td>1.803</td>\n",
       "      <td>8.186</td>\n",
       "      <td>4.460</td>\n",
       "      <td>68.803</td>\n",
       "      <td>True</td>\n",
       "      <td>IVVB</td>\n",
       "    </tr>\n",
       "    <tr>\n",
       "      <th>3</th>\n",
       "      <td>5.100</td>\n",
       "      <td>1059.610</td>\n",
       "      <td>2.300</td>\n",
       "      <td>0.492</td>\n",
       "      <td>0.217</td>\n",
       "      <td>0.442</td>\n",
       "      <td>5.433</td>\n",
       "      <td>True</td>\n",
       "      <td>Nu</td>\n",
       "    </tr>\n",
       "    <tr>\n",
       "      <th>5</th>\n",
       "      <td>3.100</td>\n",
       "      <td>1989.970</td>\n",
       "      <td>9.020</td>\n",
       "      <td>1.311</td>\n",
       "      <td>0.453</td>\n",
       "      <td>0.345</td>\n",
       "      <td>4.225</td>\n",
       "      <td>True</td>\n",
       "      <td>Nu</td>\n",
       "    </tr>\n",
       "    <tr>\n",
       "      <th>8</th>\n",
       "      <td>1.100</td>\n",
       "      <td>10940.620</td>\n",
       "      <td>57.890</td>\n",
       "      <td>1.770</td>\n",
       "      <td>0.529</td>\n",
       "      <td>0.299</td>\n",
       "      <td>3.642</td>\n",
       "      <td>True</td>\n",
       "      <td>Nu</td>\n",
       "    </tr>\n",
       "    <tr>\n",
       "      <th>11</th>\n",
       "      <td>6.000</td>\n",
       "      <td>846.360</td>\n",
       "      <td>0.290</td>\n",
       "      <td>0.361</td>\n",
       "      <td>0.034</td>\n",
       "      <td>0.095</td>\n",
       "      <td>1.146</td>\n",
       "      <td>True</td>\n",
       "      <td>Nu</td>\n",
       "    </tr>\n",
       "  </tbody>\n",
       "</table>\n",
       "</div>"
      ],
      "text/plain": [
       "        ID  Valor inicial   Ganho  Meses  Rendimento  Rendimento mensal  \\\n",
       "0  101.000        875.270  81.730  1.311       9.338              7.044   \n",
       "1  102.000       1390.930  24.570  0.393       1.766              4.551   \n",
       "2  100.000       1308.400 107.100  1.803       8.186              4.460   \n",
       "3    5.100       1059.610   2.300  0.492       0.217              0.442   \n",
       "5    3.100       1989.970   9.020  1.311       0.453              0.345   \n",
       "8    1.100      10940.620  57.890  1.770       0.529              0.299   \n",
       "11   6.000        846.360   0.290  0.361       0.034              0.095   \n",
       "\n",
       "    Rendimento anual  Ativo  Tipo  \n",
       "0            126.331   True  BRAX  \n",
       "1             70.585   True  IVVB  \n",
       "2             68.803   True  IVVB  \n",
       "3              5.433   True    Nu  \n",
       "5              4.225   True    Nu  \n",
       "8              3.642   True    Nu  \n",
       "11             1.146   True    Nu  "
      ]
     },
     "execution_count": 5,
     "metadata": {},
     "output_type": "execute_result"
    }
   ],
   "source": [
    "di[di['Ativo']]"
   ]
  },
  {
   "cell_type": "markdown",
   "metadata": {},
   "source": [
    "## Performance"
   ]
  },
  {
   "cell_type": "code",
   "execution_count": 6,
   "metadata": {},
   "outputs": [],
   "source": [
    "dnu = di[di['Meses'] > 0]\n",
    "dnu = dnu[dnu['Tipo'] == 'Nu']\n",
    "\n",
    "detf = di[di['Meses'] > 0]\n",
    "detf = detf[detf['Tipo'] != 'Nu']"
   ]
  },
  {
   "cell_type": "markdown",
   "metadata": {},
   "source": [
    "### Renda fixa"
   ]
  },
  {
   "cell_type": "code",
   "execution_count": 7,
   "metadata": {},
   "outputs": [
    {
     "data": {
      "text/html": [
       "<style  type=\"text/css\" >\n",
       "    #T_cf091aa2_2682_11ea_8fa7_3cf862c21013 th {\n",
       "          font-size: 20px;\n",
       "    }    #T_cf091aa2_2682_11ea_8fa7_3cf862c21013 td {\n",
       "          font-size: 22px;\n",
       "          text-align: center;\n",
       "    }</style><table id=\"T_cf091aa2_2682_11ea_8fa7_3cf862c21013\" ><thead>    <tr>        <th class=\"col_heading level0 col0\" >Ganho atual</th>        <th class=\"col_heading level0 col1\" >Rendimento atual</th>        <th class=\"col_heading level0 col2\" >Rendimento anual</th>    </tr></thead><tbody>\n",
       "                <tr>\n",
       "                                <td id=\"T_cf091aa2_2682_11ea_8fa7_3cf862c21013row0_col0\" class=\"data row0 col0\" >122.72</td>\n",
       "                        <td id=\"T_cf091aa2_2682_11ea_8fa7_3cf862c21013row0_col1\" class=\"data row0 col1\" >0.4 %</td>\n",
       "                        <td id=\"T_cf091aa2_2682_11ea_8fa7_3cf862c21013row0_col2\" class=\"data row0 col2\" >2.72 %</td>\n",
       "            </tr>\n",
       "    </tbody></table>"
      ],
      "text/plain": [
       "<pandas.io.formats.style.Styler at 0x29c10d229e8>"
      ]
     },
     "execution_count": 7,
     "metadata": {},
     "output_type": "execute_result"
    }
   ],
   "source": [
    "gain = dnu['Ganho'].sum()\n",
    "total_yield = gain / dnu['Valor inicial'].sum()\n",
    "monthly_yield = (1+total_yield)**(1/dnu['Meses'].max())-1\n",
    "annual_yield = (1+monthly_yield)**12-1\n",
    "dav = pd.DataFrame([[gain, str(round(total_yield*100, 2)) + ' %', str(round(annual_yield*100, 2)) + ' %']], \n",
    "                   columns=['Ganho atual', 'Rendimento atual', 'Rendimento anual'])\n",
    "dav = l.change_df_prop(dav)\n",
    "dav"
   ]
  },
  {
   "cell_type": "markdown",
   "metadata": {},
   "source": [
    "### Renda Variável"
   ]
  },
  {
   "cell_type": "code",
   "execution_count": 8,
   "metadata": {},
   "outputs": [
    {
     "data": {
      "text/html": [
       "<style  type=\"text/css\" >\n",
       "    #T_cf0c72b8_2682_11ea_b6ca_3cf862c21013 th {\n",
       "          font-size: 20px;\n",
       "    }    #T_cf0c72b8_2682_11ea_b6ca_3cf862c21013 td {\n",
       "          font-size: 22px;\n",
       "          text-align: center;\n",
       "    }</style><table id=\"T_cf0c72b8_2682_11ea_b6ca_3cf862c21013\" ><thead>    <tr>        <th class=\"col_heading level0 col0\" >Ganho atual</th>        <th class=\"col_heading level0 col1\" >Rendimento atual</th>        <th class=\"col_heading level0 col2\" >Rendimento anual</th>    </tr></thead><tbody>\n",
       "                <tr>\n",
       "                                <td id=\"T_cf0c72b8_2682_11ea_b6ca_3cf862c21013row0_col0\" class=\"data row0 col0\" >213.4</td>\n",
       "                        <td id=\"T_cf0c72b8_2682_11ea_b6ca_3cf862c21013row0_col1\" class=\"data row0 col1\" >5.97 %</td>\n",
       "                        <td id=\"T_cf0c72b8_2682_11ea_b6ca_3cf862c21013row0_col2\" class=\"data row0 col2\" >47.09 %</td>\n",
       "            </tr>\n",
       "    </tbody></table>"
      ],
      "text/plain": [
       "<pandas.io.formats.style.Styler at 0x29c110d9128>"
      ]
     },
     "execution_count": 8,
     "metadata": {},
     "output_type": "execute_result"
    }
   ],
   "source": [
    "gain = detf['Ganho'].sum()\n",
    "total_yield = detf['Ganho'].sum() / detf['Valor inicial'].sum()\n",
    "monthly_yield = (1+total_yield)**(1/detf['Meses'].max())-1\n",
    "annual_yield = (1+monthly_yield)**12-1\n",
    "dav = pd.DataFrame([[gain, str(round(total_yield*100, 2)) + ' %', str(round(annual_yield*100, 2)) + ' %']], \n",
    "                   columns=['Ganho atual', 'Rendimento atual', 'Rendimento anual'])\n",
    "dav = l.change_df_prop(dav)\n",
    "dav"
   ]
  },
  {
   "cell_type": "markdown",
   "metadata": {},
   "source": [
    "### Mensal"
   ]
  },
  {
   "cell_type": "code",
   "execution_count": 9,
   "metadata": {},
   "outputs": [],
   "source": [
    "dret = l.group_sum(l.calc_flow_gains(df), group=['Tipo'], date='month').fillna(0)\n",
    "dret['Total'] = dret.sum(axis=1)\n",
    "dret = l.window_mean(dret, 'BRAX')\n",
    "dret = l.window_mean(dret, 'IVVB')\n",
    "dret = l.window_mean(dret, 'Nu')\n",
    "dret = l.window_mean(dret, 'Total')"
   ]
  },
  {
   "cell_type": "code",
   "execution_count": 10,
   "metadata": {},
   "outputs": [
    {
     "data": {
      "application/vnd.jupyter.widget-view+json": {
       "model_id": "9350b717e20b42868b013499f917e3df",
       "version_major": 2,
       "version_minor": 0
      },
      "text/plain": [
       "FigureWidget({\n",
       "    'data': [{'marker': {'color': '#A7BEFA'},\n",
       "              'name': 'Rendimento (Nu)',\n",
       "        …"
      ]
     },
     "metadata": {},
     "output_type": "display_data"
    }
   ],
   "source": [
    "fig = l.plot_bar(dret, y='Nu', color=lcolors[3], name='Rendimento (Nu)')\n",
    "fig = l.plot_line(dret, fig=fig, y='NuAvg', color=dcolors[3], name='Rendimento médio (Nu)')\n",
    "fig = l.plot_bar(dret, y='BRAX', fig=fig, color=lcolors[2], name='Rendimento (BRAX)')\n",
    "fig = l.plot_line(dret, fig=fig, y='BRAXAvg', color=dcolors[2], name='Rendimento médio (BRAX)')\n",
    "fig = l.plot_bar(dret, y='IVVB', fig=fig, color=lcolors[0], name='Rendimento (IVVB)')\n",
    "l.plot_line(dret, fig=fig, y='IVVBAvg', color=dcolors[0], name='Rendimento médio (IVVB)')"
   ]
  },
  {
   "cell_type": "code",
   "execution_count": 11,
   "metadata": {},
   "outputs": [
    {
     "data": {
      "application/vnd.jupyter.widget-view+json": {
       "model_id": "ef6c88768f20441aae095b6e82388397",
       "version_major": 2,
       "version_minor": 0
      },
      "text/plain": [
       "FigureWidget({\n",
       "    'data': [{'marker': {'color': '#13E881'},\n",
       "              'name': 'Rendimento',\n",
       "             …"
      ]
     },
     "metadata": {},
     "output_type": "display_data"
    }
   ],
   "source": [
    "fig = l.plot_bar(dret, y='Total', color=lcolors[0], name='Rendimento')\n",
    "l.plot_line(dret, fig=fig, y='TotalAvg', color=dcolors[0], name='Rendimento médio')"
   ]
  },
  {
   "cell_type": "markdown",
   "metadata": {},
   "source": [
    "## Correlação de atributos"
   ]
  },
  {
   "cell_type": "code",
   "execution_count": 12,
   "metadata": {},
   "outputs": [
    {
     "data": {
      "text/plain": [
       "<seaborn.axisgrid.PairGrid at 0x29c118de438>"
      ]
     },
     "execution_count": 12,
     "metadata": {},
     "output_type": "execute_result"
    },
    {
     "data": {
      "image/png": "[encoded data removed]",
      "text/plain": [
       "<Figure size 720x720 with 20 Axes>"
      ]
     },
     "metadata": {
      "needs_background": "light"
     },
     "output_type": "display_data"
    }
   ],
   "source": [
    "sns.pairplot(dnu, vars=['Rendimento anual', 'Meses', 'Ganho', 'Valor inicial'])"
   ]
  },
  {
   "cell_type": "code",
   "execution_count": 13,
   "metadata": {},
   "outputs": [
    {
     "data": {
      "text/plain": [
       "<seaborn.axisgrid.PairGrid at 0x29c151c6c50>"
      ]
     },
     "execution_count": 13,
     "metadata": {},
     "output_type": "execute_result"
    },
    {
     "data": {
      "image/png": "[encoded data removed]",
      "text/plain": [
       "<Figure size 720x720 with 20 Axes>"
      ]
     },
     "metadata": {
      "needs_background": "light"
     },
     "output_type": "display_data"
    }
   ],
   "source": [
    "sns.pairplot(detf, vars=['Rendimento anual', 'Meses', 'Ganho', 'Valor inicial'])"
   ]
  }
 ],
 "metadata": {
  "kernelspec": {
   "display_name": "Python 3",
   "language": "python",
   "name": "python3"
  },
  "language_info": {
   "codemirror_mode": {
    "name": "ipython",
    "version": 3
   },
   "file_extension": ".py",
   "mimetype": "text/x-python",
   "name": "python",
   "nbconvert_exporter": "python",
   "pygments_lexer": "ipython3",
   "version": "3.7.3"
  }
 },
 "nbformat": 4,
 "nbformat_minor": 2
}
