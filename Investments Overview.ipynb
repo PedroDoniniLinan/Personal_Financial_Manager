{
 "cells": [
  {
   "cell_type": "markdown",
   "metadata": {},
   "source": [
    "# Gerenciador de investimentos"
   ]
  },
  {
   "cell_type": "code",
   "execution_count": 1,
   "metadata": {},
   "outputs": [],
   "source": [
    "import numpy as np\n",
    "import pandas as pd\n",
    "import datetime as dt\n",
    "import seaborn as sns\n",
    "from plotly import tools\n",
    "import plotly.graph_objs as go\n",
    "# from lib import lib as l\n",
    "from lib import plot as p\n",
    "from lib import data as d\n",
    "from lib import finance as f"
   ]
  },
  {
   "cell_type": "code",
   "execution_count": 2,
   "metadata": {},
   "outputs": [],
   "source": [
    "pd.set_option('display.float_format', lambda x: '%.3f' % x)\n",
    "lcolors = np.array(['#13E881', '#FF5949', '#FFB84C', '#A7BEFA', '#27FEFA'])\n",
    "dcolors = np.array(['#268040', '#800B00', '#A13808', '#464CC2', '#162CF2'])"
   ]
  },
  {
   "cell_type": "markdown",
   "metadata": {},
   "source": [
    "## Leitura dos dados"
   ]
  },
  {
   "cell_type": "code",
   "execution_count": 3,
   "metadata": {},
   "outputs": [],
   "source": [
    "dinv, dport, dport_inv, dprices = f.read_invest()\n",
    "dinvest = pd.concat([dinv, dport_inv]).reset_index(drop=True)"
   ]
  },
  {
   "cell_type": "markdown",
   "metadata": {},
   "source": [
    "## Fluxos de investimentos"
   ]
  },
  {
   "cell_type": "markdown",
   "metadata": {},
   "source": [
    "### Histórico de fluxos"
   ]
  },
  {
   "cell_type": "code",
   "execution_count": 4,
   "metadata": {},
   "outputs": [],
   "source": [
    "dflow = dinvest.groupby('ID').apply(f.calc_flows)\n",
    "dflow = dflow.reset_index(level=[0, 1])\n",
    "dflow.pop('level_1')\n",
    "dflow['Rend'] = dflow['Rendimento anual'].apply(d.pct2int)\n",
    "dflow = dflow.sort_values(by=['Rend'], ascending=False).reset_index(drop=True)\n",
    "a = dflow.pop('Rend')"
   ]
  },
  {
   "cell_type": "markdown",
   "metadata": {},
   "source": [
    "### Fluxos ativos"
   ]
  },
  {
   "cell_type": "code",
   "execution_count": 5,
   "metadata": {},
   "outputs": [
    {
     "data": {
      "text/html": [
       "<div>\n",
       "<style scoped>\n",
       "    .dataframe tbody tr th:only-of-type {\n",
       "        vertical-align: middle;\n",
       "    }\n",
       "\n",
       "    .dataframe tbody tr th {\n",
       "        vertical-align: top;\n",
       "    }\n",
       "\n",
       "    .dataframe thead th {\n",
       "        text-align: right;\n",
       "    }\n",
       "</style>\n",
       "<table border=\"1\" class=\"dataframe\">\n",
       "  <thead>\n",
       "    <tr style=\"text-align: right;\">\n",
       "      <th></th>\n",
       "      <th>ID</th>\n",
       "      <th>Valor inicial</th>\n",
       "      <th>Ganho</th>\n",
       "      <th>Meses</th>\n",
       "      <th>Rendimento</th>\n",
       "      <th>Rendimento mensal</th>\n",
       "      <th>Rendimento anual</th>\n",
       "      <th>Ganho em 1 ano</th>\n",
       "      <th>Ativo</th>\n",
       "      <th>Tipo</th>\n",
       "    </tr>\n",
       "  </thead>\n",
       "  <tbody>\n",
       "    <tr>\n",
       "      <th>0</th>\n",
       "      <td>100.000</td>\n",
       "      <td>1308.000</td>\n",
       "      <td>107.600</td>\n",
       "      <td>4.033</td>\n",
       "      <td>8.23%</td>\n",
       "      <td>1.98%</td>\n",
       "      <td>26.44%</td>\n",
       "      <td>374.274</td>\n",
       "      <td>True</td>\n",
       "      <td>IVVB11</td>\n",
       "    </tr>\n",
       "    <tr>\n",
       "      <th>1</th>\n",
       "      <td>102.000</td>\n",
       "      <td>1390.300</td>\n",
       "      <td>25.300</td>\n",
       "      <td>2.623</td>\n",
       "      <td>1.82%</td>\n",
       "      <td>0.69%</td>\n",
       "      <td>8.58%</td>\n",
       "      <td>121.401</td>\n",
       "      <td>True</td>\n",
       "      <td>IVVB11</td>\n",
       "    </tr>\n",
       "    <tr>\n",
       "      <th>13</th>\n",
       "      <td>1.200</td>\n",
       "      <td>10337.670</td>\n",
       "      <td>9.090</td>\n",
       "      <td>0.393</td>\n",
       "      <td>0.09%</td>\n",
       "      <td>0.22%</td>\n",
       "      <td>2.71%</td>\n",
       "      <td>280.340</td>\n",
       "      <td>True</td>\n",
       "      <td>Nu</td>\n",
       "    </tr>\n",
       "    <tr>\n",
       "      <th>20</th>\n",
       "      <td>13.000</td>\n",
       "      <td>10000.000</td>\n",
       "      <td>3.510</td>\n",
       "      <td>0.393</td>\n",
       "      <td>0.04%</td>\n",
       "      <td>0.09%</td>\n",
       "      <td>1.07%</td>\n",
       "      <td>107.353</td>\n",
       "      <td>True</td>\n",
       "      <td>Nu</td>\n",
       "    </tr>\n",
       "    <tr>\n",
       "      <th>27</th>\n",
       "      <td>14.100</td>\n",
       "      <td>1851.770</td>\n",
       "      <td>0.000</td>\n",
       "      <td>0.033</td>\n",
       "      <td>0.0%</td>\n",
       "      <td>0.0%</td>\n",
       "      <td>0.0%</td>\n",
       "      <td>0.000</td>\n",
       "      <td>True</td>\n",
       "      <td>Nu</td>\n",
       "    </tr>\n",
       "    <tr>\n",
       "      <th>28</th>\n",
       "      <td>108.000</td>\n",
       "      <td>21.260</td>\n",
       "      <td>0.000</td>\n",
       "      <td>0.951</td>\n",
       "      <td>0.0%</td>\n",
       "      <td>0.0%</td>\n",
       "      <td>0.0%</td>\n",
       "      <td>0.000</td>\n",
       "      <td>True</td>\n",
       "      <td>Cash</td>\n",
       "    </tr>\n",
       "    <tr>\n",
       "      <th>29</th>\n",
       "      <td>101.000</td>\n",
       "      <td>875.000</td>\n",
       "      <td>-18.200</td>\n",
       "      <td>3.541</td>\n",
       "      <td>-2.08%</td>\n",
       "      <td>-0.59%</td>\n",
       "      <td>-6.86%</td>\n",
       "      <td>-58.754</td>\n",
       "      <td>True</td>\n",
       "      <td>BRAX11</td>\n",
       "    </tr>\n",
       "    <tr>\n",
       "      <th>30</th>\n",
       "      <td>105.000</td>\n",
       "      <td>1478.000</td>\n",
       "      <td>-62.400</td>\n",
       "      <td>0.984</td>\n",
       "      <td>-4.22%</td>\n",
       "      <td>-4.29%</td>\n",
       "      <td>-40.83%</td>\n",
       "      <td>-578.048</td>\n",
       "      <td>True</td>\n",
       "      <td>IVVB11</td>\n",
       "    </tr>\n",
       "    <tr>\n",
       "      <th>31</th>\n",
       "      <td>103.000</td>\n",
       "      <td>957.200</td>\n",
       "      <td>-87.100</td>\n",
       "      <td>1.705</td>\n",
       "      <td>-9.1%</td>\n",
       "      <td>-5.44%</td>\n",
       "      <td>-48.81%</td>\n",
       "      <td>-424.713</td>\n",
       "      <td>True</td>\n",
       "      <td>BBSD11</td>\n",
       "    </tr>\n",
       "    <tr>\n",
       "      <th>32</th>\n",
       "      <td>104.000</td>\n",
       "      <td>970.300</td>\n",
       "      <td>-113.500</td>\n",
       "      <td>1.475</td>\n",
       "      <td>-11.7%</td>\n",
       "      <td>-8.09%</td>\n",
       "      <td>-63.54%</td>\n",
       "      <td>-544.434</td>\n",
       "      <td>True</td>\n",
       "      <td>BRAX11</td>\n",
       "    </tr>\n",
       "    <tr>\n",
       "      <th>33</th>\n",
       "      <td>106.000</td>\n",
       "      <td>966.700</td>\n",
       "      <td>-96.600</td>\n",
       "      <td>0.754</td>\n",
       "      <td>-9.99%</td>\n",
       "      <td>-13.03%</td>\n",
       "      <td>-81.19%</td>\n",
       "      <td>-706.429</td>\n",
       "      <td>True</td>\n",
       "      <td>BBSD11</td>\n",
       "    </tr>\n",
       "    <tr>\n",
       "      <th>34</th>\n",
       "      <td>107.000</td>\n",
       "      <td>964.000</td>\n",
       "      <td>-107.200</td>\n",
       "      <td>0.295</td>\n",
       "      <td>-11.12%</td>\n",
       "      <td>-32.93%</td>\n",
       "      <td>-99.16%</td>\n",
       "      <td>-849.613</td>\n",
       "      <td>True</td>\n",
       "      <td>BRAX11</td>\n",
       "    </tr>\n",
       "  </tbody>\n",
       "</table>\n",
       "</div>"
      ],
      "text/plain": [
       "        ID  Valor inicial    Ganho  Meses Rendimento Rendimento mensal  \\\n",
       "0  100.000       1308.000  107.600  4.033      8.23%             1.98%   \n",
       "1  102.000       1390.300   25.300  2.623      1.82%             0.69%   \n",
       "13   1.200      10337.670    9.090  0.393      0.09%             0.22%   \n",
       "20  13.000      10000.000    3.510  0.393      0.04%             0.09%   \n",
       "27  14.100       1851.770    0.000  0.033       0.0%              0.0%   \n",
       "28 108.000         21.260    0.000  0.951       0.0%              0.0%   \n",
       "29 101.000        875.000  -18.200  3.541     -2.08%            -0.59%   \n",
       "30 105.000       1478.000  -62.400  0.984     -4.22%            -4.29%   \n",
       "31 103.000        957.200  -87.100  1.705      -9.1%            -5.44%   \n",
       "32 104.000        970.300 -113.500  1.475     -11.7%            -8.09%   \n",
       "33 106.000        966.700  -96.600  0.754     -9.99%           -13.03%   \n",
       "34 107.000        964.000 -107.200  0.295    -11.12%           -32.93%   \n",
       "\n",
       "   Rendimento anual  Ganho em 1 ano  Ativo    Tipo  \n",
       "0            26.44%         374.274   True  IVVB11  \n",
       "1             8.58%         121.401   True  IVVB11  \n",
       "13            2.71%         280.340   True      Nu  \n",
       "20            1.07%         107.353   True      Nu  \n",
       "27             0.0%           0.000   True      Nu  \n",
       "28             0.0%           0.000   True    Cash  \n",
       "29           -6.86%         -58.754   True  BRAX11  \n",
       "30          -40.83%        -578.048   True  IVVB11  \n",
       "31          -48.81%        -424.713   True  BBSD11  \n",
       "32          -63.54%        -544.434   True  BRAX11  \n",
       "33          -81.19%        -706.429   True  BBSD11  \n",
       "34          -99.16%        -849.613   True  BRAX11  "
      ]
     },
     "execution_count": 5,
     "metadata": {},
     "output_type": "execute_result"
    }
   ],
   "source": [
    "dflow[dflow['Ativo']]"
   ]
  },
  {
   "cell_type": "markdown",
   "metadata": {},
   "source": [
    "## Performance"
   ]
  },
  {
   "cell_type": "code",
   "execution_count": 6,
   "metadata": {},
   "outputs": [],
   "source": [
    "dnu = dflow[dflow['Meses'] > 0]\n",
    "dnu = dnu[dnu['Tipo'] == 'Nu']\n",
    "\n",
    "detf = dflow[dflow['Meses'] > 0]\n",
    "detf = detf[detf['Tipo'] != 'Nu']"
   ]
  },
  {
   "cell_type": "markdown",
   "metadata": {},
   "source": [
    "### Renda fixa"
   ]
  },
  {
   "cell_type": "code",
   "execution_count": 7,
   "metadata": {},
   "outputs": [
    {
     "data": {
      "text/html": [
       "<style  type=\"text/css\" >\n",
       "    #T_89f9ba30_5c02_11ea_ac81_3cf862c21013 th {\n",
       "          font-size: 26px;\n",
       "    }    #T_89f9ba30_5c02_11ea_ac81_3cf862c21013 td {\n",
       "          font-size: 28px;\n",
       "          text-align: center;\n",
       "    }</style><table id=\"T_89f9ba30_5c02_11ea_ac81_3cf862c21013\" ><thead>    <tr>        <th class=\"col_heading level0 col0\" >Valor base</th>        <th class=\"col_heading level0 col1\" >Ganho atual</th>        <th class=\"col_heading level0 col2\" >Rendimento atual</th>        <th class=\"col_heading level0 col3\" >Ganho em 1 ano</th>        <th class=\"col_heading level0 col4\" >Rendimento anual</th>    </tr></thead><tbody>\n",
       "                <tr>\n",
       "                                <td id=\"T_89f9ba30_5c02_11ea_ac81_3cf862c21013row0_col0\" class=\"data row0 col0\" >22202</td>\n",
       "                        <td id=\"T_89f9ba30_5c02_11ea_ac81_3cf862c21013row0_col1\" class=\"data row0 col1\" >209.36</td>\n",
       "                        <td id=\"T_89f9ba30_5c02_11ea_ac81_3cf862c21013row0_col2\" class=\"data row0 col2\" >0.22%</td>\n",
       "                        <td id=\"T_89f9ba30_5c02_11ea_ac81_3cf862c21013row0_col3\" class=\"data row0 col3\" >387.693</td>\n",
       "                        <td id=\"T_89f9ba30_5c02_11ea_ac81_3cf862c21013row0_col4\" class=\"data row0 col4\" >1.75%</td>\n",
       "            </tr>\n",
       "    </tbody></table>"
      ],
      "text/plain": [
       "<pandas.io.formats.style.Styler at 0x1f8f24d64e0>"
      ]
     },
     "execution_count": 7,
     "metadata": {},
     "output_type": "execute_result"
    }
   ],
   "source": [
    "p.change_df_prop(f.calc_flows_overview(dnu), 28)"
   ]
  },
  {
   "cell_type": "markdown",
   "metadata": {},
   "source": [
    "### Renda Variável"
   ]
  },
  {
   "cell_type": "code",
   "execution_count": 8,
   "metadata": {},
   "outputs": [
    {
     "data": {
      "text/html": [
       "<style  type=\"text/css\" >\n",
       "    #T_89fd12cc_5c02_11ea_8e68_3cf862c21013 th {\n",
       "          font-size: 26px;\n",
       "    }    #T_89fd12cc_5c02_11ea_8e68_3cf862c21013 td {\n",
       "          font-size: 28px;\n",
       "          text-align: center;\n",
       "    }</style><table id=\"T_89fd12cc_5c02_11ea_8e68_3cf862c21013\" ><thead>    <tr>        <th class=\"col_heading level0 col0\" >Valor base</th>        <th class=\"col_heading level0 col1\" >Ganho atual</th>        <th class=\"col_heading level0 col2\" >Rendimento atual</th>        <th class=\"col_heading level0 col3\" >Ganho em 1 ano</th>        <th class=\"col_heading level0 col4\" >Rendimento anual</th>    </tr></thead><tbody>\n",
       "                <tr>\n",
       "                                <td id=\"T_89fd12cc_5c02_11ea_8e68_3cf862c21013row0_col0\" class=\"data row0 col0\" >8578.66</td>\n",
       "                        <td id=\"T_89fd12cc_5c02_11ea_8e68_3cf862c21013row0_col1\" class=\"data row0 col1\" >-352.1</td>\n",
       "                        <td id=\"T_89fd12cc_5c02_11ea_8e68_3cf862c21013row0_col2\" class=\"data row0 col2\" >-3.94%</td>\n",
       "                        <td id=\"T_89fd12cc_5c02_11ea_8e68_3cf862c21013row0_col3\" class=\"data row0 col3\" >-2666.32</td>\n",
       "                        <td id=\"T_89fd12cc_5c02_11ea_8e68_3cf862c21013row0_col4\" class=\"data row0 col4\" >-31.08%</td>\n",
       "            </tr>\n",
       "    </tbody></table>"
      ],
      "text/plain": [
       "<pandas.io.formats.style.Styler at 0x1f8f2863550>"
      ]
     },
     "execution_count": 8,
     "metadata": {},
     "output_type": "execute_result"
    }
   ],
   "source": [
    "p.change_df_prop(f.calc_flows_overview(detf), 28)"
   ]
  },
  {
   "cell_type": "markdown",
   "metadata": {},
   "source": [
    "### Mensal"
   ]
  },
  {
   "cell_type": "code",
   "execution_count": 9,
   "metadata": {},
   "outputs": [
    {
     "name": "stdout",
     "output_type": "stream",
     "text": [
      "This is the format of your plot grid:\n",
      "[ (1,1) x1,y1 ]\n",
      "\n",
      "This is the format of your plot grid:\n",
      "[ (1,1) x1,y1 ]\n",
      "\n"
     ]
    }
   ],
   "source": [
    "fig_prof = p.make_fig()\n",
    "fig_prof_total = p.make_fig()"
   ]
  },
  {
   "cell_type": "code",
   "execution_count": 10,
   "metadata": {},
   "outputs": [],
   "source": [
    "dret = d.pivot_agg(f.calc_flow_gains(dinvest[dinvest['Tipo'] != 'Cash']), val='ValorDelta', idx='Data', col='Tipo', agg={'ValorDelta':np.sum})\n",
    "dret['Portfolio'] = dret.sum(axis=1)\n",
    "cols = dret.columns[1:]\n",
    "for c in cols:\n",
    "    dret = d.window(dret, val=c)"
   ]
  },
  {
   "cell_type": "code",
   "execution_count": 11,
   "metadata": {},
   "outputs": [
    {
     "data": {
      "application/vnd.jupyter.widget-view+json": {
       "model_id": "3e6d5f2bdb87441b9cb0f7cc5797d081",
       "version_major": 2,
       "version_minor": 0
      },
      "text/plain": [
       "FigureWidget({\n",
       "    'data': [{'hoverinfo': 'name+y',\n",
       "              'marker': {'color': '#13E881'},\n",
       "            …"
      ]
     },
     "metadata": {},
     "output_type": "display_data"
    }
   ],
   "source": [
    "palette1 = {'Portfolio': lcolors[0], 'BRAX11': lcolors[2], 'IVVB11': lcolors[0], 'BBSD11': lcolors[1], 'Cash': lcolors[4]}\n",
    "palette2 = {'PortfolioAvg': dcolors[0], 'BRAX11Avg': dcolors[2], 'IVVB11Avg': dcolors[0], 'BBSD11Avg': dcolors[1], 'Cash': dcolors[4]}\n",
    "p.plot(dret, x='Data', fig=fig_prof_total, palette=palette1, y=dret.columns[5:6], plot_type='bar')\n",
    "p.plot(dret, x='Data', fig=fig_prof_total, palette=palette2, y=dret.columns[10:11], name=['Portfolio médio'])"
   ]
  }
 ],
 "metadata": {
  "kernelspec": {
   "display_name": "Python 3",
   "language": "python",
   "name": "python3"
  },
  "language_info": {
   "codemirror_mode": {
    "name": "ipython",
    "version": 3
   },
   "file_extension": ".py",
   "mimetype": "text/x-python",
   "name": "python",
   "nbconvert_exporter": "python",
   "pygments_lexer": "ipython3",
   "version": "3.7.3"
  }
 },
 "nbformat": 4,
 "nbformat_minor": 2
}
