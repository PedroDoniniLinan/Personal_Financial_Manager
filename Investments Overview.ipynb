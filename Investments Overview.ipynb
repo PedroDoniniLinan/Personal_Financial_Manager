{
 "cells": [
  {
   "cell_type": "markdown",
   "metadata": {},
   "source": [
    "# Gerenciador de investimentos"
   ]
  },
  {
   "cell_type": "code",
   "execution_count": 1,
   "metadata": {},
   "outputs": [],
   "source": [
    "import numpy as np\n",
    "import pandas as pd\n",
    "import datetime as dt\n",
    "import seaborn as sns\n",
    "from plotly import tools\n",
    "import plotly.graph_objs as go\n",
    "# from lib import lib as l\n",
    "from lib import plot as p\n",
    "from lib import data as d\n",
    "from lib import finance as f"
   ]
  },
  {
   "cell_type": "code",
   "execution_count": 2,
   "metadata": {},
   "outputs": [],
   "source": [
    "pd.set_option('display.float_format', lambda x: '%.3f' % x)\n",
    "lcolors = np.array(['#13E881', '#FF5949', '#FFB84C', '#A7BEFA', '#27FEFA'])\n",
    "dcolors = np.array(['#268040', '#800B00', '#A13808', '#464CC2', '#162CF2'])"
   ]
  },
  {
   "cell_type": "markdown",
   "metadata": {},
   "source": [
    "## Leitura dos dados"
   ]
  },
  {
   "cell_type": "code",
   "execution_count": 3,
   "metadata": {},
   "outputs": [],
   "source": [
    "dinv, dport, dport_inv, dprices = f.read_invest()\n",
    "dinvest = pd.concat([dinv, dport_inv]).reset_index(drop=True)"
   ]
  },
  {
   "cell_type": "markdown",
   "metadata": {},
   "source": [
    "## Fluxos de investimentos"
   ]
  },
  {
   "cell_type": "markdown",
   "metadata": {},
   "source": [
    "### Histórico de fluxos"
   ]
  },
  {
   "cell_type": "code",
   "execution_count": 4,
   "metadata": {},
   "outputs": [],
   "source": [
    "dflow = dinvest.groupby('ID').apply(f.calc_flows)\n",
    "dflow = dflow.reset_index(level=[0, 1])\n",
    "dflow.pop('level_1')\n",
    "dflow['Rend'] = dflow['Rendimento anual'].apply(d.pct2int)\n",
    "dflow = dflow.sort_values(by=['Rend'], ascending=False).reset_index(drop=True)\n",
    "a = dflow.pop('Rend')"
   ]
  },
  {
   "cell_type": "markdown",
   "metadata": {},
   "source": [
    "### Fluxos ativos"
   ]
  },
  {
   "cell_type": "code",
   "execution_count": 5,
   "metadata": {},
   "outputs": [
    {
     "data": {
      "text/html": [
       "<div>\n",
       "<style scoped>\n",
       "    .dataframe tbody tr th:only-of-type {\n",
       "        vertical-align: middle;\n",
       "    }\n",
       "\n",
       "    .dataframe tbody tr th {\n",
       "        vertical-align: top;\n",
       "    }\n",
       "\n",
       "    .dataframe thead th {\n",
       "        text-align: right;\n",
       "    }\n",
       "</style>\n",
       "<table border=\"1\" class=\"dataframe\">\n",
       "  <thead>\n",
       "    <tr style=\"text-align: right;\">\n",
       "      <th></th>\n",
       "      <th>ID</th>\n",
       "      <th>Valor inicial</th>\n",
       "      <th>Ganho</th>\n",
       "      <th>Meses</th>\n",
       "      <th>Rendimento</th>\n",
       "      <th>Rendimento mensal</th>\n",
       "      <th>Rendimento anual</th>\n",
       "      <th>Ganho em 1 ano</th>\n",
       "      <th>Ativo</th>\n",
       "      <th>Tipo</th>\n",
       "    </tr>\n",
       "  </thead>\n",
       "  <tbody>\n",
       "    <tr>\n",
       "      <th>0</th>\n",
       "      <td>100.000</td>\n",
       "      <td>1308.000</td>\n",
       "      <td>313.000</td>\n",
       "      <td>5.607</td>\n",
       "      <td>23.93%</td>\n",
       "      <td>3.9%</td>\n",
       "      <td>58.08%</td>\n",
       "      <td>941.512</td>\n",
       "      <td>True</td>\n",
       "      <td>IVVB11</td>\n",
       "    </tr>\n",
       "    <tr>\n",
       "      <th>1</th>\n",
       "      <td>102.000</td>\n",
       "      <td>1390.300</td>\n",
       "      <td>230.700</td>\n",
       "      <td>4.197</td>\n",
       "      <td>16.59%</td>\n",
       "      <td>3.73%</td>\n",
       "      <td>54.93%</td>\n",
       "      <td>890.363</td>\n",
       "      <td>True</td>\n",
       "      <td>IVVB11</td>\n",
       "    </tr>\n",
       "    <tr>\n",
       "      <th>2</th>\n",
       "      <td>105.000</td>\n",
       "      <td>1478.000</td>\n",
       "      <td>143.000</td>\n",
       "      <td>2.557</td>\n",
       "      <td>9.68%</td>\n",
       "      <td>3.68%</td>\n",
       "      <td>54.06%</td>\n",
       "      <td>876.299</td>\n",
       "      <td>True</td>\n",
       "      <td>IVVB11</td>\n",
       "    </tr>\n",
       "    <tr>\n",
       "      <th>13</th>\n",
       "      <td>14.300</td>\n",
       "      <td>930.000</td>\n",
       "      <td>3.540</td>\n",
       "      <td>1.311</td>\n",
       "      <td>0.38%</td>\n",
       "      <td>0.29%</td>\n",
       "      <td>3.53%</td>\n",
       "      <td>32.931</td>\n",
       "      <td>True</td>\n",
       "      <td>Nu</td>\n",
       "    </tr>\n",
       "    <tr>\n",
       "      <th>17</th>\n",
       "      <td>13.000</td>\n",
       "      <td>10000.000</td>\n",
       "      <td>48.320</td>\n",
       "      <td>1.967</td>\n",
       "      <td>0.48%</td>\n",
       "      <td>0.25%</td>\n",
       "      <td>2.98%</td>\n",
       "      <td>299.018</td>\n",
       "      <td>True</td>\n",
       "      <td>Nu</td>\n",
       "    </tr>\n",
       "    <tr>\n",
       "      <th>18</th>\n",
       "      <td>15.000</td>\n",
       "      <td>3000.000</td>\n",
       "      <td>8.470</td>\n",
       "      <td>1.180</td>\n",
       "      <td>0.28%</td>\n",
       "      <td>0.24%</td>\n",
       "      <td>2.9%</td>\n",
       "      <td>87.238</td>\n",
       "      <td>True</td>\n",
       "      <td>Nu</td>\n",
       "    </tr>\n",
       "    <tr>\n",
       "      <th>22</th>\n",
       "      <td>16.000</td>\n",
       "      <td>3189.460</td>\n",
       "      <td>3.160</td>\n",
       "      <td>0.623</td>\n",
       "      <td>0.1%</td>\n",
       "      <td>0.16%</td>\n",
       "      <td>1.92%</td>\n",
       "      <td>61.317</td>\n",
       "      <td>True</td>\n",
       "      <td>Nu</td>\n",
       "    </tr>\n",
       "    <tr>\n",
       "      <th>32</th>\n",
       "      <td>17.000</td>\n",
       "      <td>3000.000</td>\n",
       "      <td>0.100</td>\n",
       "      <td>0.098</td>\n",
       "      <td>0.0%</td>\n",
       "      <td>0.03%</td>\n",
       "      <td>0.41%</td>\n",
       "      <td>12.192</td>\n",
       "      <td>True</td>\n",
       "      <td>Nu</td>\n",
       "    </tr>\n",
       "    <tr>\n",
       "      <th>35</th>\n",
       "      <td>1.400</td>\n",
       "      <td>8952.240</td>\n",
       "      <td>8.190</td>\n",
       "      <td>0.000</td>\n",
       "      <td>0.09%</td>\n",
       "      <td>0.0%</td>\n",
       "      <td>0%</td>\n",
       "      <td>0.000</td>\n",
       "      <td>True</td>\n",
       "      <td>Nu</td>\n",
       "    </tr>\n",
       "    <tr>\n",
       "      <th>36</th>\n",
       "      <td>109.000</td>\n",
       "      <td>1306.700</td>\n",
       "      <td>0.000</td>\n",
       "      <td>2.525</td>\n",
       "      <td>0.0%</td>\n",
       "      <td>0.0%</td>\n",
       "      <td>0.0%</td>\n",
       "      <td>0.000</td>\n",
       "      <td>True</td>\n",
       "      <td>Cash</td>\n",
       "    </tr>\n",
       "    <tr>\n",
       "      <th>37</th>\n",
       "      <td>101.000</td>\n",
       "      <td>875.000</td>\n",
       "      <td>-214.500</td>\n",
       "      <td>5.115</td>\n",
       "      <td>-24.51%</td>\n",
       "      <td>-5.35%</td>\n",
       "      <td>-48.21%</td>\n",
       "      <td>-318.436</td>\n",
       "      <td>True</td>\n",
       "      <td>BRAX11</td>\n",
       "    </tr>\n",
       "    <tr>\n",
       "      <th>38</th>\n",
       "      <td>103.000</td>\n",
       "      <td>957.200</td>\n",
       "      <td>-300.200</td>\n",
       "      <td>3.279</td>\n",
       "      <td>-31.36%</td>\n",
       "      <td>-10.84%</td>\n",
       "      <td>-74.68%</td>\n",
       "      <td>-490.651</td>\n",
       "      <td>True</td>\n",
       "      <td>BBSD11</td>\n",
       "    </tr>\n",
       "    <tr>\n",
       "      <th>39</th>\n",
       "      <td>104.000</td>\n",
       "      <td>970.300</td>\n",
       "      <td>-309.800</td>\n",
       "      <td>3.049</td>\n",
       "      <td>-31.93%</td>\n",
       "      <td>-11.85%</td>\n",
       "      <td>-77.9%</td>\n",
       "      <td>-514.514</td>\n",
       "      <td>True</td>\n",
       "      <td>BRAX11</td>\n",
       "    </tr>\n",
       "    <tr>\n",
       "      <th>40</th>\n",
       "      <td>106.000</td>\n",
       "      <td>966.700</td>\n",
       "      <td>-309.700</td>\n",
       "      <td>2.328</td>\n",
       "      <td>-32.04%</td>\n",
       "      <td>-15.29%</td>\n",
       "      <td>-86.27%</td>\n",
       "      <td>-566.778</td>\n",
       "      <td>True</td>\n",
       "      <td>BBSD11</td>\n",
       "    </tr>\n",
       "    <tr>\n",
       "      <th>41</th>\n",
       "      <td>107.000</td>\n",
       "      <td>964.000</td>\n",
       "      <td>-303.500</td>\n",
       "      <td>1.869</td>\n",
       "      <td>-31.48%</td>\n",
       "      <td>-18.32%</td>\n",
       "      <td>-91.12%</td>\n",
       "      <td>-601.834</td>\n",
       "      <td>True</td>\n",
       "      <td>BRAX11</td>\n",
       "    </tr>\n",
       "    <tr>\n",
       "      <th>42</th>\n",
       "      <td>108.000</td>\n",
       "      <td>894.200</td>\n",
       "      <td>-237.200</td>\n",
       "      <td>1.475</td>\n",
       "      <td>-26.53%</td>\n",
       "      <td>-18.85%</td>\n",
       "      <td>-91.79%</td>\n",
       "      <td>-603.082</td>\n",
       "      <td>True</td>\n",
       "      <td>BBSD11</td>\n",
       "    </tr>\n",
       "  </tbody>\n",
       "</table>\n",
       "</div>"
      ],
      "text/plain": [
       "        ID  Valor inicial    Ganho  Meses Rendimento Rendimento mensal  \\\n",
       "0  100.000       1308.000  313.000  5.607     23.93%              3.9%   \n",
       "1  102.000       1390.300  230.700  4.197     16.59%             3.73%   \n",
       "2  105.000       1478.000  143.000  2.557      9.68%             3.68%   \n",
       "13  14.300        930.000    3.540  1.311      0.38%             0.29%   \n",
       "17  13.000      10000.000   48.320  1.967      0.48%             0.25%   \n",
       "18  15.000       3000.000    8.470  1.180      0.28%             0.24%   \n",
       "22  16.000       3189.460    3.160  0.623       0.1%             0.16%   \n",
       "32  17.000       3000.000    0.100  0.098       0.0%             0.03%   \n",
       "35   1.400       8952.240    8.190  0.000      0.09%              0.0%   \n",
       "36 109.000       1306.700    0.000  2.525       0.0%              0.0%   \n",
       "37 101.000        875.000 -214.500  5.115    -24.51%            -5.35%   \n",
       "38 103.000        957.200 -300.200  3.279    -31.36%           -10.84%   \n",
       "39 104.000        970.300 -309.800  3.049    -31.93%           -11.85%   \n",
       "40 106.000        966.700 -309.700  2.328    -32.04%           -15.29%   \n",
       "41 107.000        964.000 -303.500  1.869    -31.48%           -18.32%   \n",
       "42 108.000        894.200 -237.200  1.475    -26.53%           -18.85%   \n",
       "\n",
       "   Rendimento anual  Ganho em 1 ano  Ativo    Tipo  \n",
       "0            58.08%         941.512   True  IVVB11  \n",
       "1            54.93%         890.363   True  IVVB11  \n",
       "2            54.06%         876.299   True  IVVB11  \n",
       "13            3.53%          32.931   True      Nu  \n",
       "17            2.98%         299.018   True      Nu  \n",
       "18             2.9%          87.238   True      Nu  \n",
       "22            1.92%          61.317   True      Nu  \n",
       "32            0.41%          12.192   True      Nu  \n",
       "35               0%           0.000   True      Nu  \n",
       "36             0.0%           0.000   True    Cash  \n",
       "37          -48.21%        -318.436   True  BRAX11  \n",
       "38          -74.68%        -490.651   True  BBSD11  \n",
       "39           -77.9%        -514.514   True  BRAX11  \n",
       "40          -86.27%        -566.778   True  BBSD11  \n",
       "41          -91.12%        -601.834   True  BRAX11  \n",
       "42          -91.79%        -603.082   True  BBSD11  "
      ]
     },
     "execution_count": 5,
     "metadata": {},
     "output_type": "execute_result"
    }
   ],
   "source": [
    "dflow[dflow['Ativo']]"
   ]
  },
  {
   "cell_type": "markdown",
   "metadata": {},
   "source": [
    "## Performance"
   ]
  },
  {
   "cell_type": "code",
   "execution_count": 6,
   "metadata": {},
   "outputs": [],
   "source": [
    "dnu = dflow[dflow['Meses'] > 0]\n",
    "dnu = dnu[dnu['Tipo'] == 'Nu']\n",
    "\n",
    "detf = dflow[dflow['Meses'] > 0]\n",
    "detf = detf[detf['Tipo'] != 'Nu']"
   ]
  },
  {
   "cell_type": "markdown",
   "metadata": {},
   "source": [
    "### Renda fixa"
   ]
  },
  {
   "cell_type": "code",
   "execution_count": 7,
   "metadata": {},
   "outputs": [
    {
     "data": {
      "text/html": [
       "<style  type=\"text/css\" >\n",
       "    #T_742aff94_81d1_11ea_afaf_3cf862c21013 th {\n",
       "          font-size: 26px;\n",
       "    }    #T_742aff94_81d1_11ea_afaf_3cf862c21013 td {\n",
       "          font-size: 28px;\n",
       "          text-align: center;\n",
       "    }</style><table id=\"T_742aff94_81d1_11ea_afaf_3cf862c21013\" ><thead>    <tr>        <th class=\"col_heading level0 col0\" >Valor base</th>        <th class=\"col_heading level0 col1\" >Ganho atual</th>        <th class=\"col_heading level0 col2\" >Rendimento atual</th>        <th class=\"col_heading level0 col3\" >Ganho em 1 ano</th>        <th class=\"col_heading level0 col4\" >Rendimento anual</th>    </tr></thead><tbody>\n",
       "                <tr>\n",
       "                                <td id=\"T_742aff94_81d1_11ea_afaf_3cf862c21013row0_col0\" class=\"data row0 col0\" >20183</td>\n",
       "                        <td id=\"T_742aff94_81d1_11ea_afaf_3cf862c21013row0_col1\" class=\"data row0 col1\" >307.53</td>\n",
       "                        <td id=\"T_742aff94_81d1_11ea_afaf_3cf862c21013row0_col2\" class=\"data row0 col2\" >0.27%</td>\n",
       "                        <td id=\"T_742aff94_81d1_11ea_afaf_3cf862c21013row0_col3\" class=\"data row0 col3\" >492.697</td>\n",
       "                        <td id=\"T_742aff94_81d1_11ea_afaf_3cf862c21013row0_col4\" class=\"data row0 col4\" >2.44%</td>\n",
       "            </tr>\n",
       "    </tbody></table>"
      ],
      "text/plain": [
       "<pandas.io.formats.style.Styler at 0x26370dfb160>"
      ]
     },
     "execution_count": 7,
     "metadata": {},
     "output_type": "execute_result"
    }
   ],
   "source": [
    "p.change_df_prop(f.calc_flows_overview(dnu), 28)"
   ]
  },
  {
   "cell_type": "markdown",
   "metadata": {},
   "source": [
    "### Renda Variável"
   ]
  },
  {
   "cell_type": "code",
   "execution_count": 8,
   "metadata": {},
   "outputs": [
    {
     "data": {
      "text/html": [
       "<style  type=\"text/css\" >\n",
       "    #T_742de1a8_81d1_11ea_a00d_3cf862c21013 th {\n",
       "          font-size: 26px;\n",
       "    }    #T_742de1a8_81d1_11ea_a00d_3cf862c21013 td {\n",
       "          font-size: 28px;\n",
       "          text-align: center;\n",
       "    }</style><table id=\"T_742de1a8_81d1_11ea_a00d_3cf862c21013\" ><thead>    <tr>        <th class=\"col_heading level0 col0\" >Valor base</th>        <th class=\"col_heading level0 col1\" >Ganho atual</th>        <th class=\"col_heading level0 col2\" >Rendimento atual</th>        <th class=\"col_heading level0 col3\" >Ganho em 1 ano</th>        <th class=\"col_heading level0 col4\" >Rendimento anual</th>    </tr></thead><tbody>\n",
       "                <tr>\n",
       "                                <td id=\"T_742de1a8_81d1_11ea_a00d_3cf862c21013row0_col0\" class=\"data row0 col0\" >10122.2</td>\n",
       "                        <td id=\"T_742de1a8_81d1_11ea_a00d_3cf862c21013row0_col1\" class=\"data row0 col1\" >-988.2</td>\n",
       "                        <td id=\"T_742de1a8_81d1_11ea_a00d_3cf862c21013row0_col2\" class=\"data row0 col2\" >-8.89%</td>\n",
       "                        <td id=\"T_742de1a8_81d1_11ea_a00d_3cf862c21013row0_col3\" class=\"data row0 col3\" >-387.12</td>\n",
       "                        <td id=\"T_742de1a8_81d1_11ea_a00d_3cf862c21013row0_col4\" class=\"data row0 col4\" >-3.82%</td>\n",
       "            </tr>\n",
       "    </tbody></table>"
      ],
      "text/plain": [
       "<pandas.io.formats.style.Styler at 0x263711a6e48>"
      ]
     },
     "execution_count": 8,
     "metadata": {},
     "output_type": "execute_result"
    }
   ],
   "source": [
    "p.change_df_prop(f.calc_flows_overview(detf), 28)"
   ]
  },
  {
   "cell_type": "markdown",
   "metadata": {},
   "source": [
    "### Mensal"
   ]
  },
  {
   "cell_type": "code",
   "execution_count": 9,
   "metadata": {
    "collapsed": true
   },
   "outputs": [
    {
     "name": "stdout",
     "output_type": "stream",
     "text": [
      "This is the format of your plot grid:\n",
      "[ (1,1) x1,y1 ]\n",
      "\n",
      "This is the format of your plot grid:\n",
      "[ (1,1) x1,y1 ]\n",
      "\n"
     ]
    }
   ],
   "source": [
    "fig_prof = p.make_fig()\n",
    "fig_prof_total = p.make_fig()"
   ]
  },
  {
   "cell_type": "code",
   "execution_count": 10,
   "metadata": {},
   "outputs": [],
   "source": [
    "dret = d.pivot_agg(f.calc_flow_gains(dinvest[dinvest['Tipo'] != 'Cash']), val='ValorDelta', idx='Data', col='Tipo', agg={'ValorDelta':np.sum})\n",
    "dret['Portfolio'] = dret.sum(axis=1)\n",
    "cols = dret.columns[1:]\n",
    "for c in cols:\n",
    "    dret = d.window(dret, val=c)"
   ]
  },
  {
   "cell_type": "code",
   "execution_count": 11,
   "metadata": {},
   "outputs": [
    {
     "data": {
      "application/vnd.jupyter.widget-view+json": {
       "model_id": "0241ddaf6ed743a080edef5697a07c47",
       "version_major": 2,
       "version_minor": 0
      },
      "text/plain": [
       "FigureWidget({\n",
       "    'data': [{'hoverinfo': 'name+y',\n",
       "              'marker': {'color': '#13E881'},\n",
       "            …"
      ]
     },
     "metadata": {},
     "output_type": "display_data"
    }
   ],
   "source": [
    "palette1 = {'Portfolio': lcolors[0], 'BRAX11': lcolors[2], 'IVVB11': lcolors[0], 'BBSD11': lcolors[1], 'Cash': lcolors[4]}\n",
    "palette2 = {'PortfolioAvg': dcolors[0], 'BRAX11Avg': dcolors[2], 'IVVB11Avg': dcolors[0], 'BBSD11Avg': dcolors[1], 'Cash': dcolors[4]}\n",
    "p.plot(dret, x='Data', fig=fig_prof_total, palette=palette1, y=dret.columns[5:6], plot_type='bar')\n",
    "p.plot(dret, x='Data', fig=fig_prof_total, palette=palette2, y=dret.columns[10:11], name=['Portfolio médio'])"
   ]
  }
 ],
 "metadata": {
  "kernelspec": {
   "display_name": "Python 3",
   "language": "python",
   "name": "python3"
  },
  "language_info": {
   "codemirror_mode": {
    "name": "ipython",
    "version": 3
   },
   "file_extension": ".py",
   "mimetype": "text/x-python",
   "name": "python",
   "nbconvert_exporter": "python",
   "pygments_lexer": "ipython3",
   "version": "3.7.3"
  }
 },
 "nbformat": 4,
 "nbformat_minor": 2
}
