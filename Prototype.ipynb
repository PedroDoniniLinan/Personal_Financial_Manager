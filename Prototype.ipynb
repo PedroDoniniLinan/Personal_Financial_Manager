{
 "cells": [
  {
   "cell_type": "code",
   "execution_count": 1,
   "metadata": {},
   "outputs": [],
   "source": [
    "import numpy as np\n",
    "import pandas as pd\n",
    "import datetime as dt\n",
    "from plotly import tools\n",
    "import plotly.graph_objs as go\n",
    "from lib import lib as l"
   ]
  },
  {
   "cell_type": "code",
   "execution_count": 2,
   "metadata": {},
   "outputs": [],
   "source": [
    "pd.set_option('display.float_format', lambda x: '%.3f' % x)"
   ]
  },
  {
   "cell_type": "code",
   "execution_count": 39,
   "metadata": {},
   "outputs": [
    {
     "data": {
      "text/html": [
       "<div>\n",
       "<style scoped>\n",
       "    .dataframe tbody tr th:only-of-type {\n",
       "        vertical-align: middle;\n",
       "    }\n",
       "\n",
       "    .dataframe tbody tr th {\n",
       "        vertical-align: top;\n",
       "    }\n",
       "\n",
       "    .dataframe thead th {\n",
       "        text-align: right;\n",
       "    }\n",
       "</style>\n",
       "<table border=\"1\" class=\"dataframe\">\n",
       "  <thead>\n",
       "    <tr style=\"text-align: right;\">\n",
       "      <th></th>\n",
       "      <th>ID</th>\n",
       "      <th>Valor</th>\n",
       "      <th>Data</th>\n",
       "      <th>Status</th>\n",
       "    </tr>\n",
       "  </thead>\n",
       "  <tbody>\n",
       "    <tr>\n",
       "      <th>0</th>\n",
       "      <td>1.000</td>\n",
       "      <td>12491.070</td>\n",
       "      <td>2019-09-27</td>\n",
       "      <td>Aberto</td>\n",
       "    </tr>\n",
       "    <tr>\n",
       "      <th>1</th>\n",
       "      <td>1.000</td>\n",
       "      <td>12491.280</td>\n",
       "      <td>2019-09-30</td>\n",
       "      <td>Mes</td>\n",
       "    </tr>\n",
       "    <tr>\n",
       "      <th>2</th>\n",
       "      <td>2.000</td>\n",
       "      <td>715.200</td>\n",
       "      <td>2019-10-16</td>\n",
       "      <td>Aberto</td>\n",
       "    </tr>\n",
       "    <tr>\n",
       "      <th>3</th>\n",
       "      <td>1.000</td>\n",
       "      <td>12540.010</td>\n",
       "      <td>2019-10-31</td>\n",
       "      <td>Fechado</td>\n",
       "    </tr>\n",
       "    <tr>\n",
       "      <th>4</th>\n",
       "      <td>1.100</td>\n",
       "      <td>10940.620</td>\n",
       "      <td>2019-10-31</td>\n",
       "      <td>Aberto</td>\n",
       "    </tr>\n",
       "  </tbody>\n",
       "</table>\n",
       "</div>"
      ],
      "text/plain": [
       "     ID     Valor        Data   Status\n",
       "0 1.000 12491.070  2019-09-27   Aberto\n",
       "1 1.000 12491.280  2019-09-30      Mes\n",
       "2 2.000   715.200  2019-10-16   Aberto\n",
       "3 1.000 12540.010  2019-10-31  Fechado\n",
       "4 1.100 10940.620  2019-10-31   Aberto"
      ]
     },
     "execution_count": 39,
     "metadata": {},
     "output_type": "execute_result"
    }
   ],
   "source": [
    "di = pd.read_csv('br_invest.csv')\n",
    "di['Data'] = di['Data'].apply(lambda x : dt.datetime.strptime(str(x),'%d/%m/%y').date())\n",
    "di.head()"
   ]
  },
  {
   "cell_type": "code",
   "execution_count": 60,
   "metadata": {},
   "outputs": [
    {
     "data": {
      "text/html": [
       "<div>\n",
       "<style scoped>\n",
       "    .dataframe tbody tr th:only-of-type {\n",
       "        vertical-align: middle;\n",
       "    }\n",
       "\n",
       "    .dataframe tbody tr th {\n",
       "        vertical-align: top;\n",
       "    }\n",
       "\n",
       "    .dataframe thead th {\n",
       "        text-align: right;\n",
       "    }\n",
       "</style>\n",
       "<table border=\"1\" class=\"dataframe\">\n",
       "  <thead>\n",
       "    <tr style=\"text-align: right;\">\n",
       "      <th></th>\n",
       "      <th>ID</th>\n",
       "      <th>Valor inicial</th>\n",
       "      <th>Ganho</th>\n",
       "      <th>Duracao (meses)</th>\n",
       "      <th>Rendimento</th>\n",
       "      <th>Rendimento mensal</th>\n",
       "      <th>Rendimento anual</th>\n",
       "    </tr>\n",
       "  </thead>\n",
       "  <tbody>\n",
       "    <tr>\n",
       "      <th>0</th>\n",
       "      <td>1</td>\n",
       "      <td>10</td>\n",
       "      <td>2</td>\n",
       "      <td>1</td>\n",
       "      <td>4</td>\n",
       "      <td>5</td>\n",
       "      <td>5</td>\n",
       "    </tr>\n",
       "  </tbody>\n",
       "</table>\n",
       "</div>"
      ],
      "text/plain": [
       "   ID  Valor inicial  Ganho  Duracao (meses)  Rendimento  Rendimento mensal  \\\n",
       "0   1             10      2                1           4                  5   \n",
       "\n",
       "   Rendimento anual  \n",
       "0                 5  "
      ]
     },
     "execution_count": 60,
     "metadata": {},
     "output_type": "execute_result"
    }
   ],
   "source": [
    "dr = pd.DataFrame({'ID': [1], 'Valor inicial': [10], 'Ganho': [2], 'Duracao (meses)': [1], 'Rendimento': [4],  'Rendimento mensal': [5], 'Rendimento anual': [5]})\n",
    "dr"
   ]
  },
  {
   "cell_type": "code",
   "execution_count": 66,
   "metadata": {},
   "outputs": [],
   "source": [
    "def calc_flux_gain(df):\n",
    "    open_val = df[df['Status'] == 'Aberto']\n",
    "    close_val = df[df['Status'] == 'Fechado']\n",
    "    if not close_val.empty:\n",
    "        gain = close_val.iloc[0, 1] - open_val.iloc[0, 1]\n",
    "        duration = (close_val.iloc[0, 2] - open_val.iloc[0, 2]).days / 30.5\n",
    "        total_yield = gain / open_val.iloc[0, 1]\n",
    "        monthly_yield = (1+total_yield)**(1/duration)-1\n",
    "        annual_yield = (1+monthly_yield)**12-1\n",
    "        dr = pd.DataFrame({'ID': [df.iloc[0]['ID']], \n",
    "                           'Valor inicial': [open_val.iloc[0, 1]], \n",
    "                           'Ganho': [gain], \n",
    "                           'Duracao (meses)': [duration], \n",
    "                           'Rendimento': [total_yield*100],  \n",
    "                           'Rendimento mensal': [monthly_yield*100], \n",
    "                           'Rendimento anual': [annual_yield*100]})\n",
    "    else:\n",
    "        gain = 0\n",
    "        duration = 0\n",
    "        total_yield = 0\n",
    "        monthly_yield = 0\n",
    "        annual_yield = 0\n",
    "        dr = pd.DataFrame({'ID': [df.iloc[0]['ID']], \n",
    "                           'Valor inicial': [open_val.iloc[0, 1]], \n",
    "                           'Ganho': [gain], \n",
    "                           'Duracao (meses)': [duration], \n",
    "                           'Rendimento': [total_yield*100],  \n",
    "                           'Rendimento mensal': [monthly_yield*100], \n",
    "                           'Rendimento anual': [annual_yield*100]})\n",
    "    return dr"
   ]
  },
  {
   "cell_type": "code",
   "execution_count": 67,
   "metadata": {},
   "outputs": [
    {
     "data": {
      "text/html": [
       "<div>\n",
       "<style scoped>\n",
       "    .dataframe tbody tr th:only-of-type {\n",
       "        vertical-align: middle;\n",
       "    }\n",
       "\n",
       "    .dataframe tbody tr th {\n",
       "        vertical-align: top;\n",
       "    }\n",
       "\n",
       "    .dataframe thead th {\n",
       "        text-align: right;\n",
       "    }\n",
       "</style>\n",
       "<table border=\"1\" class=\"dataframe\">\n",
       "  <thead>\n",
       "    <tr style=\"text-align: right;\">\n",
       "      <th></th>\n",
       "      <th></th>\n",
       "      <th>ID</th>\n",
       "      <th>Valor inicial</th>\n",
       "      <th>Ganho</th>\n",
       "      <th>Duracao (meses)</th>\n",
       "      <th>Rendimento</th>\n",
       "      <th>Rendimento mensal</th>\n",
       "      <th>Rendimento anual</th>\n",
       "    </tr>\n",
       "    <tr>\n",
       "      <th>ID</th>\n",
       "      <th></th>\n",
       "      <th></th>\n",
       "      <th></th>\n",
       "      <th></th>\n",
       "      <th></th>\n",
       "      <th></th>\n",
       "      <th></th>\n",
       "      <th></th>\n",
       "    </tr>\n",
       "  </thead>\n",
       "  <tbody>\n",
       "    <tr>\n",
       "      <th>1.000</th>\n",
       "      <th>0</th>\n",
       "      <td>1.000</td>\n",
       "      <td>12491.070</td>\n",
       "      <td>48.940</td>\n",
       "      <td>1.115</td>\n",
       "      <td>0.392</td>\n",
       "      <td>0.351</td>\n",
       "      <td>4.299</td>\n",
       "    </tr>\n",
       "    <tr>\n",
       "      <th>1.100</th>\n",
       "      <th>0</th>\n",
       "      <td>1.100</td>\n",
       "      <td>10940.620</td>\n",
       "      <td>0.000</td>\n",
       "      <td>0.000</td>\n",
       "      <td>0.000</td>\n",
       "      <td>0.000</td>\n",
       "      <td>0.000</td>\n",
       "    </tr>\n",
       "    <tr>\n",
       "      <th>2.000</th>\n",
       "      <th>0</th>\n",
       "      <td>2.000</td>\n",
       "      <td>715.200</td>\n",
       "      <td>2.270</td>\n",
       "      <td>0.951</td>\n",
       "      <td>0.317</td>\n",
       "      <td>0.334</td>\n",
       "      <td>4.080</td>\n",
       "    </tr>\n",
       "    <tr>\n",
       "      <th>3.000</th>\n",
       "      <th>0</th>\n",
       "      <td>3.000</td>\n",
       "      <td>2002.290</td>\n",
       "      <td>1.620</td>\n",
       "      <td>0.459</td>\n",
       "      <td>0.081</td>\n",
       "      <td>0.176</td>\n",
       "      <td>2.137</td>\n",
       "    </tr>\n",
       "    <tr>\n",
       "      <th>3.100</th>\n",
       "      <th>0</th>\n",
       "      <td>3.100</td>\n",
       "      <td>1989.980</td>\n",
       "      <td>0.000</td>\n",
       "      <td>0.000</td>\n",
       "      <td>0.000</td>\n",
       "      <td>0.000</td>\n",
       "      <td>0.000</td>\n",
       "    </tr>\n",
       "    <tr>\n",
       "      <th>4.000</th>\n",
       "      <th>0</th>\n",
       "      <td>4.000</td>\n",
       "      <td>880.000</td>\n",
       "      <td>0.370</td>\n",
       "      <td>0.393</td>\n",
       "      <td>0.042</td>\n",
       "      <td>0.107</td>\n",
       "      <td>1.290</td>\n",
       "    </tr>\n",
       "    <tr>\n",
       "      <th>4.100</th>\n",
       "      <th>0</th>\n",
       "      <td>4.100</td>\n",
       "      <td>10.100</td>\n",
       "      <td>0.000</td>\n",
       "      <td>0.000</td>\n",
       "      <td>0.000</td>\n",
       "      <td>0.000</td>\n",
       "      <td>0.000</td>\n",
       "    </tr>\n",
       "    <tr>\n",
       "      <th>5.000</th>\n",
       "      <th>0</th>\n",
       "      <td>5.000</td>\n",
       "      <td>1686.760</td>\n",
       "      <td>0.490</td>\n",
       "      <td>0.295</td>\n",
       "      <td>0.029</td>\n",
       "      <td>0.098</td>\n",
       "      <td>1.188</td>\n",
       "    </tr>\n",
       "    <tr>\n",
       "      <th>5.100</th>\n",
       "      <th>0</th>\n",
       "      <td>5.100</td>\n",
       "      <td>1070.100</td>\n",
       "      <td>0.000</td>\n",
       "      <td>0.000</td>\n",
       "      <td>0.000</td>\n",
       "      <td>0.000</td>\n",
       "      <td>0.000</td>\n",
       "    </tr>\n",
       "  </tbody>\n",
       "</table>\n",
       "</div>"
      ],
      "text/plain": [
       "           ID  Valor inicial  Ganho  Duracao (meses)  Rendimento  \\\n",
       "ID                                                                 \n",
       "1.000 0 1.000      12491.070 48.940            1.115       0.392   \n",
       "1.100 0 1.100      10940.620  0.000            0.000       0.000   \n",
       "2.000 0 2.000        715.200  2.270            0.951       0.317   \n",
       "3.000 0 3.000       2002.290  1.620            0.459       0.081   \n",
       "3.100 0 3.100       1989.980  0.000            0.000       0.000   \n",
       "4.000 0 4.000        880.000  0.370            0.393       0.042   \n",
       "4.100 0 4.100         10.100  0.000            0.000       0.000   \n",
       "5.000 0 5.000       1686.760  0.490            0.295       0.029   \n",
       "5.100 0 5.100       1070.100  0.000            0.000       0.000   \n",
       "\n",
       "         Rendimento mensal  Rendimento anual  \n",
       "ID                                            \n",
       "1.000 0              0.351             4.299  \n",
       "1.100 0              0.000             0.000  \n",
       "2.000 0              0.334             4.080  \n",
       "3.000 0              0.176             2.137  \n",
       "3.100 0              0.000             0.000  \n",
       "4.000 0              0.107             1.290  \n",
       "4.100 0              0.000             0.000  \n",
       "5.000 0              0.098             1.188  \n",
       "5.100 0              0.000             0.000  "
      ]
     },
     "execution_count": 67,
     "metadata": {},
     "output_type": "execute_result"
    }
   ],
   "source": [
    "di.groupby('ID').apply(calc_flux_gain)"
   ]
  },
  {
   "cell_type": "code",
   "execution_count": 4,
   "metadata": {},
   "outputs": [
    {
     "data": {
      "text/html": [
       "<div>\n",
       "<style scoped>\n",
       "    .dataframe tbody tr th:only-of-type {\n",
       "        vertical-align: middle;\n",
       "    }\n",
       "\n",
       "    .dataframe tbody tr th {\n",
       "        vertical-align: top;\n",
       "    }\n",
       "\n",
       "    .dataframe thead th {\n",
       "        text-align: right;\n",
       "    }\n",
       "</style>\n",
       "<table border=\"1\" class=\"dataframe\">\n",
       "  <thead>\n",
       "    <tr style=\"text-align: right;\">\n",
       "      <th></th>\n",
       "      <th>De</th>\n",
       "      <th>Para</th>\n",
       "      <th>Valor</th>\n",
       "    </tr>\n",
       "  </thead>\n",
       "  <tbody>\n",
       "    <tr>\n",
       "      <th>0</th>\n",
       "      <td>BB</td>\n",
       "      <td>Nu</td>\n",
       "      <td>12491.070</td>\n",
       "    </tr>\n",
       "    <tr>\n",
       "      <th>1</th>\n",
       "      <td>Nu</td>\n",
       "      <td>Easy</td>\n",
       "      <td>1455.000</td>\n",
       "    </tr>\n",
       "    <tr>\n",
       "      <th>2</th>\n",
       "      <td>Nu</td>\n",
       "      <td>Easy</td>\n",
       "      <td>731.400</td>\n",
       "    </tr>\n",
       "    <tr>\n",
       "      <th>3</th>\n",
       "      <td>Nu</td>\n",
       "      <td>Easy</td>\n",
       "      <td>870.270</td>\n",
       "    </tr>\n",
       "  </tbody>\n",
       "</table>\n",
       "</div>"
      ],
      "text/plain": [
       "   De  Para     Valor\n",
       "0  BB    Nu 12491.070\n",
       "1  Nu  Easy  1455.000\n",
       "2  Nu  Easy   731.400\n",
       "3  Nu  Easy   870.270"
      ]
     },
     "execution_count": 4,
     "metadata": {},
     "output_type": "execute_result"
    }
   ],
   "source": [
    "dtr = pd.read_csv('br_transf.csv')\n",
    "dtr"
   ]
  },
  {
   "cell_type": "code",
   "execution_count": 5,
   "metadata": {},
   "outputs": [],
   "source": [
    "dtin = l.group_sum(dtr, group=['De'], date=None)\n",
    "dtin.columns = ['Transferido']\n",
    "dtout = l.group_sum(dtr, group=['Para'], date=None)\n",
    "dtout.columns = ['Recebido']"
   ]
  },
  {
   "cell_type": "code",
   "execution_count": 6,
   "metadata": {},
   "outputs": [
    {
     "data": {
      "text/html": [
       "<div>\n",
       "<style scoped>\n",
       "    .dataframe tbody tr th:only-of-type {\n",
       "        vertical-align: middle;\n",
       "    }\n",
       "\n",
       "    .dataframe tbody tr th {\n",
       "        vertical-align: top;\n",
       "    }\n",
       "\n",
       "    .dataframe thead th {\n",
       "        text-align: right;\n",
       "    }\n",
       "</style>\n",
       "<table border=\"1\" class=\"dataframe\">\n",
       "  <thead>\n",
       "    <tr style=\"text-align: right;\">\n",
       "      <th></th>\n",
       "      <th>Nome</th>\n",
       "      <th>Valor</th>\n",
       "      <th>Data</th>\n",
       "      <th>Conta</th>\n",
       "      <th>Area</th>\n",
       "    </tr>\n",
       "  </thead>\n",
       "  <tbody>\n",
       "    <tr>\n",
       "      <th>0</th>\n",
       "      <td>Grana inicial</td>\n",
       "      <td>12508.530</td>\n",
       "      <td>2019-08-01</td>\n",
       "      <td>BB</td>\n",
       "      <td>Pais</td>\n",
       "    </tr>\n",
       "    <tr>\n",
       "      <th>1</th>\n",
       "      <td>Cash</td>\n",
       "      <td>92.000</td>\n",
       "      <td>2019-09-09</td>\n",
       "      <td>Cash</td>\n",
       "      <td>Pais</td>\n",
       "    </tr>\n",
       "    <tr>\n",
       "      <th>2</th>\n",
       "      <td>Poupanca BB</td>\n",
       "      <td>9.110</td>\n",
       "      <td>2019-09-20</td>\n",
       "      <td>BB</td>\n",
       "      <td>Investimento</td>\n",
       "    </tr>\n",
       "    <tr>\n",
       "      <th>3</th>\n",
       "      <td>Poupanca BB</td>\n",
       "      <td>2.070</td>\n",
       "      <td>2019-09-23</td>\n",
       "      <td>BB</td>\n",
       "      <td>Investimento</td>\n",
       "    </tr>\n",
       "    <tr>\n",
       "      <th>4</th>\n",
       "      <td>Poupanca BB</td>\n",
       "      <td>3.820</td>\n",
       "      <td>2019-09-24</td>\n",
       "      <td>BB</td>\n",
       "      <td>Investimento</td>\n",
       "    </tr>\n",
       "  </tbody>\n",
       "</table>\n",
       "</div>"
      ],
      "text/plain": [
       "            Nome     Valor        Data Conta          Area\n",
       "0  Grana inicial 12508.530  2019-08-01    BB          Pais\n",
       "1           Cash    92.000  2019-09-09  Cash          Pais\n",
       "2    Poupanca BB     9.110  2019-09-20    BB  Investimento\n",
       "3    Poupanca BB     2.070  2019-09-23    BB  Investimento\n",
       "4    Poupanca BB     3.820  2019-09-24    BB  Investimento"
      ]
     },
     "execution_count": 6,
     "metadata": {},
     "output_type": "execute_result"
    }
   ],
   "source": [
    "dg = pd.read_csv('br_ganhos.csv')\n",
    "dg['Data'] = dg['Data'].apply(lambda x : dt.datetime.strptime(str(x),'%d/%m/%y').date())\n",
    "dg.head()"
   ]
  },
  {
   "cell_type": "code",
   "execution_count": 7,
   "metadata": {},
   "outputs": [
    {
     "data": {
      "text/html": [
       "<div>\n",
       "<style scoped>\n",
       "    .dataframe tbody tr th:only-of-type {\n",
       "        vertical-align: middle;\n",
       "    }\n",
       "\n",
       "    .dataframe tbody tr th {\n",
       "        vertical-align: top;\n",
       "    }\n",
       "\n",
       "    .dataframe thead th {\n",
       "        text-align: right;\n",
       "    }\n",
       "</style>\n",
       "<table border=\"1\" class=\"dataframe\">\n",
       "  <thead>\n",
       "    <tr style=\"text-align: right;\">\n",
       "      <th></th>\n",
       "      <th>Nome</th>\n",
       "      <th>Valor</th>\n",
       "      <th>Data</th>\n",
       "      <th>Pagamento</th>\n",
       "      <th>Area</th>\n",
       "      <th>Pessoal</th>\n",
       "    </tr>\n",
       "  </thead>\n",
       "  <tbody>\n",
       "    <tr>\n",
       "      <th>0</th>\n",
       "      <td>Restau Fisica</td>\n",
       "      <td>25.300</td>\n",
       "      <td>2019-09-12</td>\n",
       "      <td>BB</td>\n",
       "      <td>Alimentacao</td>\n",
       "      <td>Sim</td>\n",
       "    </tr>\n",
       "    <tr>\n",
       "      <th>1</th>\n",
       "      <td>Bandeco</td>\n",
       "      <td>50.000</td>\n",
       "      <td>2019-09-15</td>\n",
       "      <td>Cash</td>\n",
       "      <td>Alimentacao</td>\n",
       "      <td>Sim</td>\n",
       "    </tr>\n",
       "    <tr>\n",
       "      <th>2</th>\n",
       "      <td>Bilhete Unico</td>\n",
       "      <td>30.100</td>\n",
       "      <td>2019-09-15</td>\n",
       "      <td>Pais</td>\n",
       "      <td>Transporte</td>\n",
       "      <td>Sim</td>\n",
       "    </tr>\n",
       "    <tr>\n",
       "      <th>3</th>\n",
       "      <td>Impressao apostila</td>\n",
       "      <td>35.000</td>\n",
       "      <td>2019-09-24</td>\n",
       "      <td>Cash</td>\n",
       "      <td>Estudo</td>\n",
       "      <td>Sim</td>\n",
       "    </tr>\n",
       "    <tr>\n",
       "      <th>4</th>\n",
       "      <td>Taxa BB</td>\n",
       "      <td>13.250</td>\n",
       "      <td>2019-09-25</td>\n",
       "      <td>BB</td>\n",
       "      <td>Banco</td>\n",
       "      <td>Sim</td>\n",
       "    </tr>\n",
       "  </tbody>\n",
       "</table>\n",
       "</div>"
      ],
      "text/plain": [
       "                 Nome  Valor        Data Pagamento         Area Pessoal\n",
       "0       Restau Fisica 25.300  2019-09-12        BB  Alimentacao     Sim\n",
       "1             Bandeco 50.000  2019-09-15      Cash  Alimentacao     Sim\n",
       "2       Bilhete Unico 30.100  2019-09-15      Pais   Transporte     Sim\n",
       "3  Impressao apostila 35.000  2019-09-24      Cash       Estudo     Sim\n",
       "4             Taxa BB 13.250  2019-09-25        BB        Banco     Sim"
      ]
     },
     "execution_count": 7,
     "metadata": {},
     "output_type": "execute_result"
    }
   ],
   "source": [
    "df = pd.read_csv('br_gastos.csv')\n",
    "df['Data'] = df['Data'].apply(lambda x : dt.datetime.strptime(str(x),'%d/%m/%y').date())\n",
    "df.head()"
   ]
  },
  {
   "cell_type": "code",
   "execution_count": 8,
   "metadata": {},
   "outputs": [
    {
     "data": {
      "text/html": [
       "<div>\n",
       "<style scoped>\n",
       "    .dataframe tbody tr th:only-of-type {\n",
       "        vertical-align: middle;\n",
       "    }\n",
       "\n",
       "    .dataframe tbody tr th {\n",
       "        vertical-align: top;\n",
       "    }\n",
       "\n",
       "    .dataframe thead th {\n",
       "        text-align: right;\n",
       "    }\n",
       "</style>\n",
       "<table border=\"1\" class=\"dataframe\">\n",
       "  <thead>\n",
       "    <tr style=\"text-align: right;\">\n",
       "      <th></th>\n",
       "      <th>Ganho</th>\n",
       "    </tr>\n",
       "  </thead>\n",
       "  <tbody>\n",
       "    <tr>\n",
       "      <th>Alelo</th>\n",
       "      <td>1123.200</td>\n",
       "    </tr>\n",
       "    <tr>\n",
       "      <th>BB</th>\n",
       "      <td>12532.260</td>\n",
       "    </tr>\n",
       "    <tr>\n",
       "      <th>Cash</th>\n",
       "      <td>92.000</td>\n",
       "    </tr>\n",
       "    <tr>\n",
       "      <th>Easy</th>\n",
       "      <td>140.330</td>\n",
       "    </tr>\n",
       "    <tr>\n",
       "      <th>Nu</th>\n",
       "      <td>5375.270</td>\n",
       "    </tr>\n",
       "  </tbody>\n",
       "</table>\n",
       "</div>"
      ],
      "text/plain": [
       "          Ganho\n",
       "Alelo  1123.200\n",
       "BB    12532.260\n",
       "Cash     92.000\n",
       "Easy    140.330\n",
       "Nu     5375.270"
      ]
     },
     "execution_count": 8,
     "metadata": {},
     "output_type": "execute_result"
    }
   ],
   "source": [
    "dgb = l.group_sum(dg, group=['Conta']).sum()['Valor']\n",
    "dgb.index.name = None\n",
    "dgb = pd.DataFrame(dgb, columns=['Ganho'])\n",
    "dgb"
   ]
  },
  {
   "cell_type": "code",
   "execution_count": 9,
   "metadata": {},
   "outputs": [
    {
     "data": {
      "text/html": [
       "<div>\n",
       "<style scoped>\n",
       "    .dataframe tbody tr th:only-of-type {\n",
       "        vertical-align: middle;\n",
       "    }\n",
       "\n",
       "    .dataframe tbody tr th {\n",
       "        vertical-align: top;\n",
       "    }\n",
       "\n",
       "    .dataframe thead th {\n",
       "        text-align: right;\n",
       "    }\n",
       "</style>\n",
       "<table border=\"1\" class=\"dataframe\">\n",
       "  <thead>\n",
       "    <tr style=\"text-align: right;\">\n",
       "      <th></th>\n",
       "      <th>Gasto</th>\n",
       "    </tr>\n",
       "  </thead>\n",
       "  <tbody>\n",
       "    <tr>\n",
       "      <th>Alelo</th>\n",
       "      <td>195.680</td>\n",
       "    </tr>\n",
       "    <tr>\n",
       "      <th>BB</th>\n",
       "      <td>41.190</td>\n",
       "    </tr>\n",
       "    <tr>\n",
       "      <th>Cash</th>\n",
       "      <td>89.500</td>\n",
       "    </tr>\n",
       "    <tr>\n",
       "      <th>Nu</th>\n",
       "      <td>310.520</td>\n",
       "    </tr>\n",
       "    <tr>\n",
       "      <th>Pais</th>\n",
       "      <td>10425.333</td>\n",
       "    </tr>\n",
       "  </tbody>\n",
       "</table>\n",
       "</div>"
      ],
      "text/plain": [
       "          Gasto\n",
       "Alelo   195.680\n",
       "BB       41.190\n",
       "Cash     89.500\n",
       "Nu      310.520\n",
       "Pais  10425.333"
      ]
     },
     "execution_count": 9,
     "metadata": {},
     "output_type": "execute_result"
    }
   ],
   "source": [
    "dfb = l.group_sum(df, group=['Pagamento']).sum()['Valor']\n",
    "dfb.index.name = None\n",
    "dfb = pd.DataFrame(dfb, columns=['Gasto'])\n",
    "dfb"
   ]
  },
  {
   "cell_type": "code",
   "execution_count": 10,
   "metadata": {},
   "outputs": [
    {
     "data": {
      "text/html": [
       "<div>\n",
       "<style scoped>\n",
       "    .dataframe tbody tr th:only-of-type {\n",
       "        vertical-align: middle;\n",
       "    }\n",
       "\n",
       "    .dataframe tbody tr th {\n",
       "        vertical-align: top;\n",
       "    }\n",
       "\n",
       "    .dataframe thead th {\n",
       "        text-align: right;\n",
       "    }\n",
       "</style>\n",
       "<table border=\"1\" class=\"dataframe\">\n",
       "  <thead>\n",
       "    <tr style=\"text-align: right;\">\n",
       "      <th></th>\n",
       "      <th>Saldo</th>\n",
       "      <th>Lido</th>\n",
       "      <th>Erro</th>\n",
       "    </tr>\n",
       "  </thead>\n",
       "  <tbody>\n",
       "    <tr>\n",
       "      <th>Alelo</th>\n",
       "      <td>927.520</td>\n",
       "      <td>855.510</td>\n",
       "      <td>72.010</td>\n",
       "    </tr>\n",
       "    <tr>\n",
       "      <th>BB</th>\n",
       "      <td>0.000</td>\n",
       "      <td>0.000</td>\n",
       "      <td>0.000</td>\n",
       "    </tr>\n",
       "    <tr>\n",
       "      <th>Cash</th>\n",
       "      <td>2.500</td>\n",
       "      <td>269.000</td>\n",
       "      <td>-266.500</td>\n",
       "    </tr>\n",
       "    <tr>\n",
       "      <th>Easy</th>\n",
       "      <td>3197.000</td>\n",
       "      <td>3187.300</td>\n",
       "      <td>9.700</td>\n",
       "    </tr>\n",
       "    <tr>\n",
       "      <th>Nu</th>\n",
       "      <td>14499.150</td>\n",
       "      <td>14585.120</td>\n",
       "      <td>-85.970</td>\n",
       "    </tr>\n",
       "  </tbody>\n",
       "</table>\n",
       "</div>"
      ],
      "text/plain": [
       "          Saldo      Lido     Erro\n",
       "Alelo   927.520   855.510   72.010\n",
       "BB        0.000     0.000    0.000\n",
       "Cash      2.500   269.000 -266.500\n",
       "Easy   3197.000  3187.300    9.700\n",
       "Nu    14499.150 14585.120  -85.970"
      ]
     },
     "execution_count": 10,
     "metadata": {},
     "output_type": "execute_result"
    }
   ],
   "source": [
    "dmov = dgb.join(dfb).join(dtin).join(dtout)\n",
    "dmov = dmov.fillna(0)\n",
    "dmov['Saldo'] = dmov['Ganho'] + dmov['Recebido'] - dmov['Transferido'] - dmov['Gasto']\n",
    "dmov['Lido'] = [855.51, 0, 269, 3187.3, 14585.12]\n",
    "dmov['Erro'] = dmov['Saldo'] - dmov['Lido']\n",
    "dmov.loc[:, ['Saldo', 'Lido', 'Erro']]"
   ]
  },
  {
   "cell_type": "code",
   "execution_count": 11,
   "metadata": {},
   "outputs": [
    {
     "data": {
      "text/html": [
       "<div>\n",
       "<style scoped>\n",
       "    .dataframe tbody tr th:only-of-type {\n",
       "        vertical-align: middle;\n",
       "    }\n",
       "\n",
       "    .dataframe tbody tr th {\n",
       "        vertical-align: top;\n",
       "    }\n",
       "\n",
       "    .dataframe thead tr th {\n",
       "        text-align: left;\n",
       "    }\n",
       "</style>\n",
       "<table border=\"1\" class=\"dataframe\">\n",
       "  <thead>\n",
       "    <tr>\n",
       "      <th></th>\n",
       "      <th colspan=\"3\" halign=\"left\">Valor</th>\n",
       "    </tr>\n",
       "    <tr>\n",
       "      <th>Area</th>\n",
       "      <th>Investimento</th>\n",
       "      <th>Pais</th>\n",
       "      <th>Salario</th>\n",
       "    </tr>\n",
       "  </thead>\n",
       "  <tbody>\n",
       "    <tr>\n",
       "      <th>Ago/19</th>\n",
       "      <td>nan</td>\n",
       "      <td>12508.530</td>\n",
       "      <td>nan</td>\n",
       "    </tr>\n",
       "    <tr>\n",
       "      <th>Set/19</th>\n",
       "      <td>23.940</td>\n",
       "      <td>92.000</td>\n",
       "      <td>nan</td>\n",
       "    </tr>\n",
       "    <tr>\n",
       "      <th>Out/19</th>\n",
       "      <td>40.320</td>\n",
       "      <td>nan</td>\n",
       "      <td>3279.090</td>\n",
       "    </tr>\n",
       "    <tr>\n",
       "      <th>Nov/19</th>\n",
       "      <td>190.820</td>\n",
       "      <td>nan</td>\n",
       "      <td>3128.360</td>\n",
       "    </tr>\n",
       "  </tbody>\n",
       "</table>\n",
       "</div>"
      ],
      "text/plain": [
       "              Valor                   \n",
       "Area   Investimento      Pais  Salario\n",
       "Ago/19          nan 12508.530      nan\n",
       "Set/19       23.940    92.000      nan\n",
       "Out/19       40.320       nan 3279.090\n",
       "Nov/19      190.820       nan 3128.360"
      ]
     },
     "execution_count": 11,
     "metadata": {},
     "output_type": "execute_result"
    }
   ],
   "source": [
    "l.group_sum(dg, group=['Area'])"
   ]
  },
  {
   "cell_type": "code",
   "execution_count": 12,
   "metadata": {},
   "outputs": [
    {
     "data": {
      "application/vnd.jupyter.widget-view+json": {
       "model_id": "557ed689003945258926b890c0dd0b12",
       "version_major": 2,
       "version_minor": 0
      },
      "text/plain": [
       "FigureWidget({\n",
       "    'data': [{'hoverinfo': 'y+name',\n",
       "              'line': {'color': 'rgb(0, 0, 0)', 'width': 0…"
      ]
     },
     "metadata": {},
     "output_type": "display_data"
    }
   ],
   "source": [
    "l.plot_stacked_area(l.row_percentage(l.group_sum(dg, group=['Area'])))"
   ]
  },
  {
   "cell_type": "code",
   "execution_count": 13,
   "metadata": {},
   "outputs": [
    {
     "data": {
      "application/vnd.jupyter.widget-view+json": {
       "model_id": "f66c8130f59d4a87ae33d855fea725fd",
       "version_major": 2,
       "version_minor": 0
      },
      "text/plain": [
       "FigureWidget({\n",
       "    'data': [{'hoverinfo': 'y+name',\n",
       "              'line': {'color': 'rgb(0, 0, 0)', 'width': 0…"
      ]
     },
     "metadata": {},
     "output_type": "display_data"
    }
   ],
   "source": [
    "l.plot_stacked_area(l.group_sum(dg, group=['Area']))"
   ]
  },
  {
   "cell_type": "code",
   "execution_count": 14,
   "metadata": {},
   "outputs": [
    {
     "data": {
      "application/vnd.jupyter.widget-view+json": {
       "model_id": "b7c7e266577a4720bb267061e2b25fdf",
       "version_major": 2,
       "version_minor": 0
      },
      "text/plain": [
       "FigureWidget({\n",
       "    'data': [{'hole': 0.4,\n",
       "              'labels': array(['Investimento', 'Pais', 'Salario'], d…"
      ]
     },
     "metadata": {},
     "output_type": "display_data"
    }
   ],
   "source": [
    "l.plot_pie(l.group_sum(dg, group=['Area']).sum())"
   ]
  },
  {
   "cell_type": "code",
   "execution_count": 15,
   "metadata": {},
   "outputs": [
    {
     "data": {
      "text/html": [
       "<div>\n",
       "<style scoped>\n",
       "    .dataframe tbody tr th:only-of-type {\n",
       "        vertical-align: middle;\n",
       "    }\n",
       "\n",
       "    .dataframe tbody tr th {\n",
       "        vertical-align: top;\n",
       "    }\n",
       "\n",
       "    .dataframe thead tr th {\n",
       "        text-align: left;\n",
       "    }\n",
       "</style>\n",
       "<table border=\"1\" class=\"dataframe\">\n",
       "  <thead>\n",
       "    <tr>\n",
       "      <th></th>\n",
       "      <th colspan=\"6\" halign=\"left\">Valor</th>\n",
       "    </tr>\n",
       "    <tr>\n",
       "      <th>Area</th>\n",
       "      <th>Alimentacao</th>\n",
       "      <th>Banco</th>\n",
       "      <th>Eletronicos</th>\n",
       "      <th>Estudo</th>\n",
       "      <th>Moradia</th>\n",
       "      <th>Transporte</th>\n",
       "    </tr>\n",
       "  </thead>\n",
       "  <tbody>\n",
       "    <tr>\n",
       "      <th>Set/19</th>\n",
       "      <td>975.300</td>\n",
       "      <td>13.250</td>\n",
       "      <td>nan</td>\n",
       "      <td>35.000</td>\n",
       "      <td>402.333</td>\n",
       "      <td>1230.100</td>\n",
       "    </tr>\n",
       "    <tr>\n",
       "      <th>Out/19</th>\n",
       "      <td>1180.610</td>\n",
       "      <td>2.640</td>\n",
       "      <td>nan</td>\n",
       "      <td>nan</td>\n",
       "      <td>402.333</td>\n",
       "      <td>1200.000</td>\n",
       "    </tr>\n",
       "    <tr>\n",
       "      <th>Nov/19</th>\n",
       "      <td>1360.610</td>\n",
       "      <td>nan</td>\n",
       "      <td>124.900</td>\n",
       "      <td>4.500</td>\n",
       "      <td>402.333</td>\n",
       "      <td>1200.000</td>\n",
       "    </tr>\n",
       "    <tr>\n",
       "      <th>Dez/19</th>\n",
       "      <td>837.000</td>\n",
       "      <td>nan</td>\n",
       "      <td>88.980</td>\n",
       "      <td>nan</td>\n",
       "      <td>402.333</td>\n",
       "      <td>1200.000</td>\n",
       "    </tr>\n",
       "  </tbody>\n",
       "</table>\n",
       "</div>"
      ],
      "text/plain": [
       "             Valor                                             \n",
       "Area   Alimentacao  Banco Eletronicos Estudo Moradia Transporte\n",
       "Set/19     975.300 13.250         nan 35.000 402.333   1230.100\n",
       "Out/19    1180.610  2.640         nan    nan 402.333   1200.000\n",
       "Nov/19    1360.610    nan     124.900  4.500 402.333   1200.000\n",
       "Dez/19     837.000    nan      88.980    nan 402.333   1200.000"
      ]
     },
     "execution_count": 15,
     "metadata": {},
     "output_type": "execute_result"
    }
   ],
   "source": [
    "spent_ar = l.group_sum(df, group=['Area'])\n",
    "spent_ar"
   ]
  },
  {
   "cell_type": "code",
   "execution_count": 16,
   "metadata": {},
   "outputs": [
    {
     "data": {
      "text/plain": [
       "Set/19    975.300\n",
       "Out/19   1180.610\n",
       "Nov/19   1360.610\n",
       "Dez/19    837.000\n",
       "Name: Alimentacao, dtype: float64"
      ]
     },
     "execution_count": 16,
     "metadata": {},
     "output_type": "execute_result"
    }
   ],
   "source": [
    "spent_ar['Valor']['Alimentacao']"
   ]
  },
  {
   "cell_type": "code",
   "execution_count": 17,
   "metadata": {},
   "outputs": [
    {
     "data": {
      "text/plain": [
       "Index(['Alimentacao', 'Banco', 'Eletronicos', 'Estudo', 'Moradia',\n",
       "       'Transporte'],\n",
       "      dtype='object', name='Area')"
      ]
     },
     "execution_count": 17,
     "metadata": {},
     "output_type": "execute_result"
    }
   ],
   "source": [
    "spent_ar.columns.levels[1]"
   ]
  },
  {
   "cell_type": "code",
   "execution_count": 18,
   "metadata": {},
   "outputs": [
    {
     "data": {
      "text/plain": [
       "Index(['Set/19', 'Out/19', 'Nov/19', 'Dez/19'], dtype='object')"
      ]
     },
     "execution_count": 18,
     "metadata": {},
     "output_type": "execute_result"
    }
   ],
   "source": [
    "spent_ar.index"
   ]
  },
  {
   "cell_type": "code",
   "execution_count": 19,
   "metadata": {},
   "outputs": [
    {
     "data": {
      "application/vnd.jupyter.widget-view+json": {
       "model_id": "38654a1f270c49b59c6cb9851f29a16e",
       "version_major": 2,
       "version_minor": 0
      },
      "text/plain": [
       "FigureWidget({\n",
       "    'data': [{'hoverinfo': 'y+name',\n",
       "              'line': {'color': 'rgb(0, 0, 0)', 'width': 0…"
      ]
     },
     "metadata": {},
     "output_type": "display_data"
    }
   ],
   "source": [
    "l.plot_stacked_area(l.row_percentage(spent_ar))"
   ]
  },
  {
   "cell_type": "code",
   "execution_count": 20,
   "metadata": {},
   "outputs": [
    {
     "data": {
      "application/vnd.jupyter.widget-view+json": {
       "model_id": "4fbe5e97f77f466e92d8222d719bcf60",
       "version_major": 2,
       "version_minor": 0
      },
      "text/plain": [
       "FigureWidget({\n",
       "    'data': [{'hoverinfo': 'y+name',\n",
       "              'line': {'color': 'rgb(0, 0, 0)', 'width': 0…"
      ]
     },
     "metadata": {},
     "output_type": "display_data"
    }
   ],
   "source": [
    "l.plot_stacked_area(spent_ar)"
   ]
  },
  {
   "cell_type": "code",
   "execution_count": 21,
   "metadata": {},
   "outputs": [
    {
     "data": {
      "application/vnd.jupyter.widget-view+json": {
       "model_id": "7b3adaedfcd149cfabe876a175831170",
       "version_major": 2,
       "version_minor": 0
      },
      "text/plain": [
       "FigureWidget({\n",
       "    'data': [{'hole': 0.4,\n",
       "              'labels': array(['Alimentacao', 'Banco', 'Eletronicos'…"
      ]
     },
     "metadata": {},
     "output_type": "display_data"
    }
   ],
   "source": [
    "l.plot_pie(l.group_sum(df, group=['Area']).sum())"
   ]
  },
  {
   "cell_type": "code",
   "execution_count": 22,
   "metadata": {
    "scrolled": true
   },
   "outputs": [
    {
     "data": {
      "text/html": [
       "<div>\n",
       "<style scoped>\n",
       "    .dataframe tbody tr th:only-of-type {\n",
       "        vertical-align: middle;\n",
       "    }\n",
       "\n",
       "    .dataframe tbody tr th {\n",
       "        vertical-align: top;\n",
       "    }\n",
       "\n",
       "    .dataframe thead tr th {\n",
       "        text-align: left;\n",
       "    }\n",
       "</style>\n",
       "<table border=\"1\" class=\"dataframe\">\n",
       "  <thead>\n",
       "    <tr>\n",
       "      <th></th>\n",
       "      <th colspan=\"4\" halign=\"left\">Valor</th>\n",
       "    </tr>\n",
       "    <tr>\n",
       "      <th>Area</th>\n",
       "      <th>Alimentacao</th>\n",
       "      <th>Banco</th>\n",
       "      <th>Eletronicos</th>\n",
       "      <th>Estudo</th>\n",
       "    </tr>\n",
       "  </thead>\n",
       "  <tbody>\n",
       "    <tr>\n",
       "      <th>Set/19</th>\n",
       "      <td>75.300</td>\n",
       "      <td>13.250</td>\n",
       "      <td>nan</td>\n",
       "      <td>35.000</td>\n",
       "    </tr>\n",
       "    <tr>\n",
       "      <th>Out/19</th>\n",
       "      <td>193.610</td>\n",
       "      <td>2.640</td>\n",
       "      <td>nan</td>\n",
       "      <td>nan</td>\n",
       "    </tr>\n",
       "    <tr>\n",
       "      <th>Nov/19</th>\n",
       "      <td>223.610</td>\n",
       "      <td>nan</td>\n",
       "      <td>nan</td>\n",
       "      <td>4.500</td>\n",
       "    </tr>\n",
       "    <tr>\n",
       "      <th>Dez/19</th>\n",
       "      <td>nan</td>\n",
       "      <td>nan</td>\n",
       "      <td>88.980</td>\n",
       "      <td>nan</td>\n",
       "    </tr>\n",
       "  </tbody>\n",
       "</table>\n",
       "</div>"
      ],
      "text/plain": [
       "             Valor                          \n",
       "Area   Alimentacao  Banco Eletronicos Estudo\n",
       "Set/19      75.300 13.250         nan 35.000\n",
       "Out/19     193.610  2.640         nan    nan\n",
       "Nov/19     223.610    nan         nan  4.500\n",
       "Dez/19         nan    nan      88.980    nan"
      ]
     },
     "execution_count": 22,
     "metadata": {},
     "output_type": "execute_result"
    }
   ],
   "source": [
    "l.group_sum(df[df['Pagamento'] != 'Pais'], group=['Area'])"
   ]
  },
  {
   "cell_type": "code",
   "execution_count": 23,
   "metadata": {},
   "outputs": [
    {
     "data": {
      "application/vnd.jupyter.widget-view+json": {
       "model_id": "c8623ffbf0a04a0b9509dafb8aeb2ccf",
       "version_major": 2,
       "version_minor": 0
      },
      "text/plain": [
       "FigureWidget({\n",
       "    'data': [{'hoverinfo': 'y+name',\n",
       "              'line': {'color': 'rgb(0, 0, 0)', 'width': 0…"
      ]
     },
     "metadata": {},
     "output_type": "display_data"
    }
   ],
   "source": [
    "l.plot_stacked_area(l.row_percentage(l.group_sum(df[df['Pagamento'] != 'Pais'], group=['Area'])))"
   ]
  },
  {
   "cell_type": "code",
   "execution_count": 24,
   "metadata": {
    "scrolled": false
   },
   "outputs": [
    {
     "data": {
      "application/vnd.jupyter.widget-view+json": {
       "model_id": "d5f4ea669b184d92abbaf463e3210ee4",
       "version_major": 2,
       "version_minor": 0
      },
      "text/plain": [
       "FigureWidget({\n",
       "    'data': [{'hoverinfo': 'y+name',\n",
       "              'line': {'color': 'rgb(0, 0, 0)', 'width': 0…"
      ]
     },
     "metadata": {},
     "output_type": "display_data"
    }
   ],
   "source": [
    "l.plot_stacked_area(l.group_sum(df[df['Pagamento'] != 'Pais'], group=['Area']))"
   ]
  },
  {
   "cell_type": "code",
   "execution_count": 25,
   "metadata": {},
   "outputs": [
    {
     "data": {
      "application/vnd.jupyter.widget-view+json": {
       "model_id": "228f9d6301db47a69554e40639e67a94",
       "version_major": 2,
       "version_minor": 0
      },
      "text/plain": [
       "FigureWidget({\n",
       "    'data': [{'hole': 0.4,\n",
       "              'labels': array(['Alimentacao', 'Banco', 'Eletronicos'…"
      ]
     },
     "metadata": {},
     "output_type": "display_data"
    }
   ],
   "source": [
    "l.plot_pie(l.group_sum(df[df['Pagamento'] != 'Pais'], group=['Area']).sum())"
   ]
  },
  {
   "cell_type": "code",
   "execution_count": 26,
   "metadata": {},
   "outputs": [
    {
     "data": {
      "text/html": [
       "<div>\n",
       "<style scoped>\n",
       "    .dataframe tbody tr th:only-of-type {\n",
       "        vertical-align: middle;\n",
       "    }\n",
       "\n",
       "    .dataframe tbody tr th {\n",
       "        vertical-align: top;\n",
       "    }\n",
       "\n",
       "    .dataframe thead th {\n",
       "        text-align: right;\n",
       "    }\n",
       "</style>\n",
       "<table border=\"1\" class=\"dataframe\">\n",
       "  <thead>\n",
       "    <tr style=\"text-align: right;\">\n",
       "      <th></th>\n",
       "      <th>Valor</th>\n",
       "      <th>Avg</th>\n",
       "    </tr>\n",
       "  </thead>\n",
       "  <tbody>\n",
       "    <tr>\n",
       "      <th>Set/19</th>\n",
       "      <td>2655.983</td>\n",
       "      <td>2844.637</td>\n",
       "    </tr>\n",
       "    <tr>\n",
       "      <th>Out/19</th>\n",
       "      <td>2785.583</td>\n",
       "      <td>2844.637</td>\n",
       "    </tr>\n",
       "    <tr>\n",
       "      <th>Nov/19</th>\n",
       "      <td>3092.343</td>\n",
       "      <td>2844.637</td>\n",
       "    </tr>\n",
       "    <tr>\n",
       "      <th>Dez/19</th>\n",
       "      <td>2528.313</td>\n",
       "      <td>2802.080</td>\n",
       "    </tr>\n",
       "  </tbody>\n",
       "</table>\n",
       "</div>"
      ],
      "text/plain": [
       "          Valor      Avg\n",
       "Set/19 2655.983 2844.637\n",
       "Out/19 2785.583 2844.637\n",
       "Nov/19 3092.343 2844.637\n",
       "Dez/19 2528.313 2802.080"
      ]
     },
     "execution_count": 26,
     "metadata": {},
     "output_type": "execute_result"
    }
   ],
   "source": [
    "l.window_mean(l.group_sum(df, group=[]))"
   ]
  },
  {
   "cell_type": "code",
   "execution_count": 27,
   "metadata": {},
   "outputs": [
    {
     "data": {
      "application/vnd.jupyter.widget-view+json": {
       "model_id": "b1849cc8550f478a816b0eb02f070d85",
       "version_major": 2,
       "version_minor": 0
      },
      "text/plain": [
       "FigureWidget({\n",
       "    'data': [{'marker': {'color': '#01FF49'},\n",
       "              'name': 'Ganho',\n",
       "              'typ…"
      ]
     },
     "metadata": {},
     "output_type": "display_data"
    }
   ],
   "source": [
    "fig = l.plot_bar(l.window_mean(l.group_sum(dg, group=[])), dtype='Ganho')\n",
    "l.plot_bar(l.window_mean(l.group_sum(df, group=[])), fig)"
   ]
  },
  {
   "cell_type": "code",
   "execution_count": 28,
   "metadata": {},
   "outputs": [
    {
     "data": {
      "text/html": [
       "<div>\n",
       "<style scoped>\n",
       "    .dataframe tbody tr th:only-of-type {\n",
       "        vertical-align: middle;\n",
       "    }\n",
       "\n",
       "    .dataframe tbody tr th {\n",
       "        vertical-align: top;\n",
       "    }\n",
       "\n",
       "    .dataframe thead th {\n",
       "        text-align: right;\n",
       "    }\n",
       "</style>\n",
       "<table border=\"1\" class=\"dataframe\">\n",
       "  <thead>\n",
       "    <tr style=\"text-align: right;\">\n",
       "      <th></th>\n",
       "      <th>Valor</th>\n",
       "      <th>Avg</th>\n",
       "    </tr>\n",
       "  </thead>\n",
       "  <tbody>\n",
       "    <tr>\n",
       "      <th>Set/19</th>\n",
       "      <td>123.550</td>\n",
       "      <td>182.637</td>\n",
       "    </tr>\n",
       "    <tr>\n",
       "      <th>Out/19</th>\n",
       "      <td>196.250</td>\n",
       "      <td>182.637</td>\n",
       "    </tr>\n",
       "    <tr>\n",
       "      <th>Nov/19</th>\n",
       "      <td>228.110</td>\n",
       "      <td>182.637</td>\n",
       "    </tr>\n",
       "    <tr>\n",
       "      <th>Dez/19</th>\n",
       "      <td>88.980</td>\n",
       "      <td>171.113</td>\n",
       "    </tr>\n",
       "  </tbody>\n",
       "</table>\n",
       "</div>"
      ],
      "text/plain": [
       "         Valor     Avg\n",
       "Set/19 123.550 182.637\n",
       "Out/19 196.250 182.637\n",
       "Nov/19 228.110 182.637\n",
       "Dez/19  88.980 171.113"
      ]
     },
     "execution_count": 28,
     "metadata": {},
     "output_type": "execute_result"
    }
   ],
   "source": [
    "l.window_mean(l.group_sum(df[df['Pagamento'] != 'Pais'], group=[]))"
   ]
  },
  {
   "cell_type": "code",
   "execution_count": 29,
   "metadata": {
    "scrolled": false
   },
   "outputs": [
    {
     "data": {
      "application/vnd.jupyter.widget-view+json": {
       "model_id": "50f9ff401c5942a0a774e87ca3c156e9",
       "version_major": 2,
       "version_minor": 0
      },
      "text/plain": [
       "FigureWidget({\n",
       "    'data': [{'marker': {'color': '#01FF49'},\n",
       "              'name': 'Ganho',\n",
       "              'typ…"
      ]
     },
     "metadata": {},
     "output_type": "display_data"
    }
   ],
   "source": [
    "fig = l.plot_bar(l.window_mean(l.group_sum(dg, group=[])), dtype='Ganho')\n",
    "l.plot_bar(l.window_mean(l.group_sum(df[df['Pagamento'] != 'Pais'], group=[])), fig)"
   ]
  },
  {
   "cell_type": "code",
   "execution_count": 30,
   "metadata": {},
   "outputs": [],
   "source": [
    "def plot_stacked_area(data, y):\n",
    "    fig = go.FigureWidget()\n",
    "    i = 200 \n",
    "    fig.add_trace(go.Scatter(x=data.index, y=data[y], \n",
    "                    hoverinfo='y+name',\n",
    "                    mode='lines',\n",
    "                    name=y,\n",
    "                    line=dict(width=0.5, color='rgb(' + str(180*(i%2)+30*(i%5)) + ', ' + str(90*(i%2)+30*(i%4)) + ', ' + str(30*(i%2)+40*(i%3)) + ')'),\n",
    "                    stackgroup='one' # define stack group                             \n",
    "                ))\n",
    "    return fig"
   ]
  },
  {
   "cell_type": "code",
   "execution_count": 31,
   "metadata": {},
   "outputs": [
    {
     "data": {
      "text/html": [
       "<div>\n",
       "<style scoped>\n",
       "    .dataframe tbody tr th:only-of-type {\n",
       "        vertical-align: middle;\n",
       "    }\n",
       "\n",
       "    .dataframe tbody tr th {\n",
       "        vertical-align: top;\n",
       "    }\n",
       "\n",
       "    .dataframe thead th {\n",
       "        text-align: right;\n",
       "    }\n",
       "</style>\n",
       "<table border=\"1\" class=\"dataframe\">\n",
       "  <thead>\n",
       "    <tr style=\"text-align: right;\">\n",
       "      <th></th>\n",
       "      <th>Ganho</th>\n",
       "      <th>Gasto</th>\n",
       "      <th>Saldo</th>\n",
       "      <th>Var</th>\n",
       "      <th>Crescimento</th>\n",
       "    </tr>\n",
       "  </thead>\n",
       "  <tbody>\n",
       "    <tr>\n",
       "      <th>Ago/19</th>\n",
       "      <td>12508.530</td>\n",
       "      <td>0.000</td>\n",
       "      <td>12508.530</td>\n",
       "      <td>12508.530</td>\n",
       "      <td>0.000</td>\n",
       "    </tr>\n",
       "    <tr>\n",
       "      <th>Set/19</th>\n",
       "      <td>115.940</td>\n",
       "      <td>123.550</td>\n",
       "      <td>12500.920</td>\n",
       "      <td>-7.610</td>\n",
       "      <td>-0.061</td>\n",
       "    </tr>\n",
       "    <tr>\n",
       "      <th>Out/19</th>\n",
       "      <td>3319.410</td>\n",
       "      <td>196.250</td>\n",
       "      <td>15624.080</td>\n",
       "      <td>3123.160</td>\n",
       "      <td>24.983</td>\n",
       "    </tr>\n",
       "    <tr>\n",
       "      <th>Nov/19</th>\n",
       "      <td>3319.180</td>\n",
       "      <td>228.110</td>\n",
       "      <td>18715.150</td>\n",
       "      <td>3091.070</td>\n",
       "      <td>19.784</td>\n",
       "    </tr>\n",
       "    <tr>\n",
       "      <th>Dez/19</th>\n",
       "      <td>0.000</td>\n",
       "      <td>88.980</td>\n",
       "      <td>18626.170</td>\n",
       "      <td>-88.980</td>\n",
       "      <td>-0.475</td>\n",
       "    </tr>\n",
       "  </tbody>\n",
       "</table>\n",
       "</div>"
      ],
      "text/plain": [
       "           Ganho   Gasto     Saldo       Var  Crescimento\n",
       "Ago/19 12508.530   0.000 12508.530 12508.530        0.000\n",
       "Set/19   115.940 123.550 12500.920    -7.610       -0.061\n",
       "Out/19  3319.410 196.250 15624.080  3123.160       24.983\n",
       "Nov/19  3319.180 228.110 18715.150  3091.070       19.784\n",
       "Dez/19     0.000  88.980 18626.170   -88.980       -0.475"
      ]
     },
     "execution_count": 31,
     "metadata": {},
     "output_type": "execute_result"
    }
   ],
   "source": [
    "dfm = l.group_sum(df[df['Pagamento'] != 'Pais'], group=[])\n",
    "dfm.columns = ['Gasto']\n",
    "dgm = l.group_sum(dg, group=[])\n",
    "dgm.columns = ['Ganho']\n",
    "ds = dgm.join(dfm, how='outer')\n",
    "ds = ds.reindex(['Ago/19', 'Set/19', 'Out/19', 'Nov/19', 'Dez/19'])\n",
    "ds = ds.fillna(0)\n",
    "ds['Saldo'] = (ds['Ganho'] - ds['Gasto']).cumsum()\n",
    "ds['Var'] = ds['Ganho'] - ds['Gasto']\n",
    "ds['Crescimento'] = ds['Saldo'].rolling(2).apply(lambda x : 100*(x[1] - x[0])/x[0], raw=False)\n",
    "ds = ds.fillna(0)\n",
    "ds"
   ]
  },
  {
   "cell_type": "code",
   "execution_count": 32,
   "metadata": {},
   "outputs": [
    {
     "data": {
      "application/vnd.jupyter.widget-view+json": {
       "model_id": "de97891d1a0e472da06f30e8a17e9dbc",
       "version_major": 2,
       "version_minor": 0
      },
      "text/plain": [
       "FigureWidget({\n",
       "    'data': [{'hoverinfo': 'y+name',\n",
       "              'line': {'color': 'rgb(0, 0, 80)', 'width': …"
      ]
     },
     "metadata": {},
     "output_type": "display_data"
    }
   ],
   "source": [
    "plot_stacked_area(ds, 'Saldo')"
   ]
  },
  {
   "cell_type": "code",
   "execution_count": 33,
   "metadata": {},
   "outputs": [],
   "source": [
    "def plot_bar(data, y='Valor', fig=None, dtype='Gasto'):\n",
    "    fig = go.FigureWidget() if fig is None else fig\n",
    "    colors = ['#FF5949' if dtype == 'Gasto' else '#410F49', '#800B00' if dtype == 'Gasto' else '#660040']\n",
    "    fig.add_trace(go.Bar(x=data.index, y=data[y], marker=dict(color=colors[0]), name=(dtype)))\n",
    "    return fig"
   ]
  },
  {
   "cell_type": "code",
   "execution_count": 34,
   "metadata": {},
   "outputs": [
    {
     "data": {
      "application/vnd.jupyter.widget-view+json": {
       "model_id": "2c5a351a55f74a8f95dccd9c5d5d33fc",
       "version_major": 2,
       "version_minor": 0
      },
      "text/plain": [
       "FigureWidget({\n",
       "    'data': [{'marker': {'color': '#410F49'},\n",
       "              'name': 'Ganho',\n",
       "              'typ…"
      ]
     },
     "metadata": {},
     "output_type": "display_data"
    }
   ],
   "source": [
    "plot_bar(ds, y='Var', dtype='Ganho')"
   ]
  },
  {
   "cell_type": "code",
   "execution_count": 35,
   "metadata": {},
   "outputs": [
    {
     "data": {
      "application/vnd.jupyter.widget-view+json": {
       "model_id": "5cf8a603c48d4ed88be2adff619e7be8",
       "version_major": 2,
       "version_minor": 0
      },
      "text/plain": [
       "FigureWidget({\n",
       "    'data': [{'marker': {'color': '#410F49'},\n",
       "              'name': 'Ganho',\n",
       "              'typ…"
      ]
     },
     "metadata": {},
     "output_type": "display_data"
    }
   ],
   "source": [
    "plot_bar(ds, y='Crescimento', dtype='Ganho')"
   ]
  },
  {
   "cell_type": "code",
   "execution_count": null,
   "metadata": {},
   "outputs": [],
   "source": []
  }
 ],
 "metadata": {
  "kernelspec": {
   "display_name": "Python 3",
   "language": "python",
   "name": "python3"
  },
  "language_info": {
   "codemirror_mode": {
    "name": "ipython",
    "version": 3
   },
   "file_extension": ".py",
   "mimetype": "text/x-python",
   "name": "python",
   "nbconvert_exporter": "python",
   "pygments_lexer": "ipython3",
   "version": "3.7.3"
  }
 },
 "nbformat": 4,
 "nbformat_minor": 2
}
