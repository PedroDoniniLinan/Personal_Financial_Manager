{
 "cells": [
  {
   "cell_type": "markdown",
   "metadata": {},
   "source": [
    "# Future manager"
   ]
  },
  {
   "cell_type": "code",
   "execution_count": 1,
   "metadata": {},
   "outputs": [],
   "source": [
    "import numpy as np\n",
    "import pandas as pd\n",
    "import datetime as dt\n",
    "import seaborn as sns\n",
    "from plotly import tools\n",
    "import plotly.graph_objs as go\n",
    "from lib import plot as p\n",
    "from lib import data as d\n",
    "from lib import finance as f"
   ]
  },
  {
   "cell_type": "code",
   "execution_count": 2,
   "metadata": {},
   "outputs": [],
   "source": [
    "pd.set_option('display.float_format', lambda x: '%.3f' % x)\n",
    "\n",
    "lpalette = {'g':'#13E881', 'r':'#FF5949', 'o':'#FFB84C', 'b':'#A7BEFA', 'w':'#FFFFFF', 'pk':'#FFA1FD', 'bg':'#FFEDBA', 'c':'#90EBF0',\n",
    "            'pp':'#BBA0F0', 'g2':'#CCFFED', 'b2':'#E3EEFF', 'y':'#FFFC57'}\n",
    "dpalette = {'g':'#268040', 'r':'#800B00', 'o':'#A13808', 'b':'#464CC2', 'w':'#B8BFBA', 'pk':'#A04EA6', 'bg':'#807155', 'c':'#1D4544',\n",
    "            'pp':'#291147', 'g2':'#394742', 'b2':'#414449', 'y':'#666523'}"
   ]
  },
  {
   "cell_type": "markdown",
   "metadata": {},
   "source": [
    "# Predictions"
   ]
  },
  {
   "cell_type": "markdown",
   "metadata": {},
   "source": [
    "## Short-Term"
   ]
  },
  {
   "cell_type": "code",
   "execution_count": 3,
   "metadata": {},
   "outputs": [],
   "source": [
    "dg, df, dtr = f.read_finance()"
   ]
  },
  {
   "cell_type": "code",
   "execution_count": 4,
   "metadata": {},
   "outputs": [],
   "source": [
    "balance = f.calc_balance(dg, df)\n",
    "\n",
    "fund = d.window(f.calc_fund(balance.fillna(0)), val='Var')\n",
    "\n",
    "recent_income = balance['Renda média'].iloc[-2]\n",
    "recent_expense = balance['Despesa real média'].iloc[-2]\n",
    "recent_delta = recent_income - recent_expense\n",
    "\n",
    "avg_income = balance['Renda'].mean()\n",
    "avg_expense = balance['Despesa real'].mean()\n",
    "avg_delta = avg_income - avg_expense"
   ]
  },
  {
   "cell_type": "code",
   "execution_count": 5,
   "metadata": {},
   "outputs": [
    {
     "data": {
      "text/html": [
       "<style  type=\"text/css\" >\n",
       "    #T_89ee3350_721b_11ea_b82a_3cf862c21013 th {\n",
       "          font-size: 24px;\n",
       "    }    #T_89ee3350_721b_11ea_b82a_3cf862c21013 td {\n",
       "          font-size: 26px;\n",
       "          text-align: center;\n",
       "    }</style><table id=\"T_89ee3350_721b_11ea_b82a_3cf862c21013\" ><thead>    <tr>        <th class=\"col_heading level0 col0\" >Recent</th>        <th class=\"col_heading level0 col1\" >Average</th>        <th class=\"col_heading level0 col2\" >Manual</th>    </tr></thead><tbody>\n",
       "                <tr>\n",
       "                                <td id=\"T_89ee3350_721b_11ea_b82a_3cf862c21013row0_col0\" class=\"data row0 col0\" >87318.2</td>\n",
       "                        <td id=\"T_89ee3350_721b_11ea_b82a_3cf862c21013row0_col1\" class=\"data row0 col1\" >82604.8</td>\n",
       "                        <td id=\"T_89ee3350_721b_11ea_b82a_3cf862c21013row0_col2\" class=\"data row0 col2\" >91422.6</td>\n",
       "            </tr>\n",
       "    </tbody></table>"
      ],
      "text/plain": [
       "<pandas.io.formats.style.Styler at 0x1ca2df333c8>"
      ]
     },
     "execution_count": 5,
     "metadata": {},
     "output_type": "execute_result"
    }
   ],
   "source": [
    "months = 12\n",
    "manual_delta = ((6715+640.5)*9 - (1500*3 + 250*9) - 1500)/months\n",
    "\n",
    "current_fund = fund['Saldo'].iloc[-1]\n",
    "\n",
    "dfuture = pd.DataFrame([[current_fund + recent_delta*months, current_fund + avg_delta*months, current_fund + manual_delta*months]], columns=['Recent', 'Average', 'Manual'])\n",
    "p.change_df_prop(dfuture, 26)"
   ]
  },
  {
   "cell_type": "markdown",
   "metadata": {},
   "source": [
    "## Long-Term"
   ]
  },
  {
   "cell_type": "code",
   "execution_count": 6,
   "metadata": {},
   "outputs": [
    {
     "data": {
      "text/html": [
       "<div>\n",
       "<style scoped>\n",
       "    .dataframe tbody tr th:only-of-type {\n",
       "        vertical-align: middle;\n",
       "    }\n",
       "\n",
       "    .dataframe tbody tr th {\n",
       "        vertical-align: top;\n",
       "    }\n",
       "\n",
       "    .dataframe thead th {\n",
       "        text-align: right;\n",
       "    }\n",
       "</style>\n",
       "<table border=\"1\" class=\"dataframe\">\n",
       "  <thead>\n",
       "    <tr style=\"text-align: right;\">\n",
       "      <th></th>\n",
       "      <th>Yields</th>\n",
       "      <th>EUR</th>\n",
       "      <th>BRL</th>\n",
       "    </tr>\n",
       "  </thead>\n",
       "  <tbody>\n",
       "    <tr>\n",
       "      <th>0</th>\n",
       "      <td>0%</td>\n",
       "      <td>0.137</td>\n",
       "      <td>0.686</td>\n",
       "    </tr>\n",
       "    <tr>\n",
       "      <th>1</th>\n",
       "      <td>0.02%</td>\n",
       "      <td>0.191</td>\n",
       "      <td>0.957</td>\n",
       "    </tr>\n",
       "    <tr>\n",
       "      <th>2</th>\n",
       "      <td>0.05%</td>\n",
       "      <td>0.327</td>\n",
       "      <td>1.634</td>\n",
       "    </tr>\n",
       "    <tr>\n",
       "      <th>3</th>\n",
       "      <td>0.1%</td>\n",
       "      <td>0.855</td>\n",
       "      <td>4.274</td>\n",
       "    </tr>\n",
       "    <tr>\n",
       "      <th>4</th>\n",
       "      <td>0.15%</td>\n",
       "      <td>2.341</td>\n",
       "      <td>11.703</td>\n",
       "    </tr>\n",
       "  </tbody>\n",
       "</table>\n",
       "</div>"
      ],
      "text/plain": [
       "  Yields   EUR    BRL\n",
       "0     0% 0.137  0.686\n",
       "1  0.02% 0.191  0.957\n",
       "2  0.05% 0.327  1.634\n",
       "3   0.1% 0.855  4.274\n",
       "4  0.15% 2.341 11.703"
      ]
     },
     "execution_count": 6,
     "metadata": {},
     "output_type": "execute_result"
    }
   ],
   "source": [
    "years = 27\n",
    "income = 40000\n",
    "expenses = 3000*12\n",
    "yields = [0, 0.02, 0.05, 0.1, 0.15]\n",
    "initial_gain = ((6715+640.5)*9 - (1500*3 + 250*9) - 1500)/5\n",
    "current_fund = fund['Saldo'].iloc[-1]/5 + 15000\n",
    "\n",
    "f.predict_fund(income, expenses, yields, initial_gain, current_fund, years)"
   ]
  },
  {
   "cell_type": "code",
   "execution_count": 7,
   "metadata": {},
   "outputs": [
    {
     "data": {
      "text/html": [
       "<div>\n",
       "<style scoped>\n",
       "    .dataframe tbody tr th:only-of-type {\n",
       "        vertical-align: middle;\n",
       "    }\n",
       "\n",
       "    .dataframe tbody tr th {\n",
       "        vertical-align: top;\n",
       "    }\n",
       "\n",
       "    .dataframe thead th {\n",
       "        text-align: right;\n",
       "    }\n",
       "</style>\n",
       "<table border=\"1\" class=\"dataframe\">\n",
       "  <thead>\n",
       "    <tr style=\"text-align: right;\">\n",
       "      <th></th>\n",
       "      <th>Yields</th>\n",
       "      <th>EUR</th>\n",
       "      <th>BRL</th>\n",
       "    </tr>\n",
       "  </thead>\n",
       "  <tbody>\n",
       "    <tr>\n",
       "      <th>0</th>\n",
       "      <td>0%</td>\n",
       "      <td>0.177</td>\n",
       "      <td>0.886</td>\n",
       "    </tr>\n",
       "    <tr>\n",
       "      <th>1</th>\n",
       "      <td>0.02%</td>\n",
       "      <td>0.277</td>\n",
       "      <td>1.385</td>\n",
       "    </tr>\n",
       "    <tr>\n",
       "      <th>2</th>\n",
       "      <td>0.05%</td>\n",
       "      <td>0.581</td>\n",
       "      <td>2.903</td>\n",
       "    </tr>\n",
       "    <tr>\n",
       "      <th>3</th>\n",
       "      <td>0.1%</td>\n",
       "      <td>2.264</td>\n",
       "      <td>11.322</td>\n",
       "    </tr>\n",
       "    <tr>\n",
       "      <th>4</th>\n",
       "      <td>0.15%</td>\n",
       "      <td>9.467</td>\n",
       "      <td>47.334</td>\n",
       "    </tr>\n",
       "  </tbody>\n",
       "</table>\n",
       "</div>"
      ],
      "text/plain": [
       "  Yields   EUR    BRL\n",
       "0     0% 0.177  0.886\n",
       "1  0.02% 0.277  1.385\n",
       "2  0.05% 0.581  2.903\n",
       "3   0.1% 2.264 11.322\n",
       "4  0.15% 9.467 47.334"
      ]
     },
     "execution_count": 7,
     "metadata": {},
     "output_type": "execute_result"
    }
   ],
   "source": [
    "years = 37\n",
    "income = 40000\n",
    "expenses = 3000*12\n",
    "yields = [0, 0.02, 0.05, 0.1, 0.15]\n",
    "initial_gain = ((6715+640.5)*9 - (1500*3 + 250*9) - 1500)/5\n",
    "current_fund = fund['Saldo'].iloc[-1]/5 + 15000\n",
    "\n",
    "f.predict_fund(income, expenses, yields, initial_gain, current_fund, years)"
   ]
  },
  {
   "cell_type": "markdown",
   "metadata": {},
   "source": [
    "# Goal planner"
   ]
  },
  {
   "cell_type": "code",
   "execution_count": 8,
   "metadata": {},
   "outputs": [
    {
     "data": {
      "text/html": [
       "<div>\n",
       "<style scoped>\n",
       "    .dataframe tbody tr th:only-of-type {\n",
       "        vertical-align: middle;\n",
       "    }\n",
       "\n",
       "    .dataframe tbody tr th {\n",
       "        vertical-align: top;\n",
       "    }\n",
       "\n",
       "    .dataframe thead th {\n",
       "        text-align: right;\n",
       "    }\n",
       "</style>\n",
       "<table border=\"1\" class=\"dataframe\">\n",
       "  <thead>\n",
       "    <tr style=\"text-align: right;\">\n",
       "      <th></th>\n",
       "      <th>Yields</th>\n",
       "      <th>EUR</th>\n",
       "      <th>BRL</th>\n",
       "    </tr>\n",
       "  </thead>\n",
       "  <tbody>\n",
       "    <tr>\n",
       "      <th>0</th>\n",
       "      <td>0%</td>\n",
       "      <td>1.750</td>\n",
       "      <td>8.750</td>\n",
       "    </tr>\n",
       "    <tr>\n",
       "      <th>1</th>\n",
       "      <td>0.02%</td>\n",
       "      <td>1.122</td>\n",
       "      <td>5.609</td>\n",
       "    </tr>\n",
       "    <tr>\n",
       "      <th>2</th>\n",
       "      <td>0.05%</td>\n",
       "      <td>0.671</td>\n",
       "      <td>3.355</td>\n",
       "    </tr>\n",
       "    <tr>\n",
       "      <th>3</th>\n",
       "      <td>0.1%</td>\n",
       "      <td>0.382</td>\n",
       "      <td>1.909</td>\n",
       "    </tr>\n",
       "    <tr>\n",
       "      <th>4</th>\n",
       "      <td>0.15%</td>\n",
       "      <td>0.268</td>\n",
       "      <td>1.340</td>\n",
       "    </tr>\n",
       "  </tbody>\n",
       "</table>\n",
       "</div>"
      ],
      "text/plain": [
       "  Yields   EUR   BRL\n",
       "0     0% 1.750 8.750\n",
       "1  0.02% 1.122 5.609\n",
       "2  0.05% 0.671 3.355\n",
       "3   0.1% 0.382 1.909\n",
       "4  0.15% 0.268 1.340"
      ]
     },
     "execution_count": 8,
     "metadata": {},
     "output_type": "execute_result"
    }
   ],
   "source": [
    "life_expectancy = 50\n",
    "goal_income = 35000\n",
    "yields = [0, 0.02, 0.05, 0.1, 0.15]\n",
    "       \n",
    "f.predict_goal(goal_income, yields, life_expectancy)"
   ]
  },
  {
   "cell_type": "code",
   "execution_count": 9,
   "metadata": {},
   "outputs": [
    {
     "data": {
      "text/html": [
       "<div>\n",
       "<style scoped>\n",
       "    .dataframe tbody tr th:only-of-type {\n",
       "        vertical-align: middle;\n",
       "    }\n",
       "\n",
       "    .dataframe tbody tr th {\n",
       "        vertical-align: top;\n",
       "    }\n",
       "\n",
       "    .dataframe thead th {\n",
       "        text-align: right;\n",
       "    }\n",
       "</style>\n",
       "<table border=\"1\" class=\"dataframe\">\n",
       "  <thead>\n",
       "    <tr style=\"text-align: right;\">\n",
       "      <th></th>\n",
       "      <th>Yields</th>\n",
       "      <th>EUR</th>\n",
       "      <th>BRL</th>\n",
       "    </tr>\n",
       "  </thead>\n",
       "  <tbody>\n",
       "    <tr>\n",
       "      <th>0</th>\n",
       "      <td>0%</td>\n",
       "      <td>1.400</td>\n",
       "      <td>7.000</td>\n",
       "    </tr>\n",
       "    <tr>\n",
       "      <th>1</th>\n",
       "      <td>0.02%</td>\n",
       "      <td>0.977</td>\n",
       "      <td>4.883</td>\n",
       "    </tr>\n",
       "    <tr>\n",
       "      <th>2</th>\n",
       "      <td>0.05%</td>\n",
       "      <td>0.631</td>\n",
       "      <td>3.153</td>\n",
       "    </tr>\n",
       "    <tr>\n",
       "      <th>3</th>\n",
       "      <td>0.1%</td>\n",
       "      <td>0.376</td>\n",
       "      <td>1.882</td>\n",
       "    </tr>\n",
       "    <tr>\n",
       "      <th>4</th>\n",
       "      <td>0.15%</td>\n",
       "      <td>0.267</td>\n",
       "      <td>1.337</td>\n",
       "    </tr>\n",
       "  </tbody>\n",
       "</table>\n",
       "</div>"
      ],
      "text/plain": [
       "  Yields   EUR   BRL\n",
       "0     0% 1.400 7.000\n",
       "1  0.02% 0.977 4.883\n",
       "2  0.05% 0.631 3.153\n",
       "3   0.1% 0.376 1.882\n",
       "4  0.15% 0.267 1.337"
      ]
     },
     "execution_count": 9,
     "metadata": {},
     "output_type": "execute_result"
    }
   ],
   "source": [
    "life_expectancy = 40\n",
    "goal_income = 35000\n",
    "yields = [0, 0.02, 0.05, 0.1, 0.15]\n",
    "       \n",
    "f.predict_goal(goal_income, yields, life_expectancy)"
   ]
  }
 ],
 "metadata": {
  "kernelspec": {
   "display_name": "Python 3",
   "language": "python",
   "name": "python3"
  },
  "language_info": {
   "codemirror_mode": {
    "name": "ipython",
    "version": 3
   },
   "file_extension": ".py",
   "mimetype": "text/x-python",
   "name": "python",
   "nbconvert_exporter": "python",
   "pygments_lexer": "ipython3",
   "version": "3.7.3"
  }
 },
 "nbformat": 4,
 "nbformat_minor": 2
}
