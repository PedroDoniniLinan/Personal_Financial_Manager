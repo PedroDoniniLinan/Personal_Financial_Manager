{
 "cells": [
  {
   "cell_type": "markdown",
   "metadata": {},
   "source": [
    "# Portfolio management"
   ]
  },
  {
   "cell_type": "code",
   "execution_count": 1,
   "metadata": {},
   "outputs": [],
   "source": [
    "import numpy as np\n",
    "import pandas as pd\n",
    "import datetime as dt\n",
    "import seaborn as sns\n",
    "from plotly import tools\n",
    "import plotly.graph_objs as go\n",
    "# from lib import libs as l\n",
    "from lib import data as d\n",
    "from lib import plot as p\n",
    "from lib import finance as f"
   ]
  },
  {
   "cell_type": "code",
   "execution_count": 2,
   "metadata": {},
   "outputs": [],
   "source": [
    "pd.set_option('display.float_format', lambda x: '%.3f' % x)\n",
    "\n",
    "lpalette = {'g':'#13E881', 'r':'#FF5949', 'o':'#FFB84C', 'b':'#A7BEFA', 'w':'#FFFFFF', 'pk':'#FFA1FD', 'bg':'#FFEDBA', 'c':'#90EBF0',\n",
    "            'pp':'#BBA0F0', 'g2':'#CCFFED', 'b2':'#E3EEFF', 'y':'#FFFC57'}\n",
    "dpalette = {'g':'#268040', 'r':'#800B00', 'o':'#A13808', 'b':'#464CC2', 'w':'#B8BFBA', 'pk':'#A04EA6', 'bg':'#807155', 'c':'#1D4544',\n",
    "            'pp':'#291147', 'g2':'#394742', 'b2':'#414449', 'y':'#666523'}"
   ]
  },
  {
   "cell_type": "markdown",
   "metadata": {},
   "source": [
    "#### Reading data"
   ]
  },
  {
   "cell_type": "code",
   "execution_count": 3,
   "metadata": {},
   "outputs": [],
   "source": [
    "dquote = pd.read_csv('data/br_quotes.csv')\n",
    "dstocks = pd.read_csv('data/br_stocks.csv')\n",
    "dnu, dport, dport_inv, dprices = f.read_invest()\n",
    "\n",
    "dflow = dnu.groupby('ID').apply(f.calc_flows)\n",
    "dflow = dflow.reset_index(level=[0, 1])\n",
    "dflow.pop('level_1')\n",
    "dflow = dflow.sort_values(by=['Rendimento anual'], ascending=False).reset_index(drop=True)"
   ]
  },
  {
   "cell_type": "markdown",
   "metadata": {},
   "source": [
    "#### Calculating stocks return"
   ]
  },
  {
   "cell_type": "code",
   "execution_count": 4,
   "metadata": {},
   "outputs": [],
   "source": [
    "dreturn = pd.DataFrame()\n",
    "current_year = dt.date.today().year\n",
    "dreturn['Ticker'] = dquote['Ticker']\n",
    "dreturn['Predicted'] = [0 for j in dquote['Ticker']]\n",
    "weights = [0.05, 0.1, 0.15, 0.3, 0.4]\n",
    "for i in range(5):\n",
    "    year_i = current_year-4+i\n",
    "    dreturn[str(year_i)] = (dquote[str(year_i)] - dquote[str(year_i-1)]) / dquote[str(year_i-1)] \n",
    "    dreturn[str(year_i)] = dreturn[str(year_i)].apply(lambda x : 0 if pd.isnull(x) or x == np.inf else x)\n",
    "    dreturn['Predicted'] += dreturn[str(year_i)] * weights[i]"
   ]
  },
  {
   "cell_type": "markdown",
   "metadata": {},
   "source": [
    "# Screener"
   ]
  },
  {
   "cell_type": "code",
   "execution_count": 5,
   "metadata": {},
   "outputs": [
    {
     "data": {
      "text/html": [
       "<style  type=\"text/css\" >\n",
       "    #T_860e1dae_66c9_11ea_bc5b_3cf862c21013 th {\n",
       "          font-size: 20px;\n",
       "    }    #T_860e1dae_66c9_11ea_bc5b_3cf862c21013 td {\n",
       "          font-size: 22px;\n",
       "          text-align: center;\n",
       "    }</style><table id=\"T_860e1dae_66c9_11ea_bc5b_3cf862c21013\" ><thead>    <tr>        <th class=\"col_heading level0 col0\" >Ticker</th>        <th class=\"col_heading level0 col1\" >Score</th>        <th class=\"col_heading level0 col2\" >Price</th>        <th class=\"col_heading level0 col3\" >Return</th>        <th class=\"col_heading level0 col4\" >Risk</th>        <th class=\"col_heading level0 col5\" >Tax</th>        <th class=\"col_heading level0 col6\" >YTD</th>        <th class=\"col_heading level0 col7\" >Cat</th>        <th class=\"col_heading level0 col8\" >Geo</th>        <th class=\"col_heading level0 col9\" >Domain</th>        <th class=\"col_heading level0 col10\" >Asset</th>    </tr></thead><tbody>\n",
       "                <tr>\n",
       "                                <td id=\"T_860e1dae_66c9_11ea_bc5b_3cf862c21013row0_col0\" class=\"data row0 col0\" >IVVB11</td>\n",
       "                        <td id=\"T_860e1dae_66c9_11ea_bc5b_3cf862c21013row0_col1\" class=\"data row0 col1\" >6.43994</td>\n",
       "                        <td id=\"T_860e1dae_66c9_11ea_bc5b_3cf862c21013row0_col2\" class=\"data row0 col2\" >140.05</td>\n",
       "                        <td id=\"T_860e1dae_66c9_11ea_bc5b_3cf862c21013row0_col3\" class=\"data row0 col3\" >15.31%</td>\n",
       "                        <td id=\"T_860e1dae_66c9_11ea_bc5b_3cf862c21013row0_col4\" class=\"data row0 col4\" >12.18%</td>\n",
       "                        <td id=\"T_860e1dae_66c9_11ea_bc5b_3cf862c21013row0_col5\" class=\"data row0 col5\" >0.24%</td>\n",
       "                        <td id=\"T_860e1dae_66c9_11ea_bc5b_3cf862c21013row0_col6\" class=\"data row0 col6\" >0.97%</td>\n",
       "                        <td id=\"T_860e1dae_66c9_11ea_bc5b_3cf862c21013row0_col7\" class=\"data row0 col7\" >2</td>\n",
       "                        <td id=\"T_860e1dae_66c9_11ea_bc5b_3cf862c21013row0_col8\" class=\"data row0 col8\" >USA</td>\n",
       "                        <td id=\"T_860e1dae_66c9_11ea_bc5b_3cf862c21013row0_col9\" class=\"data row0 col9\" >Tech</td>\n",
       "                        <td id=\"T_860e1dae_66c9_11ea_bc5b_3cf862c21013row0_col10\" class=\"data row0 col10\" >Equity</td>\n",
       "            </tr>\n",
       "            <tr>\n",
       "                                <td id=\"T_860e1dae_66c9_11ea_bc5b_3cf862c21013row1_col0\" class=\"data row1 col0\" >Cash</td>\n",
       "                        <td id=\"T_860e1dae_66c9_11ea_bc5b_3cf862c21013row1_col1\" class=\"data row1 col1\" >6.10837</td>\n",
       "                        <td id=\"T_860e1dae_66c9_11ea_bc5b_3cf862c21013row1_col2\" class=\"data row1 col2\" >6.7</td>\n",
       "                        <td id=\"T_860e1dae_66c9_11ea_bc5b_3cf862c21013row1_col3\" class=\"data row1 col3\" >0.0%</td>\n",
       "                        <td id=\"T_860e1dae_66c9_11ea_bc5b_3cf862c21013row1_col4\" class=\"data row1 col4\" >0.0%</td>\n",
       "                        <td id=\"T_860e1dae_66c9_11ea_bc5b_3cf862c21013row1_col5\" class=\"data row1 col5\" >0.0%</td>\n",
       "                        <td id=\"T_860e1dae_66c9_11ea_bc5b_3cf862c21013row1_col6\" class=\"data row1 col6\" >0.0%</td>\n",
       "                        <td id=\"T_860e1dae_66c9_11ea_bc5b_3cf862c21013row1_col7\" class=\"data row1 col7\" >0</td>\n",
       "                        <td id=\"T_860e1dae_66c9_11ea_bc5b_3cf862c21013row1_col8\" class=\"data row1 col8\" >Cash</td>\n",
       "                        <td id=\"T_860e1dae_66c9_11ea_bc5b_3cf862c21013row1_col9\" class=\"data row1 col9\" >Basic Mat</td>\n",
       "                        <td id=\"T_860e1dae_66c9_11ea_bc5b_3cf862c21013row1_col10\" class=\"data row1 col10\" >Cash</td>\n",
       "            </tr>\n",
       "            <tr>\n",
       "                                <td id=\"T_860e1dae_66c9_11ea_bc5b_3cf862c21013row2_col0\" class=\"data row2 col0\" >DIVO11</td>\n",
       "                        <td id=\"T_860e1dae_66c9_11ea_bc5b_3cf862c21013row2_col1\" class=\"data row2 col1\" >4.88618</td>\n",
       "                        <td id=\"T_860e1dae_66c9_11ea_bc5b_3cf862c21013row2_col2\" class=\"data row2 col2\" >54.94</td>\n",
       "                        <td id=\"T_860e1dae_66c9_11ea_bc5b_3cf862c21013row2_col3\" class=\"data row2 col3\" >12.28%</td>\n",
       "                        <td id=\"T_860e1dae_66c9_11ea_bc5b_3cf862c21013row2_col4\" class=\"data row2 col4\" >19.25%</td>\n",
       "                        <td id=\"T_860e1dae_66c9_11ea_bc5b_3cf862c21013row2_col5\" class=\"data row2 col5\" >0.5%</td>\n",
       "                        <td id=\"T_860e1dae_66c9_11ea_bc5b_3cf862c21013row2_col6\" class=\"data row2 col6\" >-20.95%</td>\n",
       "                        <td id=\"T_860e1dae_66c9_11ea_bc5b_3cf862c21013row2_col7\" class=\"data row2 col7\" >3</td>\n",
       "                        <td id=\"T_860e1dae_66c9_11ea_bc5b_3cf862c21013row2_col8\" class=\"data row2 col8\" >USA</td>\n",
       "                        <td id=\"T_860e1dae_66c9_11ea_bc5b_3cf862c21013row2_col9\" class=\"data row2 col9\" >Util</td>\n",
       "                        <td id=\"T_860e1dae_66c9_11ea_bc5b_3cf862c21013row2_col10\" class=\"data row2 col10\" >Equity</td>\n",
       "            </tr>\n",
       "            <tr>\n",
       "                                <td id=\"T_860e1dae_66c9_11ea_bc5b_3cf862c21013row3_col0\" class=\"data row3 col0\" >BBSD11</td>\n",
       "                        <td id=\"T_860e1dae_66c9_11ea_bc5b_3cf862c21013row3_col1\" class=\"data row3 col1\" >4.71577</td>\n",
       "                        <td id=\"T_860e1dae_66c9_11ea_bc5b_3cf862c21013row3_col2\" class=\"data row3 col2\" >71.1</td>\n",
       "                        <td id=\"T_860e1dae_66c9_11ea_bc5b_3cf862c21013row3_col3\" class=\"data row3 col3\" >10.05%</td>\n",
       "                        <td id=\"T_860e1dae_66c9_11ea_bc5b_3cf862c21013row3_col4\" class=\"data row3 col4\" >17.73%</td>\n",
       "                        <td id=\"T_860e1dae_66c9_11ea_bc5b_3cf862c21013row3_col5\" class=\"data row3 col5\" >0.5%</td>\n",
       "                        <td id=\"T_860e1dae_66c9_11ea_bc5b_3cf862c21013row3_col6\" class=\"data row3 col6\" >-25.73%</td>\n",
       "                        <td id=\"T_860e1dae_66c9_11ea_bc5b_3cf862c21013row3_col7\" class=\"data row3 col7\" >3</td>\n",
       "                        <td id=\"T_860e1dae_66c9_11ea_bc5b_3cf862c21013row3_col8\" class=\"data row3 col8\" >USA</td>\n",
       "                        <td id=\"T_860e1dae_66c9_11ea_bc5b_3cf862c21013row3_col9\" class=\"data row3 col9\" >Indust</td>\n",
       "                        <td id=\"T_860e1dae_66c9_11ea_bc5b_3cf862c21013row3_col10\" class=\"data row3 col10\" >Equity</td>\n",
       "            </tr>\n",
       "            <tr>\n",
       "                                <td id=\"T_860e1dae_66c9_11ea_bc5b_3cf862c21013row4_col0\" class=\"data row4 col0\" >BRAX11</td>\n",
       "                        <td id=\"T_860e1dae_66c9_11ea_bc5b_3cf862c21013row4_col1\" class=\"data row4 col1\" >3.99462</td>\n",
       "                        <td id=\"T_860e1dae_66c9_11ea_bc5b_3cf862c21013row4_col2\" class=\"data row4 col2\" >67.4</td>\n",
       "                        <td id=\"T_860e1dae_66c9_11ea_bc5b_3cf862c21013row4_col3\" class=\"data row4 col3\" >4.46%</td>\n",
       "                        <td id=\"T_860e1dae_66c9_11ea_bc5b_3cf862c21013row4_col4\" class=\"data row4 col4\" >17.38%</td>\n",
       "                        <td id=\"T_860e1dae_66c9_11ea_bc5b_3cf862c21013row4_col5\" class=\"data row4 col5\" >0.2%</td>\n",
       "                        <td id=\"T_860e1dae_66c9_11ea_bc5b_3cf862c21013row4_col6\" class=\"data row4 col6\" >-29.68%</td>\n",
       "                        <td id=\"T_860e1dae_66c9_11ea_bc5b_3cf862c21013row4_col7\" class=\"data row4 col7\" >1</td>\n",
       "                        <td id=\"T_860e1dae_66c9_11ea_bc5b_3cf862c21013row4_col8\" class=\"data row4 col8\" >BR</td>\n",
       "                        <td id=\"T_860e1dae_66c9_11ea_bc5b_3cf862c21013row4_col9\" class=\"data row4 col9\" >Finance</td>\n",
       "                        <td id=\"T_860e1dae_66c9_11ea_bc5b_3cf862c21013row4_col10\" class=\"data row4 col10\" >Equity</td>\n",
       "            </tr>\n",
       "            <tr>\n",
       "                                <td id=\"T_860e1dae_66c9_11ea_bc5b_3cf862c21013row5_col0\" class=\"data row5 col0\" >BOVB11</td>\n",
       "                        <td id=\"T_860e1dae_66c9_11ea_bc5b_3cf862c21013row5_col1\" class=\"data row5 col1\" >3.7438</td>\n",
       "                        <td id=\"T_860e1dae_66c9_11ea_bc5b_3cf862c21013row5_col2\" class=\"data row5 col2\" >80.5</td>\n",
       "                        <td id=\"T_860e1dae_66c9_11ea_bc5b_3cf862c21013row5_col3\" class=\"data row5 col3\" >3.42%</td>\n",
       "                        <td id=\"T_860e1dae_66c9_11ea_bc5b_3cf862c21013row5_col4\" class=\"data row5 col4\" >17.73%</td>\n",
       "                        <td id=\"T_860e1dae_66c9_11ea_bc5b_3cf862c21013row5_col5\" class=\"data row5 col5\" >0.2%</td>\n",
       "                        <td id=\"T_860e1dae_66c9_11ea_bc5b_3cf862c21013row5_col6\" class=\"data row5 col6\" >-30.42%</td>\n",
       "                        <td id=\"T_860e1dae_66c9_11ea_bc5b_3cf862c21013row5_col7\" class=\"data row5 col7\" >1</td>\n",
       "                        <td id=\"T_860e1dae_66c9_11ea_bc5b_3cf862c21013row5_col8\" class=\"data row5 col8\" >BR</td>\n",
       "                        <td id=\"T_860e1dae_66c9_11ea_bc5b_3cf862c21013row5_col9\" class=\"data row5 col9\" >Finance</td>\n",
       "                        <td id=\"T_860e1dae_66c9_11ea_bc5b_3cf862c21013row5_col10\" class=\"data row5 col10\" >Equity</td>\n",
       "            </tr>\n",
       "            <tr>\n",
       "                                <td id=\"T_860e1dae_66c9_11ea_bc5b_3cf862c21013row6_col0\" class=\"data row6 col0\" >BOVV11</td>\n",
       "                        <td id=\"T_860e1dae_66c9_11ea_bc5b_3cf862c21013row6_col1\" class=\"data row6 col1\" >3.70208</td>\n",
       "                        <td id=\"T_860e1dae_66c9_11ea_bc5b_3cf862c21013row6_col2\" class=\"data row6 col2\" >80.5</td>\n",
       "                        <td id=\"T_860e1dae_66c9_11ea_bc5b_3cf862c21013row6_col3\" class=\"data row6 col3\" >3.47%</td>\n",
       "                        <td id=\"T_860e1dae_66c9_11ea_bc5b_3cf862c21013row6_col4\" class=\"data row6 col4\" >17.73%</td>\n",
       "                        <td id=\"T_860e1dae_66c9_11ea_bc5b_3cf862c21013row6_col5\" class=\"data row6 col5\" >0.3%</td>\n",
       "                        <td id=\"T_860e1dae_66c9_11ea_bc5b_3cf862c21013row6_col6\" class=\"data row6 col6\" >-30.75%</td>\n",
       "                        <td id=\"T_860e1dae_66c9_11ea_bc5b_3cf862c21013row6_col7\" class=\"data row6 col7\" >1</td>\n",
       "                        <td id=\"T_860e1dae_66c9_11ea_bc5b_3cf862c21013row6_col8\" class=\"data row6 col8\" >BR</td>\n",
       "                        <td id=\"T_860e1dae_66c9_11ea_bc5b_3cf862c21013row6_col9\" class=\"data row6 col9\" >Finance</td>\n",
       "                        <td id=\"T_860e1dae_66c9_11ea_bc5b_3cf862c21013row6_col10\" class=\"data row6 col10\" >Equity</td>\n",
       "            </tr>\n",
       "            <tr>\n",
       "                                <td id=\"T_860e1dae_66c9_11ea_bc5b_3cf862c21013row7_col0\" class=\"data row7 col0\" >PIBB11</td>\n",
       "                        <td id=\"T_860e1dae_66c9_11ea_bc5b_3cf862c21013row7_col1\" class=\"data row7 col1\" >3.51328</td>\n",
       "                        <td id=\"T_860e1dae_66c9_11ea_bc5b_3cf862c21013row7_col2\" class=\"data row7 col2\" >132.93</td>\n",
       "                        <td id=\"T_860e1dae_66c9_11ea_bc5b_3cf862c21013row7_col3\" class=\"data row7 col3\" >2.15%</td>\n",
       "                        <td id=\"T_860e1dae_66c9_11ea_bc5b_3cf862c21013row7_col4\" class=\"data row7 col4\" >17.68%</td>\n",
       "                        <td id=\"T_860e1dae_66c9_11ea_bc5b_3cf862c21013row7_col5\" class=\"data row7 col5\" >0.06%</td>\n",
       "                        <td id=\"T_860e1dae_66c9_11ea_bc5b_3cf862c21013row7_col6\" class=\"data row7 col6\" >-31.88%</td>\n",
       "                        <td id=\"T_860e1dae_66c9_11ea_bc5b_3cf862c21013row7_col7\" class=\"data row7 col7\" >1.1</td>\n",
       "                        <td id=\"T_860e1dae_66c9_11ea_bc5b_3cf862c21013row7_col8\" class=\"data row7 col8\" >BR</td>\n",
       "                        <td id=\"T_860e1dae_66c9_11ea_bc5b_3cf862c21013row7_col9\" class=\"data row7 col9\" >Finance</td>\n",
       "                        <td id=\"T_860e1dae_66c9_11ea_bc5b_3cf862c21013row7_col10\" class=\"data row7 col10\" >Equity</td>\n",
       "            </tr>\n",
       "            <tr>\n",
       "                                <td id=\"T_860e1dae_66c9_11ea_bc5b_3cf862c21013row8_col0\" class=\"data row8 col0\" >GOVE11</td>\n",
       "                        <td id=\"T_860e1dae_66c9_11ea_bc5b_3cf862c21013row8_col1\" class=\"data row8 col1\" >2.98773</td>\n",
       "                        <td id=\"T_860e1dae_66c9_11ea_bc5b_3cf862c21013row8_col2\" class=\"data row8 col2\" >33.1</td>\n",
       "                        <td id=\"T_860e1dae_66c9_11ea_bc5b_3cf862c21013row8_col3\" class=\"data row8 col3\" >3.66%</td>\n",
       "                        <td id=\"T_860e1dae_66c9_11ea_bc5b_3cf862c21013row8_col4\" class=\"data row8 col4\" >22.55%</td>\n",
       "                        <td id=\"T_860e1dae_66c9_11ea_bc5b_3cf862c21013row8_col5\" class=\"data row8 col5\" >0.5%</td>\n",
       "                        <td id=\"T_860e1dae_66c9_11ea_bc5b_3cf862c21013row8_col6\" class=\"data row8 col6\" >-34.33%</td>\n",
       "                        <td id=\"T_860e1dae_66c9_11ea_bc5b_3cf862c21013row8_col7\" class=\"data row8 col7\" >1</td>\n",
       "                        <td id=\"T_860e1dae_66c9_11ea_bc5b_3cf862c21013row8_col8\" class=\"data row8 col8\" >BR</td>\n",
       "                        <td id=\"T_860e1dae_66c9_11ea_bc5b_3cf862c21013row8_col9\" class=\"data row8 col9\" >Finance</td>\n",
       "                        <td id=\"T_860e1dae_66c9_11ea_bc5b_3cf862c21013row8_col10\" class=\"data row8 col10\" >Equity</td>\n",
       "            </tr>\n",
       "            <tr>\n",
       "                                <td id=\"T_860e1dae_66c9_11ea_bc5b_3cf862c21013row9_col0\" class=\"data row9 col0\" >MATB11</td>\n",
       "                        <td id=\"T_860e1dae_66c9_11ea_bc5b_3cf862c21013row9_col1\" class=\"data row9 col1\" >2.24206</td>\n",
       "                        <td id=\"T_860e1dae_66c9_11ea_bc5b_3cf862c21013row9_col2\" class=\"data row9 col2\" >24</td>\n",
       "                        <td id=\"T_860e1dae_66c9_11ea_bc5b_3cf862c21013row9_col3\" class=\"data row9 col3\" >-0.92%</td>\n",
       "                        <td id=\"T_860e1dae_66c9_11ea_bc5b_3cf862c21013row9_col4\" class=\"data row9 col4\" >22.55%</td>\n",
       "                        <td id=\"T_860e1dae_66c9_11ea_bc5b_3cf862c21013row9_col5\" class=\"data row9 col5\" >0.5%</td>\n",
       "                        <td id=\"T_860e1dae_66c9_11ea_bc5b_3cf862c21013row9_col6\" class=\"data row9 col6\" >-33.63%</td>\n",
       "                        <td id=\"T_860e1dae_66c9_11ea_bc5b_3cf862c21013row9_col7\" class=\"data row9 col7\" >4</td>\n",
       "                        <td id=\"T_860e1dae_66c9_11ea_bc5b_3cf862c21013row9_col8\" class=\"data row9 col8\" >BR</td>\n",
       "                        <td id=\"T_860e1dae_66c9_11ea_bc5b_3cf862c21013row9_col9\" class=\"data row9 col9\" >Basic Mat</td>\n",
       "                        <td id=\"T_860e1dae_66c9_11ea_bc5b_3cf862c21013row9_col10\" class=\"data row9 col10\" >Equity</td>\n",
       "            </tr>\n",
       "    </tbody></table>"
      ],
      "text/plain": [
       "<pandas.io.formats.style.Styler at 0x1ae94a8a048>"
      ]
     },
     "execution_count": 5,
     "metadata": {},
     "output_type": "execute_result"
    }
   ],
   "source": [
    "assets = ['USA', 'EU', 'BR', 'EM', 'Bonds', 'Cash', 'Commod']\n",
    "industry = ['Basic Mat', 'Cons Cycl', 'Finance', 'Real Estate', 'Telecom', 'Energy', 'Indust', 'Tech', 'Cons Non-Cycl', 'Health', 'Util']\n",
    "\n",
    "dfull = f.calc_stocks_feat(dreturn, dstocks, dquote, assets, industry)\n",
    "\n",
    "screen = ['Ticker', 'Score', 'Price', 'Return', 'Risk', 'Tax', 'YTD', 'Cat', 'Geo', 'Domain', 'Asset']\n",
    "p.change_df_prop(dfull[screen].sort_values('Score', ascending=False).reset_index(drop=True))"
   ]
  },
  {
   "cell_type": "markdown",
   "metadata": {},
   "source": [
    "# Portfolio Overview"
   ]
  },
  {
   "cell_type": "code",
   "execution_count": 6,
   "metadata": {},
   "outputs": [],
   "source": [
    "dport_full = dport.join(dfull[['Ticker', 'Price', 'TER'] + assets + industry].set_index('Ticker'), on='Ticker')\n",
    "dport_full = f.calc_portfolio(dport_full)\n",
    "dport_bonds = f.add_bonds_to_port(dport_full, dflow, assets)\n",
    "dport_bonds = f.calc_distribution(dport_bonds, assets, industry)"
   ]
  },
  {
   "cell_type": "markdown",
   "metadata": {},
   "source": [
    "## Current state"
   ]
  },
  {
   "cell_type": "code",
   "execution_count": 7,
   "metadata": {},
   "outputs": [
    {
     "data": {
      "text/html": [
       "<style  type=\"text/css\" >\n",
       "    #T_861a8498_66c9_11ea_a87e_3cf862c21013 th {\n",
       "          font-size: 26px;\n",
       "    }    #T_861a8498_66c9_11ea_a87e_3cf862c21013 td {\n",
       "          font-size: 28px;\n",
       "          text-align: center;\n",
       "    }</style><table id=\"T_861a8498_66c9_11ea_a87e_3cf862c21013\" ><thead>    <tr>        <th class=\"col_heading level0 col0\" >Value</th>        <th class=\"col_heading level0 col1\" >Profit</th>        <th class=\"col_heading level0 col2\" >Yield</th>        <th class=\"col_heading level0 col3\" >Year profit</th>        <th class=\"col_heading level0 col4\" >Annual yield</th>    </tr></thead><tbody>\n",
       "                <tr>\n",
       "                                <td id=\"T_861a8498_66c9_11ea_a87e_3cf862c21013row0_col0\" class=\"data row0 col0\" >8363.2</td>\n",
       "                        <td id=\"T_861a8498_66c9_11ea_a87e_3cf862c21013row0_col1\" class=\"data row0 col1\" >-1447.2</td>\n",
       "                        <td id=\"T_861a8498_66c9_11ea_a87e_3cf862c21013row0_col2\" class=\"data row0 col2\" >-14.75%</td>\n",
       "                        <td id=\"T_861a8498_66c9_11ea_a87e_3cf862c21013row0_col3\" class=\"data row0 col3\" >-3785.93</td>\n",
       "                        <td id=\"T_861a8498_66c9_11ea_a87e_3cf862c21013row0_col4\" class=\"data row0 col4\" >-45.27%</td>\n",
       "            </tr>\n",
       "    </tbody></table>"
      ],
      "text/plain": [
       "<pandas.io.formats.style.Styler at 0x1ae94dad160>"
      ]
     },
     "execution_count": 7,
     "metadata": {},
     "output_type": "execute_result"
    }
   ],
   "source": [
    "dtotal = pd.DataFrame({\n",
    "    'Value': [(dport_full['Price'] * dport_full['Shares']).sum()],\n",
    "    'Profit': [dport_full['Profit'].sum()],\n",
    "    'Yield': [d.int2pct(dport_full['Profit'].sum() / (dport_full['Buy'] * dport_full['Shares']).sum())]\n",
    "})\n",
    "dtotal['Year profit'] = dport_full['Year profit'].sum()\n",
    "dtotal['Annual yield'] = (dtotal['Year profit'] / dtotal['Value']).apply(d.int2pct)\n",
    "p.change_df_prop(dtotal, 28)"
   ]
  },
  {
   "cell_type": "markdown",
   "metadata": {},
   "source": [
    "## Portfolio components"
   ]
  },
  {
   "cell_type": "code",
   "execution_count": 8,
   "metadata": {},
   "outputs": [
    {
     "data": {
      "text/html": [
       "<style  type=\"text/css\" >\n",
       "    #T_861d6776_66c9_11ea_9fee_3cf862c21013 th {\n",
       "          font-size: 22px;\n",
       "    }    #T_861d6776_66c9_11ea_9fee_3cf862c21013 td {\n",
       "          font-size: 24px;\n",
       "          text-align: center;\n",
       "    }</style><table id=\"T_861d6776_66c9_11ea_9fee_3cf862c21013\" ><thead>    <tr>        <th class=\"col_heading level0 col0\" >Ticker</th>        <th class=\"col_heading level0 col1\" >Value</th>        <th class=\"col_heading level0 col2\" >Profit</th>        <th class=\"col_heading level0 col3\" >Yield %</th>    </tr></thead><tbody>\n",
       "                <tr>\n",
       "                                <td id=\"T_861d6776_66c9_11ea_9fee_3cf862c21013row0_col0\" class=\"data row0 col0\" >IVVB11</td>\n",
       "                        <td id=\"T_861d6776_66c9_11ea_9fee_3cf862c21013row0_col1\" class=\"data row0 col1\" >1400.5</td>\n",
       "                        <td id=\"T_861d6776_66c9_11ea_9fee_3cf862c21013row0_col2\" class=\"data row0 col2\" >92.5</td>\n",
       "                        <td id=\"T_861d6776_66c9_11ea_9fee_3cf862c21013row0_col3\" class=\"data row0 col3\" >7.07%</td>\n",
       "            </tr>\n",
       "            <tr>\n",
       "                                <td id=\"T_861d6776_66c9_11ea_9fee_3cf862c21013row1_col0\" class=\"data row1 col0\" >BRAX11</td>\n",
       "                        <td id=\"T_861d6776_66c9_11ea_9fee_3cf862c21013row1_col1\" class=\"data row1 col1\" >674</td>\n",
       "                        <td id=\"T_861d6776_66c9_11ea_9fee_3cf862c21013row1_col2\" class=\"data row1 col2\" >-201</td>\n",
       "                        <td id=\"T_861d6776_66c9_11ea_9fee_3cf862c21013row1_col3\" class=\"data row1 col3\" >-22.97%</td>\n",
       "            </tr>\n",
       "            <tr>\n",
       "                                <td id=\"T_861d6776_66c9_11ea_9fee_3cf862c21013row2_col0\" class=\"data row2 col0\" >IVVB11</td>\n",
       "                        <td id=\"T_861d6776_66c9_11ea_9fee_3cf862c21013row2_col1\" class=\"data row2 col1\" >1400.5</td>\n",
       "                        <td id=\"T_861d6776_66c9_11ea_9fee_3cf862c21013row2_col2\" class=\"data row2 col2\" >10.2</td>\n",
       "                        <td id=\"T_861d6776_66c9_11ea_9fee_3cf862c21013row2_col3\" class=\"data row2 col3\" >0.73%</td>\n",
       "            </tr>\n",
       "            <tr>\n",
       "                                <td id=\"T_861d6776_66c9_11ea_9fee_3cf862c21013row3_col0\" class=\"data row3 col0\" >BBSD11</td>\n",
       "                        <td id=\"T_861d6776_66c9_11ea_9fee_3cf862c21013row3_col1\" class=\"data row3 col1\" >711</td>\n",
       "                        <td id=\"T_861d6776_66c9_11ea_9fee_3cf862c21013row3_col2\" class=\"data row3 col2\" >-246.2</td>\n",
       "                        <td id=\"T_861d6776_66c9_11ea_9fee_3cf862c21013row3_col3\" class=\"data row3 col3\" >-25.72%</td>\n",
       "            </tr>\n",
       "            <tr>\n",
       "                                <td id=\"T_861d6776_66c9_11ea_9fee_3cf862c21013row4_col0\" class=\"data row4 col0\" >BRAX11</td>\n",
       "                        <td id=\"T_861d6776_66c9_11ea_9fee_3cf862c21013row4_col1\" class=\"data row4 col1\" >674</td>\n",
       "                        <td id=\"T_861d6776_66c9_11ea_9fee_3cf862c21013row4_col2\" class=\"data row4 col2\" >-296.3</td>\n",
       "                        <td id=\"T_861d6776_66c9_11ea_9fee_3cf862c21013row4_col3\" class=\"data row4 col3\" >-30.54%</td>\n",
       "            </tr>\n",
       "            <tr>\n",
       "                                <td id=\"T_861d6776_66c9_11ea_9fee_3cf862c21013row5_col0\" class=\"data row5 col0\" >IVVB11</td>\n",
       "                        <td id=\"T_861d6776_66c9_11ea_9fee_3cf862c21013row5_col1\" class=\"data row5 col1\" >1400.5</td>\n",
       "                        <td id=\"T_861d6776_66c9_11ea_9fee_3cf862c21013row5_col2\" class=\"data row5 col2\" >-77.5</td>\n",
       "                        <td id=\"T_861d6776_66c9_11ea_9fee_3cf862c21013row5_col3\" class=\"data row5 col3\" >-5.24%</td>\n",
       "            </tr>\n",
       "            <tr>\n",
       "                                <td id=\"T_861d6776_66c9_11ea_9fee_3cf862c21013row6_col0\" class=\"data row6 col0\" >BBSD11</td>\n",
       "                        <td id=\"T_861d6776_66c9_11ea_9fee_3cf862c21013row6_col1\" class=\"data row6 col1\" >711</td>\n",
       "                        <td id=\"T_861d6776_66c9_11ea_9fee_3cf862c21013row6_col2\" class=\"data row6 col2\" >-255.7</td>\n",
       "                        <td id=\"T_861d6776_66c9_11ea_9fee_3cf862c21013row6_col3\" class=\"data row6 col3\" >-26.45%</td>\n",
       "            </tr>\n",
       "            <tr>\n",
       "                                <td id=\"T_861d6776_66c9_11ea_9fee_3cf862c21013row7_col0\" class=\"data row7 col0\" >BRAX11</td>\n",
       "                        <td id=\"T_861d6776_66c9_11ea_9fee_3cf862c21013row7_col1\" class=\"data row7 col1\" >674</td>\n",
       "                        <td id=\"T_861d6776_66c9_11ea_9fee_3cf862c21013row7_col2\" class=\"data row7 col2\" >-290</td>\n",
       "                        <td id=\"T_861d6776_66c9_11ea_9fee_3cf862c21013row7_col3\" class=\"data row7 col3\" >-30.08%</td>\n",
       "            </tr>\n",
       "            <tr>\n",
       "                                <td id=\"T_861d6776_66c9_11ea_9fee_3cf862c21013row8_col0\" class=\"data row8 col0\" >BBSD11</td>\n",
       "                        <td id=\"T_861d6776_66c9_11ea_9fee_3cf862c21013row8_col1\" class=\"data row8 col1\" >711</td>\n",
       "                        <td id=\"T_861d6776_66c9_11ea_9fee_3cf862c21013row8_col2\" class=\"data row8 col2\" >-183.2</td>\n",
       "                        <td id=\"T_861d6776_66c9_11ea_9fee_3cf862c21013row8_col3\" class=\"data row8 col3\" >-20.49%</td>\n",
       "            </tr>\n",
       "            <tr>\n",
       "                                <td id=\"T_861d6776_66c9_11ea_9fee_3cf862c21013row9_col0\" class=\"data row9 col0\" >Cash</td>\n",
       "                        <td id=\"T_861d6776_66c9_11ea_9fee_3cf862c21013row9_col1\" class=\"data row9 col1\" >6.7</td>\n",
       "                        <td id=\"T_861d6776_66c9_11ea_9fee_3cf862c21013row9_col2\" class=\"data row9 col2\" >0</td>\n",
       "                        <td id=\"T_861d6776_66c9_11ea_9fee_3cf862c21013row9_col3\" class=\"data row9 col3\" >0.0%</td>\n",
       "            </tr>\n",
       "            <tr>\n",
       "                                <td id=\"T_861d6776_66c9_11ea_9fee_3cf862c21013row10_col0\" class=\"data row10 col0\" >NU</td>\n",
       "                        <td id=\"T_861d6776_66c9_11ea_9fee_3cf862c21013row10_col1\" class=\"data row10 col1\" >24308.8</td>\n",
       "                        <td id=\"T_861d6776_66c9_11ea_9fee_3cf862c21013row10_col2\" class=\"data row10 col2\" >238.16</td>\n",
       "                        <td id=\"T_861d6776_66c9_11ea_9fee_3cf862c21013row10_col3\" class=\"data row10 col3\" >0.24%</td>\n",
       "            </tr>\n",
       "    </tbody></table>"
      ],
      "text/plain": [
       "<pandas.io.formats.style.Styler at 0x1ae94a48c18>"
      ]
     },
     "execution_count": 8,
     "metadata": {},
     "output_type": "execute_result"
    }
   ],
   "source": [
    "status = ['Ticker', 'Value', 'Profit', 'Yield %']\n",
    "p.change_df_prop(dport_bonds[status], 24)"
   ]
  },
  {
   "cell_type": "code",
   "execution_count": 9,
   "metadata": {},
   "outputs": [
    {
     "data": {
      "text/html": [
       "<style  type=\"text/css\" >\n",
       "    #T_8620587e_66c9_11ea_94c1_3cf862c21013 th {\n",
       "          font-size: 22px;\n",
       "    }    #T_8620587e_66c9_11ea_94c1_3cf862c21013 td {\n",
       "          font-size: 24px;\n",
       "          text-align: center;\n",
       "    }</style><table id=\"T_8620587e_66c9_11ea_94c1_3cf862c21013\" ><thead>    <tr>        <th class=\"col_heading level0 col0\" >Ticker</th>        <th class=\"col_heading level0 col1\" >Annual yield %</th>        <th class=\"col_heading level0 col2\" >Year profit</th>        <th class=\"col_heading level0 col3\" >Tax</th>        <th class=\"col_heading level0 col4\" >Annual yield (Liq.) %</th>        <th class=\"col_heading level0 col5\" >Year profit (Liq.)</th>    </tr></thead><tbody>\n",
       "                <tr>\n",
       "                                <td id=\"T_8620587e_66c9_11ea_94c1_3cf862c21013row0_col0\" class=\"data row0 col0\" >IVVB11</td>\n",
       "                        <td id=\"T_8620587e_66c9_11ea_94c1_3cf862c21013row0_col1\" class=\"data row0 col1\" >19.97%</td>\n",
       "                        <td id=\"T_8620587e_66c9_11ea_94c1_3cf862c21013row0_col2\" class=\"data row0 col2\" >279.639</td>\n",
       "                        <td id=\"T_8620587e_66c9_11ea_94c1_3cf862c21013row0_col3\" class=\"data row0 col3\" >18.46%</td>\n",
       "                        <td id=\"T_8620587e_66c9_11ea_94c1_3cf862c21013row0_col4\" class=\"data row0 col4\" >16.11%</td>\n",
       "                        <td id=\"T_8620587e_66c9_11ea_94c1_3cf862c21013row0_col5\" class=\"data row0 col5\" >225.625</td>\n",
       "            </tr>\n",
       "            <tr>\n",
       "                                <td id=\"T_8620587e_66c9_11ea_94c1_3cf862c21013row1_col0\" class=\"data row1 col0\" >BRAX11</td>\n",
       "                        <td id=\"T_8620587e_66c9_11ea_94c1_3cf862c21013row1_col1\" class=\"data row1 col1\" >-54.2%</td>\n",
       "                        <td id=\"T_8620587e_66c9_11ea_94c1_3cf862c21013row1_col2\" class=\"data row1 col2\" >-365.294</td>\n",
       "                        <td id=\"T_8620587e_66c9_11ea_94c1_3cf862c21013row1_col3\" class=\"data row1 col3\" >14.32%</td>\n",
       "                        <td id=\"T_8620587e_66c9_11ea_94c1_3cf862c21013row1_col4\" class=\"data row1 col4\" >-48.1%</td>\n",
       "                        <td id=\"T_8620587e_66c9_11ea_94c1_3cf862c21013row1_col5\" class=\"data row1 col5\" >-324.164</td>\n",
       "            </tr>\n",
       "            <tr>\n",
       "                                <td id=\"T_8620587e_66c9_11ea_94c1_3cf862c21013row2_col0\" class=\"data row2 col0\" >IVVB11</td>\n",
       "                        <td id=\"T_8620587e_66c9_11ea_94c1_3cf862c21013row2_col1\" class=\"data row2 col1\" >2.88%</td>\n",
       "                        <td id=\"T_8620587e_66c9_11ea_94c1_3cf862c21013row2_col2\" class=\"data row2 col2\" >40.3208</td>\n",
       "                        <td id=\"T_8620587e_66c9_11ea_94c1_3cf862c21013row2_col3\" class=\"data row2 col3\" >48.26%</td>\n",
       "                        <td id=\"T_8620587e_66c9_11ea_94c1_3cf862c21013row2_col4\" class=\"data row2 col4\" >1.48%</td>\n",
       "                        <td id=\"T_8620587e_66c9_11ea_94c1_3cf862c21013row2_col5\" class=\"data row2 col5\" >20.7559</td>\n",
       "            </tr>\n",
       "            <tr>\n",
       "                                <td id=\"T_8620587e_66c9_11ea_94c1_3cf862c21013row3_col0\" class=\"data row3 col0\" >BBSD11</td>\n",
       "                        <td id=\"T_8620587e_66c9_11ea_94c1_3cf862c21013row3_col1\" class=\"data row3 col1\" >-80.69%</td>\n",
       "                        <td id=\"T_8620587e_66c9_11ea_94c1_3cf862c21013row3_col2\" class=\"data row3 col2\" >-573.683</td>\n",
       "                        <td id=\"T_8620587e_66c9_11ea_94c1_3cf862c21013row3_col3\" class=\"data row3 col3\" >13.67%</td>\n",
       "                        <td id=\"T_8620587e_66c9_11ea_94c1_3cf862c21013row3_col4\" class=\"data row3 col4\" >-75.06%</td>\n",
       "                        <td id=\"T_8620587e_66c9_11ea_94c1_3cf862c21013row3_col5\" class=\"data row3 col5\" >-533.652</td>\n",
       "            </tr>\n",
       "            <tr>\n",
       "                                <td id=\"T_8620587e_66c9_11ea_94c1_3cf862c21013row4_col0\" class=\"data row4 col0\" >BRAX11</td>\n",
       "                        <td id=\"T_8620587e_66c9_11ea_94c1_3cf862c21013row4_col1\" class=\"data row4 col1\" >-89.5%</td>\n",
       "                        <td id=\"T_8620587e_66c9_11ea_94c1_3cf862c21013row4_col2\" class=\"data row4 col2\" >-603.258</td>\n",
       "                        <td id=\"T_8620587e_66c9_11ea_94c1_3cf862c21013row4_col3\" class=\"data row4 col3\" >14.5%</td>\n",
       "                        <td id=\"T_8620587e_66c9_11ea_94c1_3cf862c21013row4_col4\" class=\"data row4 col4\" >-84.62%</td>\n",
       "                        <td id=\"T_8620587e_66c9_11ea_94c1_3cf862c21013row4_col5\" class=\"data row4 col5\" >-570.314</td>\n",
       "            </tr>\n",
       "            <tr>\n",
       "                                <td id=\"T_8620587e_66c9_11ea_94c1_3cf862c21013row5_col0\" class=\"data row5 col0\" >IVVB11</td>\n",
       "                        <td id=\"T_8620587e_66c9_11ea_94c1_3cf862c21013row5_col1\" class=\"data row5 col1\" >-36.03%</td>\n",
       "                        <td id=\"T_8620587e_66c9_11ea_94c1_3cf862c21013row5_col2\" class=\"data row5 col2\" >-504.637</td>\n",
       "                        <td id=\"T_8620587e_66c9_11ea_94c1_3cf862c21013row5_col3\" class=\"data row5 col3\" >10.82%</td>\n",
       "                        <td id=\"T_8620587e_66c9_11ea_94c1_3cf862c21013row5_col4\" class=\"data row5 col4\" >-32.79%</td>\n",
       "                        <td id=\"T_8620587e_66c9_11ea_94c1_3cf862c21013row5_col5\" class=\"data row5 col5\" >-459.157</td>\n",
       "            </tr>\n",
       "            <tr>\n",
       "                                <td id=\"T_8620587e_66c9_11ea_94c1_3cf862c21013row6_col0\" class=\"data row6 col0\" >BBSD11</td>\n",
       "                        <td id=\"T_8620587e_66c9_11ea_94c1_3cf862c21013row6_col1\" class=\"data row6 col1\" >-95.17%</td>\n",
       "                        <td id=\"T_8620587e_66c9_11ea_94c1_3cf862c21013row6_col2\" class=\"data row6 col2\" >-676.67</td>\n",
       "                        <td id=\"T_8620587e_66c9_11ea_94c1_3cf862c21013row6_col3\" class=\"data row6 col3\" >13.72%</td>\n",
       "                        <td id=\"T_8620587e_66c9_11ea_94c1_3cf862c21013row6_col4\" class=\"data row6 col4\" >-92.24%</td>\n",
       "                        <td id=\"T_8620587e_66c9_11ea_94c1_3cf862c21013row6_col5\" class=\"data row6 col5\" >-655.798</td>\n",
       "            </tr>\n",
       "            <tr>\n",
       "                                <td id=\"T_8620587e_66c9_11ea_94c1_3cf862c21013row7_col0\" class=\"data row7 col0\" >BRAX11</td>\n",
       "                        <td id=\"T_8620587e_66c9_11ea_94c1_3cf862c21013row7_col1\" class=\"data row7 col1\" >-99.66%</td>\n",
       "                        <td id=\"T_8620587e_66c9_11ea_94c1_3cf862c21013row7_col2\" class=\"data row7 col2\" >-671.697</td>\n",
       "                        <td id=\"T_8620587e_66c9_11ea_94c1_3cf862c21013row7_col3\" class=\"data row7 col3\" >14.52%</td>\n",
       "                        <td id=\"T_8620587e_66c9_11ea_94c1_3cf862c21013row7_col4\" class=\"data row7 col4\" >-99.11%</td>\n",
       "                        <td id=\"T_8620587e_66c9_11ea_94c1_3cf862c21013row7_col5\" class=\"data row7 col5\" >-667.976</td>\n",
       "            </tr>\n",
       "            <tr>\n",
       "                                <td id=\"T_8620587e_66c9_11ea_94c1_3cf862c21013row8_col0\" class=\"data row8 col0\" >BBSD11</td>\n",
       "                        <td id=\"T_8620587e_66c9_11ea_94c1_3cf862c21013row8_col1\" class=\"data row8 col1\" >-99.95%</td>\n",
       "                        <td id=\"T_8620587e_66c9_11ea_94c1_3cf862c21013row8_col2\" class=\"data row8 col2\" >-710.647</td>\n",
       "                        <td id=\"T_8620587e_66c9_11ea_94c1_3cf862c21013row8_col3\" class=\"data row8 col3\" >13.18%</td>\n",
       "                        <td id=\"T_8620587e_66c9_11ea_94c1_3cf862c21013row8_col4\" class=\"data row8 col4\" >-99.85%</td>\n",
       "                        <td id=\"T_8620587e_66c9_11ea_94c1_3cf862c21013row8_col5\" class=\"data row8 col5\" >-709.93</td>\n",
       "            </tr>\n",
       "            <tr>\n",
       "                                <td id=\"T_8620587e_66c9_11ea_94c1_3cf862c21013row9_col0\" class=\"data row9 col0\" >Cash</td>\n",
       "                        <td id=\"T_8620587e_66c9_11ea_94c1_3cf862c21013row9_col1\" class=\"data row9 col1\" >0.0%</td>\n",
       "                        <td id=\"T_8620587e_66c9_11ea_94c1_3cf862c21013row9_col2\" class=\"data row9 col2\" >0</td>\n",
       "                        <td id=\"T_8620587e_66c9_11ea_94c1_3cf862c21013row9_col3\" class=\"data row9 col3\" >0.0%</td>\n",
       "                        <td id=\"T_8620587e_66c9_11ea_94c1_3cf862c21013row9_col4\" class=\"data row9 col4\" >0.0%</td>\n",
       "                        <td id=\"T_8620587e_66c9_11ea_94c1_3cf862c21013row9_col5\" class=\"data row9 col5\" >0</td>\n",
       "            </tr>\n",
       "    </tbody></table>"
      ],
      "text/plain": [
       "<pandas.io.formats.style.Styler at 0x1ae94a38908>"
      ]
     },
     "execution_count": 9,
     "metadata": {},
     "output_type": "execute_result"
    }
   ],
   "source": [
    "revenue = ['Ticker', 'Annual yield %', 'Year profit', 'Tax', 'Annual yield (Liq.) %', 'Year profit (Liq.)']\n",
    "p.change_df_prop(dport_full[revenue], 24)"
   ]
  },
  {
   "cell_type": "markdown",
   "metadata": {},
   "source": [
    "## Asset allocation"
   ]
  },
  {
   "cell_type": "code",
   "execution_count": 10,
   "metadata": {},
   "outputs": [
    {
     "name": "stdout",
     "output_type": "stream",
     "text": [
      "This is the format of your plot grid:\n",
      "[ (1,1) x1,y1 ]  [ (1,2) x2,y2 ]\n",
      "\n"
     ]
    }
   ],
   "source": [
    "fig_asset = p.make_fig(cols=2, specs=[[{},{}]])"
   ]
  },
  {
   "cell_type": "code",
   "execution_count": 11,
   "metadata": {},
   "outputs": [
    {
     "data": {
      "application/vnd.jupyter.widget-view+json": {
       "model_id": "46f7c14a509141c1bacc4cbb81650f66",
       "version_major": 2,
       "version_minor": 0
      },
      "text/plain": [
       "FigureWidget({\n",
       "    'data': [{'domain': {'x': [0, 0.5]},\n",
       "              'hole': 0.4,\n",
       "              'labels': arr…"
      ]
     },
     "metadata": {},
     "output_type": "display_data"
    }
   ],
   "source": [
    "palette = {'BR': lpalette['g'], 'Cash': lpalette['c'], 'Bonds': dpalette['b'], 'EU': lpalette['pp'], 'USA': lpalette['r'], 'EM':lpalette['pk'],\n",
    "           'Finance': lpalette['g'], 'Indust': lpalette['c'], 'Tech': dpalette['b'], 'Cons Non-Cycl': lpalette['pp'], 'Cons Cycl': lpalette['r'], 'Health':lpalette['pk'],\n",
    "           'Energy': dpalette['g'], 'Util': dpalette['c'], 'Basic Mat': lpalette['b'], 'Real Estate': dpalette['pp'], 'Telecom': dpalette['r'], 'Commod':lpalette['pk']\n",
    "          }\n",
    "dgroup = dport_bonds.sum()\n",
    "p.plot_pie(dgroup[assets], fig_asset, palette, dict(x=[0, 0.5]))\n",
    "p.plot_pie(dgroup[industry], fig_asset, palette, dict(x=[0.5, 1]))\n",
    "\n",
    "# fig = l.plot_pie(dgroup[assets], domain=dict(x=[0,0.5]), name='Asset')\n",
    "# l.plot_pie(dgroup[industry], fig=fig, domain=dict(x=[0.5,1]), name='Industry')"
   ]
  },
  {
   "cell_type": "markdown",
   "metadata": {},
   "source": [
    "# Portfolio Evolution"
   ]
  },
  {
   "cell_type": "code",
   "execution_count": 12,
   "metadata": {},
   "outputs": [],
   "source": [
    "dports = f.calc_port_months(dport, dfull, dprices, assets, industry)"
   ]
  },
  {
   "cell_type": "code",
   "execution_count": 13,
   "metadata": {},
   "outputs": [
    {
     "name": "stderr",
     "output_type": "stream",
     "text": [
      "D:\\Office files\\Personal_Financial_Manager\\lib\\finance.py:232: SettingWithCopyWarning:\n",
      "\n",
      "\n",
      "A value is trying to be set on a copy of a slice from a DataFrame.\n",
      "Try using .loc[row_indexer,col_indexer] = value instead\n",
      "\n",
      "See the caveats in the documentation: http://pandas.pydata.org/pandas-docs/stable/indexing.html#indexing-view-versus-copy\n",
      "\n",
      "D:\\Office files\\Personal_Financial_Manager\\lib\\finance.py:234: SettingWithCopyWarning:\n",
      "\n",
      "\n",
      "A value is trying to be set on a copy of a slice from a DataFrame.\n",
      "Try using .loc[row_indexer,col_indexer] = value instead\n",
      "\n",
      "See the caveats in the documentation: http://pandas.pydata.org/pandas-docs/stable/indexing.html#indexing-view-versus-copy\n",
      "\n"
     ]
    }
   ],
   "source": [
    "dbonds = f.calc_bonds_months(dprices, dnu, assets, industry)\n",
    "dports_full = pd.concat([dports, dbonds], sort=False)\n",
    "for dd in dports_full['Date'].unique():\n",
    "    di = dports_full['Date'] == dd\n",
    "    dports_full.loc[di,:] = f.calc_distribution(dports_full.loc[di, :], assets, industry)"
   ]
  },
  {
   "cell_type": "markdown",
   "metadata": {},
   "source": [
    "## Actives allocation"
   ]
  },
  {
   "cell_type": "code",
   "execution_count": 14,
   "metadata": {},
   "outputs": [
    {
     "name": "stdout",
     "output_type": "stream",
     "text": [
      "This is the format of your plot grid:\n",
      "[ (1,1) x1,y1 ]\n",
      "\n",
      "This is the format of your plot grid:\n",
      "[ (1,1) x1,y1    [ (1,2) x2,y2 ]  [ (1,3) x3,y3 ]\n",
      "\n"
     ]
    }
   ],
   "source": [
    "fig_act = p.make_fig()\n",
    "fig_act_pct = p.make_fig(cols=3, specs=[[{'colspan':2},{},{}]])"
   ]
  },
  {
   "cell_type": "code",
   "execution_count": 15,
   "metadata": {},
   "outputs": [
    {
     "data": {
      "application/vnd.jupyter.widget-view+json": {
       "model_id": "35f61ed63e2d49e08a32239315354a34",
       "version_major": 2,
       "version_minor": 0
      },
      "text/plain": [
       "FigureWidget({\n",
       "    'data': [{'hoverinfo': 'name+y',\n",
       "              'marker': {'color': '#BBA0F0'},\n",
       "            …"
      ]
     },
     "metadata": {},
     "output_type": "display_data"
    }
   ],
   "source": [
    "palette = {'BRAX11': lpalette['g'], 'Cash': lpalette['c'], 'NU': dpalette['b'], 'BBSD11': lpalette['pp'], 'IVVB11': lpalette['r'], 'Portfolio': lpalette['b2']}\n",
    "devol = d.pivot_agg(dports_full, val='Value', idx=['Date'], date='Date', col=['Ticker'], agg={'Value':np.sum})\n",
    "p.plot(devol, 'Date', fig_act, palette, plot_type='area')\n",
    "# p.plot(d.row_percentage(devol.set_index('Date')).reset_index(), 'Date', fig_act, palette, col=2, plot_type='area')"
   ]
  },
  {
   "cell_type": "code",
   "execution_count": 16,
   "metadata": {},
   "outputs": [
    {
     "data": {
      "application/vnd.jupyter.widget-view+json": {
       "model_id": "35646ea5fe5d4067aa8c694643081d4a",
       "version_major": 2,
       "version_minor": 0
      },
      "text/plain": [
       "FigureWidget({\n",
       "    'data': [{'domain': {'x': [0.68, 1]},\n",
       "              'hole': 0.4,\n",
       "              'labels': ar…"
      ]
     },
     "metadata": {},
     "output_type": "display_data"
    }
   ],
   "source": [
    "dgroup = dport_bonds.groupby('Ticker').sum()\n",
    "p.plot_pie(dgroup['Value'], fig_act_pct, palette, dict(x=[0.68, 1]))\n",
    "# p.plot_pie(dgroup['Profit'], fig_actives, palette, dict(x=[0.5, 1]))\n",
    "p.plot(d.row_percentage(devol.set_index('Date')).reset_index(), 'Date', fig_act_pct, palette, col=1, plot_type='area')"
   ]
  },
  {
   "cell_type": "markdown",
   "metadata": {},
   "source": [
    "## Profits"
   ]
  },
  {
   "cell_type": "code",
   "execution_count": 17,
   "metadata": {},
   "outputs": [
    {
     "name": "stdout",
     "output_type": "stream",
     "text": [
      "This is the format of your plot grid:\n",
      "[ (1,1) x1,y1    [ (1,2) x2,y2 ]  [ (1,3) x3,y3 ]\n",
      "\n",
      "This is the format of your plot grid:\n",
      "[ (1,1) x1,y1 ]\n",
      "\n",
      "This is the format of your plot grid:\n",
      "[ (1,1) x1,y1 ]  [ (1,2) x2,y2 ]\n",
      "\n"
     ]
    }
   ],
   "source": [
    "fig_tot = p.make_fig(cols=3, specs=[[{'colspan':2},{},{}]])\n",
    "fig_prof = p.make_fig()\n",
    "fig_yield = p.make_fig(cols=2, specs=[[{}, {}]])"
   ]
  },
  {
   "cell_type": "markdown",
   "metadata": {},
   "source": [
    "### Monthly profit"
   ]
  },
  {
   "cell_type": "code",
   "execution_count": 18,
   "metadata": {
    "scrolled": false
   },
   "outputs": [
    {
     "data": {
      "application/vnd.jupyter.widget-view+json": {
       "model_id": "5d290345a5fb4bd0855bd7f24b483ab0",
       "version_major": 2,
       "version_minor": 0
      },
      "text/plain": [
       "FigureWidget({\n",
       "    'data': [{'hoverinfo': 'name+y',\n",
       "              'marker': {'color': '#268040'},\n",
       "            …"
      ]
     },
     "metadata": {},
     "output_type": "display_data"
    }
   ],
   "source": [
    "palette2 = {'BRAX11Avg': dpalette['g'], 'NUAvg': lpalette['b'], 'BBSD11Avg': dpalette['pp'], 'IVVB11Avg': dpalette['r']}\n",
    "devol = d.pivot_agg(dports_full, val='Profit', idx=['Date'], date='Date', col=['Ticker'], agg={'Profit':np.sum})\n",
    "devol = devol[['Date', 'BRAX11', 'NU', 'BBSD11', 'IVVB11']]\n",
    "for c in devol.columns:\n",
    "    if c == 'Date':\n",
    "        continue\n",
    "    devol = d.window(devol, val=c)\n",
    "    p.plot(devol, 'Date', fig_prof, palette2, row=1, col=1, y=[c + 'Avg'], name=[c + ' Avg'])\n",
    "    p.plot(devol, 'Date', fig_prof, palette, row=1, col=1, y=[c], plot_type='bar', name=[c])\n",
    "fig_prof"
   ]
  },
  {
   "cell_type": "markdown",
   "metadata": {},
   "source": [
    "### Total profit"
   ]
  },
  {
   "cell_type": "code",
   "execution_count": 19,
   "metadata": {},
   "outputs": [
    {
     "data": {
      "application/vnd.jupyter.widget-view+json": {
       "model_id": "cdf46a82c56341e486f0c5f4c990a524",
       "version_major": 2,
       "version_minor": 0
      },
      "text/plain": [
       "FigureWidget({\n",
       "    'data': [{'domain': {'x': [0.68, 1]},\n",
       "              'hole': 0.4,\n",
       "              'labels': ar…"
      ]
     },
     "metadata": {},
     "output_type": "display_data"
    }
   ],
   "source": [
    "temp_sum = devol[['Date', 'BRAX11', 'NU', 'BBSD11', 'IVVB11']].sum()\n",
    "devol_sum = temp_sum.drop(temp_sum.index[0])\n",
    "p.plot_pie(devol_sum, fig_tot, palette, dict(x=[0.68, 1]))\n",
    "devol = d.pivot_agg(dports_full, val='Total profit', idx=['Date'], date='Date', col=['Ticker'], agg={'Total profit':np.sum})\n",
    "devol.pop('Cash')\n",
    "p.plot(devol, 'Date', fig_tot, palette, plot_type='area')"
   ]
  },
  {
   "cell_type": "markdown",
   "metadata": {},
   "source": [
    "### Yield"
   ]
  },
  {
   "cell_type": "code",
   "execution_count": 20,
   "metadata": {},
   "outputs": [
    {
     "data": {
      "application/vnd.jupyter.widget-view+json": {
       "model_id": "46f343b3e2034018b95bc2b0d631bf20",
       "version_major": 2,
       "version_minor": 0
      },
      "text/plain": [
       "FigureWidget({\n",
       "    'data': [{'hoverinfo': 'name+y',\n",
       "              'marker': {'color': '#BBA0F0'},\n",
       "            …"
      ]
     },
     "metadata": {},
     "output_type": "display_data"
    }
   ],
   "source": [
    "devol_val = d.pivot_agg(dports_full, val='Value', idx=['Date'], date='Date', col=['Ticker'], agg={'Value':np.sum})\n",
    "date = devol_val.pop('Date')\n",
    "devol_prof = d.pivot_agg(dports_full, val='Profit', idx=['Date'], date='Date', col=['Ticker'], agg={'Profit':np.sum})\n",
    "date = devol_prof.pop('Date')\n",
    "devol = devol_prof.div(devol_val) * 100\n",
    "devol.pop('Cash')\n",
    "devol['Date'] = date\n",
    "for c in devol.columns:\n",
    "    if c  == 'Date':\n",
    "        continue\n",
    "    p.plot(devol, 'Date', fig_yield, palette, col=1, y=[c], name=[c])\n",
    "\n",
    "devol = dports_full[dports_full['Ticker'] != 'NU'].groupby(['Date', 'Ticker']).apply(lambda x : pd.DataFrame([[x['Initial'].sum(), x['Value'].sum(), x['Profit'].sum(), x['Total profit'].sum()]], \n",
    "                                                                      columns=['Initial', 'Value', 'Profit', 'Total profit'])).reset_index()\n",
    "devol.pop('level_2')\n",
    "dtotal = dports_full[dports_full['Ticker'] != 'NU'].groupby(['Date']).apply(lambda x : pd.DataFrame([[x['Initial'].sum(), x['Value'].sum(), x['Profit'].sum(), x['Total profit'].sum()]], \n",
    "                                                                      columns=['Initial', 'Value', 'Profit', 'Total profit'])).reset_index()\n",
    "dtotal.pop('level_1')\n",
    "dtotal['Ticker'] = 'Portfolio'\n",
    "devol = devol.append(dtotal, sort=False)\n",
    "devol['Yield'] = devol['Total profit'] / devol['Initial'] * 100\n",
    "# devol['Total yield'] = devol['Total profit'] / devol['Initial']\n",
    "devol = d.pivot_agg(devol, val='Yield', idx=['Date'], date='Date', col=['Ticker'], agg={'Yield':np.sum})\n",
    "# devol = l.group_sum(devol, select='Yield', group=['Ticker'], date_col='Date')\n",
    "devol.pop('Cash')\n",
    "devol\n",
    "for c in devol.columns:\n",
    "    if c  == 'Date':\n",
    "        continue\n",
    "    p.plot(devol, 'Date', fig_yield, palette, col=2, y=[c], name=[c])\n",
    "# fig_tot_yield\n",
    "\n",
    "fig_yield"
   ]
  }
 ],
 "metadata": {
  "kernelspec": {
   "display_name": "Python 3",
   "language": "python",
   "name": "python3"
  },
  "language_info": {
   "codemirror_mode": {
    "name": "ipython",
    "version": 3
   },
   "file_extension": ".py",
   "mimetype": "text/x-python",
   "name": "python",
   "nbconvert_exporter": "python",
   "pygments_lexer": "ipython3",
   "version": "3.7.3"
  }
 },
 "nbformat": 4,
 "nbformat_minor": 2
}