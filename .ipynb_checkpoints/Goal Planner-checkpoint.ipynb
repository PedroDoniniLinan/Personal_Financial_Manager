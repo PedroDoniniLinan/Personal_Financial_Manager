{
 "cells": [
  {
   "cell_type": "markdown",
   "metadata": {},
   "source": [
    "# Future manager"
   ]
  },
  {
   "cell_type": "code",
   "execution_count": 2,
   "metadata": {},
   "outputs": [],
   "source": [
    "import numpy as np\n",
    "import pandas as pd\n",
    "import datetime as dt\n",
    "import seaborn as sns\n",
    "from plotly import tools\n",
    "import plotly.graph_objs as go\n",
    "from lib import plot as p\n",
    "from lib import data as d\n",
    "from lib import finance as f"
   ]
  },
  {
   "cell_type": "code",
   "execution_count": 3,
   "metadata": {},
   "outputs": [],
   "source": [
    "pd.set_option('display.float_format', lambda x: '%.3f' % x)\n",
    "\n",
    "lpalette = {'g':'#13E881', 'r':'#FF5949', 'o':'#FFB84C', 'b':'#A7BEFA', 'w':'#FFFFFF', 'pk':'#FFA1FD', 'bg':'#FFEDBA', 'c':'#90EBF0',\n",
    "            'pp':'#BBA0F0', 'g2':'#CCFFED', 'b2':'#E3EEFF', 'y':'#FFFC57'}\n",
    "dpalette = {'g':'#268040', 'r':'#800B00', 'o':'#A13808', 'b':'#464CC2', 'w':'#B8BFBA', 'pk':'#A04EA6', 'bg':'#807155', 'c':'#1D4544',\n",
    "            'pp':'#291147', 'g2':'#394742', 'b2':'#414449', 'y':'#666523'}"
   ]
  },
  {
   "cell_type": "markdown",
   "metadata": {},
   "source": [
    "# Predictions"
   ]
  },
  {
   "cell_type": "markdown",
   "metadata": {},
   "source": [
    "## Short-Term"
   ]
  },
  {
   "cell_type": "code",
   "execution_count": 64,
   "metadata": {},
   "outputs": [],
   "source": [
    "dg, df, dtr = f.read_finance()"
   ]
  },
  {
   "cell_type": "code",
   "execution_count": 65,
   "metadata": {},
   "outputs": [],
   "source": [
    "monthly_income = d.window(d.pivot_agg(dg, val='Valor', idx=['Data'], agg={'Valor':np.sum}))\n",
    "monthly_expenses = d.window(d.pivot_agg(df, val='Valor', idx=['Data'], agg={'Valor':np.sum}))\n",
    "monthly_expenses_p = d.window(d.pivot_agg(df[df['Pagamento'] != 'Pais'], val='Valor', idx=['Data'], agg={'Valor':np.sum}))\n",
    "\n",
    "monthly_income.columns = ['Data', 'Renda', 'Renda média']\n",
    "monthly_expenses.columns = ['Data', 'Despesa', 'Despesa média']\n",
    "monthly_expenses_p.columns = ['Data', 'Despesa real', 'Despesa real média']\n",
    "\n",
    "balance = monthly_income.join(monthly_expenses.set_index('Data'), on='Data').join(monthly_expenses_p.set_index('Data'), on='Data')\n",
    "\n",
    "fund = d.window(f.calc_fund(balance.fillna(0)), val='Var')\n",
    "\n",
    "recent_income = balance['Renda média'].iloc[-2]\n",
    "recent_expense = balance['Despesa real média'].iloc[-2]\n",
    "recent_delta = recent_income - recent_expense\n",
    "\n",
    "avg_income = balance['Renda'].mean()\n",
    "avg_expense = balance['Despesa real'].mean()\n",
    "avg_delta = avg_income - avg_expense"
   ]
  },
  {
   "cell_type": "code",
   "execution_count": 68,
   "metadata": {},
   "outputs": [
    {
     "data": {
      "text/html": [
       "<div>\n",
       "<style scoped>\n",
       "    .dataframe tbody tr th:only-of-type {\n",
       "        vertical-align: middle;\n",
       "    }\n",
       "\n",
       "    .dataframe tbody tr th {\n",
       "        vertical-align: top;\n",
       "    }\n",
       "\n",
       "    .dataframe thead th {\n",
       "        text-align: right;\n",
       "    }\n",
       "</style>\n",
       "<table border=\"1\" class=\"dataframe\">\n",
       "  <thead>\n",
       "    <tr style=\"text-align: right;\">\n",
       "      <th></th>\n",
       "      <th>Recent</th>\n",
       "      <th>Average</th>\n",
       "      <th>Manual</th>\n",
       "    </tr>\n",
       "  </thead>\n",
       "  <tbody>\n",
       "    <tr>\n",
       "      <th>0</th>\n",
       "      <td>87712.410</td>\n",
       "      <td>83599.267</td>\n",
       "      <td>91816.790</td>\n",
       "    </tr>\n",
       "  </tbody>\n",
       "</table>\n",
       "</div>"
      ],
      "text/plain": [
       "     Recent   Average    Manual\n",
       "0 87712.410 83599.267 91816.790"
      ]
     },
     "execution_count": 68,
     "metadata": {},
     "output_type": "execute_result"
    }
   ],
   "source": [
    "months = 12\n",
    "manual_delta = ((6715+640.5)*9 - (1500*3 + 250*9) - 1500)/months\n",
    "\n",
    "current_fund = fund['Saldo'].iloc[-1]\n",
    "\n",
    "dfuture = pd.DataFrame([[current_fund + recent_delta*months, current_fund + avg_delta*months, current_fund + manual_delta*months]], columns=['Recent', 'Average', 'Manual'])\n",
    "dfuture"
   ]
  },
  {
   "cell_type": "markdown",
   "metadata": {},
   "source": [
    "## Long-Term"
   ]
  },
  {
   "cell_type": "code",
   "execution_count": 90,
   "metadata": {},
   "outputs": [],
   "source": [
    "def predict_fund(income, expenses, yields, initial_gain, initial_fund):\n",
    "    delta = (initial_gain + (income - (expenses))*(years-1))/years\n",
    "\n",
    "    future_funds = [initial_fund for i in  range(len(yields))]\n",
    "    for y in range(years):\n",
    "        for i in range(len(future_funds)):\n",
    "            future_funds[i] += delta\n",
    "            future_funds[i] *=  (1 + yields[i])\n",
    "\n",
    "    dfuture = pd.DataFrame([[5*f/(10**6), f/(10**6)] for f in future_funds], columns=['BRL', 'EUR'])\n",
    "    dfuture['Yields'] = [str(y) + '%' for y in yields]\n",
    "    return dfuture[['Yields', 'EUR', 'BRL']]\n",
    "\n",
    "def predict_goal(goal_income, yields, life_expectancy):\n",
    "    retirement_funds = [goal_income for i in range(len(yields))]\n",
    "    for y in range(life_expectancy-1):\n",
    "        for i in range(len(future_funds)):\n",
    "            retirement_funds[i] /= (1+yields[i])\n",
    "            retirement_funds[i] += goal_income\n",
    "\n",
    "    dfuture = pd.DataFrame([[5*f/(10**6), f/(10**6)] for f in retirement_funds], columns=['BRL', 'EUR'])\n",
    "    dfuture['Yields'] = [str(y) + '%' for y in yields]\n",
    "    return dfuture[['Yields', 'EUR', 'BRL']] "
   ]
  },
  {
   "cell_type": "code",
   "execution_count": 80,
   "metadata": {},
   "outputs": [
    {
     "data": {
      "text/html": [
       "<div>\n",
       "<style scoped>\n",
       "    .dataframe tbody tr th:only-of-type {\n",
       "        vertical-align: middle;\n",
       "    }\n",
       "\n",
       "    .dataframe tbody tr th {\n",
       "        vertical-align: top;\n",
       "    }\n",
       "\n",
       "    .dataframe thead th {\n",
       "        text-align: right;\n",
       "    }\n",
       "</style>\n",
       "<table border=\"1\" class=\"dataframe\">\n",
       "  <thead>\n",
       "    <tr style=\"text-align: right;\">\n",
       "      <th></th>\n",
       "      <th>Yields</th>\n",
       "      <th>EUR</th>\n",
       "      <th>BRL</th>\n",
       "    </tr>\n",
       "  </thead>\n",
       "  <tbody>\n",
       "    <tr>\n",
       "      <th>0</th>\n",
       "      <td>0%</td>\n",
       "      <td>0.137</td>\n",
       "      <td>0.687</td>\n",
       "    </tr>\n",
       "    <tr>\n",
       "      <th>1</th>\n",
       "      <td>0.02%</td>\n",
       "      <td>0.192</td>\n",
       "      <td>0.958</td>\n",
       "    </tr>\n",
       "    <tr>\n",
       "      <th>2</th>\n",
       "      <td>0.05%</td>\n",
       "      <td>0.327</td>\n",
       "      <td>1.635</td>\n",
       "    </tr>\n",
       "    <tr>\n",
       "      <th>3</th>\n",
       "      <td>0.1%</td>\n",
       "      <td>0.856</td>\n",
       "      <td>4.279</td>\n",
       "    </tr>\n",
       "    <tr>\n",
       "      <th>4</th>\n",
       "      <td>0.15%</td>\n",
       "      <td>2.344</td>\n",
       "      <td>11.720</td>\n",
       "    </tr>\n",
       "  </tbody>\n",
       "</table>\n",
       "</div>"
      ],
      "text/plain": [
       "  Yields   EUR    BRL\n",
       "0     0% 0.137  0.687\n",
       "1  0.02% 0.192  0.958\n",
       "2  0.05% 0.327  1.635\n",
       "3   0.1% 0.856  4.279\n",
       "4  0.15% 2.344 11.720"
      ]
     },
     "execution_count": 80,
     "metadata": {},
     "output_type": "execute_result"
    }
   ],
   "source": [
    "years = 27\n",
    "income = 40000\n",
    "expenses = 3000*12\n",
    "yields = [0, 0.02, 0.05, 0.1, 0.15]\n",
    "initial_gain = ((6715+640.5)*9 - (1500*3 + 250*9) - 1500)/5\n",
    "current_fund = fund['Saldo'].iloc[-1]/5 + 15000\n",
    "\n",
    "predict_fund(income, expenses, yields, initial_gain, current_fund)"
   ]
  },
  {
   "cell_type": "code",
   "execution_count": 94,
   "metadata": {},
   "outputs": [
    {
     "data": {
      "text/html": [
       "<div>\n",
       "<style scoped>\n",
       "    .dataframe tbody tr th:only-of-type {\n",
       "        vertical-align: middle;\n",
       "    }\n",
       "\n",
       "    .dataframe tbody tr th {\n",
       "        vertical-align: top;\n",
       "    }\n",
       "\n",
       "    .dataframe thead th {\n",
       "        text-align: right;\n",
       "    }\n",
       "</style>\n",
       "<table border=\"1\" class=\"dataframe\">\n",
       "  <thead>\n",
       "    <tr style=\"text-align: right;\">\n",
       "      <th></th>\n",
       "      <th>Yields</th>\n",
       "      <th>EUR</th>\n",
       "      <th>BRL</th>\n",
       "    </tr>\n",
       "  </thead>\n",
       "  <tbody>\n",
       "    <tr>\n",
       "      <th>0</th>\n",
       "      <td>0%</td>\n",
       "      <td>0.177</td>\n",
       "      <td>0.887</td>\n",
       "    </tr>\n",
       "    <tr>\n",
       "      <th>1</th>\n",
       "      <td>0.02%</td>\n",
       "      <td>0.277</td>\n",
       "      <td>1.385</td>\n",
       "    </tr>\n",
       "    <tr>\n",
       "      <th>2</th>\n",
       "      <td>0.05%</td>\n",
       "      <td>0.581</td>\n",
       "      <td>2.906</td>\n",
       "    </tr>\n",
       "    <tr>\n",
       "      <th>3</th>\n",
       "      <td>0.1%</td>\n",
       "      <td>2.267</td>\n",
       "      <td>11.335</td>\n",
       "    </tr>\n",
       "    <tr>\n",
       "      <th>4</th>\n",
       "      <td>0.15%</td>\n",
       "      <td>9.481</td>\n",
       "      <td>47.404</td>\n",
       "    </tr>\n",
       "  </tbody>\n",
       "</table>\n",
       "</div>"
      ],
      "text/plain": [
       "  Yields   EUR    BRL\n",
       "0     0% 0.177  0.887\n",
       "1  0.02% 0.277  1.385\n",
       "2  0.05% 0.581  2.906\n",
       "3   0.1% 2.267 11.335\n",
       "4  0.15% 9.481 47.404"
      ]
     },
     "execution_count": 94,
     "metadata": {},
     "output_type": "execute_result"
    }
   ],
   "source": [
    "years = 37\n",
    "income = 40000\n",
    "expenses = 3000*12\n",
    "yields = [0, 0.02, 0.05, 0.1, 0.15]\n",
    "initial_gain = ((6715+640.5)*9 - (1500*3 + 250*9) - 1500)/5\n",
    "current_fund = fund['Saldo'].iloc[-1]/5 + 15000\n",
    "\n",
    "predict_fund(income, expenses, yields, initial_gain, current_fund)"
   ]
  },
  {
   "cell_type": "markdown",
   "metadata": {},
   "source": [
    "# Goal planner"
   ]
  },
  {
   "cell_type": "code",
   "execution_count": 91,
   "metadata": {},
   "outputs": [
    {
     "data": {
      "text/html": [
       "<div>\n",
       "<style scoped>\n",
       "    .dataframe tbody tr th:only-of-type {\n",
       "        vertical-align: middle;\n",
       "    }\n",
       "\n",
       "    .dataframe tbody tr th {\n",
       "        vertical-align: top;\n",
       "    }\n",
       "\n",
       "    .dataframe thead th {\n",
       "        text-align: right;\n",
       "    }\n",
       "</style>\n",
       "<table border=\"1\" class=\"dataframe\">\n",
       "  <thead>\n",
       "    <tr style=\"text-align: right;\">\n",
       "      <th></th>\n",
       "      <th>Yields</th>\n",
       "      <th>EUR</th>\n",
       "      <th>BRL</th>\n",
       "    </tr>\n",
       "  </thead>\n",
       "  <tbody>\n",
       "    <tr>\n",
       "      <th>0</th>\n",
       "      <td>0%</td>\n",
       "      <td>1.750</td>\n",
       "      <td>8.750</td>\n",
       "    </tr>\n",
       "    <tr>\n",
       "      <th>1</th>\n",
       "      <td>0.02%</td>\n",
       "      <td>1.122</td>\n",
       "      <td>5.609</td>\n",
       "    </tr>\n",
       "    <tr>\n",
       "      <th>2</th>\n",
       "      <td>0.05%</td>\n",
       "      <td>0.671</td>\n",
       "      <td>3.355</td>\n",
       "    </tr>\n",
       "    <tr>\n",
       "      <th>3</th>\n",
       "      <td>0.1%</td>\n",
       "      <td>0.382</td>\n",
       "      <td>1.909</td>\n",
       "    </tr>\n",
       "    <tr>\n",
       "      <th>4</th>\n",
       "      <td>0.15%</td>\n",
       "      <td>0.268</td>\n",
       "      <td>1.340</td>\n",
       "    </tr>\n",
       "  </tbody>\n",
       "</table>\n",
       "</div>"
      ],
      "text/plain": [
       "  Yields   EUR   BRL\n",
       "0     0% 1.750 8.750\n",
       "1  0.02% 1.122 5.609\n",
       "2  0.05% 0.671 3.355\n",
       "3   0.1% 0.382 1.909\n",
       "4  0.15% 0.268 1.340"
      ]
     },
     "execution_count": 91,
     "metadata": {},
     "output_type": "execute_result"
    }
   ],
   "source": [
    "life_expectancy = 50\n",
    "goal_income = 35000\n",
    "yields = [0, 0.02, 0.05, 0.1, 0.15]\n",
    "       \n",
    "predict_goal(goal_income, yields, life_expectancy)"
   ]
  },
  {
   "cell_type": "code",
   "execution_count": 95,
   "metadata": {},
   "outputs": [
    {
     "data": {
      "text/html": [
       "<div>\n",
       "<style scoped>\n",
       "    .dataframe tbody tr th:only-of-type {\n",
       "        vertical-align: middle;\n",
       "    }\n",
       "\n",
       "    .dataframe tbody tr th {\n",
       "        vertical-align: top;\n",
       "    }\n",
       "\n",
       "    .dataframe thead th {\n",
       "        text-align: right;\n",
       "    }\n",
       "</style>\n",
       "<table border=\"1\" class=\"dataframe\">\n",
       "  <thead>\n",
       "    <tr style=\"text-align: right;\">\n",
       "      <th></th>\n",
       "      <th>Yields</th>\n",
       "      <th>EUR</th>\n",
       "      <th>BRL</th>\n",
       "    </tr>\n",
       "  </thead>\n",
       "  <tbody>\n",
       "    <tr>\n",
       "      <th>0</th>\n",
       "      <td>0%</td>\n",
       "      <td>1.400</td>\n",
       "      <td>7.000</td>\n",
       "    </tr>\n",
       "    <tr>\n",
       "      <th>1</th>\n",
       "      <td>0.02%</td>\n",
       "      <td>0.977</td>\n",
       "      <td>4.883</td>\n",
       "    </tr>\n",
       "    <tr>\n",
       "      <th>2</th>\n",
       "      <td>0.05%</td>\n",
       "      <td>0.631</td>\n",
       "      <td>3.153</td>\n",
       "    </tr>\n",
       "    <tr>\n",
       "      <th>3</th>\n",
       "      <td>0.1%</td>\n",
       "      <td>0.376</td>\n",
       "      <td>1.882</td>\n",
       "    </tr>\n",
       "    <tr>\n",
       "      <th>4</th>\n",
       "      <td>0.15%</td>\n",
       "      <td>0.267</td>\n",
       "      <td>1.337</td>\n",
       "    </tr>\n",
       "  </tbody>\n",
       "</table>\n",
       "</div>"
      ],
      "text/plain": [
       "  Yields   EUR   BRL\n",
       "0     0% 1.400 7.000\n",
       "1  0.02% 0.977 4.883\n",
       "2  0.05% 0.631 3.153\n",
       "3   0.1% 0.376 1.882\n",
       "4  0.15% 0.267 1.337"
      ]
     },
     "execution_count": 95,
     "metadata": {},
     "output_type": "execute_result"
    }
   ],
   "source": [
    "life_expectancy = 40\n",
    "goal_income = 35000\n",
    "yields = [0, 0.02, 0.05, 0.1, 0.15]\n",
    "       \n",
    "predict_goal(goal_income, yields, life_expectancy)"
   ]
  }
 ],
 "metadata": {
  "kernelspec": {
   "display_name": "Python 3",
   "language": "python",
   "name": "python3"
  },
  "language_info": {
   "codemirror_mode": {
    "name": "ipython",
    "version": 3
   },
   "file_extension": ".py",
   "mimetype": "text/x-python",
   "name": "python",
   "nbconvert_exporter": "python",
   "pygments_lexer": "ipython3",
   "version": "3.7.3"
  }
 },
 "nbformat": 4,
 "nbformat_minor": 2
}
