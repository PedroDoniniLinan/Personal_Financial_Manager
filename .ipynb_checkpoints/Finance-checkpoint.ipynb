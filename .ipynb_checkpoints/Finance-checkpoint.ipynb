{
 "cells": [
  {
   "cell_type": "markdown",
   "metadata": {},
   "source": [
    "# Gerenciador de finanças"
   ]
  },
  {
   "cell_type": "code",
   "execution_count": 1,
   "metadata": {},
   "outputs": [],
   "source": [
    "import numpy as np\n",
    "import pandas as pd\n",
    "import datetime as dt\n",
    "import seaborn as sns\n",
    "from plotly import tools\n",
    "import plotly.graph_objs as go\n",
    "# from lib import lib as l\n",
    "from lib import plot as p\n",
    "from lib import data as d\n",
    "from lib import finance as f"
   ]
  },
  {
   "cell_type": "code",
   "execution_count": 2,
   "metadata": {},
   "outputs": [],
   "source": [
    "pd.set_option('display.float_format', lambda x: '%.3f' % x)\n",
    "lpalette = {'g':'#13E881', 'r':'#FF5949', 'o':'#FFB84C', 'b':'#A7BEFA', 'w':'#FFFFFF', 'pk':'#FFA1FD', 'bg':'#FFEDBA', 'c':'#90EBF0',\n",
    "            'pp':'#BBA0F0', 'g2':'#CCFFED', 'b2':'#E3EEFF', 'y':'#FFFC57'}\n",
    "dpalette = {'g':'#268040', 'r':'#800B00', 'o':'#A13808', 'b':'#464CC2', 'w':'#B8BFBA', 'pk':'#A04EA6', 'bg':'#807155', 'c':'#1D4544',\n",
    "            'pp':'#291147', 'g2':'#394742', 'b2':'#414449', 'y':'#666523'}"
   ]
  },
  {
   "cell_type": "code",
   "execution_count": 3,
   "metadata": {
    "collapsed": true
   },
   "outputs": [
    {
     "name": "stdout",
     "output_type": "stream",
     "text": [
      "This is the format of your plot grid:\n",
      "[ (1,1) x1,y1 ]\n",
      "\n",
      "This is the format of your plot grid:\n",
      "[ (1,1) x1,y1 ]  [ (1,2) x2,y2 ]\n",
      "\n",
      "This is the format of your plot grid:\n",
      "[ (1,1) x1,y1 ]\n",
      "\n",
      "This is the format of your plot grid:\n",
      "[ (1,1) x1,y1 ]\n",
      "\n",
      "This is the format of your plot grid:\n",
      "[ (1,1) x1,y1 ]\n",
      "\n",
      "This is the format of your plot grid:\n",
      "[ (1,1) x1,y1    [ (1,2) x2,y2 ]  [ (1,3) x3,y3 ]\n",
      "\n",
      "This is the format of your plot grid:\n",
      "[ (1,1) x1,y1 ]\n",
      "\n",
      "This is the format of your plot grid:\n",
      "[ (1,1) x1,y1    [ (1,2) x2,y2 ]  [ (1,3) x3,y3 ]\n",
      "\n",
      "This is the format of your plot grid:\n",
      "[ (1,1) x1,y1 ]\n",
      "\n",
      "This is the format of your plot grid:\n",
      "[ (1,1) x1,y1    [ (1,2) x2,y2 ]  [ (1,3) x3,y3 ]\n",
      "\n",
      "This is the format of your plot grid:\n",
      "[ (1,1) x1,y1 ]\n",
      "\n",
      "This is the format of your plot grid:\n",
      "[ (1,1) x1,y1    [ (1,2) x2,y2 ]  [ (1,3) x3,y3 ]\n",
      "\n"
     ]
    }
   ],
   "source": [
    "fig_bal = p.make_fig()\n",
    "\n",
    "fig_fund = p.make_fig(cols=2, specs=[[{}, {}]])\n",
    "fig_grow = p.make_fig()\n",
    "fig_var = p.make_fig()\n",
    "\n",
    "fig_exp = p.make_fig()\n",
    "fig_exp_pct = p.make_fig(cols=3, specs=[[{'colspan':2},{},{}]])\n",
    "fig_exp_p = p.make_fig()\n",
    "fig_exp_p_pct = p.make_fig(cols=3, specs=[[{'colspan':2},{},{}]])\n",
    "fig_trip = p.make_fig()\n",
    "fig_trip_pct = p.make_fig(cols=3, specs=[[{'colspan':2},{},{}]])\n",
    "\n",
    "fig_inc = p.make_fig()\n",
    "fig_inc_pct = p.make_fig(cols=3, specs=[[{'colspan':2},{},{}]])"
   ]
  },
  {
   "cell_type": "markdown",
   "metadata": {},
   "source": [
    "#### Leitura dos dados"
   ]
  },
  {
   "cell_type": "code",
   "execution_count": 4,
   "metadata": {},
   "outputs": [],
   "source": [
    "dg, df, dtr = f.read_finance()"
   ]
  },
  {
   "cell_type": "markdown",
   "metadata": {},
   "source": [
    "## Saldo atual"
   ]
  },
  {
   "cell_type": "code",
   "execution_count": 5,
   "metadata": {},
   "outputs": [
    {
     "data": {
      "text/html": [
       "<div>\n",
       "<style scoped>\n",
       "    .dataframe tbody tr th:only-of-type {\n",
       "        vertical-align: middle;\n",
       "    }\n",
       "\n",
       "    .dataframe tbody tr th {\n",
       "        vertical-align: top;\n",
       "    }\n",
       "\n",
       "    .dataframe thead th {\n",
       "        text-align: right;\n",
       "    }\n",
       "</style>\n",
       "<table border=\"1\" class=\"dataframe\">\n",
       "  <thead>\n",
       "    <tr style=\"text-align: right;\">\n",
       "      <th></th>\n",
       "      <th>Saldo</th>\n",
       "      <th>Lido</th>\n",
       "      <th>Erro</th>\n",
       "    </tr>\n",
       "    <tr>\n",
       "      <th></th>\n",
       "      <th></th>\n",
       "      <th></th>\n",
       "      <th></th>\n",
       "    </tr>\n",
       "  </thead>\n",
       "  <tbody>\n",
       "    <tr>\n",
       "      <th>Alelo</th>\n",
       "      <td>603.080</td>\n",
       "      <td>603.080</td>\n",
       "      <td>-0.000</td>\n",
       "    </tr>\n",
       "    <tr>\n",
       "      <th>BB</th>\n",
       "      <td>0.000</td>\n",
       "      <td>0.000</td>\n",
       "      <td>0.000</td>\n",
       "    </tr>\n",
       "    <tr>\n",
       "      <th>Cash</th>\n",
       "      <td>514.750</td>\n",
       "      <td>514.750</td>\n",
       "      <td>0.000</td>\n",
       "    </tr>\n",
       "    <tr>\n",
       "      <th>Easy</th>\n",
       "      <td>7975.600</td>\n",
       "      <td>7975.600</td>\n",
       "      <td>-0.000</td>\n",
       "    </tr>\n",
       "    <tr>\n",
       "      <th>Nu</th>\n",
       "      <td>24344.270</td>\n",
       "      <td>24344.270</td>\n",
       "      <td>-0.000</td>\n",
       "    </tr>\n",
       "  </tbody>\n",
       "</table>\n",
       "</div>"
      ],
      "text/plain": [
       "          Saldo      Lido   Erro\n",
       "                                \n",
       "Alelo   603.080   603.080 -0.000\n",
       "BB        0.000     0.000  0.000\n",
       "Cash    514.750   514.750  0.000\n",
       "Easy   7975.600  7975.600 -0.000\n",
       "Nu    24344.270 24344.270 -0.000"
      ]
     },
     "execution_count": 5,
     "metadata": {},
     "output_type": "execute_result"
    }
   ],
   "source": [
    "f.calc_account_funds(dg, df, dtr, [603.08, 0, 514.75, 7975.6,24344.27])"
   ]
  },
  {
   "cell_type": "markdown",
   "metadata": {},
   "source": [
    "## Análise mensal"
   ]
  },
  {
   "cell_type": "code",
   "execution_count": 6,
   "metadata": {},
   "outputs": [],
   "source": [
    "balance = f.calc_balance(dg, df)"
   ]
  },
  {
   "cell_type": "markdown",
   "metadata": {},
   "source": [
    "### Balanço"
   ]
  },
  {
   "cell_type": "code",
   "execution_count": 7,
   "metadata": {},
   "outputs": [
    {
     "data": {
      "application/vnd.jupyter.widget-view+json": {
       "model_id": "048ae2f078974c08b1cc27a3ba53fd5f",
       "version_major": 2,
       "version_minor": 0
      },
      "text/plain": [
       "FigureWidget({\n",
       "    'data': [{'hoverinfo': 'name+y',\n",
       "              'marker': {'color': '#268040'},\n",
       "            …"
      ]
     },
     "metadata": {},
     "output_type": "display_data"
    }
   ],
   "source": [
    "palette = {'Renda média': dpalette['g'], 'Despesa média': dpalette['r'], 'Despesa real média': dpalette['o'],\n",
    "           'Renda': lpalette['g'], 'Despesa': lpalette['r'], 'Despesa real': lpalette['o']}\n",
    "p.plot(balance, 'Data', fig_bal, palette, ['Renda média', 'Despesa média', 'Despesa real média'])\n",
    "p.plot(balance, 'Data', fig_bal, palette, ['Renda', 'Despesa', 'Despesa real'], 'bar')"
   ]
  },
  {
   "cell_type": "markdown",
   "metadata": {},
   "source": [
    "### Saldo"
   ]
  },
  {
   "cell_type": "code",
   "execution_count": 8,
   "metadata": {},
   "outputs": [],
   "source": [
    "fund = d.window(f.calc_fund(balance.fillna(0)), val='Var')\n",
    "fund_p = d.window(f.calc_fund(balance.fillna(0), expense='Despesa'), val='Var')"
   ]
  },
  {
   "cell_type": "code",
   "execution_count": 9,
   "metadata": {
    "scrolled": false
   },
   "outputs": [
    {
     "data": {
      "application/vnd.jupyter.widget-view+json": {
       "model_id": "ccde0b82ce6f4bbf9b038e73c0c0725d",
       "version_major": 2,
       "version_minor": 0
      },
      "text/plain": [
       "FigureWidget({\n",
       "    'data': [{'hoverinfo': 'name+y',\n",
       "              'marker': {'color': '#A7BEFA'},\n",
       "            …"
      ]
     },
     "metadata": {},
     "output_type": "display_data"
    }
   ],
   "source": [
    "p.plot(fund, 'Data', fig_fund, {'Saldo': lpalette['b']}, y=['Saldo'], plot_type='area', name=['Saldo real'])\n",
    "p.plot(fund_p, 'Data', fig_fund, {'Saldo': lpalette['r']}, y=['Saldo'], plot_type='area', col=2)"
   ]
  },
  {
   "cell_type": "code",
   "execution_count": 10,
   "metadata": {},
   "outputs": [
    {
     "data": {
      "application/vnd.jupyter.widget-view+json": {
       "model_id": "4eba9fe59673469983ef0a9562316345",
       "version_major": 2,
       "version_minor": 0
      },
      "text/plain": [
       "FigureWidget({\n",
       "    'data': [{'hoverinfo': 'name+y',\n",
       "              'marker': {'color': '#A7BEFA'},\n",
       "            …"
      ]
     },
     "metadata": {},
     "output_type": "display_data"
    }
   ],
   "source": [
    "p.plot(fund, 'Data', fig_grow, {'%': lpalette['b']}, y=['%'], name=['Crescimento real'])\n",
    "p.plot(fund_p, 'Data', fig_grow, {'%': lpalette['r']}, y=['%'], name=['Crescimento'])"
   ]
  },
  {
   "cell_type": "code",
   "execution_count": 11,
   "metadata": {
    "scrolled": false
   },
   "outputs": [
    {
     "data": {
      "application/vnd.jupyter.widget-view+json": {
       "model_id": "71946c5e14e84b7f858d2ce9b1397478",
       "version_major": 2,
       "version_minor": 0
      },
      "text/plain": [
       "FigureWidget({\n",
       "    'data': [{'hoverinfo': 'name+y',\n",
       "              'marker': {'color': '#A7BEFA'},\n",
       "            …"
      ]
     },
     "metadata": {},
     "output_type": "display_data"
    }
   ],
   "source": [
    "p.plot(fund, 'Data', fig_var, {'Var': lpalette['b']}, y=['Var'], plot_type='bar', name=['Variação real'])\n",
    "p.plot(fund, 'Data', fig_var, {'VarAvg': dpalette['b']}, y=['VarAvg'], name=['Variação real média'])\n",
    "p.plot(fund_p, 'Data', fig_var, {'Var': lpalette['r']}, y=['Var'], plot_type='bar', name=['Variação'])\n",
    "p.plot(fund_p, 'Data', fig_var, {'VarAvg': dpalette['r']}, y=['VarAvg'], name=['Variação média'])"
   ]
  },
  {
   "cell_type": "markdown",
   "metadata": {},
   "source": [
    "## Matriz de finanças"
   ]
  },
  {
   "cell_type": "code",
   "execution_count": 12,
   "metadata": {},
   "outputs": [],
   "source": [
    "de = df[df['Area'] != 'Credito']\n",
    "\n",
    "area_income = d.pivot_agg(dg, val='Valor', idx=['Data'], col=['Area'], agg={'Valor':np.sum})\n",
    "area_income_pct = d.row_percentage(area_income.set_index('Data')).reset_index()\n",
    "\n",
    "area_expense = d.pivot_agg(de[de['Pagamento'] != 'Pais'], val='Valor', idx=['Data'], col=['Area'], agg={'Valor':np.sum})\n",
    "area_expense_pct = d.row_percentage(area_expense.set_index('Data')).reset_index()\n",
    "\n",
    "dtrip = de[de['Area'] == 'Viagem']\n",
    "trip_expense = d.pivot_agg(dtrip, val='Valor', idx=['Data'], col=['Sub'], agg={'Valor':np.sum})\n",
    "trip_expense_pct = d.row_percentage(trip_expense.set_index('Data')).reset_index()\n",
    "\n",
    "# dtrip = de[de['Area'] == 'Viagem']\n",
    "# trip_expense = d.pivot_agg(dtrip, val='Valor', idx=['Data'], col=['Sub'], agg={'Valor':np.sum})\n",
    "# trip_expense_pct = d.row_percentage(area_expense.set_index('Data')).reset_index()\n",
    "\n",
    "area_expense_p = d.pivot_agg(de, val='Valor', idx=['Data'], col=['Area'], agg={'Valor':np.sum})\n",
    "area_expense_p_pct = d.row_percentage(area_expense_p.set_index('Data')).reset_index()"
   ]
  },
  {
   "cell_type": "markdown",
   "metadata": {},
   "source": [
    "### Gastos"
   ]
  },
  {
   "cell_type": "markdown",
   "metadata": {},
   "source": [
    "### Real"
   ]
  },
  {
   "cell_type": "code",
   "execution_count": 13,
   "metadata": {},
   "outputs": [
    {
     "data": {
      "application/vnd.jupyter.widget-view+json": {
       "model_id": "9971a9b1ff5541339f715a49fffd0fd4",
       "version_major": 2,
       "version_minor": 0
      },
      "text/plain": [
       "FigureWidget({\n",
       "    'data': [{'hoverinfo': 'name+y',\n",
       "              'marker': {'color': '#13E881'},\n",
       "            …"
      ]
     },
     "metadata": {},
     "output_type": "display_data"
    }
   ],
   "source": [
    "palette = {'Alimentacao': lpalette['g'], 'Viagem': lpalette['c'], 'Eletronicos': dpalette['b'], 'Presente': lpalette['pk'], 'Imposto': lpalette['r'],\n",
    "           'Estudo': dpalette['g2'], 'Transporte': lpalette['o'], 'Banco': dpalette['pp'], 'Moradia':lpalette['y'], 'Passeio':dpalette['b2']}\n",
    "p.plot(area_expense, 'Data', fig_exp, palette, plot_type='area')"
   ]
  },
  {
   "cell_type": "code",
   "execution_count": 14,
   "metadata": {},
   "outputs": [
    {
     "data": {
      "application/vnd.jupyter.widget-view+json": {
       "model_id": "1e63df8ba0a14898a359f2d317894ba3",
       "version_major": 2,
       "version_minor": 0
      },
      "text/plain": [
       "FigureWidget({\n",
       "    'data': [{'hoverinfo': 'name+y',\n",
       "              'marker': {'color': '#13E881'},\n",
       "            …"
      ]
     },
     "metadata": {},
     "output_type": "display_data"
    }
   ],
   "source": [
    "fig_exp_pct = p.plot(area_expense_pct, 'Data', fig=fig_exp_pct, row=1, col=1, palette=palette, plot_type='area')\n",
    "temp_sum = area_expense.sum()\n",
    "area_expense_sum = temp_sum.drop(temp_sum.index[0])\n",
    "p.plot_pie(area_expense_sum, fig_exp_pct, palette, dict(x=[0.68, 1]))"
   ]
  },
  {
   "cell_type": "markdown",
   "metadata": {},
   "source": [
    "### Total"
   ]
  },
  {
   "cell_type": "code",
   "execution_count": 15,
   "metadata": {},
   "outputs": [
    {
     "data": {
      "application/vnd.jupyter.widget-view+json": {
       "model_id": "1c2ef58cef654ba4962ffc34e03a1b33",
       "version_major": 2,
       "version_minor": 0
      },
      "text/plain": [
       "FigureWidget({\n",
       "    'data': [{'hoverinfo': 'name+y',\n",
       "              'marker': {'color': '#13E881'},\n",
       "            …"
      ]
     },
     "metadata": {},
     "output_type": "display_data"
    }
   ],
   "source": [
    "p.plot(area_expense_p, 'Data', fig_exp_p, palette, plot_type='area')"
   ]
  },
  {
   "cell_type": "code",
   "execution_count": 16,
   "metadata": {},
   "outputs": [
    {
     "data": {
      "application/vnd.jupyter.widget-view+json": {
       "model_id": "905b1f062f8c4a639f700b8c9fe81bf9",
       "version_major": 2,
       "version_minor": 0
      },
      "text/plain": [
       "FigureWidget({\n",
       "    'data': [{'hoverinfo': 'name+y',\n",
       "              'marker': {'color': '#13E881'},\n",
       "            …"
      ]
     },
     "metadata": {},
     "output_type": "display_data"
    }
   ],
   "source": [
    "fig_exp_p_pct = p.plot(area_expense_p_pct, 'Data', fig=fig_exp_p_pct, row=1, col=1, palette=palette, plot_type='area')\n",
    "temp_sum = area_expense_p.sum()\n",
    "area_expense_p_sum = temp_sum.drop(temp_sum.index[0])\n",
    "p.plot_pie(area_expense_p_sum, fig_exp_p_pct, palette, dict(x=[0.68, 1]))"
   ]
  },
  {
   "cell_type": "markdown",
   "metadata": {},
   "source": [
    "### Trip"
   ]
  },
  {
   "cell_type": "code",
   "execution_count": 17,
   "metadata": {},
   "outputs": [
    {
     "data": {
      "application/vnd.jupyter.widget-view+json": {
       "model_id": "11394e6f627b4534bb988e0a6981794b",
       "version_major": 2,
       "version_minor": 0
      },
      "text/plain": [
       "FigureWidget({\n",
       "    'data': [{'hoverinfo': 'name+y',\n",
       "              'marker': {'color': '#13E881'},\n",
       "            …"
      ]
     },
     "metadata": {},
     "output_type": "display_data"
    }
   ],
   "source": [
    "palette = {'Alimentacao': lpalette['g'], 'Voo': lpalette['c'], 'Hotel': dpalette['b'], 'Farma': lpalette['pk'], 'Snack': lpalette['r'],\n",
    "           'Passeio': dpalette['g2'], 'Presente': lpalette['o'], 'Mercado': dpalette['pp'], 'Transporte':lpalette['y']}\n",
    "p.plot(trip_expense, 'Data', fig_trip, palette, plot_type='area')"
   ]
  },
  {
   "cell_type": "code",
   "execution_count": 18,
   "metadata": {},
   "outputs": [
    {
     "data": {
      "application/vnd.jupyter.widget-view+json": {
       "model_id": "e0116dffc93c48f79c26aeb80a998c0d",
       "version_major": 2,
       "version_minor": 0
      },
      "text/plain": [
       "FigureWidget({\n",
       "    'data': [{'hoverinfo': 'name+y',\n",
       "              'marker': {'color': '#13E881'},\n",
       "            …"
      ]
     },
     "metadata": {},
     "output_type": "display_data"
    }
   ],
   "source": [
    "fig_trip_pct = p.plot(trip_expense_pct, 'Data', fig=fig_trip_pct, row=1, col=1, palette=palette, plot_type='area')\n",
    "temp_sum = trip_expense.sum()\n",
    "trip_expense_sum = temp_sum.drop(temp_sum.index[0])\n",
    "p.plot_pie(trip_expense_sum, fig_trip_pct, palette, dict(x=[0.68, 1]))"
   ]
  },
  {
   "cell_type": "markdown",
   "metadata": {},
   "source": [
    "### Ganhos"
   ]
  },
  {
   "cell_type": "code",
   "execution_count": 19,
   "metadata": {},
   "outputs": [
    {
     "data": {
      "application/vnd.jupyter.widget-view+json": {
       "model_id": "6e697d24c64f4bf4b51af3ab09151a77",
       "version_major": 2,
       "version_minor": 0
      },
      "text/plain": [
       "FigureWidget({\n",
       "    'data': [{'hoverinfo': 'name+y',\n",
       "              'marker': {'color': '#FFFC57'},\n",
       "            …"
      ]
     },
     "metadata": {},
     "output_type": "display_data"
    }
   ],
   "source": [
    "palette = {'Pais': lpalette['r'], 'Investimento': lpalette['y'], 'Salario': lpalette['g']}\n",
    "p.plot(area_income, 'Data', fig_inc, palette, plot_type='area')"
   ]
  },
  {
   "cell_type": "code",
   "execution_count": 20,
   "metadata": {
    "scrolled": false
   },
   "outputs": [
    {
     "data": {
      "application/vnd.jupyter.widget-view+json": {
       "model_id": "4d5f7c2a38cf463187710d622aef9def",
       "version_major": 2,
       "version_minor": 0
      },
      "text/plain": [
       "FigureWidget({\n",
       "    'data': [{'hoverinfo': 'name+y',\n",
       "              'marker': {'color': '#FFFC57'},\n",
       "            …"
      ]
     },
     "metadata": {},
     "output_type": "display_data"
    }
   ],
   "source": [
    "fig_inc_pct = p.plot(area_income_pct, 'Data', fig=fig_inc_pct, row=1, col=1, palette=palette, plot_type='area')\n",
    "temp_sum = area_income.sum()\n",
    "area_income_sum = temp_sum.drop(temp_sum.index[0])\n",
    "p.plot_pie(area_income_sum, fig_inc_pct, palette, dict(x=[0.68, 1]))"
   ]
  }
 ],
 "metadata": {
  "kernelspec": {
   "display_name": "Python 3",
   "language": "python",
   "name": "python3"
  },
  "language_info": {
   "codemirror_mode": {
    "name": "ipython",
    "version": 3
   },
   "file_extension": ".py",
   "mimetype": "text/x-python",
   "name": "python",
   "nbconvert_exporter": "python",
   "pygments_lexer": "ipython3",
   "version": "3.7.3"
  }
 },
 "nbformat": 4,
 "nbformat_minor": 2
}
