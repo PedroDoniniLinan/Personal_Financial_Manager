{
 "cells": [
  {
   "cell_type": "markdown",
   "metadata": {},
   "source": [
    "# Gerenciador de investimentos"
   ]
  },
  {
   "cell_type": "code",
   "execution_count": 1,
   "metadata": {},
   "outputs": [],
   "source": [
    "import numpy as np\n",
    "import pandas as pd\n",
    "import datetime as dt\n",
    "import seaborn as sns\n",
    "from plotly import tools\n",
    "import plotly.graph_objs as go\n",
    "# from lib import lib as l\n",
    "from lib import plot as p\n",
    "from lib import data as d\n",
    "from lib import finance as f"
   ]
  },
  {
   "cell_type": "code",
   "execution_count": 2,
   "metadata": {},
   "outputs": [],
   "source": [
    "pd.set_option('display.float_format', lambda x: '%.3f' % x)\n",
    "lcolors = np.array(['#13E881', '#FF5949', '#FFB84C', '#A7BEFA', '#27FEFA'])\n",
    "dcolors = np.array(['#268040', '#800B00', '#A13808', '#464CC2', '#162CF2'])"
   ]
  },
  {
   "cell_type": "markdown",
   "metadata": {},
   "source": [
    "## Leitura dos dados"
   ]
  },
  {
   "cell_type": "code",
   "execution_count": 3,
   "metadata": {},
   "outputs": [],
   "source": [
    "dinv, dport, dport_inv, dprices = f.read_invest()\n",
    "dinvest = pd.concat([dinv, dport_inv]).reset_index(drop=True)"
   ]
  },
  {
   "cell_type": "markdown",
   "metadata": {},
   "source": [
    "## Fluxos de investimentos"
   ]
  },
  {
   "cell_type": "markdown",
   "metadata": {},
   "source": [
    "### Histórico de fluxos"
   ]
  },
  {
   "cell_type": "code",
   "execution_count": 16,
   "metadata": {},
   "outputs": [],
   "source": [
    "dflow = dinvest.groupby('ID').apply(f.calc_flows)\n",
    "dflow = dflow.reset_index(level=[0, 1])\n",
    "dflow.pop('level_1')\n",
    "dflow['Rend'] = dflow['Rendimento anual'].apply(d.pct2int)\n",
    "dflow = dflow.sort_values(by=['Rend'], ascending=False).reset_index(drop=True)\n",
    "a = dflow.pop('Rend')"
   ]
  },
  {
   "cell_type": "markdown",
   "metadata": {},
   "source": [
    "### Fluxos ativos"
   ]
  },
  {
   "cell_type": "code",
   "execution_count": 5,
   "metadata": {},
   "outputs": [
    {
     "data": {
      "text/html": [
       "<div>\n",
       "<style scoped>\n",
       "    .dataframe tbody tr th:only-of-type {\n",
       "        vertical-align: middle;\n",
       "    }\n",
       "\n",
       "    .dataframe tbody tr th {\n",
       "        vertical-align: top;\n",
       "    }\n",
       "\n",
       "    .dataframe thead th {\n",
       "        text-align: right;\n",
       "    }\n",
       "</style>\n",
       "<table border=\"1\" class=\"dataframe\">\n",
       "  <thead>\n",
       "    <tr style=\"text-align: right;\">\n",
       "      <th></th>\n",
       "      <th>ID</th>\n",
       "      <th>Valor inicial</th>\n",
       "      <th>Ganho</th>\n",
       "      <th>Meses</th>\n",
       "      <th>Rendimento</th>\n",
       "      <th>Rendimento mensal</th>\n",
       "      <th>Rendimento anual</th>\n",
       "      <th>Ganho em 1 ano</th>\n",
       "      <th>Ativo</th>\n",
       "      <th>Tipo</th>\n",
       "    </tr>\n",
       "  </thead>\n",
       "  <tbody>\n",
       "    <tr>\n",
       "      <th>0</th>\n",
       "      <td>105.000</td>\n",
       "      <td>1478.000</td>\n",
       "      <td>78.700</td>\n",
       "      <td>0.918</td>\n",
       "      <td>5.32%</td>\n",
       "      <td>5.81%</td>\n",
       "      <td>96.65%</td>\n",
       "      <td>1504.601</td>\n",
       "      <td>True</td>\n",
       "      <td>IVVB11</td>\n",
       "    </tr>\n",
       "    <tr>\n",
       "      <th>1</th>\n",
       "      <td>102.000</td>\n",
       "      <td>1390.300</td>\n",
       "      <td>166.400</td>\n",
       "      <td>2.557</td>\n",
       "      <td>11.97%</td>\n",
       "      <td>4.52%</td>\n",
       "      <td>69.73%</td>\n",
       "      <td>1085.410</td>\n",
       "      <td>True</td>\n",
       "      <td>IVVB11</td>\n",
       "    </tr>\n",
       "    <tr>\n",
       "      <th>2</th>\n",
       "      <td>100.000</td>\n",
       "      <td>1308.000</td>\n",
       "      <td>248.700</td>\n",
       "      <td>3.967</td>\n",
       "      <td>19.01%</td>\n",
       "      <td>4.49%</td>\n",
       "      <td>69.06%</td>\n",
       "      <td>1075.058</td>\n",
       "      <td>True</td>\n",
       "      <td>IVVB11</td>\n",
       "    </tr>\n",
       "    <tr>\n",
       "      <th>3</th>\n",
       "      <td>101.000</td>\n",
       "      <td>875.000</td>\n",
       "      <td>78.000</td>\n",
       "      <td>3.475</td>\n",
       "      <td>8.91%</td>\n",
       "      <td>2.49%</td>\n",
       "      <td>34.18%</td>\n",
       "      <td>325.765</td>\n",
       "      <td>True</td>\n",
       "      <td>BRAX11</td>\n",
       "    </tr>\n",
       "    <tr>\n",
       "      <th>6</th>\n",
       "      <td>11.400</td>\n",
       "      <td>5686.820</td>\n",
       "      <td>1.280</td>\n",
       "      <td>0.066</td>\n",
       "      <td>0.02%</td>\n",
       "      <td>0.34%</td>\n",
       "      <td>4.19%</td>\n",
       "      <td>238.490</td>\n",
       "      <td>True</td>\n",
       "      <td>Nu</td>\n",
       "    </tr>\n",
       "    <tr>\n",
       "      <th>11</th>\n",
       "      <td>3.200</td>\n",
       "      <td>537.010</td>\n",
       "      <td>1.150</td>\n",
       "      <td>0.721</td>\n",
       "      <td>0.21%</td>\n",
       "      <td>0.3%</td>\n",
       "      <td>3.61%</td>\n",
       "      <td>19.443</td>\n",
       "      <td>True</td>\n",
       "      <td>Nu</td>\n",
       "    </tr>\n",
       "    <tr>\n",
       "      <th>13</th>\n",
       "      <td>1.100</td>\n",
       "      <td>10940.620</td>\n",
       "      <td>97.420</td>\n",
       "      <td>3.508</td>\n",
       "      <td>0.89%</td>\n",
       "      <td>0.25%</td>\n",
       "      <td>3.07%</td>\n",
       "      <td>338.894</td>\n",
       "      <td>True</td>\n",
       "      <td>Nu</td>\n",
       "    </tr>\n",
       "    <tr>\n",
       "      <th>25</th>\n",
       "      <td>12.000</td>\n",
       "      <td>3000.000</td>\n",
       "      <td>0.020</td>\n",
       "      <td>0.033</td>\n",
       "      <td>0.0%</td>\n",
       "      <td>0.02%</td>\n",
       "      <td>0.24%</td>\n",
       "      <td>7.309</td>\n",
       "      <td>True</td>\n",
       "      <td>Nu</td>\n",
       "    </tr>\n",
       "    <tr>\n",
       "      <th>26</th>\n",
       "      <td>107.000</td>\n",
       "      <td>985.550</td>\n",
       "      <td>0.000</td>\n",
       "      <td>0.885</td>\n",
       "      <td>0.0%</td>\n",
       "      <td>0.0%</td>\n",
       "      <td>0.0%</td>\n",
       "      <td>0.000</td>\n",
       "      <td>True</td>\n",
       "      <td>Cash</td>\n",
       "    </tr>\n",
       "    <tr>\n",
       "      <th>27</th>\n",
       "      <td>104.000</td>\n",
       "      <td>970.300</td>\n",
       "      <td>-17.300</td>\n",
       "      <td>1.410</td>\n",
       "      <td>-1.78%</td>\n",
       "      <td>-1.27%</td>\n",
       "      <td>-14.16%</td>\n",
       "      <td>-134.965</td>\n",
       "      <td>True</td>\n",
       "      <td>BRAX11</td>\n",
       "    </tr>\n",
       "    <tr>\n",
       "      <th>28</th>\n",
       "      <td>103.000</td>\n",
       "      <td>957.200</td>\n",
       "      <td>-22.600</td>\n",
       "      <td>1.639</td>\n",
       "      <td>-2.36%</td>\n",
       "      <td>-1.45%</td>\n",
       "      <td>-16.01%</td>\n",
       "      <td>-149.592</td>\n",
       "      <td>True</td>\n",
       "      <td>BBSD11</td>\n",
       "    </tr>\n",
       "    <tr>\n",
       "      <th>29</th>\n",
       "      <td>106.000</td>\n",
       "      <td>966.700</td>\n",
       "      <td>-32.100</td>\n",
       "      <td>0.689</td>\n",
       "      <td>-3.32%</td>\n",
       "      <td>-4.79%</td>\n",
       "      <td>-44.4%</td>\n",
       "      <td>-414.942</td>\n",
       "      <td>True</td>\n",
       "      <td>BBSD11</td>\n",
       "    </tr>\n",
       "  </tbody>\n",
       "</table>\n",
       "</div>"
      ],
      "text/plain": [
       "        ID  Valor inicial   Ganho  Meses Rendimento Rendimento mensal  \\\n",
       "0  105.000       1478.000  78.700  0.918      5.32%             5.81%   \n",
       "1  102.000       1390.300 166.400  2.557     11.97%             4.52%   \n",
       "2  100.000       1308.000 248.700  3.967     19.01%             4.49%   \n",
       "3  101.000        875.000  78.000  3.475      8.91%             2.49%   \n",
       "6   11.400       5686.820   1.280  0.066      0.02%             0.34%   \n",
       "11   3.200        537.010   1.150  0.721      0.21%              0.3%   \n",
       "13   1.100      10940.620  97.420  3.508      0.89%             0.25%   \n",
       "25  12.000       3000.000   0.020  0.033       0.0%             0.02%   \n",
       "26 107.000        985.550   0.000  0.885       0.0%              0.0%   \n",
       "27 104.000        970.300 -17.300  1.410     -1.78%            -1.27%   \n",
       "28 103.000        957.200 -22.600  1.639     -2.36%            -1.45%   \n",
       "29 106.000        966.700 -32.100  0.689     -3.32%            -4.79%   \n",
       "\n",
       "   Rendimento anual  Ganho em 1 ano  Ativo    Tipo  \n",
       "0            96.65%        1504.601   True  IVVB11  \n",
       "1            69.73%        1085.410   True  IVVB11  \n",
       "2            69.06%        1075.058   True  IVVB11  \n",
       "3            34.18%         325.765   True  BRAX11  \n",
       "6             4.19%         238.490   True      Nu  \n",
       "11            3.61%          19.443   True      Nu  \n",
       "13            3.07%         338.894   True      Nu  \n",
       "25            0.24%           7.309   True      Nu  \n",
       "26             0.0%           0.000   True    Cash  \n",
       "27          -14.16%        -134.965   True  BRAX11  \n",
       "28          -16.01%        -149.592   True  BBSD11  \n",
       "29           -44.4%        -414.942   True  BBSD11  "
      ]
     },
     "execution_count": 5,
     "metadata": {},
     "output_type": "execute_result"
    }
   ],
   "source": [
    "dflow[dflow['Ativo']]"
   ]
  },
  {
   "cell_type": "markdown",
   "metadata": {},
   "source": [
    "## Performance"
   ]
  },
  {
   "cell_type": "code",
   "execution_count": 6,
   "metadata": {},
   "outputs": [],
   "source": [
    "dnu = dflow[dflow['Meses'] > 0]\n",
    "dnu = dnu[dnu['Tipo'] == 'Nu']\n",
    "\n",
    "detf = dflow[dflow['Meses'] > 0]\n",
    "detf = detf[detf['Tipo'] != 'Nu']"
   ]
  },
  {
   "cell_type": "markdown",
   "metadata": {},
   "source": [
    "### Renda fixa"
   ]
  },
  {
   "cell_type": "code",
   "execution_count": 8,
   "metadata": {},
   "outputs": [
    {
     "data": {
      "text/html": [
       "<style  type=\"text/css\" >\n",
       "    #T_f6ea4908_5b66_11ea_a291_3cf862c21013 th {\n",
       "          font-size: 26px;\n",
       "    }    #T_f6ea4908_5b66_11ea_a291_3cf862c21013 td {\n",
       "          font-size: 28px;\n",
       "          text-align: center;\n",
       "    }</style><table id=\"T_f6ea4908_5b66_11ea_a291_3cf862c21013\" ><thead>    <tr>        <th class=\"col_heading level0 col0\" >Valor base</th>        <th class=\"col_heading level0 col1\" >Ganho atual</th>        <th class=\"col_heading level0 col2\" >Rendimento atual</th>        <th class=\"col_heading level0 col3\" >Ganho em 1 ano</th>        <th class=\"col_heading level0 col4\" >Rendimento anual</th>    </tr></thead><tbody>\n",
       "                <tr>\n",
       "                                <td id=\"T_f6ea4908_5b66_11ea_a291_3cf862c21013row0_col0\" class=\"data row0 col0\" >20264.3</td>\n",
       "                        <td id=\"T_f6ea4908_5b66_11ea_a291_3cf862c21013row0_col1\" class=\"data row0 col1\" >179.05</td>\n",
       "                        <td id=\"T_f6ea4908_5b66_11ea_a291_3cf862c21013row0_col2\" class=\"data row0 col2\" >0.26%</td>\n",
       "                        <td id=\"T_f6ea4908_5b66_11ea_a291_3cf862c21013row0_col3\" class=\"data row0 col3\" >604.136</td>\n",
       "                        <td id=\"T_f6ea4908_5b66_11ea_a291_3cf862c21013row0_col4\" class=\"data row0 col4\" >2.98%</td>\n",
       "            </tr>\n",
       "    </tbody></table>"
      ],
      "text/plain": [
       "<pandas.io.formats.style.Styler at 0x1f02467dcc0>"
      ]
     },
     "execution_count": 8,
     "metadata": {},
     "output_type": "execute_result"
    }
   ],
   "source": [
    "p.change_df_prop(f.calc_flows_overview(dnu), 28)"
   ]
  },
  {
   "cell_type": "markdown",
   "metadata": {},
   "source": [
    "### Renda Variável"
   ]
  },
  {
   "cell_type": "code",
   "execution_count": 10,
   "metadata": {},
   "outputs": [
    {
     "data": {
      "text/html": [
       "<style  type=\"text/css\" >\n",
       "    #T_f9f73bba_5b66_11ea_9e4a_3cf862c21013 th {\n",
       "          font-size: 26px;\n",
       "    }    #T_f9f73bba_5b66_11ea_9e4a_3cf862c21013 td {\n",
       "          font-size: 28px;\n",
       "          text-align: center;\n",
       "    }</style><table id=\"T_f9f73bba_5b66_11ea_9e4a_3cf862c21013\" ><thead>    <tr>        <th class=\"col_heading level0 col0\" >Valor base</th>        <th class=\"col_heading level0 col1\" >Ganho atual</th>        <th class=\"col_heading level0 col2\" >Rendimento atual</th>        <th class=\"col_heading level0 col3\" >Ganho em 1 ano</th>        <th class=\"col_heading level0 col4\" >Rendimento anual</th>    </tr></thead><tbody>\n",
       "                <tr>\n",
       "                                <td id=\"T_f9f73bba_5b66_11ea_9e4a_3cf862c21013row0_col0\" class=\"data row0 col0\" >9430.85</td>\n",
       "                        <td id=\"T_f9f73bba_5b66_11ea_9e4a_3cf862c21013row0_col1\" class=\"data row0 col1\" >499.8</td>\n",
       "                        <td id=\"T_f9f73bba_5b66_11ea_9e4a_3cf862c21013row0_col2\" class=\"data row0 col2\" >5.6%</td>\n",
       "                        <td id=\"T_f9f73bba_5b66_11ea_9e4a_3cf862c21013row0_col3\" class=\"data row0 col3\" >3291.34</td>\n",
       "                        <td id=\"T_f9f73bba_5b66_11ea_9e4a_3cf862c21013row0_col4\" class=\"data row0 col4\" >34.9%</td>\n",
       "            </tr>\n",
       "    </tbody></table>"
      ],
      "text/plain": [
       "<pandas.io.formats.style.Styler at 0x1f024ac42b0>"
      ]
     },
     "execution_count": 10,
     "metadata": {},
     "output_type": "execute_result"
    }
   ],
   "source": [
    "p.change_df_prop(f.calc_flows_overview(detf), 28)"
   ]
  },
  {
   "cell_type": "markdown",
   "metadata": {},
   "source": [
    "### Mensal"
   ]
  },
  {
   "cell_type": "code",
   "execution_count": 11,
   "metadata": {
    "collapsed": true
   },
   "outputs": [
    {
     "name": "stdout",
     "output_type": "stream",
     "text": [
      "This is the format of your plot grid:\n",
      "[ (1,1) x1,y1 ]\n",
      "\n",
      "This is the format of your plot grid:\n",
      "[ (1,1) x1,y1 ]\n",
      "\n"
     ]
    }
   ],
   "source": [
    "fig_prof = p.make_fig()\n",
    "fig_prof_total = p.make_fig()"
   ]
  },
  {
   "cell_type": "code",
   "execution_count": 18,
   "metadata": {},
   "outputs": [
    {
     "data": {
      "text/html": [
       "<div>\n",
       "<style scoped>\n",
       "    .dataframe tbody tr th:only-of-type {\n",
       "        vertical-align: middle;\n",
       "    }\n",
       "\n",
       "    .dataframe tbody tr th {\n",
       "        vertical-align: top;\n",
       "    }\n",
       "\n",
       "    .dataframe thead th {\n",
       "        text-align: right;\n",
       "    }\n",
       "</style>\n",
       "<table border=\"1\" class=\"dataframe\">\n",
       "  <thead>\n",
       "    <tr style=\"text-align: right;\">\n",
       "      <th>Tipo</th>\n",
       "      <th>Data</th>\n",
       "      <th>BBSD11</th>\n",
       "      <th>BRAX11</th>\n",
       "      <th>IVVB11</th>\n",
       "      <th>Nu</th>\n",
       "      <th>Portfolio</th>\n",
       "      <th>BBSD11Avg</th>\n",
       "      <th>BRAX11Avg</th>\n",
       "      <th>IVVB11Avg</th>\n",
       "      <th>NuAvg</th>\n",
       "      <th>PortfolioAvg</th>\n",
       "    </tr>\n",
       "  </thead>\n",
       "  <tbody>\n",
       "    <tr>\n",
       "      <th>0</th>\n",
       "      <td>Set/19</td>\n",
       "      <td>0.000</td>\n",
       "      <td>0.000</td>\n",
       "      <td>0.000</td>\n",
       "      <td>0.210</td>\n",
       "      <td>0.210</td>\n",
       "      <td>0.000</td>\n",
       "      <td>4.333</td>\n",
       "      <td>42.667</td>\n",
       "      <td>30.337</td>\n",
       "      <td>77.337</td>\n",
       "    </tr>\n",
       "    <tr>\n",
       "      <th>1</th>\n",
       "      <td>Out/19</td>\n",
       "      <td>0.000</td>\n",
       "      <td>0.000</td>\n",
       "      <td>-8.000</td>\n",
       "      <td>48.730</td>\n",
       "      <td>40.730</td>\n",
       "      <td>0.000</td>\n",
       "      <td>4.333</td>\n",
       "      <td>42.667</td>\n",
       "      <td>30.337</td>\n",
       "      <td>77.337</td>\n",
       "    </tr>\n",
       "    <tr>\n",
       "      <th>2</th>\n",
       "      <td>Nov/19</td>\n",
       "      <td>0.000</td>\n",
       "      <td>13.000</td>\n",
       "      <td>136.000</td>\n",
       "      <td>42.070</td>\n",
       "      <td>191.070</td>\n",
       "      <td>0.000</td>\n",
       "      <td>4.333</td>\n",
       "      <td>42.667</td>\n",
       "      <td>30.337</td>\n",
       "      <td>77.337</td>\n",
       "    </tr>\n",
       "    <tr>\n",
       "      <th>3</th>\n",
       "      <td>Dez/19</td>\n",
       "      <td>0.000</td>\n",
       "      <td>70.500</td>\n",
       "      <td>-52.100</td>\n",
       "      <td>42.030</td>\n",
       "      <td>60.430</td>\n",
       "      <td>0.000</td>\n",
       "      <td>27.833</td>\n",
       "      <td>25.300</td>\n",
       "      <td>44.277</td>\n",
       "      <td>97.410</td>\n",
       "    </tr>\n",
       "    <tr>\n",
       "      <th>4</th>\n",
       "      <td>Jan/20</td>\n",
       "      <td>-17.200</td>\n",
       "      <td>-40.800</td>\n",
       "      <td>187.800</td>\n",
       "      <td>41.130</td>\n",
       "      <td>170.930</td>\n",
       "      <td>-5.733</td>\n",
       "      <td>14.233</td>\n",
       "      <td>90.567</td>\n",
       "      <td>41.743</td>\n",
       "      <td>140.810</td>\n",
       "    </tr>\n",
       "    <tr>\n",
       "      <th>5</th>\n",
       "      <td>Fev/20</td>\n",
       "      <td>-37.500</td>\n",
       "      <td>18.000</td>\n",
       "      <td>230.100</td>\n",
       "      <td>4.880</td>\n",
       "      <td>215.480</td>\n",
       "      <td>-18.233</td>\n",
       "      <td>15.900</td>\n",
       "      <td>121.933</td>\n",
       "      <td>29.347</td>\n",
       "      <td>148.947</td>\n",
       "    </tr>\n",
       "  </tbody>\n",
       "</table>\n",
       "</div>"
      ],
      "text/plain": [
       "Tipo    Data  BBSD11  BRAX11  IVVB11     Nu  Portfolio  BBSD11Avg  BRAX11Avg  \\\n",
       "0     Set/19   0.000   0.000   0.000  0.210      0.210      0.000      4.333   \n",
       "1     Out/19   0.000   0.000  -8.000 48.730     40.730      0.000      4.333   \n",
       "2     Nov/19   0.000  13.000 136.000 42.070    191.070      0.000      4.333   \n",
       "3     Dez/19   0.000  70.500 -52.100 42.030     60.430      0.000     27.833   \n",
       "4     Jan/20 -17.200 -40.800 187.800 41.130    170.930     -5.733     14.233   \n",
       "5     Fev/20 -37.500  18.000 230.100  4.880    215.480    -18.233     15.900   \n",
       "\n",
       "Tipo  IVVB11Avg  NuAvg  PortfolioAvg  \n",
       "0        42.667 30.337        77.337  \n",
       "1        42.667 30.337        77.337  \n",
       "2        42.667 30.337        77.337  \n",
       "3        25.300 44.277        97.410  \n",
       "4        90.567 41.743       140.810  \n",
       "5       121.933 29.347       148.947  "
      ]
     },
     "execution_count": 18,
     "metadata": {},
     "output_type": "execute_result"
    }
   ],
   "source": [
    "dret = d.pivot_agg(f.calc_flow_gains(dinvest[dinvest['Tipo'] != 'Cash']), val='ValorDelta', idx='Data', col='Tipo', agg={'ValorDelta':np.sum})\n",
    "dret['Portfolio'] = dret.sum(axis=1)\n",
    "cols = dret.columns[1:]\n",
    "for c in cols:\n",
    "    dret = d.window(dret, val=c)\n",
    "dret"
   ]
  },
  {
   "cell_type": "code",
   "execution_count": 19,
   "metadata": {},
   "outputs": [
    {
     "data": {
      "application/vnd.jupyter.widget-view+json": {
       "model_id": "e8c76b71a7d54615b09ae7231fdfd54f",
       "version_major": 2,
       "version_minor": 0
      },
      "text/plain": [
       "FigureWidget({\n",
       "    'data': [{'hoverinfo': 'name+y',\n",
       "              'marker': {'color': '#13E881'},\n",
       "            …"
      ]
     },
     "metadata": {},
     "output_type": "display_data"
    }
   ],
   "source": [
    "palette1 = {'Portfolio': lcolors[0], 'BRAX11': lcolors[2], 'IVVB11': lcolors[0], 'BBSD11': lcolors[1], 'Cash': lcolors[4]}\n",
    "palette2 = {'PortfolioAvg': dcolors[0], 'BRAX11Avg': dcolors[2], 'IVVB11Avg': dcolors[0], 'BBSD11Avg': dcolors[1], 'Cash': dcolors[4]}\n",
    "p.plot(dret, x='Data', fig=fig_prof_total, palette=palette1, y=dret.columns[5:6], plot_type='bar')\n",
    "p.plot(dret, x='Data', fig=fig_prof_total, palette=palette2, y=dret.columns[10:11], name=['Portfolio médio'])"
   ]
  }
 ],
 "metadata": {
  "kernelspec": {
   "display_name": "Python 3",
   "language": "python",
   "name": "python3"
  },
  "language_info": {
   "codemirror_mode": {
    "name": "ipython",
    "version": 3
   },
   "file_extension": ".py",
   "mimetype": "text/x-python",
   "name": "python",
   "nbconvert_exporter": "python",
   "pygments_lexer": "ipython3",
   "version": "3.7.3"
  }
 },
 "nbformat": 4,
 "nbformat_minor": 2
}
