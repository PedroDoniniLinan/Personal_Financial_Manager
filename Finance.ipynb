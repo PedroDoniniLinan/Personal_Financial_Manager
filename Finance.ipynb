{
 "cells": [
  {
   "cell_type": "markdown",
   "metadata": {},
   "source": [
    "# Gerenciador de finanças"
   ]
  },
  {
   "cell_type": "markdown",
   "metadata": {},
   "source": [
    "Bibliotecas e opções"
   ]
  },
  {
   "cell_type": "code",
   "execution_count": 1,
   "metadata": {},
   "outputs": [],
   "source": [
    "import numpy as np\n",
    "import pandas as pd\n",
    "import datetime as dt\n",
    "import seaborn as sns\n",
    "from plotly import tools\n",
    "import plotly.graph_objs as go\n",
    "from lib import lib as l"
   ]
  },
  {
   "cell_type": "code",
   "execution_count": 2,
   "metadata": {},
   "outputs": [],
   "source": [
    "pd.set_option('display.float_format', lambda x: '%.3f' % x)\n",
    "lcolors = np.array(['#13E881', '#FF5949', '#FFB84C', '#A7BEFA', '#268040', '#800B00', '#A13808', '#464CC2'])\n",
    "dcolors = np.array(['#268040', '#800B00', '#A13808', '#464CC2'])"
   ]
  },
  {
   "cell_type": "markdown",
   "metadata": {},
   "source": [
    "## Leitura dos dados"
   ]
  },
  {
   "cell_type": "code",
   "execution_count": 3,
   "metadata": {},
   "outputs": [
    {
     "data": {
      "text/html": [
       "<div>\n",
       "<style scoped>\n",
       "    .dataframe tbody tr th:only-of-type {\n",
       "        vertical-align: middle;\n",
       "    }\n",
       "\n",
       "    .dataframe tbody tr th {\n",
       "        vertical-align: top;\n",
       "    }\n",
       "\n",
       "    .dataframe thead th {\n",
       "        text-align: right;\n",
       "    }\n",
       "</style>\n",
       "<table border=\"1\" class=\"dataframe\">\n",
       "  <thead>\n",
       "    <tr style=\"text-align: right;\">\n",
       "      <th></th>\n",
       "      <th>ID</th>\n",
       "      <th>Valor</th>\n",
       "      <th>Data</th>\n",
       "      <th>Status</th>\n",
       "      <th>Tipo</th>\n",
       "    </tr>\n",
       "  </thead>\n",
       "  <tbody>\n",
       "    <tr>\n",
       "      <th>25</th>\n",
       "      <td>5.100</td>\n",
       "      <td>1061.910</td>\n",
       "      <td>2019-12-31</td>\n",
       "      <td>Mes</td>\n",
       "      <td>Nu</td>\n",
       "    </tr>\n",
       "    <tr>\n",
       "      <th>26</th>\n",
       "      <td>6.000</td>\n",
       "      <td>846.650</td>\n",
       "      <td>2019-12-31</td>\n",
       "      <td>Mes</td>\n",
       "      <td>Nu</td>\n",
       "    </tr>\n",
       "    <tr>\n",
       "      <th>27</th>\n",
       "      <td>100.000</td>\n",
       "      <td>1415.500</td>\n",
       "      <td>2019-12-31</td>\n",
       "      <td>Mes</td>\n",
       "      <td>IVVB</td>\n",
       "    </tr>\n",
       "    <tr>\n",
       "      <th>28</th>\n",
       "      <td>101.000</td>\n",
       "      <td>957.000</td>\n",
       "      <td>2019-12-31</td>\n",
       "      <td>Mes</td>\n",
       "      <td>BRAX</td>\n",
       "    </tr>\n",
       "    <tr>\n",
       "      <th>29</th>\n",
       "      <td>102.000</td>\n",
       "      <td>1415.500</td>\n",
       "      <td>2019-12-31</td>\n",
       "      <td>Mes</td>\n",
       "      <td>IVVB</td>\n",
       "    </tr>\n",
       "  </tbody>\n",
       "</table>\n",
       "</div>"
      ],
      "text/plain": [
       "        ID    Valor        Data Status  Tipo\n",
       "25   5.100 1061.910  2019-12-31    Mes    Nu\n",
       "26   6.000  846.650  2019-12-31    Mes    Nu\n",
       "27 100.000 1415.500  2019-12-31    Mes  IVVB\n",
       "28 101.000  957.000  2019-12-31    Mes  BRAX\n",
       "29 102.000 1415.500  2019-12-31    Mes  IVVB"
      ]
     },
     "execution_count": 3,
     "metadata": {},
     "output_type": "execute_result"
    }
   ],
   "source": [
    "dinv = pd.read_csv('br_invest.csv')\n",
    "dinv['Data'] = dinv['Data'].apply(lambda x : dt.datetime.strptime(str(x),'%d/%m/%y').date())\n",
    "dinv.tail()"
   ]
  },
  {
   "cell_type": "code",
   "execution_count": 4,
   "metadata": {},
   "outputs": [],
   "source": [
    "dflow = l.calc_flow_gains(dinv)\n",
    "dflow['Conta'] = dflow['Tipo']\n",
    "dflow['Conta'] = dflow['Conta'].apply(lambda x : x if x == 'Nu' else 'Easy')\n",
    "dflow.pop('Tipo')\n",
    "dflow['Area'] = 'Investimento'"
   ]
  },
  {
   "cell_type": "code",
   "execution_count": 5,
   "metadata": {},
   "outputs": [
    {
     "data": {
      "text/html": [
       "<div>\n",
       "<style scoped>\n",
       "    .dataframe tbody tr th:only-of-type {\n",
       "        vertical-align: middle;\n",
       "    }\n",
       "\n",
       "    .dataframe tbody tr th {\n",
       "        vertical-align: top;\n",
       "    }\n",
       "\n",
       "    .dataframe thead th {\n",
       "        text-align: right;\n",
       "    }\n",
       "</style>\n",
       "<table border=\"1\" class=\"dataframe\">\n",
       "  <thead>\n",
       "    <tr style=\"text-align: right;\">\n",
       "      <th></th>\n",
       "      <th>Nome</th>\n",
       "      <th>Valor</th>\n",
       "      <th>Data</th>\n",
       "      <th>Conta</th>\n",
       "      <th>Area</th>\n",
       "    </tr>\n",
       "  </thead>\n",
       "  <tbody>\n",
       "    <tr>\n",
       "      <th>11</th>\n",
       "      <td>Rappi</td>\n",
       "      <td>880.000</td>\n",
       "      <td>2019-11-14</td>\n",
       "      <td>Nu</td>\n",
       "      <td>Salario</td>\n",
       "    </tr>\n",
       "    <tr>\n",
       "      <th>12</th>\n",
       "      <td>Rappi</td>\n",
       "      <td>561.600</td>\n",
       "      <td>2019-11-29</td>\n",
       "      <td>Alelo</td>\n",
       "      <td>Salario</td>\n",
       "    </tr>\n",
       "    <tr>\n",
       "      <th>13</th>\n",
       "      <td>Rappi</td>\n",
       "      <td>1686.760</td>\n",
       "      <td>2019-11-29</td>\n",
       "      <td>Nu</td>\n",
       "      <td>Salario</td>\n",
       "    </tr>\n",
       "    <tr>\n",
       "      <th>14</th>\n",
       "      <td>Rappi</td>\n",
       "      <td>880.000</td>\n",
       "      <td>2019-12-14</td>\n",
       "      <td>Nu</td>\n",
       "      <td>Salario</td>\n",
       "    </tr>\n",
       "    <tr>\n",
       "      <th>15</th>\n",
       "      <td>Cash</td>\n",
       "      <td>256.000</td>\n",
       "      <td>2019-12-01</td>\n",
       "      <td>Cash</td>\n",
       "      <td>Pais</td>\n",
       "    </tr>\n",
       "  </tbody>\n",
       "</table>\n",
       "</div>"
      ],
      "text/plain": [
       "     Nome    Valor        Data  Conta     Area\n",
       "11  Rappi  880.000  2019-11-14     Nu  Salario\n",
       "12  Rappi  561.600  2019-11-29  Alelo  Salario\n",
       "13  Rappi 1686.760  2019-11-29     Nu  Salario\n",
       "14  Rappi  880.000  2019-12-14     Nu  Salario\n",
       "15   Cash  256.000  2019-12-01   Cash     Pais"
      ]
     },
     "execution_count": 5,
     "metadata": {},
     "output_type": "execute_result"
    }
   ],
   "source": [
    "dg = pd.read_csv('br_ganhos.csv')\n",
    "dg['Data'] = dg['Data'].apply(lambda x : dt.datetime.strptime(str(x),'%d/%m/%y').date())\n",
    "dg.tail()"
   ]
  },
  {
   "cell_type": "code",
   "execution_count": 6,
   "metadata": {},
   "outputs": [],
   "source": [
    "dg = pd.concat([dg, dflow], sort=False).reset_index(drop=True)"
   ]
  },
  {
   "cell_type": "code",
   "execution_count": 7,
   "metadata": {},
   "outputs": [
    {
     "data": {
      "text/html": [
       "<div>\n",
       "<style scoped>\n",
       "    .dataframe tbody tr th:only-of-type {\n",
       "        vertical-align: middle;\n",
       "    }\n",
       "\n",
       "    .dataframe tbody tr th {\n",
       "        vertical-align: top;\n",
       "    }\n",
       "\n",
       "    .dataframe thead th {\n",
       "        text-align: right;\n",
       "    }\n",
       "</style>\n",
       "<table border=\"1\" class=\"dataframe\">\n",
       "  <thead>\n",
       "    <tr style=\"text-align: right;\">\n",
       "      <th></th>\n",
       "      <th>Nome</th>\n",
       "      <th>Valor</th>\n",
       "      <th>Data</th>\n",
       "      <th>Pagamento</th>\n",
       "      <th>Area</th>\n",
       "    </tr>\n",
       "  </thead>\n",
       "  <tbody>\n",
       "    <tr>\n",
       "      <th>69</th>\n",
       "      <td>Airbnb Foz</td>\n",
       "      <td>527.740</td>\n",
       "      <td>2019-12-23</td>\n",
       "      <td>Nu</td>\n",
       "      <td>Viagem</td>\n",
       "    </tr>\n",
       "    <tr>\n",
       "      <th>70</th>\n",
       "      <td>Cafe</td>\n",
       "      <td>75.000</td>\n",
       "      <td>2019-12-31</td>\n",
       "      <td>Pais</td>\n",
       "      <td>Alimentacao</td>\n",
       "    </tr>\n",
       "    <tr>\n",
       "      <th>71</th>\n",
       "      <td>Refeicoes em casa</td>\n",
       "      <td>450.000</td>\n",
       "      <td>2019-12-31</td>\n",
       "      <td>Pais</td>\n",
       "      <td>Alimentacao</td>\n",
       "    </tr>\n",
       "    <tr>\n",
       "      <th>72</th>\n",
       "      <td>Carro</td>\n",
       "      <td>1000.000</td>\n",
       "      <td>2019-12-31</td>\n",
       "      <td>Pais</td>\n",
       "      <td>Transporte</td>\n",
       "    </tr>\n",
       "    <tr>\n",
       "      <th>73</th>\n",
       "      <td>Refeicoes fora</td>\n",
       "      <td>297.000</td>\n",
       "      <td>2019-12-31</td>\n",
       "      <td>Pais</td>\n",
       "      <td>Alimentacao</td>\n",
       "    </tr>\n",
       "    <tr>\n",
       "      <th>74</th>\n",
       "      <td>Headset</td>\n",
       "      <td>88.980</td>\n",
       "      <td>2019-12-31</td>\n",
       "      <td>Nu</td>\n",
       "      <td>Eletronicos</td>\n",
       "    </tr>\n",
       "    <tr>\n",
       "      <th>75</th>\n",
       "      <td>Agua</td>\n",
       "      <td>72.333</td>\n",
       "      <td>2019-12-31</td>\n",
       "      <td>Pais</td>\n",
       "      <td>Moradia</td>\n",
       "    </tr>\n",
       "    <tr>\n",
       "      <th>76</th>\n",
       "      <td>Luz</td>\n",
       "      <td>138.667</td>\n",
       "      <td>2019-12-31</td>\n",
       "      <td>Pais</td>\n",
       "      <td>Moradia</td>\n",
       "    </tr>\n",
       "    <tr>\n",
       "      <th>77</th>\n",
       "      <td>Internet</td>\n",
       "      <td>191.333</td>\n",
       "      <td>2019-12-31</td>\n",
       "      <td>Pais</td>\n",
       "      <td>Moradia</td>\n",
       "    </tr>\n",
       "    <tr>\n",
       "      <th>78</th>\n",
       "      <td>Fatura</td>\n",
       "      <td>-177.960</td>\n",
       "      <td>2019-12-31</td>\n",
       "      <td>Nu</td>\n",
       "      <td>Credito</td>\n",
       "    </tr>\n",
       "  </tbody>\n",
       "</table>\n",
       "</div>"
      ],
      "text/plain": [
       "                 Nome    Valor        Data Pagamento         Area\n",
       "69         Airbnb Foz  527.740  2019-12-23        Nu       Viagem\n",
       "70               Cafe   75.000  2019-12-31      Pais  Alimentacao\n",
       "71  Refeicoes em casa  450.000  2019-12-31      Pais  Alimentacao\n",
       "72              Carro 1000.000  2019-12-31      Pais   Transporte\n",
       "73     Refeicoes fora  297.000  2019-12-31      Pais  Alimentacao\n",
       "74            Headset   88.980  2019-12-31        Nu  Eletronicos\n",
       "75               Agua   72.333  2019-12-31      Pais      Moradia\n",
       "76                Luz  138.667  2019-12-31      Pais      Moradia\n",
       "77           Internet  191.333  2019-12-31      Pais      Moradia\n",
       "78             Fatura -177.960  2019-12-31        Nu      Credito"
      ]
     },
     "execution_count": 7,
     "metadata": {},
     "output_type": "execute_result"
    }
   ],
   "source": [
    "df = pd.read_csv('br_gastos.csv')\n",
    "df['Data'] = df['Data'].apply(lambda x : dt.datetime.strptime(str(x),'%d/%m/%y').date())\n",
    "df.tail(10)"
   ]
  },
  {
   "cell_type": "code",
   "execution_count": 8,
   "metadata": {},
   "outputs": [
    {
     "data": {
      "text/html": [
       "<div>\n",
       "<style scoped>\n",
       "    .dataframe tbody tr th:only-of-type {\n",
       "        vertical-align: middle;\n",
       "    }\n",
       "\n",
       "    .dataframe tbody tr th {\n",
       "        vertical-align: top;\n",
       "    }\n",
       "\n",
       "    .dataframe thead th {\n",
       "        text-align: right;\n",
       "    }\n",
       "</style>\n",
       "<table border=\"1\" class=\"dataframe\">\n",
       "  <thead>\n",
       "    <tr style=\"text-align: right;\">\n",
       "      <th></th>\n",
       "      <th>De</th>\n",
       "      <th>Para</th>\n",
       "      <th>Valor</th>\n",
       "    </tr>\n",
       "  </thead>\n",
       "  <tbody>\n",
       "    <tr>\n",
       "      <th>0</th>\n",
       "      <td>BB</td>\n",
       "      <td>Nu</td>\n",
       "      <td>12491.070</td>\n",
       "    </tr>\n",
       "    <tr>\n",
       "      <th>1</th>\n",
       "      <td>Nu</td>\n",
       "      <td>Easy</td>\n",
       "      <td>1455.000</td>\n",
       "    </tr>\n",
       "    <tr>\n",
       "      <th>2</th>\n",
       "      <td>Nu</td>\n",
       "      <td>Easy</td>\n",
       "      <td>731.400</td>\n",
       "    </tr>\n",
       "    <tr>\n",
       "      <th>3</th>\n",
       "      <td>Nu</td>\n",
       "      <td>Easy</td>\n",
       "      <td>870.270</td>\n",
       "    </tr>\n",
       "    <tr>\n",
       "      <th>4</th>\n",
       "      <td>Nu</td>\n",
       "      <td>Easy</td>\n",
       "      <td>537.000</td>\n",
       "    </tr>\n",
       "  </tbody>\n",
       "</table>\n",
       "</div>"
      ],
      "text/plain": [
       "   De  Para     Valor\n",
       "0  BB    Nu 12491.070\n",
       "1  Nu  Easy  1455.000\n",
       "2  Nu  Easy   731.400\n",
       "3  Nu  Easy   870.270\n",
       "4  Nu  Easy   537.000"
      ]
     },
     "execution_count": 8,
     "metadata": {},
     "output_type": "execute_result"
    }
   ],
   "source": [
    "dtr = pd.read_csv('br_transf.csv')\n",
    "dtr.tail()"
   ]
  },
  {
   "cell_type": "markdown",
   "metadata": {},
   "source": [
    "## Saldo atual"
   ]
  },
  {
   "cell_type": "code",
   "execution_count": 9,
   "metadata": {},
   "outputs": [
    {
     "data": {
      "text/html": [
       "<div>\n",
       "<style scoped>\n",
       "    .dataframe tbody tr th:only-of-type {\n",
       "        vertical-align: middle;\n",
       "    }\n",
       "\n",
       "    .dataframe tbody tr th {\n",
       "        vertical-align: top;\n",
       "    }\n",
       "\n",
       "    .dataframe thead th {\n",
       "        text-align: right;\n",
       "    }\n",
       "</style>\n",
       "<table border=\"1\" class=\"dataframe\">\n",
       "  <thead>\n",
       "    <tr style=\"text-align: right;\">\n",
       "      <th></th>\n",
       "      <th>Saldo</th>\n",
       "      <th>Lido</th>\n",
       "      <th>Erro</th>\n",
       "    </tr>\n",
       "  </thead>\n",
       "  <tbody>\n",
       "    <tr>\n",
       "      <th>Alelo</th>\n",
       "      <td>619.830</td>\n",
       "      <td>714.010</td>\n",
       "      <td>-94.180</td>\n",
       "    </tr>\n",
       "    <tr>\n",
       "      <th>BB</th>\n",
       "      <td>0.000</td>\n",
       "      <td>0.000</td>\n",
       "      <td>0.000</td>\n",
       "    </tr>\n",
       "    <tr>\n",
       "      <th>Cash</th>\n",
       "      <td>219.500</td>\n",
       "      <td>219.500</td>\n",
       "      <td>0.000</td>\n",
       "    </tr>\n",
       "    <tr>\n",
       "      <th>Easy</th>\n",
       "      <td>3807.070</td>\n",
       "      <td>3741.370</td>\n",
       "      <td>65.700</td>\n",
       "    </tr>\n",
       "    <tr>\n",
       "      <th>Nu</th>\n",
       "      <td>14357.620</td>\n",
       "      <td>14894.270</td>\n",
       "      <td>-536.650</td>\n",
       "    </tr>\n",
       "  </tbody>\n",
       "</table>\n",
       "</div>"
      ],
      "text/plain": [
       "          Saldo      Lido     Erro\n",
       "Alelo   619.830   714.010  -94.180\n",
       "BB        0.000     0.000    0.000\n",
       "Cash    219.500   219.500    0.000\n",
       "Easy   3807.070  3741.370   65.700\n",
       "Nu    14357.620 14894.270 -536.650"
      ]
     },
     "execution_count": 9,
     "metadata": {},
     "output_type": "execute_result"
    }
   ],
   "source": [
    "l.calc_funds(dg, df, dtr, [714.01, 0, 219.5, 3741.37, 14894.27])"
   ]
  },
  {
   "cell_type": "markdown",
   "metadata": {},
   "source": [
    "## Análise mensal"
   ]
  },
  {
   "cell_type": "code",
   "execution_count": 10,
   "metadata": {},
   "outputs": [],
   "source": [
    "monthly_earnings = l.window_mean(l.group_sum(dg, group=[]))\n",
    "monthly_spendings = l.window_mean(l.group_sum(df, group=[]))\n",
    "monthly_real_spendings = l.window_mean(l.group_sum(df[df['Pagamento'] != 'Pais'], group=[]))"
   ]
  },
  {
   "cell_type": "markdown",
   "metadata": {},
   "source": [
    "### Balanço"
   ]
  },
  {
   "cell_type": "code",
   "execution_count": 11,
   "metadata": {},
   "outputs": [
    {
     "data": {
      "application/vnd.jupyter.widget-view+json": {
       "model_id": "fc9ef9fe130f422dbd21020f95329b83",
       "version_major": 2,
       "version_minor": 0
      },
      "text/plain": [
       "FigureWidget({\n",
       "    'data': [{'hoverinfo': 'y',\n",
       "              'marker': {'color': '#13E881'},\n",
       "              'na…"
      ]
     },
     "metadata": {},
     "output_type": "display_data"
    }
   ],
   "source": [
    "fig = l.plot_bar([monthly_earnings, monthly_spendings, monthly_real_spendings], y='Valor', \n",
    "                 color=lcolors[0:3], \n",
    "                 name=['Ganho', 'Gasto', 'Gasto Real'])\n",
    "l.plot_line([monthly_earnings, monthly_spendings, monthly_real_spendings], fig=fig, y='ValorAvg', \n",
    "            color=dcolors[0:3], \n",
    "            name=['Ganho médio', 'Gasto médio', 'Gasto Real médio'])"
   ]
  },
  {
   "cell_type": "markdown",
   "metadata": {},
   "source": [
    "### Saldo"
   ]
  },
  {
   "cell_type": "code",
   "execution_count": 12,
   "metadata": {},
   "outputs": [],
   "source": [
    "fund = l.calc_balance(monthly_earnings, monthly_real_spendings)\n",
    "fund = l.window_mean(fund, select='Var')"
   ]
  },
  {
   "cell_type": "code",
   "execution_count": 13,
   "metadata": {},
   "outputs": [
    {
     "data": {
      "application/vnd.jupyter.widget-view+json": {
       "model_id": "335041b18d88456195d0532fd8c88fb9",
       "version_major": 2,
       "version_minor": 0
      },
      "text/plain": [
       "FigureWidget({\n",
       "    'data': [{'marker': {'color': '#A7BEFA'},\n",
       "              'stackgroup': 'one',\n",
       "              …"
      ]
     },
     "metadata": {},
     "output_type": "display_data"
    }
   ],
   "source": [
    "l.plot_stacked_area(fund, y='Saldo', color=lcolors[3])"
   ]
  },
  {
   "cell_type": "code",
   "execution_count": 14,
   "metadata": {},
   "outputs": [],
   "source": [
    "fund['Pct'] = fund['Saldo'].apply(lambda x : 100*(x - fund.head(1)['Saldo']) / fund.head(1)['Saldo'])"
   ]
  },
  {
   "cell_type": "code",
   "execution_count": 15,
   "metadata": {},
   "outputs": [
    {
     "data": {
      "application/vnd.jupyter.widget-view+json": {
       "model_id": "55775b3ce4054e95bb4651090dfa892d",
       "version_major": 2,
       "version_minor": 0
      },
      "text/plain": [
       "FigureWidget({\n",
       "    'data': [{'marker': {'color': '#464CC2'},\n",
       "              'type': 'scatter',\n",
       "              'u…"
      ]
     },
     "metadata": {},
     "output_type": "display_data"
    }
   ],
   "source": [
    "l.plot_line(fund, y='Pct', color=dcolors[3])"
   ]
  },
  {
   "cell_type": "code",
   "execution_count": 16,
   "metadata": {},
   "outputs": [
    {
     "data": {
      "application/vnd.jupyter.widget-view+json": {
       "model_id": "b9f34cea678042dba00fac1438e7eab6",
       "version_major": 2,
       "version_minor": 0
      },
      "text/plain": [
       "FigureWidget({\n",
       "    'data': [{'marker': {'color': '#A7BEFA'},\n",
       "              'name': 'Variacao',\n",
       "              '…"
      ]
     },
     "metadata": {},
     "output_type": "display_data"
    }
   ],
   "source": [
    "fig = l.plot_bar(fund, y='Var', color=lcolors[3], name='Variacao')\n",
    "l.plot_line(fund, fig=fig, y='VarAvg', color=dcolors[3], name='Variacao média')"
   ]
  },
  {
   "cell_type": "markdown",
   "metadata": {},
   "source": [
    "## Matriz de finanças"
   ]
  },
  {
   "cell_type": "code",
   "execution_count": 17,
   "metadata": {},
   "outputs": [],
   "source": [
    "df = df[df['Area'] != 'Credito']\n",
    "area_spendings = l.group_sum(df[df['Pagamento'] != 'Pais'], group=['Area'])\n",
    "area_spendings_p = l.group_sum(df, group=['Area'])\n",
    "area_earnings = l.group_sum(dg, group=['Area'])"
   ]
  },
  {
   "cell_type": "markdown",
   "metadata": {},
   "source": [
    "### Gastos"
   ]
  },
  {
   "cell_type": "code",
   "execution_count": 18,
   "metadata": {
    "scrolled": false
   },
   "outputs": [
    {
     "data": {
      "application/vnd.jupyter.widget-view+json": {
       "model_id": "116d3af64d53426ea5545231547a13b0",
       "version_major": 2,
       "version_minor": 0
      },
      "text/plain": [
       "FigureWidget({\n",
       "    'data': [{'hoverinfo': 'y',\n",
       "              'marker': {'color': '#13E881'},\n",
       "              'na…"
      ]
     },
     "metadata": {},
     "output_type": "display_data"
    }
   ],
   "source": [
    "l.plot_stacked_area(area_spendings, color=lcolors, name=area_spendings.columns)"
   ]
  },
  {
   "cell_type": "code",
   "execution_count": 19,
   "metadata": {},
   "outputs": [
    {
     "data": {
      "application/vnd.jupyter.widget-view+json": {
       "model_id": "ea3d32d3a94d49508c28cffecc498b99",
       "version_major": 2,
       "version_minor": 0
      },
      "text/plain": [
       "FigureWidget({\n",
       "    'data': [{'hole': 0.4,\n",
       "              'labels': array(['Alimentacao', 'Banco', 'Eletronicos'…"
      ]
     },
     "metadata": {},
     "output_type": "display_data"
    }
   ],
   "source": [
    "l.plot_pie(area_spendings.sum(), colors=lcolors)"
   ]
  },
  {
   "cell_type": "code",
   "execution_count": 20,
   "metadata": {},
   "outputs": [
    {
     "data": {
      "application/vnd.jupyter.widget-view+json": {
       "model_id": "e806c18a50c945c7a1e27f72924a65ad",
       "version_major": 2,
       "version_minor": 0
      },
      "text/plain": [
       "FigureWidget({\n",
       "    'data': [{'hole': 0.4,\n",
       "              'labels': array(['Alimentacao', 'Banco', 'Eletronicos'…"
      ]
     },
     "metadata": {},
     "output_type": "display_data"
    }
   ],
   "source": [
    "l.plot_pie(area_spendings_p.sum(), colors=lcolors)"
   ]
  },
  {
   "cell_type": "markdown",
   "metadata": {},
   "source": [
    "### Ganhos"
   ]
  },
  {
   "cell_type": "code",
   "execution_count": 21,
   "metadata": {
    "scrolled": false
   },
   "outputs": [
    {
     "data": {
      "application/vnd.jupyter.widget-view+json": {
       "model_id": "2154b00261694adc9219753f44dee279",
       "version_major": 2,
       "version_minor": 0
      },
      "text/plain": [
       "FigureWidget({\n",
       "    'data': [{'hoverinfo': 'y',\n",
       "              'marker': {'color': '#13E881'},\n",
       "              'na…"
      ]
     },
     "metadata": {},
     "output_type": "display_data"
    }
   ],
   "source": [
    "l.plot_stacked_area(area_earnings, color=lcolors, name=area_earnings.columns)"
   ]
  },
  {
   "cell_type": "code",
   "execution_count": 22,
   "metadata": {},
   "outputs": [
    {
     "data": {
      "application/vnd.jupyter.widget-view+json": {
       "model_id": "b49c7dce7921465ca52b871236a03176",
       "version_major": 2,
       "version_minor": 0
      },
      "text/plain": [
       "FigureWidget({\n",
       "    'data': [{'hole': 0.4,\n",
       "              'labels': array(['Investimento', 'Pais', 'Salario'], d…"
      ]
     },
     "metadata": {},
     "output_type": "display_data"
    }
   ],
   "source": [
    "l.plot_pie(area_earnings.sum(), colors=lcolors)"
   ]
  }
 ],
 "metadata": {
  "kernelspec": {
   "display_name": "Python 3",
   "language": "python",
   "name": "python3"
  },
  "language_info": {
   "codemirror_mode": {
    "name": "ipython",
    "version": 3
   },
   "file_extension": ".py",
   "mimetype": "text/x-python",
   "name": "python",
   "nbconvert_exporter": "python",
   "pygments_lexer": "ipython3",
   "version": "3.7.3"
  }
 },
 "nbformat": 4,
 "nbformat_minor": 2
}
