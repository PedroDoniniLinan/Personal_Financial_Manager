{
 "cells": [
  {
   "cell_type": "markdown",
   "metadata": {},
   "source": [
    "# Gerenciador de finanças"
   ]
  },
  {
   "cell_type": "markdown",
   "metadata": {},
   "source": [
    "Bibliotecas e opções"
   ]
  },
  {
   "cell_type": "code",
   "execution_count": 1,
   "metadata": {},
   "outputs": [],
   "source": [
    "import numpy as np\n",
    "import pandas as pd\n",
    "import datetime as dt\n",
    "import seaborn as sns\n",
    "from plotly import tools\n",
    "import plotly.graph_objs as go\n",
    "from lib import lib as l"
   ]
  },
  {
   "cell_type": "code",
   "execution_count": 2,
   "metadata": {},
   "outputs": [],
   "source": [
    "pd.set_option('display.float_format', lambda x: '%.3f' % x)\n",
    "lcolors = np.array(['#13E881', '#FF5949', '#FFB84C', '#A7BEFA'])\n",
    "dcolors = np.array(['#268040', '#800B00', '#A13808', '#464CC2'])"
   ]
  },
  {
   "cell_type": "markdown",
   "metadata": {},
   "source": [
    "## Leitura dos dados"
   ]
  },
  {
   "cell_type": "code",
   "execution_count": 3,
   "metadata": {},
   "outputs": [
    {
     "data": {
      "text/html": [
       "<div>\n",
       "<style scoped>\n",
       "    .dataframe tbody tr th:only-of-type {\n",
       "        vertical-align: middle;\n",
       "    }\n",
       "\n",
       "    .dataframe tbody tr th {\n",
       "        vertical-align: top;\n",
       "    }\n",
       "\n",
       "    .dataframe thead th {\n",
       "        text-align: right;\n",
       "    }\n",
       "</style>\n",
       "<table border=\"1\" class=\"dataframe\">\n",
       "  <thead>\n",
       "    <tr style=\"text-align: right;\">\n",
       "      <th></th>\n",
       "      <th>Nome</th>\n",
       "      <th>Valor</th>\n",
       "      <th>Data</th>\n",
       "      <th>Conta</th>\n",
       "      <th>Area</th>\n",
       "    </tr>\n",
       "  </thead>\n",
       "  <tbody>\n",
       "    <tr>\n",
       "      <th>18</th>\n",
       "      <td>CDI Nu</td>\n",
       "      <td>2.270</td>\n",
       "      <td>2019-11-30</td>\n",
       "      <td>Nu</td>\n",
       "      <td>Investimento</td>\n",
       "    </tr>\n",
       "    <tr>\n",
       "      <th>19</th>\n",
       "      <td>CDI Nu</td>\n",
       "      <td>6.160</td>\n",
       "      <td>2019-11-30</td>\n",
       "      <td>Nu</td>\n",
       "      <td>Investimento</td>\n",
       "    </tr>\n",
       "    <tr>\n",
       "      <th>20</th>\n",
       "      <td>CDI Nu</td>\n",
       "      <td>0.370</td>\n",
       "      <td>2019-11-30</td>\n",
       "      <td>Nu</td>\n",
       "      <td>Investimento</td>\n",
       "    </tr>\n",
       "    <tr>\n",
       "      <th>21</th>\n",
       "      <td>CDI Nu</td>\n",
       "      <td>0.020</td>\n",
       "      <td>2019-11-30</td>\n",
       "      <td>Nu</td>\n",
       "      <td>Investimento</td>\n",
       "    </tr>\n",
       "    <tr>\n",
       "      <th>22</th>\n",
       "      <td>ETF</td>\n",
       "      <td>148.740</td>\n",
       "      <td>2019-11-30</td>\n",
       "      <td>Easy</td>\n",
       "      <td>Investimento</td>\n",
       "    </tr>\n",
       "  </tbody>\n",
       "</table>\n",
       "</div>"
      ],
      "text/plain": [
       "      Nome   Valor        Data Conta          Area\n",
       "18  CDI Nu   2.270  2019-11-30    Nu  Investimento\n",
       "19  CDI Nu   6.160  2019-11-30    Nu  Investimento\n",
       "20  CDI Nu   0.370  2019-11-30    Nu  Investimento\n",
       "21  CDI Nu   0.020  2019-11-30    Nu  Investimento\n",
       "22     ETF 148.740  2019-11-30  Easy  Investimento"
      ]
     },
     "execution_count": 3,
     "metadata": {},
     "output_type": "execute_result"
    }
   ],
   "source": [
    "dg = pd.read_csv('br_ganhos.csv')\n",
    "dg['Data'] = dg['Data'].apply(lambda x : dt.datetime.strptime(str(x),'%d/%m/%y').date())\n",
    "dg.tail()"
   ]
  },
  {
   "cell_type": "code",
   "execution_count": 4,
   "metadata": {},
   "outputs": [
    {
     "data": {
      "text/html": [
       "<div>\n",
       "<style scoped>\n",
       "    .dataframe tbody tr th:only-of-type {\n",
       "        vertical-align: middle;\n",
       "    }\n",
       "\n",
       "    .dataframe tbody tr th {\n",
       "        vertical-align: top;\n",
       "    }\n",
       "\n",
       "    .dataframe thead th {\n",
       "        text-align: right;\n",
       "    }\n",
       "</style>\n",
       "<table border=\"1\" class=\"dataframe\">\n",
       "  <thead>\n",
       "    <tr style=\"text-align: right;\">\n",
       "      <th></th>\n",
       "      <th>Nome</th>\n",
       "      <th>Valor</th>\n",
       "      <th>Data</th>\n",
       "      <th>Pagamento</th>\n",
       "      <th>Area</th>\n",
       "      <th>Pessoal</th>\n",
       "    </tr>\n",
       "  </thead>\n",
       "  <tbody>\n",
       "    <tr>\n",
       "      <th>52</th>\n",
       "      <td>Agua</td>\n",
       "      <td>72.333</td>\n",
       "      <td>2019-12-31</td>\n",
       "      <td>Pais</td>\n",
       "      <td>Moradia</td>\n",
       "      <td>Sim</td>\n",
       "    </tr>\n",
       "    <tr>\n",
       "      <th>53</th>\n",
       "      <td>Luz</td>\n",
       "      <td>138.667</td>\n",
       "      <td>2019-12-31</td>\n",
       "      <td>Pais</td>\n",
       "      <td>Moradia</td>\n",
       "      <td>Sim</td>\n",
       "    </tr>\n",
       "    <tr>\n",
       "      <th>54</th>\n",
       "      <td>Internet</td>\n",
       "      <td>191.333</td>\n",
       "      <td>2019-12-31</td>\n",
       "      <td>Pais</td>\n",
       "      <td>Moradia</td>\n",
       "      <td>Sim</td>\n",
       "    </tr>\n",
       "    <tr>\n",
       "      <th>55</th>\n",
       "      <td>Catherine</td>\n",
       "      <td>124.900</td>\n",
       "      <td>2019-11-29</td>\n",
       "      <td>Pais</td>\n",
       "      <td>Eletronicos</td>\n",
       "      <td>Sim</td>\n",
       "    </tr>\n",
       "    <tr>\n",
       "      <th>56</th>\n",
       "      <td>Impressao</td>\n",
       "      <td>4.500</td>\n",
       "      <td>2019-11-28</td>\n",
       "      <td>Cash</td>\n",
       "      <td>Estudo</td>\n",
       "      <td>Sim</td>\n",
       "    </tr>\n",
       "  </tbody>\n",
       "</table>\n",
       "</div>"
      ],
      "text/plain": [
       "         Nome   Valor        Data Pagamento         Area Pessoal\n",
       "52       Agua  72.333  2019-12-31      Pais      Moradia     Sim\n",
       "53        Luz 138.667  2019-12-31      Pais      Moradia     Sim\n",
       "54   Internet 191.333  2019-12-31      Pais      Moradia     Sim\n",
       "55  Catherine 124.900  2019-11-29      Pais  Eletronicos     Sim\n",
       "56  Impressao   4.500  2019-11-28      Cash       Estudo     Sim"
      ]
     },
     "execution_count": 4,
     "metadata": {},
     "output_type": "execute_result"
    }
   ],
   "source": [
    "df = pd.read_csv('br_gastos.csv')\n",
    "df['Data'] = df['Data'].apply(lambda x : dt.datetime.strptime(str(x),'%d/%m/%y').date())\n",
    "df.tail()"
   ]
  },
  {
   "cell_type": "code",
   "execution_count": 5,
   "metadata": {},
   "outputs": [
    {
     "data": {
      "text/html": [
       "<div>\n",
       "<style scoped>\n",
       "    .dataframe tbody tr th:only-of-type {\n",
       "        vertical-align: middle;\n",
       "    }\n",
       "\n",
       "    .dataframe tbody tr th {\n",
       "        vertical-align: top;\n",
       "    }\n",
       "\n",
       "    .dataframe thead th {\n",
       "        text-align: right;\n",
       "    }\n",
       "</style>\n",
       "<table border=\"1\" class=\"dataframe\">\n",
       "  <thead>\n",
       "    <tr style=\"text-align: right;\">\n",
       "      <th></th>\n",
       "      <th>De</th>\n",
       "      <th>Para</th>\n",
       "      <th>Valor</th>\n",
       "    </tr>\n",
       "  </thead>\n",
       "  <tbody>\n",
       "    <tr>\n",
       "      <th>0</th>\n",
       "      <td>BB</td>\n",
       "      <td>Nu</td>\n",
       "      <td>12491.070</td>\n",
       "    </tr>\n",
       "    <tr>\n",
       "      <th>1</th>\n",
       "      <td>Nu</td>\n",
       "      <td>Easy</td>\n",
       "      <td>1455.000</td>\n",
       "    </tr>\n",
       "    <tr>\n",
       "      <th>2</th>\n",
       "      <td>Nu</td>\n",
       "      <td>Easy</td>\n",
       "      <td>731.400</td>\n",
       "    </tr>\n",
       "    <tr>\n",
       "      <th>3</th>\n",
       "      <td>Nu</td>\n",
       "      <td>Easy</td>\n",
       "      <td>870.270</td>\n",
       "    </tr>\n",
       "  </tbody>\n",
       "</table>\n",
       "</div>"
      ],
      "text/plain": [
       "   De  Para     Valor\n",
       "0  BB    Nu 12491.070\n",
       "1  Nu  Easy  1455.000\n",
       "2  Nu  Easy   731.400\n",
       "3  Nu  Easy   870.270"
      ]
     },
     "execution_count": 5,
     "metadata": {},
     "output_type": "execute_result"
    }
   ],
   "source": [
    "dtr = pd.read_csv('br_transf.csv')\n",
    "dtr.tail()"
   ]
  },
  {
   "cell_type": "markdown",
   "metadata": {},
   "source": [
    "## Saldo atual"
   ]
  },
  {
   "cell_type": "code",
   "execution_count": 6,
   "metadata": {},
   "outputs": [
    {
     "data": {
      "text/html": [
       "<div>\n",
       "<style scoped>\n",
       "    .dataframe tbody tr th:only-of-type {\n",
       "        vertical-align: middle;\n",
       "    }\n",
       "\n",
       "    .dataframe tbody tr th {\n",
       "        vertical-align: top;\n",
       "    }\n",
       "\n",
       "    .dataframe thead th {\n",
       "        text-align: right;\n",
       "    }\n",
       "</style>\n",
       "<table border=\"1\" class=\"dataframe\">\n",
       "  <thead>\n",
       "    <tr style=\"text-align: right;\">\n",
       "      <th></th>\n",
       "      <th>Saldo</th>\n",
       "      <th>Lido</th>\n",
       "      <th>Erro</th>\n",
       "    </tr>\n",
       "  </thead>\n",
       "  <tbody>\n",
       "    <tr>\n",
       "      <th>Alelo</th>\n",
       "      <td>927.520</td>\n",
       "      <td>855.510</td>\n",
       "      <td>72.010</td>\n",
       "    </tr>\n",
       "    <tr>\n",
       "      <th>BB</th>\n",
       "      <td>0.000</td>\n",
       "      <td>0.000</td>\n",
       "      <td>0.000</td>\n",
       "    </tr>\n",
       "    <tr>\n",
       "      <th>Cash</th>\n",
       "      <td>2.500</td>\n",
       "      <td>269.000</td>\n",
       "      <td>-266.500</td>\n",
       "    </tr>\n",
       "    <tr>\n",
       "      <th>Easy</th>\n",
       "      <td>3197.000</td>\n",
       "      <td>3187.300</td>\n",
       "      <td>9.700</td>\n",
       "    </tr>\n",
       "    <tr>\n",
       "      <th>Nu</th>\n",
       "      <td>14499.150</td>\n",
       "      <td>14585.120</td>\n",
       "      <td>-85.970</td>\n",
       "    </tr>\n",
       "  </tbody>\n",
       "</table>\n",
       "</div>"
      ],
      "text/plain": [
       "          Saldo      Lido     Erro\n",
       "Alelo   927.520   855.510   72.010\n",
       "BB        0.000     0.000    0.000\n",
       "Cash      2.500   269.000 -266.500\n",
       "Easy   3197.000  3187.300    9.700\n",
       "Nu    14499.150 14585.120  -85.970"
      ]
     },
     "execution_count": 6,
     "metadata": {},
     "output_type": "execute_result"
    }
   ],
   "source": [
    "l.calc_funds(dg, df, dtr, [855.51, 0, 269, 3187.3, 14585.12])"
   ]
  },
  {
   "cell_type": "markdown",
   "metadata": {},
   "source": [
    "## Análise mensal"
   ]
  },
  {
   "cell_type": "code",
   "execution_count": 7,
   "metadata": {},
   "outputs": [],
   "source": [
    "monthly_earnings = l.window_mean(l.group_sum(dg, group=[]))\n",
    "monthly_spendings = l.window_mean(l.group_sum(df, group=[]))\n",
    "monthly_real_spendings = l.window_mean(l.group_sum(df[df['Pagamento'] != 'Pais'], group=[]))"
   ]
  },
  {
   "cell_type": "markdown",
   "metadata": {},
   "source": [
    "### Balanço"
   ]
  },
  {
   "cell_type": "code",
   "execution_count": 8,
   "metadata": {},
   "outputs": [
    {
     "data": {
      "application/vnd.jupyter.widget-view+json": {
       "model_id": "476271f5bef44e45b4566a47a8f56546",
       "version_major": 2,
       "version_minor": 0
      },
      "text/plain": [
       "FigureWidget({\n",
       "    'data': [{'hoverinfo': 'y',\n",
       "              'marker': {'color': '#13E881'},\n",
       "              'na…"
      ]
     },
     "metadata": {},
     "output_type": "display_data"
    }
   ],
   "source": [
    "fig = l.plot_bar([monthly_earnings, monthly_spendings, monthly_real_spendings], y='Valor', \n",
    "                 color=lcolors[0:3], \n",
    "                 name=['Ganho', 'Gasto', 'Gasto Real'])\n",
    "l.plot_line([monthly_earnings, monthly_spendings, monthly_real_spendings], fig=fig, y='Avg', \n",
    "            color=dcolors[0:3], \n",
    "            name=['Ganho médio', 'Gasto médio', 'Gasto Real médio'])"
   ]
  },
  {
   "cell_type": "markdown",
   "metadata": {},
   "source": [
    "### Saldo"
   ]
  },
  {
   "cell_type": "code",
   "execution_count": 9,
   "metadata": {},
   "outputs": [
    {
     "data": {
      "text/html": [
       "<div>\n",
       "<style scoped>\n",
       "    .dataframe tbody tr th:only-of-type {\n",
       "        vertical-align: middle;\n",
       "    }\n",
       "\n",
       "    .dataframe tbody tr th {\n",
       "        vertical-align: top;\n",
       "    }\n",
       "\n",
       "    .dataframe thead th {\n",
       "        text-align: right;\n",
       "    }\n",
       "</style>\n",
       "<table border=\"1\" class=\"dataframe\">\n",
       "  <thead>\n",
       "    <tr style=\"text-align: right;\">\n",
       "      <th></th>\n",
       "      <th>Ganho</th>\n",
       "      <th>Ganho médio</th>\n",
       "      <th>Gasto</th>\n",
       "      <th>Gasto médio</th>\n",
       "      <th>Saldo</th>\n",
       "      <th>Var</th>\n",
       "      <th>Crescimento</th>\n",
       "      <th>Avg</th>\n",
       "    </tr>\n",
       "  </thead>\n",
       "  <tbody>\n",
       "    <tr>\n",
       "      <th>Ago/19</th>\n",
       "      <td>12508.530</td>\n",
       "      <td>5314.627</td>\n",
       "      <td>0.000</td>\n",
       "      <td>0.000</td>\n",
       "      <td>12508.530</td>\n",
       "      <td>12508.530</td>\n",
       "      <td>0.000</td>\n",
       "      <td>5208.027</td>\n",
       "    </tr>\n",
       "    <tr>\n",
       "      <th>Set/19</th>\n",
       "      <td>115.940</td>\n",
       "      <td>5314.627</td>\n",
       "      <td>123.550</td>\n",
       "      <td>182.637</td>\n",
       "      <td>12500.920</td>\n",
       "      <td>-7.610</td>\n",
       "      <td>-0.061</td>\n",
       "      <td>5208.027</td>\n",
       "    </tr>\n",
       "    <tr>\n",
       "      <th>Out/19</th>\n",
       "      <td>3319.410</td>\n",
       "      <td>5314.627</td>\n",
       "      <td>196.250</td>\n",
       "      <td>182.637</td>\n",
       "      <td>15624.080</td>\n",
       "      <td>3123.160</td>\n",
       "      <td>24.983</td>\n",
       "      <td>5208.027</td>\n",
       "    </tr>\n",
       "    <tr>\n",
       "      <th>Nov/19</th>\n",
       "      <td>3319.180</td>\n",
       "      <td>2251.510</td>\n",
       "      <td>228.110</td>\n",
       "      <td>182.637</td>\n",
       "      <td>18715.150</td>\n",
       "      <td>3091.070</td>\n",
       "      <td>19.784</td>\n",
       "      <td>2068.873</td>\n",
       "    </tr>\n",
       "    <tr>\n",
       "      <th>Dez/19</th>\n",
       "      <td>0.000</td>\n",
       "      <td>0.000</td>\n",
       "      <td>88.980</td>\n",
       "      <td>171.113</td>\n",
       "      <td>18626.170</td>\n",
       "      <td>-88.980</td>\n",
       "      <td>-0.475</td>\n",
       "      <td>2041.750</td>\n",
       "    </tr>\n",
       "  </tbody>\n",
       "</table>\n",
       "</div>"
      ],
      "text/plain": [
       "           Ganho  Ganho médio   Gasto  Gasto médio     Saldo       Var  \\\n",
       "Ago/19 12508.530     5314.627   0.000        0.000 12508.530 12508.530   \n",
       "Set/19   115.940     5314.627 123.550      182.637 12500.920    -7.610   \n",
       "Out/19  3319.410     5314.627 196.250      182.637 15624.080  3123.160   \n",
       "Nov/19  3319.180     2251.510 228.110      182.637 18715.150  3091.070   \n",
       "Dez/19     0.000        0.000  88.980      171.113 18626.170   -88.980   \n",
       "\n",
       "        Crescimento      Avg  \n",
       "Ago/19        0.000 5208.027  \n",
       "Set/19       -0.061 5208.027  \n",
       "Out/19       24.983 5208.027  \n",
       "Nov/19       19.784 2068.873  \n",
       "Dez/19       -0.475 2041.750  "
      ]
     },
     "execution_count": 9,
     "metadata": {},
     "output_type": "execute_result"
    }
   ],
   "source": [
    "fund = l.calc_balance(monthly_earnings, monthly_real_spendings)\n",
    "fund = l.window_mean(fund, select='Var')\n",
    "fund"
   ]
  },
  {
   "cell_type": "code",
   "execution_count": 10,
   "metadata": {},
   "outputs": [
    {
     "data": {
      "application/vnd.jupyter.widget-view+json": {
       "model_id": "bacce81c58174d17884d22ea850da36b",
       "version_major": 2,
       "version_minor": 0
      },
      "text/plain": [
       "FigureWidget({\n",
       "    'data': [{'marker': {'color': '#A7BEFA'},\n",
       "              'stackgroup': 'one',\n",
       "              …"
      ]
     },
     "metadata": {},
     "output_type": "display_data"
    }
   ],
   "source": [
    "l.plot_stacked_area(fund, y='Saldo', color=lcolors[3])"
   ]
  },
  {
   "cell_type": "code",
   "execution_count": 11,
   "metadata": {},
   "outputs": [
    {
     "data": {
      "application/vnd.jupyter.widget-view+json": {
       "model_id": "9433450743004caf9a587f37dcdd574e",
       "version_major": 2,
       "version_minor": 0
      },
      "text/plain": [
       "FigureWidget({\n",
       "    'data': [{'marker': {'color': '#A7BEFA'},\n",
       "              'name': 'Variacao',\n",
       "              '…"
      ]
     },
     "metadata": {},
     "output_type": "display_data"
    }
   ],
   "source": [
    "fig = l.plot_bar(fund, y='Var', color=lcolors[3], name='Variacao')\n",
    "l.plot_line(fund, fig=fig, y='Avg', color=dcolors[3], name='Variacao média')"
   ]
  },
  {
   "cell_type": "markdown",
   "metadata": {},
   "source": [
    "## Matriz de finanças"
   ]
  },
  {
   "cell_type": "code",
   "execution_count": 17,
   "metadata": {},
   "outputs": [],
   "source": [
    "area_spendings = l.group_sum(df[df['Pagamento'] != 'Pais'], group=['Area'])\n",
    "area_spendings_p = l.group_sum(df, group=['Area'])\n",
    "area_earnings = l.group_sum(dg, group=['Area'])"
   ]
  },
  {
   "cell_type": "markdown",
   "metadata": {},
   "source": [
    "### Gastos"
   ]
  },
  {
   "cell_type": "code",
   "execution_count": 13,
   "metadata": {
    "scrolled": false
   },
   "outputs": [
    {
     "data": {
      "application/vnd.jupyter.widget-view+json": {
       "model_id": "5eae5e3a6ada4ae4ab6c6810a6397925",
       "version_major": 2,
       "version_minor": 0
      },
      "text/plain": [
       "FigureWidget({\n",
       "    'data': [{'hoverinfo': 'y',\n",
       "              'marker': {'color': '#13E881'},\n",
       "              'na…"
      ]
     },
     "metadata": {},
     "output_type": "display_data"
    }
   ],
   "source": [
    "l.plot_stacked_area(area_spendings, color=lcolors, name=area_spendings.columns)"
   ]
  },
  {
   "cell_type": "code",
   "execution_count": 14,
   "metadata": {},
   "outputs": [
    {
     "data": {
      "application/vnd.jupyter.widget-view+json": {
       "model_id": "eb3b9326859843e6adc06ba179961caf",
       "version_major": 2,
       "version_minor": 0
      },
      "text/plain": [
       "FigureWidget({\n",
       "    'data': [{'hole': 0.4,\n",
       "              'labels': array(['Alimentacao', 'Banco', 'Eletronicos'…"
      ]
     },
     "metadata": {},
     "output_type": "display_data"
    }
   ],
   "source": [
    "l.plot_pie(area_spendings.sum(), colors=lcolors)"
   ]
  },
  {
   "cell_type": "code",
   "execution_count": 18,
   "metadata": {},
   "outputs": [
    {
     "data": {
      "application/vnd.jupyter.widget-view+json": {
       "model_id": "114231d99b664b93a1312b69912de3eb",
       "version_major": 2,
       "version_minor": 0
      },
      "text/plain": [
       "FigureWidget({\n",
       "    'data': [{'hole': 0.4,\n",
       "              'labels': array(['Alimentacao', 'Banco', 'Eletronicos'…"
      ]
     },
     "metadata": {},
     "output_type": "display_data"
    }
   ],
   "source": [
    "l.plot_pie(area_spendings_p.sum(), colors=lcolors)"
   ]
  },
  {
   "cell_type": "markdown",
   "metadata": {},
   "source": [
    "### Ganhos"
   ]
  },
  {
   "cell_type": "code",
   "execution_count": 15,
   "metadata": {
    "scrolled": false
   },
   "outputs": [
    {
     "data": {
      "application/vnd.jupyter.widget-view+json": {
       "model_id": "bdfa7868a62a435e8402a0ba0348837a",
       "version_major": 2,
       "version_minor": 0
      },
      "text/plain": [
       "FigureWidget({\n",
       "    'data': [{'hoverinfo': 'y',\n",
       "              'marker': {'color': '#13E881'},\n",
       "              'na…"
      ]
     },
     "metadata": {},
     "output_type": "display_data"
    }
   ],
   "source": [
    "l.plot_stacked_area(area_earnings, color=lcolors, name=area_earnings.columns)"
   ]
  },
  {
   "cell_type": "code",
   "execution_count": 22,
   "metadata": {},
   "outputs": [
    {
     "data": {
      "application/vnd.jupyter.widget-view+json": {
       "model_id": "0a3c6438b9c04afda134d2a5bdb8ad8f",
       "version_major": 2,
       "version_minor": 0
      },
      "text/plain": [
       "FigureWidget({\n",
       "    'data': [{'hole': 0.4,\n",
       "              'labels': array(['Investimento', 'Pais', 'Salario'], d…"
      ]
     },
     "metadata": {},
     "output_type": "display_data"
    }
   ],
   "source": [
    "l.plot_pie(area_earnings.sum(), colors=lcolors)"
   ]
  },
  {
   "cell_type": "code",
   "execution_count": null,
   "metadata": {},
   "outputs": [],
   "source": []
  }
 ],
 "metadata": {
  "kernelspec": {
   "display_name": "Python 3",
   "language": "python",
   "name": "python3"
  },
  "language_info": {
   "codemirror_mode": {
    "name": "ipython",
    "version": 3
   },
   "file_extension": ".py",
   "mimetype": "text/x-python",
   "name": "python",
   "nbconvert_exporter": "python",
   "pygments_lexer": "ipython3",
   "version": "3.7.3"
  }
 },
 "nbformat": 4,
 "nbformat_minor": 2
}
