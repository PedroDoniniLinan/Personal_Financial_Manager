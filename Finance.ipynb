{
 "cells": [
  {
   "cell_type": "markdown",
   "metadata": {},
   "source": [
    "# Gerenciador de finanças"
   ]
  },
  {
   "cell_type": "code",
   "execution_count": 21,
   "metadata": {},
   "outputs": [],
   "source": [
    "import numpy as np\n",
    "import pandas as pd\n",
    "import datetime as dt\n",
    "import seaborn as sns\n",
    "from plotly import tools\n",
    "import plotly.graph_objs as go\n",
    "# from lib import lib as l\n",
    "from lib import plot as p\n",
    "from lib import data as d\n",
    "from lib import finance as f"
   ]
  },
  {
   "cell_type": "code",
   "execution_count": 22,
   "metadata": {},
   "outputs": [],
   "source": [
    "pd.set_option('display.float_format', lambda x: '%.3f' % x)\n",
    "lpalette = {'g':'#13E881', 'r':'#FF5949', 'o':'#FFB84C', 'b':'#A7BEFA', 'w':'#FFFFFF', 'pk':'#FFA1FD', 'bg':'#FFEDBA', 'c':'#90EBF0',\n",
    "            'pp':'#BBA0F0', 'g2':'#CCFFED', 'b2':'#E3EEFF', 'y':'#FFFC57'}\n",
    "dpalette = {'g':'#268040', 'r':'#800B00', 'o':'#A13808', 'b':'#464CC2', 'w':'#B8BFBA', 'pk':'#A04EA6', 'bg':'#807155', 'c':'#1D4544',\n",
    "            'pp':'#291147', 'g2':'#394742', 'b2':'#414449', 'y':'#666523'}"
   ]
  },
  {
   "cell_type": "code",
   "execution_count": 23,
   "metadata": {
    "collapsed": true
   },
   "outputs": [
    {
     "name": "stdout",
     "output_type": "stream",
     "text": [
      "This is the format of your plot grid:\n",
      "[ (1,1) x1,y1 ]\n",
      "\n",
      "This is the format of your plot grid:\n",
      "[ (1,1) x1,y1 ]  [ (1,2) x2,y2 ]\n",
      "\n",
      "This is the format of your plot grid:\n",
      "[ (1,1) x1,y1 ]\n",
      "\n",
      "This is the format of your plot grid:\n",
      "[ (1,1) x1,y1 ]\n",
      "\n",
      "This is the format of your plot grid:\n",
      "[ (1,1) x1,y1 ]\n",
      "\n",
      "This is the format of your plot grid:\n",
      "[ (1,1) x1,y1    [ (1,2) x2,y2 ]  [ (1,3) x3,y3 ]\n",
      "\n",
      "This is the format of your plot grid:\n",
      "[ (1,1) x1,y1 ]\n",
      "\n",
      "This is the format of your plot grid:\n",
      "[ (1,1) x1,y1    [ (1,2) x2,y2 ]  [ (1,3) x3,y3 ]\n",
      "\n",
      "This is the format of your plot grid:\n",
      "[ (1,1) x1,y1 ]\n",
      "\n",
      "This is the format of your plot grid:\n",
      "[ (1,1) x1,y1    [ (1,2) x2,y2 ]  [ (1,3) x3,y3 ]\n",
      "\n",
      "This is the format of your plot grid:\n",
      "[ (1,1) x1,y1 ]\n",
      "\n",
      "This is the format of your plot grid:\n",
      "[ (1,1) x1,y1    [ (1,2) x2,y2 ]  [ (1,3) x3,y3 ]\n",
      "\n"
     ]
    }
   ],
   "source": [
    "fig_bal = p.make_fig()\n",
    "\n",
    "fig_fund = p.make_fig(cols=2, specs=[[{}, {}]])\n",
    "fig_grow = p.make_fig()\n",
    "fig_var = p.make_fig()\n",
    "\n",
    "fig_exp = p.make_fig()\n",
    "fig_exp_pct = p.make_fig(cols=3, specs=[[{'colspan':2},{},{}]])\n",
    "fig_exp_p = p.make_fig()\n",
    "fig_exp_p_pct = p.make_fig(cols=3, specs=[[{'colspan':2},{},{}]])\n",
    "fig_trip = p.make_fig()\n",
    "fig_trip_pct = p.make_fig(cols=3, specs=[[{'colspan':2},{},{}]])\n",
    "\n",
    "fig_inc = p.make_fig()\n",
    "fig_inc_pct = p.make_fig(cols=3, specs=[[{'colspan':2},{},{}]])"
   ]
  },
  {
   "cell_type": "markdown",
   "metadata": {},
   "source": [
    "#### Leitura dos dados"
   ]
  },
  {
   "cell_type": "code",
   "execution_count": 24,
   "metadata": {},
   "outputs": [],
   "source": [
    "dg, df, dtr = f.read_finance()"
   ]
  },
  {
   "cell_type": "markdown",
   "metadata": {},
   "source": [
    "## Saldo atual"
   ]
  },
  {
   "cell_type": "code",
   "execution_count": 25,
   "metadata": {},
   "outputs": [
    {
     "data": {
      "text/html": [
       "<div>\n",
       "<style scoped>\n",
       "    .dataframe tbody tr th:only-of-type {\n",
       "        vertical-align: middle;\n",
       "    }\n",
       "\n",
       "    .dataframe tbody tr th {\n",
       "        vertical-align: top;\n",
       "    }\n",
       "\n",
       "    .dataframe thead th {\n",
       "        text-align: right;\n",
       "    }\n",
       "</style>\n",
       "<table border=\"1\" class=\"dataframe\">\n",
       "  <thead>\n",
       "    <tr style=\"text-align: right;\">\n",
       "      <th></th>\n",
       "      <th>Saldo</th>\n",
       "      <th>Lido</th>\n",
       "      <th>Erro</th>\n",
       "    </tr>\n",
       "    <tr>\n",
       "      <th></th>\n",
       "      <th></th>\n",
       "      <th></th>\n",
       "      <th></th>\n",
       "    </tr>\n",
       "  </thead>\n",
       "  <tbody>\n",
       "    <tr>\n",
       "      <th>Alelo</th>\n",
       "      <td>1237.580</td>\n",
       "      <td>1237.580</td>\n",
       "      <td>0.000</td>\n",
       "    </tr>\n",
       "    <tr>\n",
       "      <th>BB</th>\n",
       "      <td>0.000</td>\n",
       "      <td>0.000</td>\n",
       "      <td>0.000</td>\n",
       "    </tr>\n",
       "    <tr>\n",
       "      <th>Cash</th>\n",
       "      <td>514.750</td>\n",
       "      <td>514.750</td>\n",
       "      <td>0.000</td>\n",
       "    </tr>\n",
       "    <tr>\n",
       "      <th>Easy</th>\n",
       "      <td>9820.100</td>\n",
       "      <td>9820.100</td>\n",
       "      <td>-0.000</td>\n",
       "    </tr>\n",
       "    <tr>\n",
       "      <th>Nu</th>\n",
       "      <td>26128.450</td>\n",
       "      <td>26128.450</td>\n",
       "      <td>-0.000</td>\n",
       "    </tr>\n",
       "  </tbody>\n",
       "</table>\n",
       "</div>"
      ],
      "text/plain": [
       "          Saldo      Lido   Erro\n",
       "                                \n",
       "Alelo  1237.580  1237.580  0.000\n",
       "BB        0.000     0.000  0.000\n",
       "Cash    514.750   514.750  0.000\n",
       "Easy   9820.100  9820.100 -0.000\n",
       "Nu    26128.450 26128.450 -0.000"
      ]
     },
     "execution_count": 25,
     "metadata": {},
     "output_type": "execute_result"
    }
   ],
   "source": [
    "f.calc_account_funds(dg, df, dtr, [1237.58, 0, 514.75, 9820.1, 26128.45])"
   ]
  },
  {
   "cell_type": "markdown",
   "metadata": {},
   "source": [
    "## Análise mensal"
   ]
  },
  {
   "cell_type": "code",
   "execution_count": 26,
   "metadata": {},
   "outputs": [],
   "source": [
    "balance = f.calc_balance(dg, df)"
   ]
  },
  {
   "cell_type": "markdown",
   "metadata": {},
   "source": [
    "### Balanço"
   ]
  },
  {
   "cell_type": "code",
   "execution_count": 27,
   "metadata": {},
   "outputs": [
    {
     "data": {
      "application/vnd.jupyter.widget-view+json": {
       "model_id": "d85516ac965b4cbc8f6d18da34d94e47",
       "version_major": 2,
       "version_minor": 0
      },
      "text/plain": [
       "FigureWidget({\n",
       "    'data': [{'hoverinfo': 'name+y',\n",
       "              'marker': {'color': '#268040'},\n",
       "            …"
      ]
     },
     "metadata": {},
     "output_type": "display_data"
    }
   ],
   "source": [
    "palette = {'Renda média': dpalette['g'], 'Despesa média': dpalette['r'], 'Despesa real média': dpalette['o'],\n",
    "           'Renda': lpalette['g'], 'Despesa': lpalette['r'], 'Despesa real': lpalette['o']}\n",
    "p.plot(balance, 'Data', fig_bal, palette, ['Renda média', 'Despesa média', 'Despesa real média'])\n",
    "p.plot(balance, 'Data', fig_bal, palette, ['Renda', 'Despesa', 'Despesa real'], 'bar')"
   ]
  },
  {
   "cell_type": "markdown",
   "metadata": {},
   "source": [
    "### Saldo"
   ]
  },
  {
   "cell_type": "code",
   "execution_count": 28,
   "metadata": {},
   "outputs": [],
   "source": [
    "fund = d.window(f.calc_fund(balance.fillna(0)), val='Var')\n",
    "fund_p = d.window(f.calc_fund(balance.fillna(0), expense='Despesa'), val='Var')"
   ]
  },
  {
   "cell_type": "code",
   "execution_count": 29,
   "metadata": {
    "scrolled": false
   },
   "outputs": [
    {
     "data": {
      "application/vnd.jupyter.widget-view+json": {
       "model_id": "6e2581c1ea1a4c7bab062ea3303d87a6",
       "version_major": 2,
       "version_minor": 0
      },
      "text/plain": [
       "FigureWidget({\n",
       "    'data': [{'hoverinfo': 'name+y',\n",
       "              'marker': {'color': '#A7BEFA'},\n",
       "            …"
      ]
     },
     "metadata": {},
     "output_type": "display_data"
    }
   ],
   "source": [
    "p.plot(fund, 'Data', fig_fund, {'Saldo': lpalette['b']}, y=['Saldo'], plot_type='area', name=['Saldo real'])\n",
    "p.plot(fund_p, 'Data', fig_fund, {'Saldo': lpalette['r']}, y=['Saldo'], plot_type='area', col=2)"
   ]
  },
  {
   "cell_type": "code",
   "execution_count": 30,
   "metadata": {},
   "outputs": [
    {
     "data": {
      "application/vnd.jupyter.widget-view+json": {
       "model_id": "78ba42c6d4be4f63bfc0f7ab27954771",
       "version_major": 2,
       "version_minor": 0
      },
      "text/plain": [
       "FigureWidget({\n",
       "    'data': [{'hoverinfo': 'name+y',\n",
       "              'marker': {'color': '#A7BEFA'},\n",
       "            …"
      ]
     },
     "metadata": {},
     "output_type": "display_data"
    }
   ],
   "source": [
    "p.plot(fund, 'Data', fig_grow, {'%': lpalette['b']}, y=['%'], name=['Crescimento real'])\n",
    "p.plot(fund_p, 'Data', fig_grow, {'%': lpalette['r']}, y=['%'], name=['Crescimento'])"
   ]
  },
  {
   "cell_type": "code",
   "execution_count": 31,
   "metadata": {
    "scrolled": false
   },
   "outputs": [
    {
     "data": {
      "application/vnd.jupyter.widget-view+json": {
       "model_id": "e506e5644d374025bea293033792ad43",
       "version_major": 2,
       "version_minor": 0
      },
      "text/plain": [
       "FigureWidget({\n",
       "    'data': [{'hoverinfo': 'name+y',\n",
       "              'marker': {'color': '#A7BEFA'},\n",
       "            …"
      ]
     },
     "metadata": {},
     "output_type": "display_data"
    }
   ],
   "source": [
    "p.plot(fund, 'Data', fig_var, {'Var': lpalette['b']}, y=['Var'], plot_type='bar', name=['Variação real'])\n",
    "p.plot(fund, 'Data', fig_var, {'VarAvg': dpalette['b']}, y=['VarAvg'], name=['Variação real média'])\n",
    "p.plot(fund_p, 'Data', fig_var, {'Var': lpalette['r']}, y=['Var'], plot_type='bar', name=['Variação'])\n",
    "p.plot(fund_p, 'Data', fig_var, {'VarAvg': dpalette['r']}, y=['VarAvg'], name=['Variação média'])"
   ]
  },
  {
   "cell_type": "markdown",
   "metadata": {},
   "source": [
    "## Matriz de finanças"
   ]
  },
  {
   "cell_type": "code",
   "execution_count": 32,
   "metadata": {},
   "outputs": [],
   "source": [
    "de = df[df['Area'] != 'Credito']\n",
    "\n",
    "area_income = d.pivot_agg(dg, val='Valor', idx=['Data'], col=['Area'], agg={'Valor':np.sum})\n",
    "area_income_pct = d.row_percentage(area_income.set_index('Data')).reset_index()\n",
    "\n",
    "area_expense = d.pivot_agg(de[de['Pagamento'] != 'Pais'], val='Valor', idx=['Data'], col=['Area'], agg={'Valor':np.sum})\n",
    "area_expense_pct = d.row_percentage(area_expense.set_index('Data')).reset_index()\n",
    "\n",
    "dtrip = de[de['Area'] == 'Viagem']\n",
    "trip_expense = d.pivot_agg(dtrip, val='Valor', idx=['Data'], col=['Sub'], agg={'Valor':np.sum})\n",
    "trip_expense_pct = d.row_percentage(trip_expense.set_index('Data')).reset_index()\n",
    "\n",
    "# dtrip = de[de['Area'] == 'Viagem']\n",
    "# trip_expense = d.pivot_agg(dtrip, val='Valor', idx=['Data'], col=['Sub'], agg={'Valor':np.sum})\n",
    "# trip_expense_pct = d.row_percentage(area_expense.set_index('Data')).reset_index()\n",
    "\n",
    "area_expense_p = d.pivot_agg(de, val='Valor', idx=['Data'], col=['Area'], agg={'Valor':np.sum})\n",
    "area_expense_p_pct = d.row_percentage(area_expense_p.set_index('Data')).reset_index()"
   ]
  },
  {
   "cell_type": "markdown",
   "metadata": {},
   "source": [
    "### Gastos"
   ]
  },
  {
   "cell_type": "markdown",
   "metadata": {},
   "source": [
    "### Real"
   ]
  },
  {
   "cell_type": "code",
   "execution_count": 33,
   "metadata": {},
   "outputs": [
    {
     "data": {
      "application/vnd.jupyter.widget-view+json": {
       "model_id": "5117f383bcd64d4ea8bb74dc7f159cc5",
       "version_major": 2,
       "version_minor": 0
      },
      "text/plain": [
       "FigureWidget({\n",
       "    'data': [{'hoverinfo': 'name+y',\n",
       "              'marker': {'color': '#13E881'},\n",
       "            …"
      ]
     },
     "metadata": {},
     "output_type": "display_data"
    }
   ],
   "source": [
    "palette = {'Alimentacao': lpalette['g'], 'Viagem': lpalette['c'], 'Eletronicos': dpalette['b'], 'Presente': lpalette['pk'], 'Imposto': lpalette['r'],\n",
    "           'Estudo': dpalette['g2'], 'Transporte': lpalette['o'], 'Banco': dpalette['pp'], 'Moradia':lpalette['y'], 'Passeio':dpalette['b2']}\n",
    "p.plot(area_expense, 'Data', fig_exp, palette, plot_type='area')"
   ]
  },
  {
   "cell_type": "code",
   "execution_count": 34,
   "metadata": {},
   "outputs": [
    {
     "data": {
      "application/vnd.jupyter.widget-view+json": {
       "model_id": "d6ccd94605fa4edfa5ebbd7b75f84a2f",
       "version_major": 2,
       "version_minor": 0
      },
      "text/plain": [
       "FigureWidget({\n",
       "    'data': [{'hoverinfo': 'name+y',\n",
       "              'marker': {'color': '#13E881'},\n",
       "            …"
      ]
     },
     "metadata": {},
     "output_type": "display_data"
    }
   ],
   "source": [
    "fig_exp_pct = p.plot(area_expense_pct, 'Data', fig=fig_exp_pct, row=1, col=1, palette=palette, plot_type='area')\n",
    "temp_sum = area_expense.sum()\n",
    "area_expense_sum = temp_sum.drop(temp_sum.index[0])\n",
    "p.plot_pie(area_expense_sum, fig_exp_pct, palette, dict(x=[0.68, 1]))"
   ]
  },
  {
   "cell_type": "markdown",
   "metadata": {},
   "source": [
    "### Total"
   ]
  },
  {
   "cell_type": "code",
   "execution_count": 35,
   "metadata": {},
   "outputs": [
    {
     "data": {
      "application/vnd.jupyter.widget-view+json": {
       "model_id": "97302864dd3a4552bd1685775eb7ae94",
       "version_major": 2,
       "version_minor": 0
      },
      "text/plain": [
       "FigureWidget({\n",
       "    'data': [{'hoverinfo': 'name+y',\n",
       "              'marker': {'color': '#13E881'},\n",
       "            …"
      ]
     },
     "metadata": {},
     "output_type": "display_data"
    }
   ],
   "source": [
    "p.plot(area_expense_p, 'Data', fig_exp_p, palette, plot_type='area')"
   ]
  },
  {
   "cell_type": "code",
   "execution_count": 36,
   "metadata": {},
   "outputs": [
    {
     "data": {
      "application/vnd.jupyter.widget-view+json": {
       "model_id": "5ee8faa783ac44aa8c64c658bcbeffc0",
       "version_major": 2,
       "version_minor": 0
      },
      "text/plain": [
       "FigureWidget({\n",
       "    'data': [{'hoverinfo': 'name+y',\n",
       "              'marker': {'color': '#13E881'},\n",
       "            …"
      ]
     },
     "metadata": {},
     "output_type": "display_data"
    }
   ],
   "source": [
    "fig_exp_p_pct = p.plot(area_expense_p_pct, 'Data', fig=fig_exp_p_pct, row=1, col=1, palette=palette, plot_type='area')\n",
    "temp_sum = area_expense_p.sum()\n",
    "area_expense_p_sum = temp_sum.drop(temp_sum.index[0])\n",
    "p.plot_pie(area_expense_p_sum, fig_exp_p_pct, palette, dict(x=[0.68, 1]))"
   ]
  },
  {
   "cell_type": "markdown",
   "metadata": {},
   "source": [
    "### Trip"
   ]
  },
  {
   "cell_type": "code",
   "execution_count": 37,
   "metadata": {},
   "outputs": [
    {
     "data": {
      "application/vnd.jupyter.widget-view+json": {
       "model_id": "b883eaf5d40946d19a11abbf2f81c09c",
       "version_major": 2,
       "version_minor": 0
      },
      "text/plain": [
       "FigureWidget({\n",
       "    'data': [{'hoverinfo': 'name+y',\n",
       "              'marker': {'color': '#13E881'},\n",
       "            …"
      ]
     },
     "metadata": {},
     "output_type": "display_data"
    }
   ],
   "source": [
    "palette = {'Alimentacao': lpalette['g'], 'Voo': lpalette['c'], 'Hotel': dpalette['b'], 'Farma': lpalette['pk'], 'Snack': lpalette['r'],\n",
    "           'Passeio': dpalette['g2'], 'Presente': lpalette['o'], 'Mercado': dpalette['pp'], 'Transporte':lpalette['y']}\n",
    "p.plot(trip_expense, 'Data', fig_trip, palette, plot_type='area')"
   ]
  },
  {
   "cell_type": "code",
   "execution_count": 38,
   "metadata": {},
   "outputs": [
    {
     "data": {
      "application/vnd.jupyter.widget-view+json": {
       "model_id": "2f671005fadd4468887c93dcf639ca9a",
       "version_major": 2,
       "version_minor": 0
      },
      "text/plain": [
       "FigureWidget({\n",
       "    'data': [{'hoverinfo': 'name+y',\n",
       "              'marker': {'color': '#13E881'},\n",
       "            …"
      ]
     },
     "metadata": {},
     "output_type": "display_data"
    }
   ],
   "source": [
    "fig_trip_pct = p.plot(trip_expense_pct, 'Data', fig=fig_trip_pct, row=1, col=1, palette=palette, plot_type='area')\n",
    "temp_sum = trip_expense.sum()\n",
    "trip_expense_sum = temp_sum.drop(temp_sum.index[0])\n",
    "p.plot_pie(trip_expense_sum, fig_trip_pct, palette, dict(x=[0.68, 1]))"
   ]
  },
  {
   "cell_type": "markdown",
   "metadata": {},
   "source": [
    "### Ganhos"
   ]
  },
  {
   "cell_type": "code",
   "execution_count": 39,
   "metadata": {},
   "outputs": [
    {
     "data": {
      "application/vnd.jupyter.widget-view+json": {
       "model_id": "cc956b677bd74440b1bcea53835fe505",
       "version_major": 2,
       "version_minor": 0
      },
      "text/plain": [
       "FigureWidget({\n",
       "    'data': [{'hoverinfo': 'name+y',\n",
       "              'marker': {'color': '#FFFC57'},\n",
       "            …"
      ]
     },
     "metadata": {},
     "output_type": "display_data"
    }
   ],
   "source": [
    "palette = {'Pais': lpalette['r'], 'Investimento': lpalette['y'], 'Salario': lpalette['g']}\n",
    "p.plot(area_income, 'Data', fig_inc, palette, plot_type='area')"
   ]
  },
  {
   "cell_type": "code",
   "execution_count": 40,
   "metadata": {
    "scrolled": false
   },
   "outputs": [
    {
     "data": {
      "application/vnd.jupyter.widget-view+json": {
       "model_id": "5e1b4acd7064441c987dd11b82fc6979",
       "version_major": 2,
       "version_minor": 0
      },
      "text/plain": [
       "FigureWidget({\n",
       "    'data': [{'hoverinfo': 'name+y',\n",
       "              'marker': {'color': '#FFFC57'},\n",
       "            …"
      ]
     },
     "metadata": {},
     "output_type": "display_data"
    }
   ],
   "source": [
    "fig_inc_pct = p.plot(area_income_pct, 'Data', fig=fig_inc_pct, row=1, col=1, palette=palette, plot_type='area')\n",
    "temp_sum = area_income.sum()\n",
    "area_income_sum = temp_sum.drop(temp_sum.index[0])\n",
    "p.plot_pie(area_income_sum, fig_inc_pct, palette, dict(x=[0.68, 1]))"
   ]
  }
 ],
 "metadata": {
  "kernelspec": {
   "display_name": "Python 3",
   "language": "python",
   "name": "python3"
  },
  "language_info": {
   "codemirror_mode": {
    "name": "ipython",
    "version": 3
   },
   "file_extension": ".py",
   "mimetype": "text/x-python",
   "name": "python",
   "nbconvert_exporter": "python",
   "pygments_lexer": "ipython3",
   "version": "3.7.3"
  }
 },
 "nbformat": 4,
 "nbformat_minor": 2
}
