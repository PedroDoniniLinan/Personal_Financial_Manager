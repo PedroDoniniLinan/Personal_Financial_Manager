{
 "cells": [
  {
   "cell_type": "markdown",
   "metadata": {},
   "source": [
    "## Gerenciador de Portfolio"
   ]
  },
  {
   "cell_type": "code",
   "execution_count": 1,
   "metadata": {},
   "outputs": [],
   "source": [
    "import numpy as np\n",
    "import pandas as pd\n",
    "import datetime as dt\n",
    "import seaborn as sns\n",
    "from plotly import tools\n",
    "import plotly.graph_objs as go\n",
    "from lib import lib as l"
   ]
  },
  {
   "cell_type": "code",
   "execution_count": 2,
   "metadata": {},
   "outputs": [],
   "source": [
    "pd.set_option('display.float_format', lambda x: '%.3f' % x)\n",
    "lcolors = np.array(['#13E881', '#FF5949', '#FFB84C', '#A7BEFA', '#268040', '#800B00', '#A13808', '#464CC2'])\n",
    "dcolors = np.array(['#268040', '#800B00', '#A13808', '#464CC2'])"
   ]
  },
  {
   "cell_type": "markdown",
   "metadata": {},
   "source": [
    "## Leitura dos dados"
   ]
  },
  {
   "cell_type": "code",
   "execution_count": 13,
   "metadata": {},
   "outputs": [],
   "source": [
    "dquote = pd.read_csv('br_quotes.csv')\n",
    "dstocks = pd.read_csv('br_stocks.csv')\n",
    "dport = pd.read_csv('br_portfolio.csv')\n",
    "dinvest = pd.read_csv('br_invest.csv')\n",
    "dport['Date'] = dport['Date'].apply(lambda x : dt.datetime.strptime(str(x),'%d/%m/%y').date())\n",
    "dinvest['Data'] = dinvest['Data'].apply(lambda x : dt.datetime.strptime(str(x),'%d/%m/%y').date())"
   ]
  },
  {
   "cell_type": "code",
   "execution_count": 14,
   "metadata": {},
   "outputs": [
    {
     "data": {
      "text/html": [
       "<div>\n",
       "<style scoped>\n",
       "    .dataframe tbody tr th:only-of-type {\n",
       "        vertical-align: middle;\n",
       "    }\n",
       "\n",
       "    .dataframe tbody tr th {\n",
       "        vertical-align: top;\n",
       "    }\n",
       "\n",
       "    .dataframe thead th {\n",
       "        text-align: right;\n",
       "    }\n",
       "</style>\n",
       "<table border=\"1\" class=\"dataframe\">\n",
       "  <thead>\n",
       "    <tr style=\"text-align: right;\">\n",
       "      <th></th>\n",
       "      <th>Ticker</th>\n",
       "      <th>Buy</th>\n",
       "      <th>Shares</th>\n",
       "      <th>Buy Tax</th>\n",
       "      <th>Date</th>\n",
       "      <th>Div</th>\n",
       "    </tr>\n",
       "  </thead>\n",
       "  <tbody>\n",
       "    <tr>\n",
       "      <th>0</th>\n",
       "      <td>IVVB11</td>\n",
       "      <td>130.800</td>\n",
       "      <td>10</td>\n",
       "      <td>0.400</td>\n",
       "      <td>2019-10-30</td>\n",
       "      <td>0</td>\n",
       "    </tr>\n",
       "    <tr>\n",
       "      <th>1</th>\n",
       "      <td>BRAX11</td>\n",
       "      <td>87.500</td>\n",
       "      <td>10</td>\n",
       "      <td>0.270</td>\n",
       "      <td>2019-11-14</td>\n",
       "      <td>0</td>\n",
       "    </tr>\n",
       "    <tr>\n",
       "      <th>2</th>\n",
       "      <td>IVVB11</td>\n",
       "      <td>139.030</td>\n",
       "      <td>10</td>\n",
       "      <td>0.630</td>\n",
       "      <td>2019-12-12</td>\n",
       "      <td>0</td>\n",
       "    </tr>\n",
       "  </tbody>\n",
       "</table>\n",
       "</div>"
      ],
      "text/plain": [
       "   Ticker     Buy  Shares  Buy Tax        Date  Div\n",
       "0  IVVB11 130.800      10    0.400  2019-10-30    0\n",
       "1  BRAX11  87.500      10    0.270  2019-11-14    0\n",
       "2  IVVB11 139.030      10    0.630  2019-12-12    0"
      ]
     },
     "execution_count": 14,
     "metadata": {},
     "output_type": "execute_result"
    }
   ],
   "source": [
    "dport"
   ]
  },
  {
   "cell_type": "code",
   "execution_count": 4,
   "metadata": {},
   "outputs": [
    {
     "data": {
      "text/html": [
       "<div>\n",
       "<style scoped>\n",
       "    .dataframe tbody tr th:only-of-type {\n",
       "        vertical-align: middle;\n",
       "    }\n",
       "\n",
       "    .dataframe tbody tr th {\n",
       "        vertical-align: top;\n",
       "    }\n",
       "\n",
       "    .dataframe thead th {\n",
       "        text-align: right;\n",
       "    }\n",
       "</style>\n",
       "<table border=\"1\" class=\"dataframe\">\n",
       "  <thead>\n",
       "    <tr style=\"text-align: right;\">\n",
       "      <th></th>\n",
       "      <th>ID</th>\n",
       "      <th>Valor inicial</th>\n",
       "      <th>Ganho</th>\n",
       "      <th>Meses</th>\n",
       "      <th>Rendimento</th>\n",
       "      <th>Rendimento mensal</th>\n",
       "      <th>Rendimento anual</th>\n",
       "      <th>Ativo</th>\n",
       "      <th>Tipo</th>\n",
       "    </tr>\n",
       "  </thead>\n",
       "  <tbody>\n",
       "    <tr>\n",
       "      <th>0</th>\n",
       "      <td>101.000</td>\n",
       "      <td>875.270</td>\n",
       "      <td>81.730</td>\n",
       "      <td>1.311</td>\n",
       "      <td>9.338</td>\n",
       "      <td>7.044</td>\n",
       "      <td>126.331</td>\n",
       "      <td>True</td>\n",
       "      <td>BRAX</td>\n",
       "    </tr>\n",
       "    <tr>\n",
       "      <th>1</th>\n",
       "      <td>102.000</td>\n",
       "      <td>1390.930</td>\n",
       "      <td>24.570</td>\n",
       "      <td>0.393</td>\n",
       "      <td>1.766</td>\n",
       "      <td>4.551</td>\n",
       "      <td>70.585</td>\n",
       "      <td>True</td>\n",
       "      <td>IVVB</td>\n",
       "    </tr>\n",
       "    <tr>\n",
       "      <th>2</th>\n",
       "      <td>100.000</td>\n",
       "      <td>1308.400</td>\n",
       "      <td>107.100</td>\n",
       "      <td>1.803</td>\n",
       "      <td>8.186</td>\n",
       "      <td>4.460</td>\n",
       "      <td>68.803</td>\n",
       "      <td>True</td>\n",
       "      <td>IVVB</td>\n",
       "    </tr>\n",
       "    <tr>\n",
       "      <th>3</th>\n",
       "      <td>5.100</td>\n",
       "      <td>1059.610</td>\n",
       "      <td>2.300</td>\n",
       "      <td>0.492</td>\n",
       "      <td>0.217</td>\n",
       "      <td>0.442</td>\n",
       "      <td>5.433</td>\n",
       "      <td>True</td>\n",
       "      <td>Nu</td>\n",
       "    </tr>\n",
       "    <tr>\n",
       "      <th>4</th>\n",
       "      <td>1.000</td>\n",
       "      <td>12491.070</td>\n",
       "      <td>48.940</td>\n",
       "      <td>1.115</td>\n",
       "      <td>0.392</td>\n",
       "      <td>0.351</td>\n",
       "      <td>4.299</td>\n",
       "      <td>False</td>\n",
       "      <td>Nu</td>\n",
       "    </tr>\n",
       "    <tr>\n",
       "      <th>5</th>\n",
       "      <td>3.100</td>\n",
       "      <td>1989.970</td>\n",
       "      <td>9.020</td>\n",
       "      <td>1.311</td>\n",
       "      <td>0.453</td>\n",
       "      <td>0.345</td>\n",
       "      <td>4.225</td>\n",
       "      <td>True</td>\n",
       "      <td>Nu</td>\n",
       "    </tr>\n",
       "    <tr>\n",
       "      <th>6</th>\n",
       "      <td>2.000</td>\n",
       "      <td>715.200</td>\n",
       "      <td>2.270</td>\n",
       "      <td>0.951</td>\n",
       "      <td>0.317</td>\n",
       "      <td>0.334</td>\n",
       "      <td>4.080</td>\n",
       "      <td>False</td>\n",
       "      <td>Nu</td>\n",
       "    </tr>\n",
       "    <tr>\n",
       "      <th>7</th>\n",
       "      <td>4.100</td>\n",
       "      <td>10.100</td>\n",
       "      <td>0.020</td>\n",
       "      <td>0.623</td>\n",
       "      <td>0.198</td>\n",
       "      <td>0.318</td>\n",
       "      <td>3.884</td>\n",
       "      <td>False</td>\n",
       "      <td>Nu</td>\n",
       "    </tr>\n",
       "    <tr>\n",
       "      <th>8</th>\n",
       "      <td>1.100</td>\n",
       "      <td>10940.620</td>\n",
       "      <td>57.890</td>\n",
       "      <td>1.770</td>\n",
       "      <td>0.529</td>\n",
       "      <td>0.299</td>\n",
       "      <td>3.642</td>\n",
       "      <td>True</td>\n",
       "      <td>Nu</td>\n",
       "    </tr>\n",
       "    <tr>\n",
       "      <th>9</th>\n",
       "      <td>3.000</td>\n",
       "      <td>2002.290</td>\n",
       "      <td>1.620</td>\n",
       "      <td>0.459</td>\n",
       "      <td>0.081</td>\n",
       "      <td>0.176</td>\n",
       "      <td>2.137</td>\n",
       "      <td>False</td>\n",
       "      <td>Nu</td>\n",
       "    </tr>\n",
       "    <tr>\n",
       "      <th>10</th>\n",
       "      <td>4.000</td>\n",
       "      <td>880.000</td>\n",
       "      <td>0.370</td>\n",
       "      <td>0.393</td>\n",
       "      <td>0.042</td>\n",
       "      <td>0.107</td>\n",
       "      <td>1.290</td>\n",
       "      <td>False</td>\n",
       "      <td>Nu</td>\n",
       "    </tr>\n",
       "    <tr>\n",
       "      <th>11</th>\n",
       "      <td>6.000</td>\n",
       "      <td>846.360</td>\n",
       "      <td>0.290</td>\n",
       "      <td>0.361</td>\n",
       "      <td>0.034</td>\n",
       "      <td>0.095</td>\n",
       "      <td>1.146</td>\n",
       "      <td>True</td>\n",
       "      <td>Nu</td>\n",
       "    </tr>\n",
       "  </tbody>\n",
       "</table>\n",
       "</div>"
      ],
      "text/plain": [
       "        ID  Valor inicial   Ganho  Meses  Rendimento  Rendimento mensal  \\\n",
       "0  101.000        875.270  81.730  1.311       9.338              7.044   \n",
       "1  102.000       1390.930  24.570  0.393       1.766              4.551   \n",
       "2  100.000       1308.400 107.100  1.803       8.186              4.460   \n",
       "3    5.100       1059.610   2.300  0.492       0.217              0.442   \n",
       "4    1.000      12491.070  48.940  1.115       0.392              0.351   \n",
       "5    3.100       1989.970   9.020  1.311       0.453              0.345   \n",
       "6    2.000        715.200   2.270  0.951       0.317              0.334   \n",
       "7    4.100         10.100   0.020  0.623       0.198              0.318   \n",
       "8    1.100      10940.620  57.890  1.770       0.529              0.299   \n",
       "9    3.000       2002.290   1.620  0.459       0.081              0.176   \n",
       "10   4.000        880.000   0.370  0.393       0.042              0.107   \n",
       "11   6.000        846.360   0.290  0.361       0.034              0.095   \n",
       "\n",
       "    Rendimento anual  Ativo  Tipo  \n",
       "0            126.331   True  BRAX  \n",
       "1             70.585   True  IVVB  \n",
       "2             68.803   True  IVVB  \n",
       "3              5.433   True    Nu  \n",
       "4              4.299  False    Nu  \n",
       "5              4.225   True    Nu  \n",
       "6              4.080  False    Nu  \n",
       "7              3.884  False    Nu  \n",
       "8              3.642   True    Nu  \n",
       "9              2.137  False    Nu  \n",
       "10             1.290  False    Nu  \n",
       "11             1.146   True    Nu  "
      ]
     },
     "execution_count": 4,
     "metadata": {},
     "output_type": "execute_result"
    }
   ],
   "source": [
    "dflow = dinvest.groupby('ID').apply(l.calc_flows)\n",
    "dflow = dflow.reset_index(level=[0, 1])\n",
    "dflow.pop('level_1')\n",
    "dflow = dflow.sort_values(by=['Rendimento anual'], ascending=False).reset_index(drop=True)\n",
    "dflow"
   ]
  },
  {
   "cell_type": "markdown",
   "metadata": {},
   "source": [
    "## Cálculo de retorno"
   ]
  },
  {
   "cell_type": "code",
   "execution_count": 5,
   "metadata": {},
   "outputs": [],
   "source": [
    "dreturn = pd.DataFrame()\n",
    "current_year = dt.date.today().year\n",
    "dreturn['Ticker'] = dquote['Ticker']\n",
    "dreturn['Predicted'] = [0 for j in dquote['Ticker']]\n",
    "weights = [0.05, 0.1, 0.15, 0.3, 0.4]\n",
    "for i in range(5):\n",
    "    year_i = current_year-4+i\n",
    "    dreturn[str(year_i)] = (dquote[str(year_i)] - dquote[str(year_i-1)]) / dquote[str(year_i-1)]\n",
    "    dreturn['Predicted'] += dreturn[str(year_i)] * weights[i]"
   ]
  },
  {
   "cell_type": "markdown",
   "metadata": {},
   "source": [
    "## Screener"
   ]
  },
  {
   "cell_type": "code",
   "execution_count": 6,
   "metadata": {},
   "outputs": [
    {
     "data": {
      "text/html": [
       "<style  type=\"text/css\" >\n",
       "    #T_3dc09c40_2a54_11ea_b04f_3cf862c21013 th {\n",
       "          font-size: 20px;\n",
       "    }    #T_3dc09c40_2a54_11ea_b04f_3cf862c21013 td {\n",
       "          font-size: 22px;\n",
       "          text-align: center;\n",
       "    }</style><table id=\"T_3dc09c40_2a54_11ea_b04f_3cf862c21013\" ><thead>    <tr>        <th class=\"col_heading level0 col0\" >Ticker</th>        <th class=\"col_heading level0 col1\" >Score</th>        <th class=\"col_heading level0 col2\" >Price</th>        <th class=\"col_heading level0 col3\" >Return</th>        <th class=\"col_heading level0 col4\" >Risk</th>        <th class=\"col_heading level0 col5\" >Tax</th>        <th class=\"col_heading level0 col6\" >YTD</th>        <th class=\"col_heading level0 col7\" >Cat</th>        <th class=\"col_heading level0 col8\" >Geo</th>        <th class=\"col_heading level0 col9\" >Domain</th>        <th class=\"col_heading level0 col10\" >Asset</th>    </tr></thead><tbody>\n",
       "                <tr>\n",
       "                                <td id=\"T_3dc09c40_2a54_11ea_b04f_3cf862c21013row0_col0\" class=\"data row0 col0\" >BBSD11</td>\n",
       "                        <td id=\"T_3dc09c40_2a54_11ea_b04f_3cf862c21013row0_col1\" class=\"data row0 col1\" >7.99369</td>\n",
       "                        <td id=\"T_3dc09c40_2a54_11ea_b04f_3cf862c21013row0_col2\" class=\"data row0 col2\" >95.47</td>\n",
       "                        <td id=\"T_3dc09c40_2a54_11ea_b04f_3cf862c21013row0_col3\" class=\"data row0 col3\" >29.99%</td>\n",
       "                        <td id=\"T_3dc09c40_2a54_11ea_b04f_3cf862c21013row0_col4\" class=\"data row0 col4\" >17.73%</td>\n",
       "                        <td id=\"T_3dc09c40_2a54_11ea_b04f_3cf862c21013row0_col5\" class=\"data row0 col5\" >0.5%</td>\n",
       "                        <td id=\"T_3dc09c40_2a54_11ea_b04f_3cf862c21013row0_col6\" class=\"data row0 col6\" >34.2%</td>\n",
       "                        <td id=\"T_3dc09c40_2a54_11ea_b04f_3cf862c21013row0_col7\" class=\"data row0 col7\" >3</td>\n",
       "                        <td id=\"T_3dc09c40_2a54_11ea_b04f_3cf862c21013row0_col8\" class=\"data row0 col8\" >USA</td>\n",
       "                        <td id=\"T_3dc09c40_2a54_11ea_b04f_3cf862c21013row0_col9\" class=\"data row0 col9\" >Indust</td>\n",
       "                        <td id=\"T_3dc09c40_2a54_11ea_b04f_3cf862c21013row0_col10\" class=\"data row0 col10\" >Equity</td>\n",
       "            </tr>\n",
       "            <tr>\n",
       "                                <td id=\"T_3dc09c40_2a54_11ea_b04f_3cf862c21013row1_col0\" class=\"data row1 col0\" >DIVO11</td>\n",
       "                        <td id=\"T_3dc09c40_2a54_11ea_b04f_3cf862c21013row1_col1\" class=\"data row1 col1\" >7.93795</td>\n",
       "                        <td id=\"T_3dc09c40_2a54_11ea_b04f_3cf862c21013row1_col2\" class=\"data row1 col2\" >69.3</td>\n",
       "                        <td id=\"T_3dc09c40_2a54_11ea_b04f_3cf862c21013row1_col3\" class=\"data row1 col3\" >30.75%</td>\n",
       "                        <td id=\"T_3dc09c40_2a54_11ea_b04f_3cf862c21013row1_col4\" class=\"data row1 col4\" >19.25%</td>\n",
       "                        <td id=\"T_3dc09c40_2a54_11ea_b04f_3cf862c21013row1_col5\" class=\"data row1 col5\" >0.5%</td>\n",
       "                        <td id=\"T_3dc09c40_2a54_11ea_b04f_3cf862c21013row1_col6\" class=\"data row1 col6\" >40.14%</td>\n",
       "                        <td id=\"T_3dc09c40_2a54_11ea_b04f_3cf862c21013row1_col7\" class=\"data row1 col7\" >3</td>\n",
       "                        <td id=\"T_3dc09c40_2a54_11ea_b04f_3cf862c21013row1_col8\" class=\"data row1 col8\" >USA</td>\n",
       "                        <td id=\"T_3dc09c40_2a54_11ea_b04f_3cf862c21013row1_col9\" class=\"data row1 col9\" >Util</td>\n",
       "                        <td id=\"T_3dc09c40_2a54_11ea_b04f_3cf862c21013row1_col10\" class=\"data row1 col10\" >Equity</td>\n",
       "            </tr>\n",
       "            <tr>\n",
       "                                <td id=\"T_3dc09c40_2a54_11ea_b04f_3cf862c21013row2_col0\" class=\"data row2 col0\" >IVVB11</td>\n",
       "                        <td id=\"T_3dc09c40_2a54_11ea_b04f_3cf862c21013row2_col1\" class=\"data row2 col1\" >7.84647</td>\n",
       "                        <td id=\"T_3dc09c40_2a54_11ea_b04f_3cf862c21013row2_col2\" class=\"data row2 col2\" >140.21</td>\n",
       "                        <td id=\"T_3dc09c40_2a54_11ea_b04f_3cf862c21013row2_col3\" class=\"data row2 col3\" >23.75%</td>\n",
       "                        <td id=\"T_3dc09c40_2a54_11ea_b04f_3cf862c21013row2_col4\" class=\"data row2 col4\" >12.18%</td>\n",
       "                        <td id=\"T_3dc09c40_2a54_11ea_b04f_3cf862c21013row2_col5\" class=\"data row2 col5\" >0.24%</td>\n",
       "                        <td id=\"T_3dc09c40_2a54_11ea_b04f_3cf862c21013row2_col6\" class=\"data row2 col6\" >43.09%</td>\n",
       "                        <td id=\"T_3dc09c40_2a54_11ea_b04f_3cf862c21013row2_col7\" class=\"data row2 col7\" >2</td>\n",
       "                        <td id=\"T_3dc09c40_2a54_11ea_b04f_3cf862c21013row2_col8\" class=\"data row2 col8\" >USA</td>\n",
       "                        <td id=\"T_3dc09c40_2a54_11ea_b04f_3cf862c21013row2_col9\" class=\"data row2 col9\" >Tech</td>\n",
       "                        <td id=\"T_3dc09c40_2a54_11ea_b04f_3cf862c21013row2_col10\" class=\"data row2 col10\" >Equity</td>\n",
       "            </tr>\n",
       "            <tr>\n",
       "                                <td id=\"T_3dc09c40_2a54_11ea_b04f_3cf862c21013row3_col0\" class=\"data row3 col0\" >BRAX11</td>\n",
       "                        <td id=\"T_3dc09c40_2a54_11ea_b04f_3cf862c21013row3_col1\" class=\"data row3 col1\" >7.3552</td>\n",
       "                        <td id=\"T_3dc09c40_2a54_11ea_b04f_3cf862c21013row3_col2\" class=\"data row3 col2\" >96.05</td>\n",
       "                        <td id=\"T_3dc09c40_2a54_11ea_b04f_3cf862c21013row3_col3\" class=\"data row3 col3\" >24.94%</td>\n",
       "                        <td id=\"T_3dc09c40_2a54_11ea_b04f_3cf862c21013row3_col4\" class=\"data row3 col4\" >17.38%</td>\n",
       "                        <td id=\"T_3dc09c40_2a54_11ea_b04f_3cf862c21013row3_col5\" class=\"data row3 col5\" >0.2%</td>\n",
       "                        <td id=\"T_3dc09c40_2a54_11ea_b04f_3cf862c21013row3_col6\" class=\"data row3 col6\" >29.45%</td>\n",
       "                        <td id=\"T_3dc09c40_2a54_11ea_b04f_3cf862c21013row3_col7\" class=\"data row3 col7\" >1</td>\n",
       "                        <td id=\"T_3dc09c40_2a54_11ea_b04f_3cf862c21013row3_col8\" class=\"data row3 col8\" >BR</td>\n",
       "                        <td id=\"T_3dc09c40_2a54_11ea_b04f_3cf862c21013row3_col9\" class=\"data row3 col9\" >Finance</td>\n",
       "                        <td id=\"T_3dc09c40_2a54_11ea_b04f_3cf862c21013row3_col10\" class=\"data row3 col10\" >Equity</td>\n",
       "            </tr>\n",
       "            <tr>\n",
       "                                <td id=\"T_3dc09c40_2a54_11ea_b04f_3cf862c21013row4_col0\" class=\"data row4 col0\" >BOVB11</td>\n",
       "                        <td id=\"T_3dc09c40_2a54_11ea_b04f_3cf862c21013row4_col1\" class=\"data row4 col1\" >7.17266</td>\n",
       "                        <td id=\"T_3dc09c40_2a54_11ea_b04f_3cf862c21013row4_col2\" class=\"data row4 col2\" >116.26</td>\n",
       "                        <td id=\"T_3dc09c40_2a54_11ea_b04f_3cf862c21013row4_col3\" class=\"data row4 col3\" >24.39%</td>\n",
       "                        <td id=\"T_3dc09c40_2a54_11ea_b04f_3cf862c21013row4_col4\" class=\"data row4 col4\" >17.73%</td>\n",
       "                        <td id=\"T_3dc09c40_2a54_11ea_b04f_3cf862c21013row4_col5\" class=\"data row4 col5\" >0.2%</td>\n",
       "                        <td id=\"T_3dc09c40_2a54_11ea_b04f_3cf862c21013row4_col6\" class=\"data row4 col6\" >27.13%</td>\n",
       "                        <td id=\"T_3dc09c40_2a54_11ea_b04f_3cf862c21013row4_col7\" class=\"data row4 col7\" >1</td>\n",
       "                        <td id=\"T_3dc09c40_2a54_11ea_b04f_3cf862c21013row4_col8\" class=\"data row4 col8\" >BR</td>\n",
       "                        <td id=\"T_3dc09c40_2a54_11ea_b04f_3cf862c21013row4_col9\" class=\"data row4 col9\" >Finance</td>\n",
       "                        <td id=\"T_3dc09c40_2a54_11ea_b04f_3cf862c21013row4_col10\" class=\"data row4 col10\" >Equity</td>\n",
       "            </tr>\n",
       "            <tr>\n",
       "                                <td id=\"T_3dc09c40_2a54_11ea_b04f_3cf862c21013row5_col0\" class=\"data row5 col0\" >BOVV11</td>\n",
       "                        <td id=\"T_3dc09c40_2a54_11ea_b04f_3cf862c21013row5_col1\" class=\"data row5 col1\" >7.12266</td>\n",
       "                        <td id=\"T_3dc09c40_2a54_11ea_b04f_3cf862c21013row5_col2\" class=\"data row5 col2\" >116.26</td>\n",
       "                        <td id=\"T_3dc09c40_2a54_11ea_b04f_3cf862c21013row5_col3\" class=\"data row5 col3\" >24.39%</td>\n",
       "                        <td id=\"T_3dc09c40_2a54_11ea_b04f_3cf862c21013row5_col4\" class=\"data row5 col4\" >17.73%</td>\n",
       "                        <td id=\"T_3dc09c40_2a54_11ea_b04f_3cf862c21013row5_col5\" class=\"data row5 col5\" >0.3%</td>\n",
       "                        <td id=\"T_3dc09c40_2a54_11ea_b04f_3cf862c21013row5_col6\" class=\"data row5 col6\" >27.13%</td>\n",
       "                        <td id=\"T_3dc09c40_2a54_11ea_b04f_3cf862c21013row5_col7\" class=\"data row5 col7\" >1</td>\n",
       "                        <td id=\"T_3dc09c40_2a54_11ea_b04f_3cf862c21013row5_col8\" class=\"data row5 col8\" >BR</td>\n",
       "                        <td id=\"T_3dc09c40_2a54_11ea_b04f_3cf862c21013row5_col9\" class=\"data row5 col9\" >Finance</td>\n",
       "                        <td id=\"T_3dc09c40_2a54_11ea_b04f_3cf862c21013row5_col10\" class=\"data row5 col10\" >Equity</td>\n",
       "            </tr>\n",
       "            <tr>\n",
       "                                <td id=\"T_3dc09c40_2a54_11ea_b04f_3cf862c21013row6_col0\" class=\"data row6 col0\" >PIBB11</td>\n",
       "                        <td id=\"T_3dc09c40_2a54_11ea_b04f_3cf862c21013row6_col1\" class=\"data row6 col1\" >6.92094</td>\n",
       "                        <td id=\"T_3dc09c40_2a54_11ea_b04f_3cf862c21013row6_col2\" class=\"data row6 col2\" >196.39</td>\n",
       "                        <td id=\"T_3dc09c40_2a54_11ea_b04f_3cf862c21013row6_col3\" class=\"data row6 col3\" >23.3%</td>\n",
       "                        <td id=\"T_3dc09c40_2a54_11ea_b04f_3cf862c21013row6_col4\" class=\"data row6 col4\" >17.68%</td>\n",
       "                        <td id=\"T_3dc09c40_2a54_11ea_b04f_3cf862c21013row6_col5\" class=\"data row6 col5\" >0.06%</td>\n",
       "                        <td id=\"T_3dc09c40_2a54_11ea_b04f_3cf862c21013row6_col6\" class=\"data row6 col6\" >25.97%</td>\n",
       "                        <td id=\"T_3dc09c40_2a54_11ea_b04f_3cf862c21013row6_col7\" class=\"data row6 col7\" >1.1</td>\n",
       "                        <td id=\"T_3dc09c40_2a54_11ea_b04f_3cf862c21013row6_col8\" class=\"data row6 col8\" >BR</td>\n",
       "                        <td id=\"T_3dc09c40_2a54_11ea_b04f_3cf862c21013row6_col9\" class=\"data row6 col9\" >Finance</td>\n",
       "                        <td id=\"T_3dc09c40_2a54_11ea_b04f_3cf862c21013row6_col10\" class=\"data row6 col10\" >Equity</td>\n",
       "            </tr>\n",
       "            <tr>\n",
       "                                <td id=\"T_3dc09c40_2a54_11ea_b04f_3cf862c21013row7_col0\" class=\"data row7 col0\" >GOVE11</td>\n",
       "                        <td id=\"T_3dc09c40_2a54_11ea_b04f_3cf862c21013row7_col1\" class=\"data row7 col1\" >6.76352</td>\n",
       "                        <td id=\"T_3dc09c40_2a54_11ea_b04f_3cf862c21013row7_col2\" class=\"data row7 col2\" >50.66</td>\n",
       "                        <td id=\"T_3dc09c40_2a54_11ea_b04f_3cf862c21013row7_col3\" class=\"data row7 col3\" >26.51%</td>\n",
       "                        <td id=\"T_3dc09c40_2a54_11ea_b04f_3cf862c21013row7_col4\" class=\"data row7 col4\" >22.55%</td>\n",
       "                        <td id=\"T_3dc09c40_2a54_11ea_b04f_3cf862c21013row7_col5\" class=\"data row7 col5\" >0.5%</td>\n",
       "                        <td id=\"T_3dc09c40_2a54_11ea_b04f_3cf862c21013row7_col6\" class=\"data row7 col6\" >31.07%</td>\n",
       "                        <td id=\"T_3dc09c40_2a54_11ea_b04f_3cf862c21013row7_col7\" class=\"data row7 col7\" >1</td>\n",
       "                        <td id=\"T_3dc09c40_2a54_11ea_b04f_3cf862c21013row7_col8\" class=\"data row7 col8\" >BR</td>\n",
       "                        <td id=\"T_3dc09c40_2a54_11ea_b04f_3cf862c21013row7_col9\" class=\"data row7 col9\" >Finance</td>\n",
       "                        <td id=\"T_3dc09c40_2a54_11ea_b04f_3cf862c21013row7_col10\" class=\"data row7 col10\" >Equity</td>\n",
       "            </tr>\n",
       "            <tr>\n",
       "                                <td id=\"T_3dc09c40_2a54_11ea_b04f_3cf862c21013row8_col0\" class=\"data row8 col0\" >MATB11</td>\n",
       "                        <td id=\"T_3dc09c40_2a54_11ea_b04f_3cf862c21013row8_col1\" class=\"data row8 col1\" >5.70007</td>\n",
       "                        <td id=\"T_3dc09c40_2a54_11ea_b04f_3cf862c21013row8_col2\" class=\"data row8 col2\" >36.07</td>\n",
       "                        <td id=\"T_3dc09c40_2a54_11ea_b04f_3cf862c21013row8_col3\" class=\"data row8 col3\" >19.97%</td>\n",
       "                        <td id=\"T_3dc09c40_2a54_11ea_b04f_3cf862c21013row8_col4\" class=\"data row8 col4\" >22.55%</td>\n",
       "                        <td id=\"T_3dc09c40_2a54_11ea_b04f_3cf862c21013row8_col5\" class=\"data row8 col5\" >0.5%</td>\n",
       "                        <td id=\"T_3dc09c40_2a54_11ea_b04f_3cf862c21013row8_col6\" class=\"data row8 col6\" >12.16%</td>\n",
       "                        <td id=\"T_3dc09c40_2a54_11ea_b04f_3cf862c21013row8_col7\" class=\"data row8 col7\" >4</td>\n",
       "                        <td id=\"T_3dc09c40_2a54_11ea_b04f_3cf862c21013row8_col8\" class=\"data row8 col8\" >BR</td>\n",
       "                        <td id=\"T_3dc09c40_2a54_11ea_b04f_3cf862c21013row8_col9\" class=\"data row8 col9\" >Basic Mat</td>\n",
       "                        <td id=\"T_3dc09c40_2a54_11ea_b04f_3cf862c21013row8_col10\" class=\"data row8 col10\" >Equity</td>\n",
       "            </tr>\n",
       "    </tbody></table>"
      ],
      "text/plain": [
       "<pandas.io.formats.style.Styler at 0x16a6a17c2e8>"
      ]
     },
     "execution_count": 6,
     "metadata": {},
     "output_type": "execute_result"
    }
   ],
   "source": [
    "dfull = dreturn.join(dstocks.set_index('Ticker'), on='Ticker', how='inner')\n",
    "dfull['Price'] = dquote['2019']\n",
    "\n",
    "assets = ['USA', 'EU', 'BR', 'EM', 'Bonds', 'Cash', 'Commod']\n",
    "industry = ['Basic Mat', 'Cons Cycl', 'Finance', 'Real Estate', 'Telecom', 'Energy', 'Indust', 'Tech', 'Cons Non-Cycl', 'Health', 'Util']\n",
    "dfull['Geo'] = dfull[assets].idxmax(axis=1)\n",
    "dfull['Domain'] = dfull[industry].idxmax(axis=1)\n",
    "dfull['Asset'] = dfull[assets].idxmax(axis=1).apply(lambda x : x if (x == 'Bonds' or x == 'Commod') else 'Equity')\n",
    "\n",
    "screen = ['Ticker', 'Score', 'Price', 'Return', 'Risk', 'Tax', 'YTD', 'Cat', 'Geo', 'Domain', 'Asset']\n",
    "dfull['Risk'] = dfull['Volatility'].apply(lambda x : l.int2pct(x/100))\n",
    "dfull['Tax'] = dfull['TER'].apply(lambda x : l.int2pct(x/100))\n",
    "dfull['Return'] = dfull['Predicted'].apply(l.int2pct)\n",
    "dfull['YTD'] = dfull[str(current_year)].apply(l.int2pct)\n",
    "weights = [0.05, 0.5, 0.35, 0.1]\n",
    "dfull['Score'] = (10+(30-dfull['Price'])/27)*weights[0] + dfull['Predicted']/0.3*10*weights[1] + (10+(7-dfull['Volatility'])/2.3)*weights[2] + (10-dfull['TER']/0.2)*weights[3]\n",
    "l.change_df_prop(dfull[screen].sort_values('Score', ascending=False).reset_index(drop=True))"
   ]
  },
  {
   "cell_type": "markdown",
   "metadata": {},
   "source": [
    "## Portfolio Overview"
   ]
  },
  {
   "cell_type": "code",
   "execution_count": 7,
   "metadata": {},
   "outputs": [],
   "source": [
    "dport['Price'] = dport['Ticker'].apply(lambda x : dfull[dfull['Ticker'] == x]['Price'].item())\n",
    "dport['Profit'] = (dport['Price'] - dport['Buy']) * dport['Shares'] + dport['Div']\n",
    "dport['Yield'] = (dport['Profit'] / (dport['Buy'] * dport['Shares']))\n",
    "dport['Annual yield'] = (((1 + dport['Yield']) ** (1/(dt.date.today() - dport['Date']).apply(lambda x : x.days))) ** 365 - 1)\n",
    "dport['Yearly profit'] = dport['Price'] * dport['Shares'] * dport['Annual yield']\n",
    "dport['Value'] = (dport['Price'] * dport['Shares'])\n",
    "dport['Keep'] = dport['Ticker'].apply(lambda x : dfull[dfull['Ticker'] == x]['TER'].item()) * dport['Price'] * dport['Shares'] / 100\n",
    "dport['Sell Tax'] = (dport['Profit'] - (dport['Buy Tax'] + dport['Keep'])) * 0.15\n",
    "dport['Total Tax'] = dport['Buy Tax'] + dport['Keep'] + dport['Sell Tax']\n",
    "dport['Tax'] = (dport['Total Tax'] / dport['Profit']).apply(l.int2pct)\n",
    "dport['Yield (Liq.)'] = ((dport['Profit'] - dport['Total Tax']) / (dport['Buy'] * dport['Shares']))\n",
    "dport['Annual yield (Liq.)'] = (((1 + dport['Yield (Liq.)']) ** (1/(dt.date.today() - dport['Date']).apply(lambda x : x.days))) ** 365 - 1)\n",
    "dport['Yearly profit (Liq.)'] = dport['Price'] * dport['Shares'] * dport['Annual yield (Liq.)']\n",
    "dport['Yield %'] = dport['Yield'].apply(l.int2pct)\n",
    "dport['Annual yield %'] = dport['Annual yield'].apply(l.int2pct)\n",
    "dport['Yield (Liq.) %'] = dport['Yield (Liq.)'].apply(l.int2pct)\n",
    "dport['Annual yield (Liq.) %'] = dport['Annual yield (Liq.)'].apply(l.int2pct)"
   ]
  },
  {
   "cell_type": "code",
   "execution_count": 8,
   "metadata": {},
   "outputs": [
    {
     "data": {
      "text/html": [
       "<style  type=\"text/css\" >\n",
       "    #T_3dca6212_2a54_11ea_8f84_3cf862c21013 th {\n",
       "          font-size: 22px;\n",
       "    }    #T_3dca6212_2a54_11ea_8f84_3cf862c21013 td {\n",
       "          font-size: 24px;\n",
       "          text-align: center;\n",
       "    }</style><table id=\"T_3dca6212_2a54_11ea_8f84_3cf862c21013\" ><thead>    <tr>        <th class=\"col_heading level0 col0\" >Ticker</th>        <th class=\"col_heading level0 col1\" >Buy</th>        <th class=\"col_heading level0 col2\" >Shares</th>        <th class=\"col_heading level0 col3\" >Price</th>        <th class=\"col_heading level0 col4\" >Profit</th>        <th class=\"col_heading level0 col5\" >Yield %</th>    </tr></thead><tbody>\n",
       "                <tr>\n",
       "                                <td id=\"T_3dca6212_2a54_11ea_8f84_3cf862c21013row0_col0\" class=\"data row0 col0\" >IVVB11</td>\n",
       "                        <td id=\"T_3dca6212_2a54_11ea_8f84_3cf862c21013row0_col1\" class=\"data row0 col1\" >130.8</td>\n",
       "                        <td id=\"T_3dca6212_2a54_11ea_8f84_3cf862c21013row0_col2\" class=\"data row0 col2\" >10</td>\n",
       "                        <td id=\"T_3dca6212_2a54_11ea_8f84_3cf862c21013row0_col3\" class=\"data row0 col3\" >140.21</td>\n",
       "                        <td id=\"T_3dca6212_2a54_11ea_8f84_3cf862c21013row0_col4\" class=\"data row0 col4\" >94.1</td>\n",
       "                        <td id=\"T_3dca6212_2a54_11ea_8f84_3cf862c21013row0_col5\" class=\"data row0 col5\" >7.19%</td>\n",
       "            </tr>\n",
       "            <tr>\n",
       "                                <td id=\"T_3dca6212_2a54_11ea_8f84_3cf862c21013row1_col0\" class=\"data row1 col0\" >BRAX11</td>\n",
       "                        <td id=\"T_3dca6212_2a54_11ea_8f84_3cf862c21013row1_col1\" class=\"data row1 col1\" >87.5</td>\n",
       "                        <td id=\"T_3dca6212_2a54_11ea_8f84_3cf862c21013row1_col2\" class=\"data row1 col2\" >10</td>\n",
       "                        <td id=\"T_3dca6212_2a54_11ea_8f84_3cf862c21013row1_col3\" class=\"data row1 col3\" >96.05</td>\n",
       "                        <td id=\"T_3dca6212_2a54_11ea_8f84_3cf862c21013row1_col4\" class=\"data row1 col4\" >85.5</td>\n",
       "                        <td id=\"T_3dca6212_2a54_11ea_8f84_3cf862c21013row1_col5\" class=\"data row1 col5\" >9.77%</td>\n",
       "            </tr>\n",
       "            <tr>\n",
       "                                <td id=\"T_3dca6212_2a54_11ea_8f84_3cf862c21013row2_col0\" class=\"data row2 col0\" >IVVB11</td>\n",
       "                        <td id=\"T_3dca6212_2a54_11ea_8f84_3cf862c21013row2_col1\" class=\"data row2 col1\" >139.03</td>\n",
       "                        <td id=\"T_3dca6212_2a54_11ea_8f84_3cf862c21013row2_col2\" class=\"data row2 col2\" >10</td>\n",
       "                        <td id=\"T_3dca6212_2a54_11ea_8f84_3cf862c21013row2_col3\" class=\"data row2 col3\" >140.21</td>\n",
       "                        <td id=\"T_3dca6212_2a54_11ea_8f84_3cf862c21013row2_col4\" class=\"data row2 col4\" >11.8</td>\n",
       "                        <td id=\"T_3dca6212_2a54_11ea_8f84_3cf862c21013row2_col5\" class=\"data row2 col5\" >0.85%</td>\n",
       "            </tr>\n",
       "    </tbody></table>"
      ],
      "text/plain": [
       "<pandas.io.formats.style.Styler at 0x16a6a146c88>"
      ]
     },
     "execution_count": 8,
     "metadata": {},
     "output_type": "execute_result"
    }
   ],
   "source": [
    "status = ['Ticker', 'Buy', 'Shares', 'Price', 'Profit', 'Yield %']\n",
    "l.change_df_prop(dport[status], 24)"
   ]
  },
  {
   "cell_type": "code",
   "execution_count": 9,
   "metadata": {},
   "outputs": [
    {
     "data": {
      "application/vnd.jupyter.widget-view+json": {
       "model_id": "fd30288a86ba47769ea317567ed76807",
       "version_major": 2,
       "version_minor": 0
      },
      "text/plain": [
       "FigureWidget({\n",
       "    'data': [{'hole': 0.4,\n",
       "              'labels': array(['BRAX11', 'IVVB11'], dtype=object),\n",
       " …"
      ]
     },
     "metadata": {},
     "output_type": "display_data"
    }
   ],
   "source": [
    "dgroup = dport.groupby('Ticker').sum()\n",
    "l.plot_pie(dgroup['Value'])"
   ]
  },
  {
   "cell_type": "code",
   "execution_count": 10,
   "metadata": {},
   "outputs": [
    {
     "data": {
      "application/vnd.jupyter.widget-view+json": {
       "model_id": "39caeea4e3294685b8d9bb576c6ab6c7",
       "version_major": 2,
       "version_minor": 0
      },
      "text/plain": [
       "FigureWidget({\n",
       "    'data': [{'hole': 0.4,\n",
       "              'labels': array(['BRAX11', 'IVVB11'], dtype=object),\n",
       " …"
      ]
     },
     "metadata": {},
     "output_type": "display_data"
    }
   ],
   "source": [
    "l.plot_pie(dgroup['Profit'])"
   ]
  },
  {
   "cell_type": "code",
   "execution_count": 11,
   "metadata": {},
   "outputs": [
    {
     "data": {
      "text/html": [
       "<style  type=\"text/css\" >\n",
       "    #T_3f08b31c_2a54_11ea_90de_3cf862c21013 th {\n",
       "          font-size: 20px;\n",
       "    }    #T_3f08b31c_2a54_11ea_90de_3cf862c21013 td {\n",
       "          font-size: 22px;\n",
       "          text-align: center;\n",
       "    }</style><table id=\"T_3f08b31c_2a54_11ea_90de_3cf862c21013\" ><thead>    <tr>        <th class=\"col_heading level0 col0\" >Ticker</th>        <th class=\"col_heading level0 col1\" >Annual yield %</th>        <th class=\"col_heading level0 col2\" >Yearly profit</th>        <th class=\"col_heading level0 col3\" >Tax</th>        <th class=\"col_heading level0 col4\" >Annual yield (Liq.) %</th>        <th class=\"col_heading level0 col5\" >Yearly profit (Liq.)</th>    </tr></thead><tbody>\n",
       "                <tr>\n",
       "                                <td id=\"T_3f08b31c_2a54_11ea_90de_3cf862c21013row0_col0\" class=\"data row0 col0\" >IVVB11</td>\n",
       "                        <td id=\"T_3f08b31c_2a54_11ea_90de_3cf862c21013row0_col1\" class=\"data row0 col1\" >52.6%</td>\n",
       "                        <td id=\"T_3f08b31c_2a54_11ea_90de_3cf862c21013row0_col2\" class=\"data row0 col2\" >737.442</td>\n",
       "                        <td id=\"T_3f08b31c_2a54_11ea_90de_3cf862c21013row0_col3\" class=\"data row0 col3\" >18.4%</td>\n",
       "                        <td id=\"T_3f08b31c_2a54_11ea_90de_3cf862c21013row0_col4\" class=\"data row0 col4\" >41.49%</td>\n",
       "                        <td id=\"T_3f08b31c_2a54_11ea_90de_3cf862c21013row0_col5\" class=\"data row0 col5\" >581.667</td>\n",
       "            </tr>\n",
       "            <tr>\n",
       "                                <td id=\"T_3f08b31c_2a54_11ea_90de_3cf862c21013row1_col0\" class=\"data row1 col0\" >BRAX11</td>\n",
       "                        <td id=\"T_3f08b31c_2a54_11ea_90de_3cf862c21013row1_col1\" class=\"data row1 col1\" >113.02%</td>\n",
       "                        <td id=\"T_3f08b31c_2a54_11ea_90de_3cf862c21013row1_col2\" class=\"data row1 col2\" >1085.52</td>\n",
       "                        <td id=\"T_3f08b31c_2a54_11ea_90de_3cf862c21013row1_col3\" class=\"data row1 col3\" >17.18%</td>\n",
       "                        <td id=\"T_3f08b31c_2a54_11ea_90de_3cf862c21013row1_col4\" class=\"data row1 col4\" >87.99%</td>\n",
       "                        <td id=\"T_3f08b31c_2a54_11ea_90de_3cf862c21013row1_col5\" class=\"data row1 col5\" >845.131</td>\n",
       "            </tr>\n",
       "            <tr>\n",
       "                                <td id=\"T_3f08b31c_2a54_11ea_90de_3cf862c21013row2_col0\" class=\"data row2 col0\" >IVVB11</td>\n",
       "                        <td id=\"T_3f08b31c_2a54_11ea_90de_3cf862c21013row2_col1\" class=\"data row2 col1\" >19.9%</td>\n",
       "                        <td id=\"T_3f08b31c_2a54_11ea_90de_3cf862c21013row2_col2\" class=\"data row2 col2\" >278.971</td>\n",
       "                        <td id=\"T_3f08b31c_2a54_11ea_90de_3cf862c21013row2_col3\" class=\"data row2 col3\" >43.78%</td>\n",
       "                        <td id=\"T_3f08b31c_2a54_11ea_90de_3cf862c21013row2_col4\" class=\"data row2 col4\" >10.76%</td>\n",
       "                        <td id=\"T_3f08b31c_2a54_11ea_90de_3cf862c21013row2_col5\" class=\"data row2 col5\" >150.888</td>\n",
       "            </tr>\n",
       "    </tbody></table>"
      ],
      "text/plain": [
       "<pandas.io.formats.style.Styler at 0x16a6cbd5cc0>"
      ]
     },
     "execution_count": 11,
     "metadata": {},
     "output_type": "execute_result"
    }
   ],
   "source": [
    "revenue = ['Ticker', 'Annual yield %', 'Yearly profit', 'Tax', 'Annual yield (Liq.) %', 'Yearly profit (Liq.)']\n",
    "l.change_df_prop(dport[revenue])"
   ]
  },
  {
   "cell_type": "code",
   "execution_count": 12,
   "metadata": {},
   "outputs": [
    {
     "data": {
      "text/html": [
       "<style  type=\"text/css\" >\n",
       "    #T_3f0c5d0a_2a54_11ea_a4a8_3cf862c21013 th {\n",
       "          font-size: 26px;\n",
       "    }    #T_3f0c5d0a_2a54_11ea_a4a8_3cf862c21013 td {\n",
       "          font-size: 28px;\n",
       "          text-align: center;\n",
       "    }</style><table id=\"T_3f0c5d0a_2a54_11ea_a4a8_3cf862c21013\" ><thead>    <tr>        <th class=\"col_heading level0 col0\" >Value</th>        <th class=\"col_heading level0 col1\" >Profit</th>        <th class=\"col_heading level0 col2\" >Yield</th>        <th class=\"col_heading level0 col3\" >Yearly profit</th>        <th class=\"col_heading level0 col4\" >Annual yield</th>    </tr></thead><tbody>\n",
       "                <tr>\n",
       "                                <td id=\"T_3f0c5d0a_2a54_11ea_a4a8_3cf862c21013row0_col0\" class=\"data row0 col0\" >3764.7</td>\n",
       "                        <td id=\"T_3f0c5d0a_2a54_11ea_a4a8_3cf862c21013row0_col1\" class=\"data row0 col1\" >191.4</td>\n",
       "                        <td id=\"T_3f0c5d0a_2a54_11ea_a4a8_3cf862c21013row0_col2\" class=\"data row0 col2\" >5.36%</td>\n",
       "                        <td id=\"T_3f0c5d0a_2a54_11ea_a4a8_3cf862c21013row0_col3\" class=\"data row0 col3\" >2101.94</td>\n",
       "                        <td id=\"T_3f0c5d0a_2a54_11ea_a4a8_3cf862c21013row0_col4\" class=\"data row0 col4\" >55.83%</td>\n",
       "            </tr>\n",
       "    </tbody></table>"
      ],
      "text/plain": [
       "<pandas.io.formats.style.Styler at 0x16a6cbeb5f8>"
      ]
     },
     "execution_count": 12,
     "metadata": {},
     "output_type": "execute_result"
    }
   ],
   "source": [
    "dtotal = pd.DataFrame({\n",
    "    'Value': [(dport['Price'] * dport['Shares']).sum()],\n",
    "    'Profit': [dport['Profit'].sum()],\n",
    "    'Yield': [l.int2pct(dport['Profit'].sum() / (dport['Buy'] * dport['Shares']).sum())]\n",
    "})\n",
    "dtotal['Yearly profit'] = dport['Yearly profit'].sum()\n",
    "dtotal['Annual yield'] = (dtotal['Yearly profit'] / dtotal['Value']).apply(l.int2pct)\n",
    "l.change_df_prop(dtotal, 28)"
   ]
  },
  {
   "cell_type": "markdown",
   "metadata": {},
   "source": [
    "## Portfolio Simulation"
   ]
  },
  {
   "cell_type": "code",
   "execution_count": null,
   "metadata": {},
   "outputs": [],
   "source": []
  }
 ],
 "metadata": {
  "kernelspec": {
   "display_name": "Python 3",
   "language": "python",
   "name": "python3"
  },
  "language_info": {
   "codemirror_mode": {
    "name": "ipython",
    "version": 3
   },
   "file_extension": ".py",
   "mimetype": "text/x-python",
   "name": "python",
   "nbconvert_exporter": "python",
   "pygments_lexer": "ipython3",
   "version": "3.7.3"
  }
 },
 "nbformat": 4,
 "nbformat_minor": 2
}
