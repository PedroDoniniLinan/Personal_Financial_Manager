{
 "cells": [
  {
   "cell_type": "markdown",
   "metadata": {},
   "source": [
    "# Portfolio management"
   ]
  },
  {
   "cell_type": "code",
   "execution_count": 1,
   "metadata": {},
   "outputs": [],
   "source": [
    "import numpy as np\n",
    "import pandas as pd\n",
    "import datetime as dt\n",
    "import seaborn as sns\n",
    "from plotly import tools\n",
    "import plotly.graph_objs as go\n",
    "from lib import lib as l"
   ]
  },
  {
   "cell_type": "code",
   "execution_count": 2,
   "metadata": {},
   "outputs": [],
   "source": [
    "pd.set_option('display.float_format', lambda x: '%.3f' % x)\n",
    "lcolors = np.array(['#13E881', '#FF5949', '#FFB84C', '#A7BEFA', '#268040', '#800B00', '#A13808', '#464CC2'])\n",
    "dcolors = np.array(['#268040', '#800B00', '#A13808', '#464CC2'])"
   ]
  },
  {
   "cell_type": "markdown",
   "metadata": {},
   "source": [
    "#### Reading data"
   ]
  },
  {
   "cell_type": "code",
   "execution_count": 3,
   "metadata": {},
   "outputs": [],
   "source": [
    "dquote = pd.read_csv('br_quotes.csv')\n",
    "dstocks = pd.read_csv('br_stocks.csv')\n",
    "dnu = pd.read_csv('br_invest.csv')\n",
    "dnu['Data'] = dnu['Data'].apply(lambda x : dt.datetime.strptime(str(x),'%d/%m/%y').date())\n",
    "dprices = pd.read_csv('br_prices.csv')\n",
    "dport = pd.read_csv('br_portfolio.csv')\n",
    "dport['Date'] = dport['Date'].apply(lambda x : dt.datetime.strptime(str(x),'%d/%m/%y').date())\n",
    "dprices = pd.read_csv('br_prices.csv')"
   ]
  },
  {
   "cell_type": "code",
   "execution_count": 4,
   "metadata": {},
   "outputs": [],
   "source": [
    "dflow = dnu.groupby('ID').apply(l.calc_flows)\n",
    "dflow = dflow.reset_index(level=[0, 1])\n",
    "dflow.pop('level_1')\n",
    "dflow = dflow.sort_values(by=['Rendimento anual'], ascending=False).reset_index(drop=True)"
   ]
  },
  {
   "cell_type": "markdown",
   "metadata": {},
   "source": [
    "#### Calculating stocks return"
   ]
  },
  {
   "cell_type": "code",
   "execution_count": 5,
   "metadata": {},
   "outputs": [],
   "source": [
    "dreturn = pd.DataFrame()\n",
    "current_year = dt.date.today().year\n",
    "dreturn['Ticker'] = dquote['Ticker']\n",
    "dreturn['Predicted'] = [0 for j in dquote['Ticker']]\n",
    "weights = [0.05, 0.1, 0.15, 0.3, 0.4]\n",
    "for i in range(5):\n",
    "    year_i = current_year-4+i\n",
    "    dreturn[str(year_i)] = (dquote[str(year_i)] - dquote[str(year_i-1)]) / dquote[str(year_i-1)]\n",
    "    dreturn['Predicted'] += dreturn[str(year_i)] * weights[i]"
   ]
  },
  {
   "cell_type": "markdown",
   "metadata": {},
   "source": [
    "# Screener"
   ]
  },
  {
   "cell_type": "code",
   "execution_count": 6,
   "metadata": {},
   "outputs": [
    {
     "data": {
      "text/html": [
       "<style  type=\"text/css\" >\n",
       "    #T_849e1748_2b2c_11ea_8ea8_3cf862c21013 th {\n",
       "          font-size: 20px;\n",
       "    }    #T_849e1748_2b2c_11ea_8ea8_3cf862c21013 td {\n",
       "          font-size: 22px;\n",
       "          text-align: center;\n",
       "    }</style><table id=\"T_849e1748_2b2c_11ea_8ea8_3cf862c21013\" ><thead>    <tr>        <th class=\"col_heading level0 col0\" >Ticker</th>        <th class=\"col_heading level0 col1\" >Score</th>        <th class=\"col_heading level0 col2\" >Price</th>        <th class=\"col_heading level0 col3\" >Return</th>        <th class=\"col_heading level0 col4\" >Risk</th>        <th class=\"col_heading level0 col5\" >Tax</th>        <th class=\"col_heading level0 col6\" >YTD</th>        <th class=\"col_heading level0 col7\" >Cat</th>        <th class=\"col_heading level0 col8\" >Geo</th>        <th class=\"col_heading level0 col9\" >Domain</th>        <th class=\"col_heading level0 col10\" >Asset</th>    </tr></thead><tbody>\n",
       "                <tr>\n",
       "                                <td id=\"T_849e1748_2b2c_11ea_8ea8_3cf862c21013row0_col0\" class=\"data row0 col0\" >BBSD11</td>\n",
       "                        <td id=\"T_849e1748_2b2c_11ea_8ea8_3cf862c21013row0_col1\" class=\"data row0 col1\" >7.99369</td>\n",
       "                        <td id=\"T_849e1748_2b2c_11ea_8ea8_3cf862c21013row0_col2\" class=\"data row0 col2\" >95.47</td>\n",
       "                        <td id=\"T_849e1748_2b2c_11ea_8ea8_3cf862c21013row0_col3\" class=\"data row0 col3\" >29.99%</td>\n",
       "                        <td id=\"T_849e1748_2b2c_11ea_8ea8_3cf862c21013row0_col4\" class=\"data row0 col4\" >17.73%</td>\n",
       "                        <td id=\"T_849e1748_2b2c_11ea_8ea8_3cf862c21013row0_col5\" class=\"data row0 col5\" >0.5%</td>\n",
       "                        <td id=\"T_849e1748_2b2c_11ea_8ea8_3cf862c21013row0_col6\" class=\"data row0 col6\" >34.2%</td>\n",
       "                        <td id=\"T_849e1748_2b2c_11ea_8ea8_3cf862c21013row0_col7\" class=\"data row0 col7\" >3</td>\n",
       "                        <td id=\"T_849e1748_2b2c_11ea_8ea8_3cf862c21013row0_col8\" class=\"data row0 col8\" >USA</td>\n",
       "                        <td id=\"T_849e1748_2b2c_11ea_8ea8_3cf862c21013row0_col9\" class=\"data row0 col9\" >Indust</td>\n",
       "                        <td id=\"T_849e1748_2b2c_11ea_8ea8_3cf862c21013row0_col10\" class=\"data row0 col10\" >Equity</td>\n",
       "            </tr>\n",
       "            <tr>\n",
       "                                <td id=\"T_849e1748_2b2c_11ea_8ea8_3cf862c21013row1_col0\" class=\"data row1 col0\" >DIVO11</td>\n",
       "                        <td id=\"T_849e1748_2b2c_11ea_8ea8_3cf862c21013row1_col1\" class=\"data row1 col1\" >7.93795</td>\n",
       "                        <td id=\"T_849e1748_2b2c_11ea_8ea8_3cf862c21013row1_col2\" class=\"data row1 col2\" >69.3</td>\n",
       "                        <td id=\"T_849e1748_2b2c_11ea_8ea8_3cf862c21013row1_col3\" class=\"data row1 col3\" >30.75%</td>\n",
       "                        <td id=\"T_849e1748_2b2c_11ea_8ea8_3cf862c21013row1_col4\" class=\"data row1 col4\" >19.25%</td>\n",
       "                        <td id=\"T_849e1748_2b2c_11ea_8ea8_3cf862c21013row1_col5\" class=\"data row1 col5\" >0.5%</td>\n",
       "                        <td id=\"T_849e1748_2b2c_11ea_8ea8_3cf862c21013row1_col6\" class=\"data row1 col6\" >40.14%</td>\n",
       "                        <td id=\"T_849e1748_2b2c_11ea_8ea8_3cf862c21013row1_col7\" class=\"data row1 col7\" >3</td>\n",
       "                        <td id=\"T_849e1748_2b2c_11ea_8ea8_3cf862c21013row1_col8\" class=\"data row1 col8\" >USA</td>\n",
       "                        <td id=\"T_849e1748_2b2c_11ea_8ea8_3cf862c21013row1_col9\" class=\"data row1 col9\" >Util</td>\n",
       "                        <td id=\"T_849e1748_2b2c_11ea_8ea8_3cf862c21013row1_col10\" class=\"data row1 col10\" >Equity</td>\n",
       "            </tr>\n",
       "            <tr>\n",
       "                                <td id=\"T_849e1748_2b2c_11ea_8ea8_3cf862c21013row2_col0\" class=\"data row2 col0\" >IVVB11</td>\n",
       "                        <td id=\"T_849e1748_2b2c_11ea_8ea8_3cf862c21013row2_col1\" class=\"data row2 col1\" >7.84647</td>\n",
       "                        <td id=\"T_849e1748_2b2c_11ea_8ea8_3cf862c21013row2_col2\" class=\"data row2 col2\" >140.21</td>\n",
       "                        <td id=\"T_849e1748_2b2c_11ea_8ea8_3cf862c21013row2_col3\" class=\"data row2 col3\" >23.75%</td>\n",
       "                        <td id=\"T_849e1748_2b2c_11ea_8ea8_3cf862c21013row2_col4\" class=\"data row2 col4\" >12.18%</td>\n",
       "                        <td id=\"T_849e1748_2b2c_11ea_8ea8_3cf862c21013row2_col5\" class=\"data row2 col5\" >0.24%</td>\n",
       "                        <td id=\"T_849e1748_2b2c_11ea_8ea8_3cf862c21013row2_col6\" class=\"data row2 col6\" >43.09%</td>\n",
       "                        <td id=\"T_849e1748_2b2c_11ea_8ea8_3cf862c21013row2_col7\" class=\"data row2 col7\" >2</td>\n",
       "                        <td id=\"T_849e1748_2b2c_11ea_8ea8_3cf862c21013row2_col8\" class=\"data row2 col8\" >USA</td>\n",
       "                        <td id=\"T_849e1748_2b2c_11ea_8ea8_3cf862c21013row2_col9\" class=\"data row2 col9\" >Tech</td>\n",
       "                        <td id=\"T_849e1748_2b2c_11ea_8ea8_3cf862c21013row2_col10\" class=\"data row2 col10\" >Equity</td>\n",
       "            </tr>\n",
       "            <tr>\n",
       "                                <td id=\"T_849e1748_2b2c_11ea_8ea8_3cf862c21013row3_col0\" class=\"data row3 col0\" >BRAX11</td>\n",
       "                        <td id=\"T_849e1748_2b2c_11ea_8ea8_3cf862c21013row3_col1\" class=\"data row3 col1\" >7.3552</td>\n",
       "                        <td id=\"T_849e1748_2b2c_11ea_8ea8_3cf862c21013row3_col2\" class=\"data row3 col2\" >96.05</td>\n",
       "                        <td id=\"T_849e1748_2b2c_11ea_8ea8_3cf862c21013row3_col3\" class=\"data row3 col3\" >24.94%</td>\n",
       "                        <td id=\"T_849e1748_2b2c_11ea_8ea8_3cf862c21013row3_col4\" class=\"data row3 col4\" >17.38%</td>\n",
       "                        <td id=\"T_849e1748_2b2c_11ea_8ea8_3cf862c21013row3_col5\" class=\"data row3 col5\" >0.2%</td>\n",
       "                        <td id=\"T_849e1748_2b2c_11ea_8ea8_3cf862c21013row3_col6\" class=\"data row3 col6\" >29.45%</td>\n",
       "                        <td id=\"T_849e1748_2b2c_11ea_8ea8_3cf862c21013row3_col7\" class=\"data row3 col7\" >1</td>\n",
       "                        <td id=\"T_849e1748_2b2c_11ea_8ea8_3cf862c21013row3_col8\" class=\"data row3 col8\" >BR</td>\n",
       "                        <td id=\"T_849e1748_2b2c_11ea_8ea8_3cf862c21013row3_col9\" class=\"data row3 col9\" >Finance</td>\n",
       "                        <td id=\"T_849e1748_2b2c_11ea_8ea8_3cf862c21013row3_col10\" class=\"data row3 col10\" >Equity</td>\n",
       "            </tr>\n",
       "            <tr>\n",
       "                                <td id=\"T_849e1748_2b2c_11ea_8ea8_3cf862c21013row4_col0\" class=\"data row4 col0\" >BOVB11</td>\n",
       "                        <td id=\"T_849e1748_2b2c_11ea_8ea8_3cf862c21013row4_col1\" class=\"data row4 col1\" >7.17266</td>\n",
       "                        <td id=\"T_849e1748_2b2c_11ea_8ea8_3cf862c21013row4_col2\" class=\"data row4 col2\" >116.26</td>\n",
       "                        <td id=\"T_849e1748_2b2c_11ea_8ea8_3cf862c21013row4_col3\" class=\"data row4 col3\" >24.39%</td>\n",
       "                        <td id=\"T_849e1748_2b2c_11ea_8ea8_3cf862c21013row4_col4\" class=\"data row4 col4\" >17.73%</td>\n",
       "                        <td id=\"T_849e1748_2b2c_11ea_8ea8_3cf862c21013row4_col5\" class=\"data row4 col5\" >0.2%</td>\n",
       "                        <td id=\"T_849e1748_2b2c_11ea_8ea8_3cf862c21013row4_col6\" class=\"data row4 col6\" >27.13%</td>\n",
       "                        <td id=\"T_849e1748_2b2c_11ea_8ea8_3cf862c21013row4_col7\" class=\"data row4 col7\" >1</td>\n",
       "                        <td id=\"T_849e1748_2b2c_11ea_8ea8_3cf862c21013row4_col8\" class=\"data row4 col8\" >BR</td>\n",
       "                        <td id=\"T_849e1748_2b2c_11ea_8ea8_3cf862c21013row4_col9\" class=\"data row4 col9\" >Finance</td>\n",
       "                        <td id=\"T_849e1748_2b2c_11ea_8ea8_3cf862c21013row4_col10\" class=\"data row4 col10\" >Equity</td>\n",
       "            </tr>\n",
       "            <tr>\n",
       "                                <td id=\"T_849e1748_2b2c_11ea_8ea8_3cf862c21013row5_col0\" class=\"data row5 col0\" >BOVV11</td>\n",
       "                        <td id=\"T_849e1748_2b2c_11ea_8ea8_3cf862c21013row5_col1\" class=\"data row5 col1\" >7.12266</td>\n",
       "                        <td id=\"T_849e1748_2b2c_11ea_8ea8_3cf862c21013row5_col2\" class=\"data row5 col2\" >116.26</td>\n",
       "                        <td id=\"T_849e1748_2b2c_11ea_8ea8_3cf862c21013row5_col3\" class=\"data row5 col3\" >24.39%</td>\n",
       "                        <td id=\"T_849e1748_2b2c_11ea_8ea8_3cf862c21013row5_col4\" class=\"data row5 col4\" >17.73%</td>\n",
       "                        <td id=\"T_849e1748_2b2c_11ea_8ea8_3cf862c21013row5_col5\" class=\"data row5 col5\" >0.3%</td>\n",
       "                        <td id=\"T_849e1748_2b2c_11ea_8ea8_3cf862c21013row5_col6\" class=\"data row5 col6\" >27.13%</td>\n",
       "                        <td id=\"T_849e1748_2b2c_11ea_8ea8_3cf862c21013row5_col7\" class=\"data row5 col7\" >1</td>\n",
       "                        <td id=\"T_849e1748_2b2c_11ea_8ea8_3cf862c21013row5_col8\" class=\"data row5 col8\" >BR</td>\n",
       "                        <td id=\"T_849e1748_2b2c_11ea_8ea8_3cf862c21013row5_col9\" class=\"data row5 col9\" >Finance</td>\n",
       "                        <td id=\"T_849e1748_2b2c_11ea_8ea8_3cf862c21013row5_col10\" class=\"data row5 col10\" >Equity</td>\n",
       "            </tr>\n",
       "            <tr>\n",
       "                                <td id=\"T_849e1748_2b2c_11ea_8ea8_3cf862c21013row6_col0\" class=\"data row6 col0\" >PIBB11</td>\n",
       "                        <td id=\"T_849e1748_2b2c_11ea_8ea8_3cf862c21013row6_col1\" class=\"data row6 col1\" >6.92094</td>\n",
       "                        <td id=\"T_849e1748_2b2c_11ea_8ea8_3cf862c21013row6_col2\" class=\"data row6 col2\" >196.39</td>\n",
       "                        <td id=\"T_849e1748_2b2c_11ea_8ea8_3cf862c21013row6_col3\" class=\"data row6 col3\" >23.3%</td>\n",
       "                        <td id=\"T_849e1748_2b2c_11ea_8ea8_3cf862c21013row6_col4\" class=\"data row6 col4\" >17.68%</td>\n",
       "                        <td id=\"T_849e1748_2b2c_11ea_8ea8_3cf862c21013row6_col5\" class=\"data row6 col5\" >0.06%</td>\n",
       "                        <td id=\"T_849e1748_2b2c_11ea_8ea8_3cf862c21013row6_col6\" class=\"data row6 col6\" >25.97%</td>\n",
       "                        <td id=\"T_849e1748_2b2c_11ea_8ea8_3cf862c21013row6_col7\" class=\"data row6 col7\" >1.1</td>\n",
       "                        <td id=\"T_849e1748_2b2c_11ea_8ea8_3cf862c21013row6_col8\" class=\"data row6 col8\" >BR</td>\n",
       "                        <td id=\"T_849e1748_2b2c_11ea_8ea8_3cf862c21013row6_col9\" class=\"data row6 col9\" >Finance</td>\n",
       "                        <td id=\"T_849e1748_2b2c_11ea_8ea8_3cf862c21013row6_col10\" class=\"data row6 col10\" >Equity</td>\n",
       "            </tr>\n",
       "            <tr>\n",
       "                                <td id=\"T_849e1748_2b2c_11ea_8ea8_3cf862c21013row7_col0\" class=\"data row7 col0\" >GOVE11</td>\n",
       "                        <td id=\"T_849e1748_2b2c_11ea_8ea8_3cf862c21013row7_col1\" class=\"data row7 col1\" >6.76352</td>\n",
       "                        <td id=\"T_849e1748_2b2c_11ea_8ea8_3cf862c21013row7_col2\" class=\"data row7 col2\" >50.66</td>\n",
       "                        <td id=\"T_849e1748_2b2c_11ea_8ea8_3cf862c21013row7_col3\" class=\"data row7 col3\" >26.51%</td>\n",
       "                        <td id=\"T_849e1748_2b2c_11ea_8ea8_3cf862c21013row7_col4\" class=\"data row7 col4\" >22.55%</td>\n",
       "                        <td id=\"T_849e1748_2b2c_11ea_8ea8_3cf862c21013row7_col5\" class=\"data row7 col5\" >0.5%</td>\n",
       "                        <td id=\"T_849e1748_2b2c_11ea_8ea8_3cf862c21013row7_col6\" class=\"data row7 col6\" >31.07%</td>\n",
       "                        <td id=\"T_849e1748_2b2c_11ea_8ea8_3cf862c21013row7_col7\" class=\"data row7 col7\" >1</td>\n",
       "                        <td id=\"T_849e1748_2b2c_11ea_8ea8_3cf862c21013row7_col8\" class=\"data row7 col8\" >BR</td>\n",
       "                        <td id=\"T_849e1748_2b2c_11ea_8ea8_3cf862c21013row7_col9\" class=\"data row7 col9\" >Finance</td>\n",
       "                        <td id=\"T_849e1748_2b2c_11ea_8ea8_3cf862c21013row7_col10\" class=\"data row7 col10\" >Equity</td>\n",
       "            </tr>\n",
       "            <tr>\n",
       "                                <td id=\"T_849e1748_2b2c_11ea_8ea8_3cf862c21013row8_col0\" class=\"data row8 col0\" >MATB11</td>\n",
       "                        <td id=\"T_849e1748_2b2c_11ea_8ea8_3cf862c21013row8_col1\" class=\"data row8 col1\" >5.70007</td>\n",
       "                        <td id=\"T_849e1748_2b2c_11ea_8ea8_3cf862c21013row8_col2\" class=\"data row8 col2\" >36.07</td>\n",
       "                        <td id=\"T_849e1748_2b2c_11ea_8ea8_3cf862c21013row8_col3\" class=\"data row8 col3\" >19.97%</td>\n",
       "                        <td id=\"T_849e1748_2b2c_11ea_8ea8_3cf862c21013row8_col4\" class=\"data row8 col4\" >22.55%</td>\n",
       "                        <td id=\"T_849e1748_2b2c_11ea_8ea8_3cf862c21013row8_col5\" class=\"data row8 col5\" >0.5%</td>\n",
       "                        <td id=\"T_849e1748_2b2c_11ea_8ea8_3cf862c21013row8_col6\" class=\"data row8 col6\" >12.16%</td>\n",
       "                        <td id=\"T_849e1748_2b2c_11ea_8ea8_3cf862c21013row8_col7\" class=\"data row8 col7\" >4</td>\n",
       "                        <td id=\"T_849e1748_2b2c_11ea_8ea8_3cf862c21013row8_col8\" class=\"data row8 col8\" >BR</td>\n",
       "                        <td id=\"T_849e1748_2b2c_11ea_8ea8_3cf862c21013row8_col9\" class=\"data row8 col9\" >Basic Mat</td>\n",
       "                        <td id=\"T_849e1748_2b2c_11ea_8ea8_3cf862c21013row8_col10\" class=\"data row8 col10\" >Equity</td>\n",
       "            </tr>\n",
       "    </tbody></table>"
      ],
      "text/plain": [
       "<pandas.io.formats.style.Styler at 0x22cb617e208>"
      ]
     },
     "execution_count": 6,
     "metadata": {},
     "output_type": "execute_result"
    }
   ],
   "source": [
    "assets = ['USA', 'EU', 'BR', 'EM', 'Bonds', 'Cash', 'Commod']\n",
    "industry = ['Basic Mat', 'Cons Cycl', 'Finance', 'Real Estate', 'Telecom', 'Energy', 'Indust', 'Tech', 'Cons Non-Cycl', 'Health', 'Util']\n",
    "\n",
    "dfull = l.calc_stocks_feat(dreturn, dstocks, dquote, assets, industry)\n",
    "\n",
    "screen = ['Ticker', 'Score', 'Price', 'Return', 'Risk', 'Tax', 'YTD', 'Cat', 'Geo', 'Domain', 'Asset']\n",
    "l.change_df_prop(dfull[screen].sort_values('Score', ascending=False).reset_index(drop=True))"
   ]
  },
  {
   "cell_type": "markdown",
   "metadata": {},
   "source": [
    "# Portfolio Overview"
   ]
  },
  {
   "cell_type": "code",
   "execution_count": 7,
   "metadata": {},
   "outputs": [],
   "source": [
    "dport_full = l.calc_portfolio(dport, dfull, assets, industry)\n",
    "dport_bonds = l.add_bonds(dport_full, dflow, assets)\n",
    "dport_bonds = l.calc_distribution(dport_bonds, assets, industry)"
   ]
  },
  {
   "cell_type": "markdown",
   "metadata": {},
   "source": [
    "## Current state"
   ]
  },
  {
   "cell_type": "code",
   "execution_count": 8,
   "metadata": {},
   "outputs": [
    {
     "data": {
      "text/html": [
       "<style  type=\"text/css\" >\n",
       "    #T_84ab088a_2b2c_11ea_9683_3cf862c21013 th {\n",
       "          font-size: 26px;\n",
       "    }    #T_84ab088a_2b2c_11ea_9683_3cf862c21013 td {\n",
       "          font-size: 28px;\n",
       "          text-align: center;\n",
       "    }</style><table id=\"T_84ab088a_2b2c_11ea_9683_3cf862c21013\" ><thead>    <tr>        <th class=\"col_heading level0 col0\" >Value</th>        <th class=\"col_heading level0 col1\" >Profit</th>        <th class=\"col_heading level0 col2\" >Yield</th>        <th class=\"col_heading level0 col3\" >Year profit</th>        <th class=\"col_heading level0 col4\" >Annual yield</th>    </tr></thead><tbody>\n",
       "                <tr>\n",
       "                                <td id=\"T_84ab088a_2b2c_11ea_9683_3cf862c21013row0_col0\" class=\"data row0 col0\" >3764.7</td>\n",
       "                        <td id=\"T_84ab088a_2b2c_11ea_9683_3cf862c21013row0_col1\" class=\"data row0 col1\" >191.4</td>\n",
       "                        <td id=\"T_84ab088a_2b2c_11ea_9683_3cf862c21013row0_col2\" class=\"data row0 col2\" >5.36%</td>\n",
       "                        <td id=\"T_84ab088a_2b2c_11ea_9683_3cf862c21013row0_col3\" class=\"data row0 col3\" >2036.94</td>\n",
       "                        <td id=\"T_84ab088a_2b2c_11ea_9683_3cf862c21013row0_col4\" class=\"data row0 col4\" >54.11%</td>\n",
       "            </tr>\n",
       "    </tbody></table>"
      ],
      "text/plain": [
       "<pandas.io.formats.style.Styler at 0x22cb616f470>"
      ]
     },
     "execution_count": 8,
     "metadata": {},
     "output_type": "execute_result"
    }
   ],
   "source": [
    "dtotal = pd.DataFrame({\n",
    "    'Value': [(dport_full['Price'] * dport_full['Shares']).sum()],\n",
    "    'Profit': [dport_full['Profit'].sum()],\n",
    "    'Yield': [l.int2pct(dport_full['Profit'].sum() / (dport_full['Buy'] * dport_full['Shares']).sum())]\n",
    "})\n",
    "dtotal['Year profit'] = dport_full['Year profit'].sum()\n",
    "dtotal['Annual yield'] = (dtotal['Year profit'] / dtotal['Value']).apply(l.int2pct)\n",
    "l.change_df_prop(dtotal, 28)"
   ]
  },
  {
   "cell_type": "markdown",
   "metadata": {},
   "source": [
    "## Portfolio components"
   ]
  },
  {
   "cell_type": "code",
   "execution_count": 9,
   "metadata": {},
   "outputs": [
    {
     "data": {
      "text/html": [
       "<style  type=\"text/css\" >\n",
       "    #T_84aeb010_2b2c_11ea_8bd4_3cf862c21013 th {\n",
       "          font-size: 22px;\n",
       "    }    #T_84aeb010_2b2c_11ea_8bd4_3cf862c21013 td {\n",
       "          font-size: 24px;\n",
       "          text-align: center;\n",
       "    }</style><table id=\"T_84aeb010_2b2c_11ea_8bd4_3cf862c21013\" ><thead>    <tr>        <th class=\"col_heading level0 col0\" >Ticker</th>        <th class=\"col_heading level0 col1\" >Value</th>        <th class=\"col_heading level0 col2\" >Profit</th>        <th class=\"col_heading level0 col3\" >Yield %</th>    </tr></thead><tbody>\n",
       "                <tr>\n",
       "                                <td id=\"T_84aeb010_2b2c_11ea_8bd4_3cf862c21013row0_col0\" class=\"data row0 col0\" >IVVB11</td>\n",
       "                        <td id=\"T_84aeb010_2b2c_11ea_8bd4_3cf862c21013row0_col1\" class=\"data row0 col1\" >1402.1</td>\n",
       "                        <td id=\"T_84aeb010_2b2c_11ea_8bd4_3cf862c21013row0_col2\" class=\"data row0 col2\" >94.1</td>\n",
       "                        <td id=\"T_84aeb010_2b2c_11ea_8bd4_3cf862c21013row0_col3\" class=\"data row0 col3\" >7.19%</td>\n",
       "            </tr>\n",
       "            <tr>\n",
       "                                <td id=\"T_84aeb010_2b2c_11ea_8bd4_3cf862c21013row1_col0\" class=\"data row1 col0\" >BRAX11</td>\n",
       "                        <td id=\"T_84aeb010_2b2c_11ea_8bd4_3cf862c21013row1_col1\" class=\"data row1 col1\" >960.5</td>\n",
       "                        <td id=\"T_84aeb010_2b2c_11ea_8bd4_3cf862c21013row1_col2\" class=\"data row1 col2\" >85.5</td>\n",
       "                        <td id=\"T_84aeb010_2b2c_11ea_8bd4_3cf862c21013row1_col3\" class=\"data row1 col3\" >9.77%</td>\n",
       "            </tr>\n",
       "            <tr>\n",
       "                                <td id=\"T_84aeb010_2b2c_11ea_8bd4_3cf862c21013row2_col0\" class=\"data row2 col0\" >IVVB11</td>\n",
       "                        <td id=\"T_84aeb010_2b2c_11ea_8bd4_3cf862c21013row2_col1\" class=\"data row2 col1\" >1402.1</td>\n",
       "                        <td id=\"T_84aeb010_2b2c_11ea_8bd4_3cf862c21013row2_col2\" class=\"data row2 col2\" >11.8</td>\n",
       "                        <td id=\"T_84aeb010_2b2c_11ea_8bd4_3cf862c21013row2_col3\" class=\"data row2 col3\" >0.85%</td>\n",
       "            </tr>\n",
       "            <tr>\n",
       "                                <td id=\"T_84aeb010_2b2c_11ea_8bd4_3cf862c21013row3_col0\" class=\"data row3 col0\" >NU</td>\n",
       "                        <td id=\"T_84aeb010_2b2c_11ea_8bd4_3cf862c21013row3_col1\" class=\"data row3 col1\" >14906.1</td>\n",
       "                        <td id=\"T_84aeb010_2b2c_11ea_8bd4_3cf862c21013row3_col2\" class=\"data row3 col2\" >122.72</td>\n",
       "                        <td id=\"T_84aeb010_2b2c_11ea_8bd4_3cf862c21013row3_col3\" class=\"data row3 col3\" >0.4%</td>\n",
       "            </tr>\n",
       "    </tbody></table>"
      ],
      "text/plain": [
       "<pandas.io.formats.style.Styler at 0x22cb5ea3dd8>"
      ]
     },
     "execution_count": 9,
     "metadata": {},
     "output_type": "execute_result"
    }
   ],
   "source": [
    "status = ['Ticker', 'Value', 'Profit', 'Yield %']\n",
    "l.change_df_prop(dport_bonds[status], 24)"
   ]
  },
  {
   "cell_type": "code",
   "execution_count": 10,
   "metadata": {},
   "outputs": [
    {
     "data": {
      "text/html": [
       "<style  type=\"text/css\" >\n",
       "    #T_84b184fa_2b2c_11ea_b5ad_3cf862c21013 th {\n",
       "          font-size: 22px;\n",
       "    }    #T_84b184fa_2b2c_11ea_b5ad_3cf862c21013 td {\n",
       "          font-size: 24px;\n",
       "          text-align: center;\n",
       "    }</style><table id=\"T_84b184fa_2b2c_11ea_b5ad_3cf862c21013\" ><thead>    <tr>        <th class=\"col_heading level0 col0\" >Ticker</th>        <th class=\"col_heading level0 col1\" >Annual yield %</th>        <th class=\"col_heading level0 col2\" >Year profit</th>        <th class=\"col_heading level0 col3\" >Tax</th>        <th class=\"col_heading level0 col4\" >Annual yield (Liq.) %</th>        <th class=\"col_heading level0 col5\" >Year profit (Liq.)</th>    </tr></thead><tbody>\n",
       "                <tr>\n",
       "                                <td id=\"T_84b184fa_2b2c_11ea_b5ad_3cf862c21013row0_col0\" class=\"data row0 col0\" >IVVB11</td>\n",
       "                        <td id=\"T_84b184fa_2b2c_11ea_b5ad_3cf862c21013row0_col1\" class=\"data row0 col1\" >51.54%</td>\n",
       "                        <td id=\"T_84b184fa_2b2c_11ea_b5ad_3cf862c21013row0_col2\" class=\"data row0 col2\" >722.67</td>\n",
       "                        <td id=\"T_84b184fa_2b2c_11ea_b5ad_3cf862c21013row0_col3\" class=\"data row0 col3\" >18.4%</td>\n",
       "                        <td id=\"T_84b184fa_2b2c_11ea_b5ad_3cf862c21013row0_col4\" class=\"data row0 col4\" >40.68%</td>\n",
       "                        <td id=\"T_84b184fa_2b2c_11ea_b5ad_3cf862c21013row0_col5\" class=\"data row0 col5\" >570.413</td>\n",
       "            </tr>\n",
       "            <tr>\n",
       "                                <td id=\"T_84b184fa_2b2c_11ea_b5ad_3cf862c21013row1_col0\" class=\"data row1 col0\" >BRAX11</td>\n",
       "                        <td id=\"T_84b184fa_2b2c_11ea_b5ad_3cf862c21013row1_col1\" class=\"data row1 col1\" >109.54%</td>\n",
       "                        <td id=\"T_84b184fa_2b2c_11ea_b5ad_3cf862c21013row1_col2\" class=\"data row1 col2\" >1052.16</td>\n",
       "                        <td id=\"T_84b184fa_2b2c_11ea_b5ad_3cf862c21013row1_col3\" class=\"data row1 col3\" >17.18%</td>\n",
       "                        <td id=\"T_84b184fa_2b2c_11ea_b5ad_3cf862c21013row1_col4\" class=\"data row1 col4\" >85.43%</td>\n",
       "                        <td id=\"T_84b184fa_2b2c_11ea_b5ad_3cf862c21013row1_col5\" class=\"data row1 col5\" >820.524</td>\n",
       "            </tr>\n",
       "            <tr>\n",
       "                                <td id=\"T_84b184fa_2b2c_11ea_b5ad_3cf862c21013row2_col0\" class=\"data row2 col0\" >IVVB11</td>\n",
       "                        <td id=\"T_84b184fa_2b2c_11ea_b5ad_3cf862c21013row2_col1\" class=\"data row2 col1\" >18.69%</td>\n",
       "                        <td id=\"T_84b184fa_2b2c_11ea_b5ad_3cf862c21013row2_col2\" class=\"data row2 col2\" >262.109</td>\n",
       "                        <td id=\"T_84b184fa_2b2c_11ea_b5ad_3cf862c21013row2_col3\" class=\"data row2 col3\" >43.78%</td>\n",
       "                        <td id=\"T_84b184fa_2b2c_11ea_b5ad_3cf862c21013row2_col4\" class=\"data row2 col4\" >10.13%</td>\n",
       "                        <td id=\"T_84b184fa_2b2c_11ea_b5ad_3cf862c21013row2_col5\" class=\"data row2 col5\" >142.094</td>\n",
       "            </tr>\n",
       "    </tbody></table>"
      ],
      "text/plain": [
       "<pandas.io.formats.style.Styler at 0x22cb6165a90>"
      ]
     },
     "execution_count": 10,
     "metadata": {},
     "output_type": "execute_result"
    }
   ],
   "source": [
    "revenue = ['Ticker', 'Annual yield %', 'Year profit', 'Tax', 'Annual yield (Liq.) %', 'Year profit (Liq.)']\n",
    "l.change_df_prop(dport_full[revenue], 24)"
   ]
  },
  {
   "cell_type": "markdown",
   "metadata": {},
   "source": [
    "## Actives allocation"
   ]
  },
  {
   "cell_type": "code",
   "execution_count": 11,
   "metadata": {},
   "outputs": [
    {
     "data": {
      "application/vnd.jupyter.widget-view+json": {
       "model_id": "d1a8d7c69b674d5db34b5db683d6d19c",
       "version_major": 2,
       "version_minor": 0
      },
      "text/plain": [
       "FigureWidget({\n",
       "    'data': [{'domain': {'x': [0, 0.5]},\n",
       "              'hole': 0.4,\n",
       "              'labels': arr…"
      ]
     },
     "metadata": {},
     "output_type": "display_data"
    }
   ],
   "source": [
    "dgroup = dport_bonds.groupby('Ticker').sum()\n",
    "fig = l.plot_pie(dgroup['Value'], domain=dict(x=[0,0.5]), name='Funds')\n",
    "l.plot_pie(dgroup['Profit'], fig=fig, domain=dict(x=[0.5,1]), name='Profit')"
   ]
  },
  {
   "cell_type": "markdown",
   "metadata": {},
   "source": [
    "## Asset allocation"
   ]
  },
  {
   "cell_type": "code",
   "execution_count": 12,
   "metadata": {},
   "outputs": [
    {
     "data": {
      "application/vnd.jupyter.widget-view+json": {
       "model_id": "e2401a6e622d4f449abec17dc1bb6a06",
       "version_major": 2,
       "version_minor": 0
      },
      "text/plain": [
       "FigureWidget({\n",
       "    'data': [{'domain': {'x': [0, 0.5]},\n",
       "              'hole': 0.4,\n",
       "              'labels': arr…"
      ]
     },
     "metadata": {},
     "output_type": "display_data"
    }
   ],
   "source": [
    "dgroup = dport_bonds.sum()\n",
    "fig = l.plot_pie(dgroup[assets], domain=dict(x=[0,0.5]), name='Asset')\n",
    "l.plot_pie(dgroup[industry], fig=fig, domain=dict(x=[0.5,1]), name='Industry')"
   ]
  },
  {
   "cell_type": "markdown",
   "metadata": {},
   "source": [
    "# Portfolio Evolution"
   ]
  },
  {
   "cell_type": "code",
   "execution_count": 13,
   "metadata": {},
   "outputs": [
    {
     "data": {
      "text/html": [
       "<div>\n",
       "<style scoped>\n",
       "    .dataframe tbody tr th:only-of-type {\n",
       "        vertical-align: middle;\n",
       "    }\n",
       "\n",
       "    .dataframe tbody tr th {\n",
       "        vertical-align: top;\n",
       "    }\n",
       "\n",
       "    .dataframe thead th {\n",
       "        text-align: right;\n",
       "    }\n",
       "</style>\n",
       "<table border=\"1\" class=\"dataframe\">\n",
       "  <thead>\n",
       "    <tr style=\"text-align: right;\">\n",
       "      <th></th>\n",
       "      <th>Ticker</th>\n",
       "      <th>Buy</th>\n",
       "      <th>Shares</th>\n",
       "      <th>Buy Tax</th>\n",
       "      <th>Date</th>\n",
       "    </tr>\n",
       "  </thead>\n",
       "  <tbody>\n",
       "    <tr>\n",
       "      <th>0</th>\n",
       "      <td>IVVB11</td>\n",
       "      <td>130.800</td>\n",
       "      <td>10</td>\n",
       "      <td>0.400</td>\n",
       "      <td>2019-10-30</td>\n",
       "    </tr>\n",
       "    <tr>\n",
       "      <th>1</th>\n",
       "      <td>BRAX11</td>\n",
       "      <td>87.500</td>\n",
       "      <td>10</td>\n",
       "      <td>0.270</td>\n",
       "      <td>2019-11-14</td>\n",
       "    </tr>\n",
       "    <tr>\n",
       "      <th>2</th>\n",
       "      <td>IVVB11</td>\n",
       "      <td>139.030</td>\n",
       "      <td>10</td>\n",
       "      <td>0.630</td>\n",
       "      <td>2019-12-12</td>\n",
       "    </tr>\n",
       "  </tbody>\n",
       "</table>\n",
       "</div>"
      ],
      "text/plain": [
       "   Ticker     Buy  Shares  Buy Tax        Date\n",
       "0  IVVB11 130.800      10    0.400  2019-10-30\n",
       "1  BRAX11  87.500      10    0.270  2019-11-14\n",
       "2  IVVB11 139.030      10    0.630  2019-12-12"
      ]
     },
     "execution_count": 13,
     "metadata": {},
     "output_type": "execute_result"
    }
   ],
   "source": [
    "dport"
   ]
  },
  {
   "cell_type": "code",
   "execution_count": 14,
   "metadata": {},
   "outputs": [
    {
     "data": {
      "text/html": [
       "<div>\n",
       "<style scoped>\n",
       "    .dataframe tbody tr th:only-of-type {\n",
       "        vertical-align: middle;\n",
       "    }\n",
       "\n",
       "    .dataframe tbody tr th {\n",
       "        vertical-align: top;\n",
       "    }\n",
       "\n",
       "    .dataframe thead th {\n",
       "        text-align: right;\n",
       "    }\n",
       "</style>\n",
       "<table border=\"1\" class=\"dataframe\">\n",
       "  <thead>\n",
       "    <tr style=\"text-align: right;\">\n",
       "      <th></th>\n",
       "      <th>Ticker</th>\n",
       "      <th>Buy</th>\n",
       "      <th>Shares</th>\n",
       "      <th>Buy Tax</th>\n",
       "      <th>Date</th>\n",
       "      <th>Price</th>\n",
       "      <th>USA</th>\n",
       "      <th>EU</th>\n",
       "      <th>BR</th>\n",
       "      <th>EM</th>\n",
       "      <th>...</th>\n",
       "      <th>Sell Tax</th>\n",
       "      <th>Total Tax</th>\n",
       "      <th>Tax</th>\n",
       "      <th>Yield (Liq.)</th>\n",
       "      <th>Annual yield (Liq.)</th>\n",
       "      <th>Year profit (Liq.)</th>\n",
       "      <th>Yield %</th>\n",
       "      <th>Annual yield %</th>\n",
       "      <th>Yield (Liq.) %</th>\n",
       "      <th>Annual yield (Liq.) %</th>\n",
       "    </tr>\n",
       "  </thead>\n",
       "  <tbody>\n",
       "    <tr>\n",
       "      <th>0</th>\n",
       "      <td>IVVB11</td>\n",
       "      <td>130.800</td>\n",
       "      <td>10</td>\n",
       "      <td>0.400</td>\n",
       "      <td>2019-10-30</td>\n",
       "      <td>140.210</td>\n",
       "      <td>98.880</td>\n",
       "      <td>0.990</td>\n",
       "      <td>0.000</td>\n",
       "      <td>0</td>\n",
       "      <td>...</td>\n",
       "      <td>13.550</td>\n",
       "      <td>17.315</td>\n",
       "      <td>18.4%</td>\n",
       "      <td>0.059</td>\n",
       "      <td>0.407</td>\n",
       "      <td>570.413</td>\n",
       "      <td>7.19%</td>\n",
       "      <td>51.54%</td>\n",
       "      <td>5.87%</td>\n",
       "      <td>40.68%</td>\n",
       "    </tr>\n",
       "    <tr>\n",
       "      <th>1</th>\n",
       "      <td>BRAX11</td>\n",
       "      <td>87.500</td>\n",
       "      <td>10</td>\n",
       "      <td>0.270</td>\n",
       "      <td>2019-11-14</td>\n",
       "      <td>96.050</td>\n",
       "      <td>0.000</td>\n",
       "      <td>0.000</td>\n",
       "      <td>99.250</td>\n",
       "      <td>0</td>\n",
       "      <td>...</td>\n",
       "      <td>12.496</td>\n",
       "      <td>14.687</td>\n",
       "      <td>17.18%</td>\n",
       "      <td>0.081</td>\n",
       "      <td>0.854</td>\n",
       "      <td>820.524</td>\n",
       "      <td>9.77%</td>\n",
       "      <td>109.54%</td>\n",
       "      <td>8.09%</td>\n",
       "      <td>85.43%</td>\n",
       "    </tr>\n",
       "    <tr>\n",
       "      <th>2</th>\n",
       "      <td>IVVB11</td>\n",
       "      <td>139.030</td>\n",
       "      <td>10</td>\n",
       "      <td>0.630</td>\n",
       "      <td>2019-12-12</td>\n",
       "      <td>140.210</td>\n",
       "      <td>98.880</td>\n",
       "      <td>0.990</td>\n",
       "      <td>0.000</td>\n",
       "      <td>0</td>\n",
       "      <td>...</td>\n",
       "      <td>1.171</td>\n",
       "      <td>5.166</td>\n",
       "      <td>43.78%</td>\n",
       "      <td>0.005</td>\n",
       "      <td>0.101</td>\n",
       "      <td>142.094</td>\n",
       "      <td>0.85%</td>\n",
       "      <td>18.69%</td>\n",
       "      <td>0.48%</td>\n",
       "      <td>10.13%</td>\n",
       "    </tr>\n",
       "  </tbody>\n",
       "</table>\n",
       "<p>3 rows × 40 columns</p>\n",
       "</div>"
      ],
      "text/plain": [
       "   Ticker     Buy  Shares  Buy Tax        Date   Price    USA    EU     BR  \\\n",
       "0  IVVB11 130.800      10    0.400  2019-10-30 140.210 98.880 0.990  0.000   \n",
       "1  BRAX11  87.500      10    0.270  2019-11-14  96.050  0.000 0.000 99.250   \n",
       "2  IVVB11 139.030      10    0.630  2019-12-12 140.210 98.880 0.990  0.000   \n",
       "\n",
       "   EM  ...  Sell Tax  Total Tax     Tax  Yield (Liq.)  Annual yield (Liq.)  \\\n",
       "0   0  ...    13.550     17.315   18.4%         0.059                0.407   \n",
       "1   0  ...    12.496     14.687  17.18%         0.081                0.854   \n",
       "2   0  ...     1.171      5.166  43.78%         0.005                0.101   \n",
       "\n",
       "   Year profit (Liq.)  Yield %  Annual yield %  Yield (Liq.) %  \\\n",
       "0             570.413    7.19%          51.54%           5.87%   \n",
       "1             820.524    9.77%         109.54%           8.09%   \n",
       "2             142.094    0.85%          18.69%           0.48%   \n",
       "\n",
       "   Annual yield (Liq.) %  \n",
       "0                 40.68%  \n",
       "1                 85.43%  \n",
       "2                 10.13%  \n",
       "\n",
       "[3 rows x 40 columns]"
      ]
     },
     "execution_count": 14,
     "metadata": {},
     "output_type": "execute_result"
    }
   ],
   "source": [
    "dport_full"
   ]
  },
  {
   "cell_type": "code",
   "execution_count": null,
   "metadata": {},
   "outputs": [],
   "source": []
  },
  {
   "cell_type": "markdown",
   "metadata": {},
   "source": [
    "# Portfolio Simulation"
   ]
  },
  {
   "cell_type": "code",
   "execution_count": null,
   "metadata": {},
   "outputs": [],
   "source": []
  }
 ],
 "metadata": {
  "kernelspec": {
   "display_name": "Python 3",
   "language": "python",
   "name": "python3"
  },
  "language_info": {
   "codemirror_mode": {
    "name": "ipython",
    "version": 3
   },
   "file_extension": ".py",
   "mimetype": "text/x-python",
   "name": "python",
   "nbconvert_exporter": "python",
   "pygments_lexer": "ipython3",
   "version": "3.7.3"
  }
 },
 "nbformat": 4,
 "nbformat_minor": 2
}
